{
 "cells": [
  {
   "cell_type": "code",
   "execution_count": null,
   "id": "1a48ccaa",
   "metadata": {},
   "outputs": [],
   "source": [
    "#COST  ticker  Costco"
   ]
  },
  {
   "cell_type": "code",
   "execution_count": 26,
   "id": "72a6944a",
   "metadata": {},
   "outputs": [],
   "source": [
    "import numpy as np\n",
    "import pandas as pd\n",
    "import matplotlib.pyplot as plt\n",
    "from keras.models import Sequential\n",
    "from keras.layers import Dense, LSTM\n",
    "import math\n",
    "from sklearn.preprocessing import MinMaxScaler\n",
    "\n",
    "from yahoo_fin.stock_info import get_data"
   ]
  },
  {
   "cell_type": "code",
   "execution_count": null,
   "id": "6e2fa488",
   "metadata": {},
   "outputs": [],
   "source": [
    "#interval: {“1d”, “1wk”, “1mo”}. Refers to the interval to sample the data: “1d”= daily, “1wk”= weekly, “1mo”=monthly."
   ]
  },
  {
   "cell_type": "code",
   "execution_count": 27,
   "id": "f4dc68e5",
   "metadata": {},
   "outputs": [
    {
     "data": {
      "text/html": [
       "<div>\n",
       "<style scoped>\n",
       "    .dataframe tbody tr th:only-of-type {\n",
       "        vertical-align: middle;\n",
       "    }\n",
       "\n",
       "    .dataframe tbody tr th {\n",
       "        vertical-align: top;\n",
       "    }\n",
       "\n",
       "    .dataframe thead th {\n",
       "        text-align: right;\n",
       "    }\n",
       "</style>\n",
       "<table border=\"1\" class=\"dataframe\">\n",
       "  <thead>\n",
       "    <tr style=\"text-align: right;\">\n",
       "      <th></th>\n",
       "      <th>date</th>\n",
       "      <th>open</th>\n",
       "      <th>high</th>\n",
       "      <th>low</th>\n",
       "      <th>close</th>\n",
       "      <th>adjclose</th>\n",
       "      <th>volume</th>\n",
       "      <th>ticker</th>\n",
       "    </tr>\n",
       "  </thead>\n",
       "  <tbody>\n",
       "    <tr>\n",
       "      <th>0</th>\n",
       "      <td>2010-12-06</td>\n",
       "      <td>68.330002</td>\n",
       "      <td>69.410004</td>\n",
       "      <td>68.330002</td>\n",
       "      <td>69.190002</td>\n",
       "      <td>51.941883</td>\n",
       "      <td>3366000</td>\n",
       "      <td>COST</td>\n",
       "    </tr>\n",
       "    <tr>\n",
       "      <th>1</th>\n",
       "      <td>2010-12-07</td>\n",
       "      <td>69.699997</td>\n",
       "      <td>70.059998</td>\n",
       "      <td>69.120003</td>\n",
       "      <td>69.639999</td>\n",
       "      <td>52.279705</td>\n",
       "      <td>5115400</td>\n",
       "      <td>COST</td>\n",
       "    </tr>\n",
       "    <tr>\n",
       "      <th>2</th>\n",
       "      <td>2010-12-08</td>\n",
       "      <td>69.379997</td>\n",
       "      <td>69.709999</td>\n",
       "      <td>68.529999</td>\n",
       "      <td>69.250000</td>\n",
       "      <td>51.986916</td>\n",
       "      <td>3691400</td>\n",
       "      <td>COST</td>\n",
       "    </tr>\n",
       "    <tr>\n",
       "      <th>3</th>\n",
       "      <td>2010-12-09</td>\n",
       "      <td>69.699997</td>\n",
       "      <td>71.129997</td>\n",
       "      <td>69.279999</td>\n",
       "      <td>71.019997</td>\n",
       "      <td>53.315689</td>\n",
       "      <td>6777000</td>\n",
       "      <td>COST</td>\n",
       "    </tr>\n",
       "    <tr>\n",
       "      <th>4</th>\n",
       "      <td>2010-12-10</td>\n",
       "      <td>70.750000</td>\n",
       "      <td>71.279999</td>\n",
       "      <td>70.620003</td>\n",
       "      <td>71.250000</td>\n",
       "      <td>53.488342</td>\n",
       "      <td>3555900</td>\n",
       "      <td>COST</td>\n",
       "    </tr>\n",
       "    <tr>\n",
       "      <th>...</th>\n",
       "      <td>...</td>\n",
       "      <td>...</td>\n",
       "      <td>...</td>\n",
       "      <td>...</td>\n",
       "      <td>...</td>\n",
       "      <td>...</td>\n",
       "      <td>...</td>\n",
       "      <td>...</td>\n",
       "    </tr>\n",
       "    <tr>\n",
       "      <th>2908</th>\n",
       "      <td>2022-06-27</td>\n",
       "      <td>485.809998</td>\n",
       "      <td>487.239990</td>\n",
       "      <td>477.350006</td>\n",
       "      <td>481.750000</td>\n",
       "      <td>480.919891</td>\n",
       "      <td>2034700</td>\n",
       "      <td>COST</td>\n",
       "    </tr>\n",
       "    <tr>\n",
       "      <th>2909</th>\n",
       "      <td>2022-06-28</td>\n",
       "      <td>483.500000</td>\n",
       "      <td>487.239990</td>\n",
       "      <td>467.890015</td>\n",
       "      <td>468.609985</td>\n",
       "      <td>467.802521</td>\n",
       "      <td>1754600</td>\n",
       "      <td>COST</td>\n",
       "    </tr>\n",
       "    <tr>\n",
       "      <th>2910</th>\n",
       "      <td>2022-06-29</td>\n",
       "      <td>470.950012</td>\n",
       "      <td>472.970001</td>\n",
       "      <td>466.420013</td>\n",
       "      <td>469.839996</td>\n",
       "      <td>469.030396</td>\n",
       "      <td>1275600</td>\n",
       "      <td>COST</td>\n",
       "    </tr>\n",
       "    <tr>\n",
       "      <th>2911</th>\n",
       "      <td>2022-06-30</td>\n",
       "      <td>468.299988</td>\n",
       "      <td>482.089996</td>\n",
       "      <td>464.720001</td>\n",
       "      <td>479.279999</td>\n",
       "      <td>478.454132</td>\n",
       "      <td>3852400</td>\n",
       "      <td>COST</td>\n",
       "    </tr>\n",
       "    <tr>\n",
       "      <th>2912</th>\n",
       "      <td>2022-07-01</td>\n",
       "      <td>481.179993</td>\n",
       "      <td>491.250000</td>\n",
       "      <td>478.000000</td>\n",
       "      <td>485.760010</td>\n",
       "      <td>484.923004</td>\n",
       "      <td>2660400</td>\n",
       "      <td>COST</td>\n",
       "    </tr>\n",
       "  </tbody>\n",
       "</table>\n",
       "<p>2913 rows × 8 columns</p>\n",
       "</div>"
      ],
      "text/plain": [
       "           date        open        high         low       close    adjclose  \\\n",
       "0    2010-12-06   68.330002   69.410004   68.330002   69.190002   51.941883   \n",
       "1    2010-12-07   69.699997   70.059998   69.120003   69.639999   52.279705   \n",
       "2    2010-12-08   69.379997   69.709999   68.529999   69.250000   51.986916   \n",
       "3    2010-12-09   69.699997   71.129997   69.279999   71.019997   53.315689   \n",
       "4    2010-12-10   70.750000   71.279999   70.620003   71.250000   53.488342   \n",
       "...         ...         ...         ...         ...         ...         ...   \n",
       "2908 2022-06-27  485.809998  487.239990  477.350006  481.750000  480.919891   \n",
       "2909 2022-06-28  483.500000  487.239990  467.890015  468.609985  467.802521   \n",
       "2910 2022-06-29  470.950012  472.970001  466.420013  469.839996  469.030396   \n",
       "2911 2022-06-30  468.299988  482.089996  464.720001  479.279999  478.454132   \n",
       "2912 2022-07-01  481.179993  491.250000  478.000000  485.760010  484.923004   \n",
       "\n",
       "       volume ticker  \n",
       "0     3366000   COST  \n",
       "1     5115400   COST  \n",
       "2     3691400   COST  \n",
       "3     6777000   COST  \n",
       "4     3555900   COST  \n",
       "...       ...    ...  \n",
       "2908  2034700   COST  \n",
       "2909  1754600   COST  \n",
       "2910  1275600   COST  \n",
       "2911  3852400   COST  \n",
       "2912  2660400   COST  \n",
       "\n",
       "[2913 rows x 8 columns]"
      ]
     },
     "execution_count": 27,
     "metadata": {},
     "output_type": "execute_result"
    }
   ],
   "source": [
    "api_df= get_data(\"cost\", start_date=\"12/04/2010\", end_date=\"07/04/2022\", index_as_date = False, interval=\"1d\")\n",
    "api_df"
   ]
  },
  {
   "cell_type": "code",
   "execution_count": 28,
   "id": "a507c53a",
   "metadata": {},
   "outputs": [
    {
     "name": "stdout",
     "output_type": "stream",
     "text": [
      "              open         high          low        close     adjclose  \\\n",
      "count  2913.000000  2913.000000  2913.000000  2913.000000  2913.000000   \n",
      "mean    203.651806   205.379911   201.949835   203.752877   188.721383   \n",
      "std     122.687837   124.091356   121.321125   122.772123   127.996799   \n",
      "min      68.330002    69.410004    68.330002    69.190002    51.941883   \n",
      "25%     114.570000   115.190002   113.919998   114.620003    95.486511   \n",
      "50%     157.300003   158.380005   156.199997   157.130005   141.105591   \n",
      "75%     279.829987   280.989990   276.869995   279.850006   265.959595   \n",
      "max     607.280029   612.270020   597.729980   608.049988   606.016296   \n",
      "\n",
      "             volume  \n",
      "count  2.913000e+03  \n",
      "mean   2.363662e+06  \n",
      "std    1.281709e+06  \n",
      "min    4.910000e+05  \n",
      "25%    1.621500e+06  \n",
      "50%    2.070000e+06  \n",
      "75%    2.683000e+06  \n",
      "max    2.423300e+07  \n"
     ]
    }
   ],
   "source": [
    "#print the summary \n",
    "print(api_df.describe())"
   ]
  },
  {
   "cell_type": "code",
   "execution_count": 29,
   "id": "a48d4e6a",
   "metadata": {},
   "outputs": [],
   "source": [
    "#prep the data \n",
    "api_df.set_index(pd.DatetimeIndex(api_df['date']), inplace=True)"
   ]
  },
  {
   "cell_type": "code",
   "execution_count": 30,
   "id": "0f80dd1b",
   "metadata": {},
   "outputs": [
    {
     "data": {
      "text/html": [
       "<div>\n",
       "<style scoped>\n",
       "    .dataframe tbody tr th:only-of-type {\n",
       "        vertical-align: middle;\n",
       "    }\n",
       "\n",
       "    .dataframe tbody tr th {\n",
       "        vertical-align: top;\n",
       "    }\n",
       "\n",
       "    .dataframe thead th {\n",
       "        text-align: right;\n",
       "    }\n",
       "</style>\n",
       "<table border=\"1\" class=\"dataframe\">\n",
       "  <thead>\n",
       "    <tr style=\"text-align: right;\">\n",
       "      <th></th>\n",
       "      <th>close</th>\n",
       "    </tr>\n",
       "    <tr>\n",
       "      <th>date</th>\n",
       "      <th></th>\n",
       "    </tr>\n",
       "  </thead>\n",
       "  <tbody>\n",
       "    <tr>\n",
       "      <th>2010-12-06</th>\n",
       "      <td>69.190002</td>\n",
       "    </tr>\n",
       "    <tr>\n",
       "      <th>2010-12-07</th>\n",
       "      <td>69.639999</td>\n",
       "    </tr>\n",
       "    <tr>\n",
       "      <th>2010-12-08</th>\n",
       "      <td>69.250000</td>\n",
       "    </tr>\n",
       "    <tr>\n",
       "      <th>2010-12-09</th>\n",
       "      <td>71.019997</td>\n",
       "    </tr>\n",
       "    <tr>\n",
       "      <th>2010-12-10</th>\n",
       "      <td>71.250000</td>\n",
       "    </tr>\n",
       "    <tr>\n",
       "      <th>...</th>\n",
       "      <td>...</td>\n",
       "    </tr>\n",
       "    <tr>\n",
       "      <th>2022-06-27</th>\n",
       "      <td>481.750000</td>\n",
       "    </tr>\n",
       "    <tr>\n",
       "      <th>2022-06-28</th>\n",
       "      <td>468.609985</td>\n",
       "    </tr>\n",
       "    <tr>\n",
       "      <th>2022-06-29</th>\n",
       "      <td>469.839996</td>\n",
       "    </tr>\n",
       "    <tr>\n",
       "      <th>2022-06-30</th>\n",
       "      <td>479.279999</td>\n",
       "    </tr>\n",
       "    <tr>\n",
       "      <th>2022-07-01</th>\n",
       "      <td>485.760010</td>\n",
       "    </tr>\n",
       "  </tbody>\n",
       "</table>\n",
       "<p>2913 rows × 1 columns</p>\n",
       "</div>"
      ],
      "text/plain": [
       "                 close\n",
       "date                  \n",
       "2010-12-06   69.190002\n",
       "2010-12-07   69.639999\n",
       "2010-12-08   69.250000\n",
       "2010-12-09   71.019997\n",
       "2010-12-10   71.250000\n",
       "...                ...\n",
       "2022-06-27  481.750000\n",
       "2022-06-28  468.609985\n",
       "2022-06-29  469.839996\n",
       "2022-06-30  479.279999\n",
       "2022-07-01  485.760010\n",
       "\n",
       "[2913 rows x 1 columns]"
      ]
     },
     "execution_count": 30,
     "metadata": {},
     "output_type": "execute_result"
    }
   ],
   "source": [
    "#Keep the close for 2014-19\n",
    "api_df = api_df[['close']]\n",
    "api_df"
   ]
  },
  {
   "cell_type": "code",
   "execution_count": 31,
   "id": "3132a6d8",
   "metadata": {},
   "outputs": [
    {
     "name": "stdout",
     "output_type": "stream",
     "text": [
      "2022-07-01 00:00:00\n"
     ]
    }
   ],
   "source": [
    "print (api_df.index.max())"
   ]
  },
  {
   "cell_type": "code",
   "execution_count": 32,
   "id": "2e28e3cb",
   "metadata": {},
   "outputs": [],
   "source": [
    "data = api_df.filter(['close'])\n",
    "dataset = data.values\n",
    "\n",
    "scaler = MinMaxScaler(feature_range=(0, 1))\n",
    "scaled_data = scaler.fit_transform(dataset)\n",
    "\n",
    "training_data_len =math.ceil(len(dataset) *.7)\n",
    "train_data =scaled_data[0:training_data_len , : ]\n",
    "\n",
    "\n",
    "X_train_data = []\n",
    "y_train_data = []\n",
    "\n",
    "for i in range(1500,len(train_data)):\n",
    "    X_train_data=list(X_train_data)\n",
    "    y_train_data=list(y_train_data)\n",
    "    X_train_data.append(train_data[i-1500:i,0])\n",
    "    y_train_data.append(train_data[i,0])\n",
    "    \n",
    "    X_train_data1, y_train_data1 = np.array(X_train_data), np.array(y_train_data)\n",
    "    \n",
    "    X_train_data2 = np.reshape(X_train_data1,(X_train_data1.shape[0],X_train_data1.shape[1],1))\n",
    "\n",
    "   \n",
    "    \n",
    "#1500 = number of days you can change it accordingly. \n",
    "\n",
    "# There will be a total of 60 values, 1st column will contain an index of 0-59\n",
    "# The second will have an index of 1-60 ++_\n",
    "# the y_train has the 60 st value on c1 and c2 will have 61++"
   ]
  },
  {
   "cell_type": "code",
   "execution_count": 33,
   "id": "382af0b5",
   "metadata": {},
   "outputs": [],
   "source": [
    "#Build the LSTM MODEL \n",
    "\n",
    "model = Sequential()\n",
    "\n",
    "model.add(LSTM(units=50, return_sequences=True,input_shape=(X_train_data2.shape[1],1)))\n",
    "\n",
    "model.add(LSTM(units=50, return_sequences=False))\n",
    "\n",
    "model.add(Dense(units=25))\n",
    "\n",
    "model.add(Dense(units=1))"
   ]
  },
  {
   "cell_type": "code",
   "execution_count": 34,
   "id": "929127d9",
   "metadata": {},
   "outputs": [
    {
     "name": "stdout",
     "output_type": "stream",
     "text": [
      "540/540 [==============================] - 317s 580ms/step - loss: 6.1339e-04\n"
     ]
    },
    {
     "data": {
      "text/plain": [
       "<keras.callbacks.History at 0x20094269ac8>"
      ]
     },
     "execution_count": 34,
     "metadata": {},
     "output_type": "execute_result"
    }
   ],
   "source": [
    "model.compile(optimizer='adam', loss='mean_squared_error')\n",
    "\n",
    "model.fit(X_train_data2, y_train_data1, batch_size=1, epochs=1)"
   ]
  },
  {
   "cell_type": "code",
   "execution_count": 35,
   "id": "759377a8",
   "metadata": {},
   "outputs": [
    {
     "name": "stdout",
     "output_type": "stream",
     "text": [
      "28/28 [==============================] - 10s 330ms/step\n"
     ]
    }
   ],
   "source": [
    "test_data = scaled_data[training_data_len -1500: , : ]\n",
    "\n",
    "X_test = []\n",
    "\n",
    "y_test = dataset[training_data_len : , : ]\n",
    "\n",
    "for i in range(1500,len(test_data)):\n",
    "    \n",
    "    X_test.append(test_data[i-1500:i,0])\n",
    "\n",
    "X_test = np.array(X_test)\n",
    "\n",
    "X_test = np.reshape(X_test,(X_test.shape[0],X_test.shape[1],1))\n",
    "\n",
    "predictions = model.predict(X_test)\n",
    "\n",
    "predictions = scaler.inverse_transform(predictions)"
   ]
  },
  {
   "cell_type": "code",
   "execution_count": 36,
   "id": "0ad3198e",
   "metadata": {},
   "outputs": [],
   "source": [
    "# Error calculation where RMSE = root mean squared error \n",
    "\n",
    "rmse=np.sqrt(np.mean(((predictions-y_test)**2)))"
   ]
  },
  {
   "cell_type": "code",
   "execution_count": 37,
   "id": "d6e6f8ff",
   "metadata": {},
   "outputs": [
    {
     "name": "stdout",
     "output_type": "stream",
     "text": [
      "34.91643194350444\n"
     ]
    }
   ],
   "source": [
    "print(rmse)"
   ]
  },
  {
   "cell_type": "code",
   "execution_count": 38,
   "id": "282e963c",
   "metadata": {},
   "outputs": [
    {
     "name": "stderr",
     "output_type": "stream",
     "text": [
      "C:\\Users\\rctay\\anaconda3\\envs\\mlenv\\lib\\site-packages\\ipykernel_launcher.py:7: SettingWithCopyWarning: \n",
      "A value is trying to be set on a copy of a slice from a DataFrame.\n",
      "Try using .loc[row_indexer,col_indexer] = value instead\n",
      "\n",
      "See the caveats in the documentation: https://pandas.pydata.org/pandas-docs/stable/user_guide/indexing.html#returning-a-view-versus-a-copy\n",
      "  import sys\n"
     ]
    },
    {
     "data": {
      "image/png": "[encoded data removed]",
      "text/plain": [
       "<Figure size 432x288 with 1 Axes>"
      ]
     },
     "metadata": {
      "needs_background": "light"
     },
     "output_type": "display_data"
    }
   ],
   "source": [
    "#Predict and visualize \n",
    "\n",
    "train = api_df[:training_data_len]\n",
    "\n",
    "valid = api_df[training_data_len:]\n",
    "\n",
    "valid['Predictions'] = predictions\n",
    "\n",
    "plt.title('Model')\n",
    "\n",
    "plt.xlabel('Date')\n",
    "\n",
    "plt.ylabel('close')\n",
    "\n",
    "plt.plot(train['close'])\n",
    "\n",
    "plt.plot(valid[['close', 'Predictions']])\n",
    "\n",
    "plt.legend(['Train', 'Val', 'Predictions'], loc='lower right')\n",
    "\n",
    "plt.show()"
   ]
  },
  {
   "cell_type": "code",
   "execution_count": 39,
   "id": "9bee5c96",
   "metadata": {},
   "outputs": [
    {
     "data": {
      "text/plain": [
       "<AxesSubplot:xlabel='date'>"
      ]
     },
     "execution_count": 39,
     "metadata": {},
     "output_type": "execute_result"
    },
    {
     "data": {
      "image/png": "[encoded data removed]",
      "text/plain": [
       "<Figure size 432x288 with 1 Axes>"
      ]
     },
     "metadata": {
      "needs_background": "light"
     },
     "output_type": "display_data"
    }
   ],
   "source": [
    "api_df.plot()"
   ]
  },
  {
   "cell_type": "code",
   "execution_count": null,
   "id": "72e3c23b",
   "metadata": {},
   "outputs": [],
   "source": []
  }
 ],
 "metadata": {
  "kernelspec": {
   "display_name": "mlenv",
   "language": "python",
   "name": "mlenv"
  },
  "language_info": {
   "codemirror_mode": {
    "name": "ipython",
    "version": 3
   },
   "file_extension": ".py",
   "mimetype": "text/x-python",
   "name": "python",
   "nbconvert_exporter": "python",
   "pygments_lexer": "ipython3",
   "version": "3.7.13"
  }
 },
 "nbformat": 4,
 "nbformat_minor": 5
}
