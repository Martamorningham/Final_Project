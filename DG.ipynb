{
 "cells": [
  {
   "cell_type": "code",
   "execution_count": 22,
   "id": "b2037e62",
   "metadata": {},
   "outputs": [],
   "source": [
    "import numpy as np\n",
    "import pandas as pd\n",
    "import matplotlib.pyplot as plt\n",
    "from keras.models import Sequential\n",
    "from keras.layers import Dense, LSTM\n",
    "import math\n",
    "from sklearn.preprocessing import MinMaxScaler\n",
    "\n",
    "from yahoo_fin.stock_info import get_data\n"
   ]
  },
  {
   "cell_type": "code",
   "execution_count": 23,
   "id": "dcf480e3",
   "metadata": {},
   "outputs": [],
   "source": [
    "\n",
    "#from sklearn.tree import DecisionTreeRegressor\n",
    "#from sklearn.linear_model import LinearRegression\n",
    "#from sklearn.model_selection import train_test_split\n"
   ]
  },
  {
   "cell_type": "code",
   "execution_count": null,
   "id": "1b322511",
   "metadata": {},
   "outputs": [],
   "source": []
  },
  {
   "cell_type": "code",
   "execution_count": 24,
   "id": "c3e33a89",
   "metadata": {},
   "outputs": [
    {
     "data": {
      "text/html": [
       "<div>\n",
       "<style scoped>\n",
       "    .dataframe tbody tr th:only-of-type {\n",
       "        vertical-align: middle;\n",
       "    }\n",
       "\n",
       "    .dataframe tbody tr th {\n",
       "        vertical-align: top;\n",
       "    }\n",
       "\n",
       "    .dataframe thead th {\n",
       "        text-align: right;\n",
       "    }\n",
       "</style>\n",
       "<table border=\"1\" class=\"dataframe\">\n",
       "  <thead>\n",
       "    <tr style=\"text-align: right;\">\n",
       "      <th></th>\n",
       "      <th>date</th>\n",
       "      <th>open</th>\n",
       "      <th>high</th>\n",
       "      <th>low</th>\n",
       "      <th>close</th>\n",
       "      <th>adjclose</th>\n",
       "      <th>volume</th>\n",
       "      <th>ticker</th>\n",
       "    </tr>\n",
       "  </thead>\n",
       "  <tbody>\n",
       "    <tr>\n",
       "      <th>0</th>\n",
       "      <td>2010-12-06</td>\n",
       "      <td>31.920000</td>\n",
       "      <td>32.000000</td>\n",
       "      <td>30.580000</td>\n",
       "      <td>30.990000</td>\n",
       "      <td>28.657188</td>\n",
       "      <td>4422300</td>\n",
       "      <td>DG</td>\n",
       "    </tr>\n",
       "    <tr>\n",
       "      <th>1</th>\n",
       "      <td>2010-12-07</td>\n",
       "      <td>31.510000</td>\n",
       "      <td>31.799999</td>\n",
       "      <td>31.280001</td>\n",
       "      <td>31.600000</td>\n",
       "      <td>29.221264</td>\n",
       "      <td>2586000</td>\n",
       "      <td>DG</td>\n",
       "    </tr>\n",
       "    <tr>\n",
       "      <th>2</th>\n",
       "      <td>2010-12-08</td>\n",
       "      <td>31.490000</td>\n",
       "      <td>31.700001</td>\n",
       "      <td>30.700001</td>\n",
       "      <td>30.840000</td>\n",
       "      <td>28.518475</td>\n",
       "      <td>1819000</td>\n",
       "      <td>DG</td>\n",
       "    </tr>\n",
       "    <tr>\n",
       "      <th>3</th>\n",
       "      <td>2010-12-09</td>\n",
       "      <td>31.010000</td>\n",
       "      <td>31.510000</td>\n",
       "      <td>30.770000</td>\n",
       "      <td>30.830000</td>\n",
       "      <td>28.509237</td>\n",
       "      <td>11532700</td>\n",
       "      <td>DG</td>\n",
       "    </tr>\n",
       "    <tr>\n",
       "      <th>4</th>\n",
       "      <td>2010-12-10</td>\n",
       "      <td>30.830000</td>\n",
       "      <td>31.340000</td>\n",
       "      <td>30.830000</td>\n",
       "      <td>31.070000</td>\n",
       "      <td>28.731163</td>\n",
       "      <td>1460800</td>\n",
       "      <td>DG</td>\n",
       "    </tr>\n",
       "    <tr>\n",
       "      <th>...</th>\n",
       "      <td>...</td>\n",
       "      <td>...</td>\n",
       "      <td>...</td>\n",
       "      <td>...</td>\n",
       "      <td>...</td>\n",
       "      <td>...</td>\n",
       "      <td>...</td>\n",
       "      <td>...</td>\n",
       "    </tr>\n",
       "    <tr>\n",
       "      <th>2945</th>\n",
       "      <td>2022-08-18</td>\n",
       "      <td>256.260010</td>\n",
       "      <td>258.320007</td>\n",
       "      <td>254.830002</td>\n",
       "      <td>257.660004</td>\n",
       "      <td>257.660004</td>\n",
       "      <td>1342800</td>\n",
       "      <td>DG</td>\n",
       "    </tr>\n",
       "    <tr>\n",
       "      <th>2946</th>\n",
       "      <td>2022-08-19</td>\n",
       "      <td>256.739990</td>\n",
       "      <td>256.869995</td>\n",
       "      <td>252.720001</td>\n",
       "      <td>253.860001</td>\n",
       "      <td>253.860001</td>\n",
       "      <td>1576200</td>\n",
       "      <td>DG</td>\n",
       "    </tr>\n",
       "    <tr>\n",
       "      <th>2947</th>\n",
       "      <td>2022-08-22</td>\n",
       "      <td>253.630005</td>\n",
       "      <td>253.630005</td>\n",
       "      <td>248.119995</td>\n",
       "      <td>248.729996</td>\n",
       "      <td>248.729996</td>\n",
       "      <td>1822100</td>\n",
       "      <td>DG</td>\n",
       "    </tr>\n",
       "    <tr>\n",
       "      <th>2948</th>\n",
       "      <td>2022-08-23</td>\n",
       "      <td>249.059998</td>\n",
       "      <td>249.440002</td>\n",
       "      <td>245.619995</td>\n",
       "      <td>247.600006</td>\n",
       "      <td>247.600006</td>\n",
       "      <td>1669300</td>\n",
       "      <td>DG</td>\n",
       "    </tr>\n",
       "    <tr>\n",
       "      <th>2949</th>\n",
       "      <td>2022-08-24</td>\n",
       "      <td>247.550003</td>\n",
       "      <td>249.619995</td>\n",
       "      <td>246.279999</td>\n",
       "      <td>247.449997</td>\n",
       "      <td>247.449997</td>\n",
       "      <td>1717400</td>\n",
       "      <td>DG</td>\n",
       "    </tr>\n",
       "  </tbody>\n",
       "</table>\n",
       "<p>2950 rows × 8 columns</p>\n",
       "</div>"
      ],
      "text/plain": [
       "           date        open        high         low       close    adjclose  \\\n",
       "0    2010-12-06   31.920000   32.000000   30.580000   30.990000   28.657188   \n",
       "1    2010-12-07   31.510000   31.799999   31.280001   31.600000   29.221264   \n",
       "2    2010-12-08   31.490000   31.700001   30.700001   30.840000   28.518475   \n",
       "3    2010-12-09   31.010000   31.510000   30.770000   30.830000   28.509237   \n",
       "4    2010-12-10   30.830000   31.340000   30.830000   31.070000   28.731163   \n",
       "...         ...         ...         ...         ...         ...         ...   \n",
       "2945 2022-08-18  256.260010  258.320007  254.830002  257.660004  257.660004   \n",
       "2946 2022-08-19  256.739990  256.869995  252.720001  253.860001  253.860001   \n",
       "2947 2022-08-22  253.630005  253.630005  248.119995  248.729996  248.729996   \n",
       "2948 2022-08-23  249.059998  249.440002  245.619995  247.600006  247.600006   \n",
       "2949 2022-08-24  247.550003  249.619995  246.279999  247.449997  247.449997   \n",
       "\n",
       "        volume ticker  \n",
       "0      4422300     DG  \n",
       "1      2586000     DG  \n",
       "2      1819000     DG  \n",
       "3     11532700     DG  \n",
       "4      1460800     DG  \n",
       "...        ...    ...  \n",
       "2945   1342800     DG  \n",
       "2946   1576200     DG  \n",
       "2947   1822100     DG  \n",
       "2948   1669300     DG  \n",
       "2949   1717400     DG  \n",
       "\n",
       "[2950 rows x 8 columns]"
      ]
     },
     "execution_count": 24,
     "metadata": {},
     "output_type": "execute_result"
    }
   ],
   "source": [
    "DG_df= get_data(\"DG\", start_date=\"12/04/2010\", end_date=\"12/04/2022\", index_as_date = False, interval=\"1d\")\n",
    "DG_df"
   ]
  },
  {
   "cell_type": "code",
   "execution_count": 25,
   "id": "d6fbdbd9",
   "metadata": {},
   "outputs": [],
   "source": [
    "DG_df = DG_df.drop(\"ticker\", axis=1)"
   ]
  },
  {
   "cell_type": "code",
   "execution_count": 26,
   "id": "81c06330",
   "metadata": {},
   "outputs": [],
   "source": [
    "DG_df.to_csv(\"DG_df.csv\", index=False)"
   ]
  },
  {
   "cell_type": "code",
   "execution_count": 27,
   "id": "f79619c4",
   "metadata": {},
   "outputs": [],
   "source": [
    "DG_df = pd.read_csv('DG_df.csv')"
   ]
  },
  {
   "cell_type": "code",
   "execution_count": 28,
   "id": "03450822",
   "metadata": {},
   "outputs": [
    {
     "data": {
      "text/html": [
       "<div>\n",
       "<style scoped>\n",
       "    .dataframe tbody tr th:only-of-type {\n",
       "        vertical-align: middle;\n",
       "    }\n",
       "\n",
       "    .dataframe tbody tr th {\n",
       "        vertical-align: top;\n",
       "    }\n",
       "\n",
       "    .dataframe thead th {\n",
       "        text-align: right;\n",
       "    }\n",
       "</style>\n",
       "<table border=\"1\" class=\"dataframe\">\n",
       "  <thead>\n",
       "    <tr style=\"text-align: right;\">\n",
       "      <th></th>\n",
       "      <th>date</th>\n",
       "      <th>open</th>\n",
       "      <th>high</th>\n",
       "      <th>low</th>\n",
       "      <th>close</th>\n",
       "      <th>adjclose</th>\n",
       "      <th>volume</th>\n",
       "    </tr>\n",
       "  </thead>\n",
       "  <tbody>\n",
       "    <tr>\n",
       "      <th>0</th>\n",
       "      <td>2010-12-06</td>\n",
       "      <td>31.920000</td>\n",
       "      <td>32.000000</td>\n",
       "      <td>30.580000</td>\n",
       "      <td>30.990000</td>\n",
       "      <td>28.657188</td>\n",
       "      <td>4422300</td>\n",
       "    </tr>\n",
       "    <tr>\n",
       "      <th>1</th>\n",
       "      <td>2010-12-07</td>\n",
       "      <td>31.510000</td>\n",
       "      <td>31.799999</td>\n",
       "      <td>31.280001</td>\n",
       "      <td>31.600000</td>\n",
       "      <td>29.221264</td>\n",
       "      <td>2586000</td>\n",
       "    </tr>\n",
       "    <tr>\n",
       "      <th>2</th>\n",
       "      <td>2010-12-08</td>\n",
       "      <td>31.490000</td>\n",
       "      <td>31.700001</td>\n",
       "      <td>30.700001</td>\n",
       "      <td>30.840000</td>\n",
       "      <td>28.518475</td>\n",
       "      <td>1819000</td>\n",
       "    </tr>\n",
       "    <tr>\n",
       "      <th>3</th>\n",
       "      <td>2010-12-09</td>\n",
       "      <td>31.010000</td>\n",
       "      <td>31.510000</td>\n",
       "      <td>30.770000</td>\n",
       "      <td>30.830000</td>\n",
       "      <td>28.509237</td>\n",
       "      <td>11532700</td>\n",
       "    </tr>\n",
       "    <tr>\n",
       "      <th>4</th>\n",
       "      <td>2010-12-10</td>\n",
       "      <td>30.830000</td>\n",
       "      <td>31.340000</td>\n",
       "      <td>30.830000</td>\n",
       "      <td>31.070000</td>\n",
       "      <td>28.731163</td>\n",
       "      <td>1460800</td>\n",
       "    </tr>\n",
       "    <tr>\n",
       "      <th>...</th>\n",
       "      <td>...</td>\n",
       "      <td>...</td>\n",
       "      <td>...</td>\n",
       "      <td>...</td>\n",
       "      <td>...</td>\n",
       "      <td>...</td>\n",
       "      <td>...</td>\n",
       "    </tr>\n",
       "    <tr>\n",
       "      <th>2945</th>\n",
       "      <td>2022-08-18</td>\n",
       "      <td>256.260010</td>\n",
       "      <td>258.320007</td>\n",
       "      <td>254.830002</td>\n",
       "      <td>257.660004</td>\n",
       "      <td>257.660004</td>\n",
       "      <td>1342800</td>\n",
       "    </tr>\n",
       "    <tr>\n",
       "      <th>2946</th>\n",
       "      <td>2022-08-19</td>\n",
       "      <td>256.739990</td>\n",
       "      <td>256.869995</td>\n",
       "      <td>252.720001</td>\n",
       "      <td>253.860001</td>\n",
       "      <td>253.860001</td>\n",
       "      <td>1576200</td>\n",
       "    </tr>\n",
       "    <tr>\n",
       "      <th>2947</th>\n",
       "      <td>2022-08-22</td>\n",
       "      <td>253.630005</td>\n",
       "      <td>253.630005</td>\n",
       "      <td>248.119995</td>\n",
       "      <td>248.729996</td>\n",
       "      <td>248.729996</td>\n",
       "      <td>1822100</td>\n",
       "    </tr>\n",
       "    <tr>\n",
       "      <th>2948</th>\n",
       "      <td>2022-08-23</td>\n",
       "      <td>249.059998</td>\n",
       "      <td>249.440002</td>\n",
       "      <td>245.619995</td>\n",
       "      <td>247.600006</td>\n",
       "      <td>247.600006</td>\n",
       "      <td>1669300</td>\n",
       "    </tr>\n",
       "    <tr>\n",
       "      <th>2949</th>\n",
       "      <td>2022-08-24</td>\n",
       "      <td>247.550003</td>\n",
       "      <td>249.619995</td>\n",
       "      <td>246.279999</td>\n",
       "      <td>247.449997</td>\n",
       "      <td>247.449997</td>\n",
       "      <td>1717400</td>\n",
       "    </tr>\n",
       "  </tbody>\n",
       "</table>\n",
       "<p>2950 rows × 7 columns</p>\n",
       "</div>"
      ],
      "text/plain": [
       "            date        open        high         low       close    adjclose  \\\n",
       "0     2010-12-06   31.920000   32.000000   30.580000   30.990000   28.657188   \n",
       "1     2010-12-07   31.510000   31.799999   31.280001   31.600000   29.221264   \n",
       "2     2010-12-08   31.490000   31.700001   30.700001   30.840000   28.518475   \n",
       "3     2010-12-09   31.010000   31.510000   30.770000   30.830000   28.509237   \n",
       "4     2010-12-10   30.830000   31.340000   30.830000   31.070000   28.731163   \n",
       "...          ...         ...         ...         ...         ...         ...   \n",
       "2945  2022-08-18  256.260010  258.320007  254.830002  257.660004  257.660004   \n",
       "2946  2022-08-19  256.739990  256.869995  252.720001  253.860001  253.860001   \n",
       "2947  2022-08-22  253.630005  253.630005  248.119995  248.729996  248.729996   \n",
       "2948  2022-08-23  249.059998  249.440002  245.619995  247.600006  247.600006   \n",
       "2949  2022-08-24  247.550003  249.619995  246.279999  247.449997  247.449997   \n",
       "\n",
       "        volume  \n",
       "0      4422300  \n",
       "1      2586000  \n",
       "2      1819000  \n",
       "3     11532700  \n",
       "4      1460800  \n",
       "...        ...  \n",
       "2945   1342800  \n",
       "2946   1576200  \n",
       "2947   1822100  \n",
       "2948   1669300  \n",
       "2949   1717400  \n",
       "\n",
       "[2950 rows x 7 columns]"
      ]
     },
     "execution_count": 28,
     "metadata": {},
     "output_type": "execute_result"
    }
   ],
   "source": [
    "DG_df"
   ]
  },
  {
   "cell_type": "code",
   "execution_count": 29,
   "id": "c126004e",
   "metadata": {},
   "outputs": [
    {
     "name": "stdout",
     "output_type": "stream",
     "text": [
      "              open         high          low        close     adjclose  \\\n",
      "count  2950.000000  2950.000000  2950.000000  2950.000000  2950.000000   \n",
      "mean    103.484346   104.541176   102.463417   103.522454   100.043144   \n",
      "std      63.286581    63.966438    62.653737    63.316729    64.019880   \n",
      "min      26.760000    27.030001    26.650000    26.850000    24.828831   \n",
      "25%      56.065001    56.632501    55.560001    56.245001    52.011086   \n",
      "50%      76.024998    76.560001    75.230000    76.005001    71.732964   \n",
      "75%     150.682495   154.749996   148.070004   152.045006   149.031841   \n",
      "max     260.000000   262.209991   256.970001   259.040009   258.459534   \n",
      "\n",
      "             volume  \n",
      "count  2.950000e+03  \n",
      "mean   2.885375e+06  \n",
      "std    2.694768e+06  \n",
      "min    3.044000e+05  \n",
      "25%    1.639825e+06  \n",
      "50%    2.289550e+06  \n",
      "75%    3.337250e+06  \n",
      "max    6.613720e+07  \n"
     ]
    }
   ],
   "source": [
    "#print the summary \n",
    "print(DG_df.describe())"
   ]
  },
  {
   "cell_type": "code",
   "execution_count": 30,
   "id": "8c1e3de0",
   "metadata": {},
   "outputs": [],
   "source": [
    "#now prep the data for 2014-2019\n",
    "DG_df.set_index(pd.DatetimeIndex(DG_df['date']), inplace=True)"
   ]
  },
  {
   "cell_type": "code",
   "execution_count": 31,
   "id": "ffb0f3b1",
   "metadata": {},
   "outputs": [],
   "source": [
    "#Keep the close for 2014-19\n",
    "DG_df = DG_df[['close']]"
   ]
  },
  {
   "cell_type": "code",
   "execution_count": 32,
   "id": "7ad9f6f5",
   "metadata": {},
   "outputs": [
    {
     "name": "stdout",
     "output_type": "stream",
     "text": [
      "                 close\n",
      "date                  \n",
      "2010-12-06   30.990000\n",
      "2010-12-07   31.600000\n",
      "2010-12-08   30.840000\n",
      "2010-12-09   30.830000\n",
      "2010-12-10   31.070000\n",
      "...                ...\n",
      "2022-08-18  257.660004\n",
      "2022-08-19  253.860001\n",
      "2022-08-22  248.729996\n",
      "2022-08-23  247.600006\n",
      "2022-08-24  247.449997\n",
      "\n",
      "[2950 rows x 1 columns]\n"
     ]
    }
   ],
   "source": [
    "print(DG_df)"
   ]
  },
  {
   "cell_type": "code",
   "execution_count": 33,
   "id": "e549b7e7",
   "metadata": {},
   "outputs": [
    {
     "name": "stdout",
     "output_type": "stream",
     "text": [
      "2022-08-24 00:00:00\n"
     ]
    }
   ],
   "source": [
    "print (DG_df.index.max())"
   ]
  },
  {
   "cell_type": "code",
   "execution_count": 34,
   "id": "94f94d72",
   "metadata": {},
   "outputs": [
    {
     "data": {
      "text/html": [
       "<div>\n",
       "<style scoped>\n",
       "    .dataframe tbody tr th:only-of-type {\n",
       "        vertical-align: middle;\n",
       "    }\n",
       "\n",
       "    .dataframe tbody tr th {\n",
       "        vertical-align: top;\n",
       "    }\n",
       "\n",
       "    .dataframe thead th {\n",
       "        text-align: right;\n",
       "    }\n",
       "</style>\n",
       "<table border=\"1\" class=\"dataframe\">\n",
       "  <thead>\n",
       "    <tr style=\"text-align: right;\">\n",
       "      <th></th>\n",
       "      <th>close</th>\n",
       "    </tr>\n",
       "    <tr>\n",
       "      <th>date</th>\n",
       "      <th></th>\n",
       "    </tr>\n",
       "  </thead>\n",
       "  <tbody>\n",
       "    <tr>\n",
       "      <th>2010-12-06</th>\n",
       "      <td>30.990000</td>\n",
       "    </tr>\n",
       "    <tr>\n",
       "      <th>2010-12-07</th>\n",
       "      <td>31.600000</td>\n",
       "    </tr>\n",
       "    <tr>\n",
       "      <th>2010-12-08</th>\n",
       "      <td>30.840000</td>\n",
       "    </tr>\n",
       "    <tr>\n",
       "      <th>2010-12-09</th>\n",
       "      <td>30.830000</td>\n",
       "    </tr>\n",
       "    <tr>\n",
       "      <th>2010-12-10</th>\n",
       "      <td>31.070000</td>\n",
       "    </tr>\n",
       "    <tr>\n",
       "      <th>...</th>\n",
       "      <td>...</td>\n",
       "    </tr>\n",
       "    <tr>\n",
       "      <th>2022-08-18</th>\n",
       "      <td>257.660004</td>\n",
       "    </tr>\n",
       "    <tr>\n",
       "      <th>2022-08-19</th>\n",
       "      <td>253.860001</td>\n",
       "    </tr>\n",
       "    <tr>\n",
       "      <th>2022-08-22</th>\n",
       "      <td>248.729996</td>\n",
       "    </tr>\n",
       "    <tr>\n",
       "      <th>2022-08-23</th>\n",
       "      <td>247.600006</td>\n",
       "    </tr>\n",
       "    <tr>\n",
       "      <th>2022-08-24</th>\n",
       "      <td>247.449997</td>\n",
       "    </tr>\n",
       "  </tbody>\n",
       "</table>\n",
       "<p>2950 rows × 1 columns</p>\n",
       "</div>"
      ],
      "text/plain": [
       "                 close\n",
       "date                  \n",
       "2010-12-06   30.990000\n",
       "2010-12-07   31.600000\n",
       "2010-12-08   30.840000\n",
       "2010-12-09   30.830000\n",
       "2010-12-10   31.070000\n",
       "...                ...\n",
       "2022-08-18  257.660004\n",
       "2022-08-19  253.860001\n",
       "2022-08-22  248.729996\n",
       "2022-08-23  247.600006\n",
       "2022-08-24  247.449997\n",
       "\n",
       "[2950 rows x 1 columns]"
      ]
     },
     "execution_count": 34,
     "metadata": {},
     "output_type": "execute_result"
    }
   ],
   "source": [
    "DG_df"
   ]
  },
  {
   "cell_type": "code",
   "execution_count": 35,
   "id": "b265648c",
   "metadata": {},
   "outputs": [],
   "source": [
    "DG_dataset = DG_df.values"
   ]
  },
  {
   "cell_type": "code",
   "execution_count": 36,
   "id": "fb92c688",
   "metadata": {},
   "outputs": [
    {
     "data": {
      "text/plain": [
       "array([[ 30.98999977],\n",
       "       [ 31.60000038],\n",
       "       [ 30.84000015],\n",
       "       ...,\n",
       "       [248.72999573],\n",
       "       [247.6000061 ],\n",
       "       [247.44999695]])"
      ]
     },
     "execution_count": 36,
     "metadata": {},
     "output_type": "execute_result"
    }
   ],
   "source": [
    "DG_dataset"
   ]
  },
  {
   "cell_type": "code",
   "execution_count": 37,
   "id": "7740a77a",
   "metadata": {},
   "outputs": [],
   "source": [
    "#data_14_22 = XRT_df.filter(['Close'])\n",
    "#dataset_14_22 = data_14_22.values\n",
    "DG_data = DG_df.filter(['close'])\n",
    "DG_dataset = DG_data.values\n",
    "#scaler = MinMaxScaler(feature_range=(0, 1))\n",
    "#scaled_data = scaler.fit_transform(dataset_14_22)\n",
    "scaler = MinMaxScaler(feature_range=(0, 1))\n",
    "scaled_data = scaler.fit_transform(DG_df)\n",
    "\n",
    "\n",
    "training_data_len =math.ceil(len(DG_df) *.7)\n",
    "train_data =scaled_data[0:training_data_len , : ]\n",
    "\n",
    "\n",
    "X_train_data = []\n",
    "y_train_data = []\n",
    "\n",
    "for i in range(1500,len(train_data)):\n",
    "    X_train_data=list(X_train_data)\n",
    "    y_train_data=list(y_train_data)\n",
    "    X_train_data.append(train_data[i-1500:i,0])\n",
    "    y_train_data.append(train_data[i,0])\n",
    "\n",
    "    X_train_data1, y_train_data1 = np.array(X_train_data), np.array(y_train_data)\n",
    "    \n",
    "    X_train_data2 = np.reshape(X_train_data1,(X_train_data1.shape[0],X_train_data1.shape[1],1))\n",
    "\n",
    "   \n",
    "    \n",
    "#1500 = number of days you can change it accordingly. \n",
    "\n",
    "# There will be a total of 60 values, 1st column will contain an index of 0-59\n",
    "# The second will have an index of 1-60 ++_\n",
    "# the y_train has the 60 st value on c1 and c2 will have 61++"
   ]
  },
  {
   "cell_type": "code",
   "execution_count": 38,
   "id": "70c90fe4",
   "metadata": {},
   "outputs": [],
   "source": [
    "#Lets build the LSTM MODEL \n",
    "\n",
    "model = Sequential()\n",
    "\n",
    "model.add(LSTM(units=50, return_sequences=True,input_shape=(X_train_data2.shape[1],1)))\n",
    "\n",
    "model.add(LSTM(units=50, return_sequences=False))\n",
    "\n",
    "model.add(Dense(units=25))\n",
    "\n",
    "model.add(Dense(units=1))\n",
    "\n",
    "\n",
    "#okay this example will have 2 LSTM layers w/50 neurons and 2 dense layers\n",
    "# plust one with 25 nuerons "
   ]
  },
  {
   "cell_type": "code",
   "execution_count": 39,
   "id": "dbae25fb",
   "metadata": {},
   "outputs": [
    {
     "name": "stdout",
     "output_type": "stream",
     "text": [
      "565/565 [==============================] - 195s 341ms/step - loss: 0.0012\n"
     ]
    },
    {
     "data": {
      "text/plain": [
       "<keras.callbacks.History at 0x1d70f97eb08>"
      ]
     },
     "execution_count": 39,
     "metadata": {},
     "output_type": "execute_result"
    }
   ],
   "source": [
    "# Complete the model \n",
    "\n",
    "model.compile(optimizer='adam', loss='mean_squared_error')\n",
    "\n",
    "model.fit(X_train_data2, y_train_data1, batch_size=1, epochs=1)"
   ]
  },
  {
   "cell_type": "code",
   "execution_count": 45,
   "id": "06714b78",
   "metadata": {},
   "outputs": [
    {
     "name": "stdout",
     "output_type": "stream",
     "text": [
      "28/28 [==============================] - 5s 195ms/step\n"
     ]
    }
   ],
   "source": [
    "test_data = scaled_data[training_data_len -1500: , : ]\n",
    "\n",
    "X_test = []\n",
    "\n",
    "y_test = DG_dataset[training_data_len : , : ]\n",
    "\n",
    "for i in range(1500,len(test_data)):\n",
    "    \n",
    "    X_test.append(test_data[i-1500:i,0])\n",
    "\n",
    "X_test = np.array(X_test)\n",
    "\n",
    "X_test = np.reshape(X_test,(X_test.shape[0],X_test.shape[1],1))\n",
    "\n",
    "predictions = model.predict(X_test)\n",
    "\n",
    "predictions = scaler.inverse_transform(predictions)"
   ]
  },
  {
   "cell_type": "code",
   "execution_count": 46,
   "id": "6c46b030",
   "metadata": {},
   "outputs": [],
   "source": [
    "# Error calculation where RMSE = root mean squared error \n",
    "\n",
    "rmse=np.sqrt(np.mean(((predictions-y_test)**2)))"
   ]
  },
  {
   "cell_type": "code",
   "execution_count": 47,
   "id": "8d40313f",
   "metadata": {},
   "outputs": [
    {
     "name": "stdout",
     "output_type": "stream",
     "text": [
      "11.418712953179693\n"
     ]
    }
   ],
   "source": [
    "print(rmse)"
   ]
  },
  {
   "cell_type": "code",
   "execution_count": 43,
   "id": "5400054b",
   "metadata": {},
   "outputs": [],
   "source": [
    "#OOOF okay the lower the value is to 0 the better\n",
    "# it indicates that the models p-value match the actual values from the data set \n",
    "# which in this case it does not. "
   ]
  },
  {
   "cell_type": "code",
   "execution_count": 49,
   "id": "adcb44b7",
   "metadata": {},
   "outputs": [
    {
     "name": "stderr",
     "output_type": "stream",
     "text": [
      "c:\\Users\\matth\\anaconda3\\envs\\PythonData\\lib\\site-packages\\ipykernel_launcher.py:7: SettingWithCopyWarning: \n",
      "A value is trying to be set on a copy of a slice from a DataFrame.\n",
      "Try using .loc[row_indexer,col_indexer] = value instead\n",
      "\n",
      "See the caveats in the documentation: https://pandas.pydata.org/pandas-docs/stable/user_guide/indexing.html#returning-a-view-versus-a-copy\n",
      "  import sys\n"
     ]
    },
    {
     "data": {
      "image/png": "[encoded data removed]",
      "text/plain": [
       "<Figure size 432x288 with 1 Axes>"
      ]
     },
     "metadata": {
      "needs_background": "light"
     },
     "output_type": "display_data"
    }
   ],
   "source": [
    "#Predict and visualize \n",
    "\n",
    "train = DG_df[:training_data_len]\n",
    "\n",
    "valid = DG_df[training_data_len:]\n",
    "\n",
    "valid['Predictions'] = predictions\n",
    "\n",
    "plt.title('Model')\n",
    "\n",
    "plt.xlabel('Date')\n",
    "\n",
    "plt.ylabel('close')\n",
    "\n",
    "plt.plot(train['close'])\n",
    "\n",
    "plt.plot(valid[['close', 'Predictions']])\n",
    "\n",
    "plt.legend(['Train', 'Val', 'Predictions'], loc='lower right')\n",
    "\n",
    "plt.show()"
   ]
  },
  {
   "cell_type": "code",
   "execution_count": null,
   "id": "c96895d9",
   "metadata": {},
   "outputs": [],
   "source": [
    "DG_dataset.plot()"
   ]
  },
  {
   "cell_type": "code",
   "execution_count": null,
   "id": "615617c8",
   "metadata": {},
   "outputs": [],
   "source": [
    "train['close']"
   ]
  },
  {
   "cell_type": "code",
   "execution_count": null,
   "id": "88f01e5b",
   "metadata": {},
   "outputs": [],
   "source": [
    "valid[['close', 'Predictions']]"
   ]
  },
  {
   "cell_type": "code",
   "execution_count": null,
   "id": "eb74821e",
   "metadata": {},
   "outputs": [],
   "source": [
    "complete_DG_df = pd.concat([train[['close']], valid[['Close', 'Predictions']]])\n",
    "complete_DG_df"
   ]
  }
 ],
 "metadata": {
  "kernelspec": {
   "display_name": "PythonData",
   "language": "python",
   "name": "pythondata"
  },
  "language_info": {
   "codemirror_mode": {
    "name": "ipython",
    "version": 3
   },
   "file_extension": ".py",
   "mimetype": "text/x-python",
   "name": "python",
   "nbconvert_exporter": "python",
   "pygments_lexer": "ipython3",
   "version": "3.7.11"
  },
  "vscode": {
   "interpreter": {
    "hash": "4d84be3c410a6f798d496036b1e38af6761158aeda0d74715ca80cdd150c814d"
   }
  }
 },
 "nbformat": 4,
 "nbformat_minor": 5
}
