{
 "cells": [
  {
   "cell_type": "code",
   "execution_count": null,
   "id": "d04ac70f",
   "metadata": {},
   "outputs": [],
   "source": [
    "#KSS ticker  Kohl's"
   ]
  },
  {
   "cell_type": "code",
   "execution_count": 2,
   "id": "aea7b09a",
   "metadata": {},
   "outputs": [],
   "source": [
    "import numpy as np\n",
    "import pandas as pd\n",
    "import matplotlib.pyplot as plt\n",
    "from keras.models import Sequential\n",
    "from keras.layers import Dense, LSTM\n",
    "import math\n",
    "from sklearn.preprocessing import MinMaxScaler\n",
    "\n",
    "from yahoo_fin.stock_info import get_data"
   ]
  },
  {
   "cell_type": "code",
   "execution_count": null,
   "id": "ed9e3472",
   "metadata": {},
   "outputs": [],
   "source": [
    "#interval: {“1d”, “1wk”, “1mo”}. Refers to the interval to sample the data: “1d”= daily, “1wk”= weekly, “1mo”=monthly."
   ]
  },
  {
   "cell_type": "code",
   "execution_count": 3,
   "id": "563ee7db",
   "metadata": {},
   "outputs": [
    {
     "data": {
      "text/html": [
       "<div>\n",
       "<style scoped>\n",
       "    .dataframe tbody tr th:only-of-type {\n",
       "        vertical-align: middle;\n",
       "    }\n",
       "\n",
       "    .dataframe tbody tr th {\n",
       "        vertical-align: top;\n",
       "    }\n",
       "\n",
       "    .dataframe thead th {\n",
       "        text-align: right;\n",
       "    }\n",
       "</style>\n",
       "<table border=\"1\" class=\"dataframe\">\n",
       "  <thead>\n",
       "    <tr style=\"text-align: right;\">\n",
       "      <th></th>\n",
       "      <th>date</th>\n",
       "      <th>open</th>\n",
       "      <th>high</th>\n",
       "      <th>low</th>\n",
       "      <th>close</th>\n",
       "      <th>adjclose</th>\n",
       "      <th>volume</th>\n",
       "      <th>ticker</th>\n",
       "    </tr>\n",
       "  </thead>\n",
       "  <tbody>\n",
       "    <tr>\n",
       "      <th>0</th>\n",
       "      <td>2010-12-06</td>\n",
       "      <td>55.419998</td>\n",
       "      <td>55.419998</td>\n",
       "      <td>54.759998</td>\n",
       "      <td>55.000000</td>\n",
       "      <td>37.186840</td>\n",
       "      <td>3246600</td>\n",
       "      <td>KSS</td>\n",
       "    </tr>\n",
       "    <tr>\n",
       "      <th>1</th>\n",
       "      <td>2010-12-07</td>\n",
       "      <td>55.509998</td>\n",
       "      <td>55.939999</td>\n",
       "      <td>54.349998</td>\n",
       "      <td>54.580002</td>\n",
       "      <td>36.902870</td>\n",
       "      <td>6608100</td>\n",
       "      <td>KSS</td>\n",
       "    </tr>\n",
       "    <tr>\n",
       "      <th>2</th>\n",
       "      <td>2010-12-08</td>\n",
       "      <td>54.560001</td>\n",
       "      <td>54.830002</td>\n",
       "      <td>53.369999</td>\n",
       "      <td>54.410000</td>\n",
       "      <td>36.787926</td>\n",
       "      <td>7148400</td>\n",
       "      <td>KSS</td>\n",
       "    </tr>\n",
       "    <tr>\n",
       "      <th>3</th>\n",
       "      <td>2010-12-09</td>\n",
       "      <td>54.709999</td>\n",
       "      <td>54.770000</td>\n",
       "      <td>53.700001</td>\n",
       "      <td>54.220001</td>\n",
       "      <td>36.659466</td>\n",
       "      <td>3498700</td>\n",
       "      <td>KSS</td>\n",
       "    </tr>\n",
       "    <tr>\n",
       "      <th>4</th>\n",
       "      <td>2010-12-10</td>\n",
       "      <td>54.130001</td>\n",
       "      <td>54.610001</td>\n",
       "      <td>53.470001</td>\n",
       "      <td>53.639999</td>\n",
       "      <td>36.267315</td>\n",
       "      <td>5588600</td>\n",
       "      <td>KSS</td>\n",
       "    </tr>\n",
       "    <tr>\n",
       "      <th>...</th>\n",
       "      <td>...</td>\n",
       "      <td>...</td>\n",
       "      <td>...</td>\n",
       "      <td>...</td>\n",
       "      <td>...</td>\n",
       "      <td>...</td>\n",
       "      <td>...</td>\n",
       "      <td>...</td>\n",
       "    </tr>\n",
       "    <tr>\n",
       "      <th>2908</th>\n",
       "      <td>2022-06-27</td>\n",
       "      <td>39.049999</td>\n",
       "      <td>39.049999</td>\n",
       "      <td>37.549999</td>\n",
       "      <td>37.680000</td>\n",
       "      <td>37.680000</td>\n",
       "      <td>6231900</td>\n",
       "      <td>KSS</td>\n",
       "    </tr>\n",
       "    <tr>\n",
       "      <th>2909</th>\n",
       "      <td>2022-06-28</td>\n",
       "      <td>37.910000</td>\n",
       "      <td>38.549999</td>\n",
       "      <td>36.560001</td>\n",
       "      <td>36.820000</td>\n",
       "      <td>36.820000</td>\n",
       "      <td>3485700</td>\n",
       "      <td>KSS</td>\n",
       "    </tr>\n",
       "    <tr>\n",
       "      <th>2910</th>\n",
       "      <td>2022-06-29</td>\n",
       "      <td>36.570000</td>\n",
       "      <td>37.000000</td>\n",
       "      <td>35.720001</td>\n",
       "      <td>35.910000</td>\n",
       "      <td>35.910000</td>\n",
       "      <td>2967100</td>\n",
       "      <td>KSS</td>\n",
       "    </tr>\n",
       "    <tr>\n",
       "      <th>2911</th>\n",
       "      <td>2022-06-30</td>\n",
       "      <td>35.169998</td>\n",
       "      <td>35.730000</td>\n",
       "      <td>34.330002</td>\n",
       "      <td>35.689999</td>\n",
       "      <td>35.689999</td>\n",
       "      <td>3341000</td>\n",
       "      <td>KSS</td>\n",
       "    </tr>\n",
       "    <tr>\n",
       "      <th>2912</th>\n",
       "      <td>2022-07-01</td>\n",
       "      <td>29.120001</td>\n",
       "      <td>29.809999</td>\n",
       "      <td>27.650000</td>\n",
       "      <td>28.680000</td>\n",
       "      <td>28.680000</td>\n",
       "      <td>33184700</td>\n",
       "      <td>KSS</td>\n",
       "    </tr>\n",
       "  </tbody>\n",
       "</table>\n",
       "<p>2913 rows × 8 columns</p>\n",
       "</div>"
      ],
      "text/plain": [
       "           date       open       high        low      close   adjclose  \\\n",
       "0    2010-12-06  55.419998  55.419998  54.759998  55.000000  37.186840   \n",
       "1    2010-12-07  55.509998  55.939999  54.349998  54.580002  36.902870   \n",
       "2    2010-12-08  54.560001  54.830002  53.369999  54.410000  36.787926   \n",
       "3    2010-12-09  54.709999  54.770000  53.700001  54.220001  36.659466   \n",
       "4    2010-12-10  54.130001  54.610001  53.470001  53.639999  36.267315   \n",
       "...         ...        ...        ...        ...        ...        ...   \n",
       "2908 2022-06-27  39.049999  39.049999  37.549999  37.680000  37.680000   \n",
       "2909 2022-06-28  37.910000  38.549999  36.560001  36.820000  36.820000   \n",
       "2910 2022-06-29  36.570000  37.000000  35.720001  35.910000  35.910000   \n",
       "2911 2022-06-30  35.169998  35.730000  34.330002  35.689999  35.689999   \n",
       "2912 2022-07-01  29.120001  29.809999  27.650000  28.680000  28.680000   \n",
       "\n",
       "        volume ticker  \n",
       "0      3246600    KSS  \n",
       "1      6608100    KSS  \n",
       "2      7148400    KSS  \n",
       "3      3498700    KSS  \n",
       "4      5588600    KSS  \n",
       "...        ...    ...  \n",
       "2908   6231900    KSS  \n",
       "2909   3485700    KSS  \n",
       "2910   2967100    KSS  \n",
       "2911   3341000    KSS  \n",
       "2912  33184700    KSS  \n",
       "\n",
       "[2913 rows x 8 columns]"
      ]
     },
     "execution_count": 3,
     "metadata": {},
     "output_type": "execute_result"
    }
   ],
   "source": [
    "api_df= get_data(\"kss\", start_date=\"12/04/2010\", end_date=\"07/04/2022\", index_as_date = False, interval=\"1d\")\n",
    "api_df"
   ]
  },
  {
   "cell_type": "code",
   "execution_count": 4,
   "id": "4e8a3887",
   "metadata": {},
   "outputs": [
    {
     "name": "stdout",
     "output_type": "stream",
     "text": [
      "              open         high          low        close     adjclose  \\\n",
      "count  2913.000000  2913.000000  2913.000000  2913.000000  2913.000000   \n",
      "mean     50.885191    51.621912    50.164422    50.880034    41.307367   \n",
      "std      12.126089    12.201524    12.050913    12.133268    11.119459   \n",
      "min      11.750000    11.990000    10.890000    11.510000    11.067064   \n",
      "25%      45.169998    45.750000    44.410000    45.080002    34.432392   \n",
      "50%      51.139999    51.790001    50.610001    51.150002    38.418545   \n",
      "75%      56.869999    57.619999    56.090000    56.880001    48.152790   \n",
      "max      82.440002    83.279999    81.239998    82.050003    71.570518   \n",
      "\n",
      "             volume  \n",
      "count  2.913000e+03  \n",
      "mean   4.134623e+06  \n",
      "std    3.151910e+06  \n",
      "min    7.747000e+05  \n",
      "25%    2.499100e+06  \n",
      "50%    3.280800e+06  \n",
      "75%    4.548800e+06  \n",
      "max    4.507500e+07  \n"
     ]
    }
   ],
   "source": [
    "#print the summary \n",
    "print(api_df.describe())"
   ]
  },
  {
   "cell_type": "code",
   "execution_count": 9,
   "id": "7322076a",
   "metadata": {},
   "outputs": [],
   "source": [
    "#prep the data \n",
    "api_df.set_index(pd.DatetimeIndex(api_df['date']), inplace=True)"
   ]
  },
  {
   "cell_type": "code",
   "execution_count": 12,
   "id": "2430dd24",
   "metadata": {},
   "outputs": [
    {
     "data": {
      "text/html": [
       "<div>\n",
       "<style scoped>\n",
       "    .dataframe tbody tr th:only-of-type {\n",
       "        vertical-align: middle;\n",
       "    }\n",
       "\n",
       "    .dataframe tbody tr th {\n",
       "        vertical-align: top;\n",
       "    }\n",
       "\n",
       "    .dataframe thead th {\n",
       "        text-align: right;\n",
       "    }\n",
       "</style>\n",
       "<table border=\"1\" class=\"dataframe\">\n",
       "  <thead>\n",
       "    <tr style=\"text-align: right;\">\n",
       "      <th></th>\n",
       "      <th>close</th>\n",
       "    </tr>\n",
       "    <tr>\n",
       "      <th>date</th>\n",
       "      <th></th>\n",
       "    </tr>\n",
       "  </thead>\n",
       "  <tbody>\n",
       "    <tr>\n",
       "      <th>2010-12-06</th>\n",
       "      <td>55.000000</td>\n",
       "    </tr>\n",
       "    <tr>\n",
       "      <th>2010-12-07</th>\n",
       "      <td>54.580002</td>\n",
       "    </tr>\n",
       "    <tr>\n",
       "      <th>2010-12-08</th>\n",
       "      <td>54.410000</td>\n",
       "    </tr>\n",
       "    <tr>\n",
       "      <th>2010-12-09</th>\n",
       "      <td>54.220001</td>\n",
       "    </tr>\n",
       "    <tr>\n",
       "      <th>2010-12-10</th>\n",
       "      <td>53.639999</td>\n",
       "    </tr>\n",
       "    <tr>\n",
       "      <th>...</th>\n",
       "      <td>...</td>\n",
       "    </tr>\n",
       "    <tr>\n",
       "      <th>2022-06-27</th>\n",
       "      <td>37.680000</td>\n",
       "    </tr>\n",
       "    <tr>\n",
       "      <th>2022-06-28</th>\n",
       "      <td>36.820000</td>\n",
       "    </tr>\n",
       "    <tr>\n",
       "      <th>2022-06-29</th>\n",
       "      <td>35.910000</td>\n",
       "    </tr>\n",
       "    <tr>\n",
       "      <th>2022-06-30</th>\n",
       "      <td>35.689999</td>\n",
       "    </tr>\n",
       "    <tr>\n",
       "      <th>2022-07-01</th>\n",
       "      <td>28.680000</td>\n",
       "    </tr>\n",
       "  </tbody>\n",
       "</table>\n",
       "<p>2913 rows × 1 columns</p>\n",
       "</div>"
      ],
      "text/plain": [
       "                close\n",
       "date                 \n",
       "2010-12-06  55.000000\n",
       "2010-12-07  54.580002\n",
       "2010-12-08  54.410000\n",
       "2010-12-09  54.220001\n",
       "2010-12-10  53.639999\n",
       "...               ...\n",
       "2022-06-27  37.680000\n",
       "2022-06-28  36.820000\n",
       "2022-06-29  35.910000\n",
       "2022-06-30  35.689999\n",
       "2022-07-01  28.680000\n",
       "\n",
       "[2913 rows x 1 columns]"
      ]
     },
     "execution_count": 12,
     "metadata": {},
     "output_type": "execute_result"
    }
   ],
   "source": [
    "#Keep the close for 2014-19\n",
    "api_df = api_df[['close']]\n",
    "api_df"
   ]
  },
  {
   "cell_type": "code",
   "execution_count": 13,
   "id": "7e161e61",
   "metadata": {},
   "outputs": [
    {
     "name": "stdout",
     "output_type": "stream",
     "text": [
      "2022-07-01 00:00:00\n"
     ]
    }
   ],
   "source": [
    "print (api_df.index.max())"
   ]
  },
  {
   "cell_type": "code",
   "execution_count": 15,
   "id": "18a6c74e",
   "metadata": {},
   "outputs": [],
   "source": [
    "data = api_df.filter(['close'])\n",
    "dataset = data.values\n",
    "\n",
    "scaler = MinMaxScaler(feature_range=(0, 1))\n",
    "scaled_data = scaler.fit_transform(dataset)\n",
    "\n",
    "training_data_len =math.ceil(len(dataset) *.7)\n",
    "train_data =scaled_data[0:training_data_len , : ]\n",
    "\n",
    "\n",
    "X_train_data = []\n",
    "y_train_data = []\n",
    "\n",
    "for i in range(1500,len(train_data)):\n",
    "    X_train_data=list(X_train_data)\n",
    "    y_train_data=list(y_train_data)\n",
    "    X_train_data.append(train_data[i-1500:i,0])\n",
    "    y_train_data.append(train_data[i,0])\n",
    "    \n",
    "    X_train_data1, y_train_data1 = np.array(X_train_data), np.array(y_train_data)\n",
    "    \n",
    "    X_train_data2 = np.reshape(X_train_data1,(X_train_data1.shape[0],X_train_data1.shape[1],1))\n",
    "\n",
    "   \n",
    "    \n",
    "#1500 = number of days you can change it accordingly. \n",
    "\n",
    "# There will be a total of 60 values, 1st column will contain an index of 0-59\n",
    "# The second will have an index of 1-60 ++_\n",
    "# the y_train has the 60 st value on c1 and c2 will have 61++"
   ]
  },
  {
   "cell_type": "code",
   "execution_count": 16,
   "id": "2f721bf9",
   "metadata": {},
   "outputs": [],
   "source": [
    "#Build the LSTM MODEL \n",
    "\n",
    "model = Sequential()\n",
    "\n",
    "model.add(LSTM(units=50, return_sequences=True,input_shape=(X_train_data2.shape[1],1)))\n",
    "\n",
    "model.add(LSTM(units=50, return_sequences=False))\n",
    "\n",
    "model.add(Dense(units=25))\n",
    "\n",
    "model.add(Dense(units=1))"
   ]
  },
  {
   "cell_type": "code",
   "execution_count": 17,
   "id": "e80f29e5",
   "metadata": {},
   "outputs": [
    {
     "name": "stdout",
     "output_type": "stream",
     "text": [
      "540/540 [==============================] - 295s 539ms/step - loss: 0.0072\n"
     ]
    },
    {
     "data": {
      "text/plain": [
       "<keras.callbacks.History at 0x20093f6d508>"
      ]
     },
     "execution_count": 17,
     "metadata": {},
     "output_type": "execute_result"
    }
   ],
   "source": [
    "model.compile(optimizer='adam', loss='mean_squared_error')\n",
    "\n",
    "model.fit(X_train_data2, y_train_data1, batch_size=1, epochs=1)"
   ]
  },
  {
   "cell_type": "code",
   "execution_count": 19,
   "id": "22f51fea",
   "metadata": {},
   "outputs": [
    {
     "name": "stdout",
     "output_type": "stream",
     "text": [
      "28/28 [==============================] - 11s 343ms/step\n"
     ]
    }
   ],
   "source": [
    "test_data = scaled_data[training_data_len -1500: , : ]\n",
    "\n",
    "X_test = []\n",
    "\n",
    "y_test = dataset[training_data_len : , : ]\n",
    "\n",
    "for i in range(1500,len(test_data)):\n",
    "    \n",
    "    X_test.append(test_data[i-1500:i,0])\n",
    "\n",
    "X_test = np.array(X_test)\n",
    "\n",
    "X_test = np.reshape(X_test,(X_test.shape[0],X_test.shape[1],1))\n",
    "\n",
    "predictions = model.predict(X_test)\n",
    "\n",
    "predictions = scaler.inverse_transform(predictions)"
   ]
  },
  {
   "cell_type": "code",
   "execution_count": 20,
   "id": "ac4f9146",
   "metadata": {},
   "outputs": [],
   "source": [
    "# Error calculation where RMSE = root mean squared error \n",
    "\n",
    "rmse=np.sqrt(np.mean(((predictions-y_test)**2)))"
   ]
  },
  {
   "cell_type": "code",
   "execution_count": 21,
   "id": "295df0f2",
   "metadata": {},
   "outputs": [
    {
     "name": "stdout",
     "output_type": "stream",
     "text": [
      "4.079298608696916\n"
     ]
    }
   ],
   "source": [
    "print(rmse)"
   ]
  },
  {
   "cell_type": "code",
   "execution_count": 24,
   "id": "5fcd0136",
   "metadata": {},
   "outputs": [
    {
     "name": "stderr",
     "output_type": "stream",
     "text": [
      "C:\\Users\\rctay\\anaconda3\\envs\\mlenv\\lib\\site-packages\\ipykernel_launcher.py:7: SettingWithCopyWarning: \n",
      "A value is trying to be set on a copy of a slice from a DataFrame.\n",
      "Try using .loc[row_indexer,col_indexer] = value instead\n",
      "\n",
      "See the caveats in the documentation: https://pandas.pydata.org/pandas-docs/stable/user_guide/indexing.html#returning-a-view-versus-a-copy\n",
      "  import sys\n"
     ]
    },
    {
     "data": {
      "image/png": "[encoded data removed]",
      "text/plain": [
       "<Figure size 432x288 with 1 Axes>"
      ]
     },
     "metadata": {
      "needs_background": "light"
     },
     "output_type": "display_data"
    }
   ],
   "source": [
    "#Predict and visualize \n",
    "\n",
    "train = api_df[:training_data_len]\n",
    "\n",
    "valid = api_df[training_data_len:]\n",
    "\n",
    "valid['Predictions'] = predictions\n",
    "\n",
    "plt.title('Model')\n",
    "\n",
    "plt.xlabel('Date')\n",
    "\n",
    "plt.ylabel('close')\n",
    "\n",
    "plt.plot(train['close'])\n",
    "\n",
    "plt.plot(valid[['close', 'Predictions']])\n",
    "\n",
    "plt.legend(['Train', 'Val', 'Predictions'], loc='lower right')\n",
    "\n",
    "plt.show()"
   ]
  },
  {
   "cell_type": "code",
   "execution_count": 25,
   "id": "8aab62eb",
   "metadata": {},
   "outputs": [
    {
     "data": {
      "text/plain": [
       "<AxesSubplot:xlabel='date'>"
      ]
     },
     "execution_count": 25,
     "metadata": {},
     "output_type": "execute_result"
    },
    {
     "data": {
      "image/png": "[encoded data removed]",
      "text/plain": [
       "<Figure size 432x288 with 1 Axes>"
      ]
     },
     "metadata": {
      "needs_background": "light"
     },
     "output_type": "display_data"
    }
   ],
   "source": [
    "api_df.plot()"
   ]
  },
  {
   "cell_type": "code",
   "execution_count": null,
   "id": "482b5cab",
   "metadata": {},
   "outputs": [],
   "source": []
  }
 ],
 "metadata": {
  "kernelspec": {
   "display_name": "mlenv",
   "language": "python",
   "name": "mlenv"
  },
  "language_info": {
   "codemirror_mode": {
    "name": "ipython",
    "version": 3
   },
   "file_extension": ".py",
   "mimetype": "text/x-python",
   "name": "python",
   "nbconvert_exporter": "python",
   "pygments_lexer": "ipython3",
   "version": "3.7.13"
  }
 },
 "nbformat": 4,
 "nbformat_minor": 5
}
