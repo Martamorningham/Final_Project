{
 "cells": [
  {
   "cell_type": "code",
   "execution_count": 1,
   "id": "90f7269d",
   "metadata": {},
   "outputs": [],
   "source": [
    "import numpy as np\n",
    "import pandas as pd\n",
    "import matplotlib.pyplot as plt\n",
    "from keras.models import Sequential\n",
    "from keras.layers import Dense, LSTM\n",
    "import math\n",
    "from sklearn.preprocessing import MinMaxScaler\n",
    "\n",
    "from yahoo_fin.stock_info import get_data"
   ]
  },
  {
   "cell_type": "code",
   "execution_count": 2,
   "id": "a9df9302",
   "metadata": {},
   "outputs": [
    {
     "data": {
      "text/html": [
       "<div>\n",
       "<style scoped>\n",
       "    .dataframe tbody tr th:only-of-type {\n",
       "        vertical-align: middle;\n",
       "    }\n",
       "\n",
       "    .dataframe tbody tr th {\n",
       "        vertical-align: top;\n",
       "    }\n",
       "\n",
       "    .dataframe thead th {\n",
       "        text-align: right;\n",
       "    }\n",
       "</style>\n",
       "<table border=\"1\" class=\"dataframe\">\n",
       "  <thead>\n",
       "    <tr style=\"text-align: right;\">\n",
       "      <th></th>\n",
       "      <th>date</th>\n",
       "      <th>open</th>\n",
       "      <th>high</th>\n",
       "      <th>low</th>\n",
       "      <th>close</th>\n",
       "      <th>adjclose</th>\n",
       "      <th>volume</th>\n",
       "      <th>ticker</th>\n",
       "    </tr>\n",
       "  </thead>\n",
       "  <tbody>\n",
       "    <tr>\n",
       "      <th>0</th>\n",
       "      <td>2010-12-06</td>\n",
       "      <td>26.924999</td>\n",
       "      <td>27.809999</td>\n",
       "      <td>26.790001</td>\n",
       "      <td>27.629999</td>\n",
       "      <td>27.629999</td>\n",
       "      <td>2905800</td>\n",
       "      <td>LULU</td>\n",
       "    </tr>\n",
       "    <tr>\n",
       "      <th>1</th>\n",
       "      <td>2010-12-07</td>\n",
       "      <td>27.980000</td>\n",
       "      <td>28.059999</td>\n",
       "      <td>27.215000</td>\n",
       "      <td>27.465000</td>\n",
       "      <td>27.465000</td>\n",
       "      <td>2867000</td>\n",
       "      <td>LULU</td>\n",
       "    </tr>\n",
       "    <tr>\n",
       "      <th>2</th>\n",
       "      <td>2010-12-08</td>\n",
       "      <td>27.735001</td>\n",
       "      <td>27.875000</td>\n",
       "      <td>27.290001</td>\n",
       "      <td>27.850000</td>\n",
       "      <td>27.850000</td>\n",
       "      <td>5343800</td>\n",
       "      <td>LULU</td>\n",
       "    </tr>\n",
       "    <tr>\n",
       "      <th>3</th>\n",
       "      <td>2010-12-09</td>\n",
       "      <td>30.924999</td>\n",
       "      <td>33.330002</td>\n",
       "      <td>30.910000</td>\n",
       "      <td>31.780001</td>\n",
       "      <td>31.780001</td>\n",
       "      <td>21547200</td>\n",
       "      <td>LULU</td>\n",
       "    </tr>\n",
       "    <tr>\n",
       "      <th>4</th>\n",
       "      <td>2010-12-10</td>\n",
       "      <td>32.730000</td>\n",
       "      <td>34.625000</td>\n",
       "      <td>32.299999</td>\n",
       "      <td>34.349998</td>\n",
       "      <td>34.349998</td>\n",
       "      <td>11656400</td>\n",
       "      <td>LULU</td>\n",
       "    </tr>\n",
       "    <tr>\n",
       "      <th>...</th>\n",
       "      <td>...</td>\n",
       "      <td>...</td>\n",
       "      <td>...</td>\n",
       "      <td>...</td>\n",
       "      <td>...</td>\n",
       "      <td>...</td>\n",
       "      <td>...</td>\n",
       "      <td>...</td>\n",
       "    </tr>\n",
       "    <tr>\n",
       "      <th>2908</th>\n",
       "      <td>2022-06-27</td>\n",
       "      <td>295.119995</td>\n",
       "      <td>297.059998</td>\n",
       "      <td>284.230011</td>\n",
       "      <td>287.480011</td>\n",
       "      <td>287.480011</td>\n",
       "      <td>1010600</td>\n",
       "      <td>LULU</td>\n",
       "    </tr>\n",
       "    <tr>\n",
       "      <th>2909</th>\n",
       "      <td>2022-06-28</td>\n",
       "      <td>288.369995</td>\n",
       "      <td>294.059998</td>\n",
       "      <td>278.160004</td>\n",
       "      <td>278.559998</td>\n",
       "      <td>278.559998</td>\n",
       "      <td>939700</td>\n",
       "      <td>LULU</td>\n",
       "    </tr>\n",
       "    <tr>\n",
       "      <th>2910</th>\n",
       "      <td>2022-06-29</td>\n",
       "      <td>280.459991</td>\n",
       "      <td>286.459991</td>\n",
       "      <td>276.529999</td>\n",
       "      <td>282.980011</td>\n",
       "      <td>282.980011</td>\n",
       "      <td>819600</td>\n",
       "      <td>LULU</td>\n",
       "    </tr>\n",
       "    <tr>\n",
       "      <th>2911</th>\n",
       "      <td>2022-06-30</td>\n",
       "      <td>277.489990</td>\n",
       "      <td>279.829987</td>\n",
       "      <td>271.000000</td>\n",
       "      <td>272.609985</td>\n",
       "      <td>272.609985</td>\n",
       "      <td>1248200</td>\n",
       "      <td>LULU</td>\n",
       "    </tr>\n",
       "    <tr>\n",
       "      <th>2912</th>\n",
       "      <td>2022-07-01</td>\n",
       "      <td>269.140015</td>\n",
       "      <td>271.079987</td>\n",
       "      <td>261.029999</td>\n",
       "      <td>263.380005</td>\n",
       "      <td>263.380005</td>\n",
       "      <td>1867900</td>\n",
       "      <td>LULU</td>\n",
       "    </tr>\n",
       "  </tbody>\n",
       "</table>\n",
       "<p>2913 rows × 8 columns</p>\n",
       "</div>"
      ],
      "text/plain": [
       "           date        open        high         low       close    adjclose  \\\n",
       "0    2010-12-06   26.924999   27.809999   26.790001   27.629999   27.629999   \n",
       "1    2010-12-07   27.980000   28.059999   27.215000   27.465000   27.465000   \n",
       "2    2010-12-08   27.735001   27.875000   27.290001   27.850000   27.850000   \n",
       "3    2010-12-09   30.924999   33.330002   30.910000   31.780001   31.780001   \n",
       "4    2010-12-10   32.730000   34.625000   32.299999   34.349998   34.349998   \n",
       "...         ...         ...         ...         ...         ...         ...   \n",
       "2908 2022-06-27  295.119995  297.059998  284.230011  287.480011  287.480011   \n",
       "2909 2022-06-28  288.369995  294.059998  278.160004  278.559998  278.559998   \n",
       "2910 2022-06-29  280.459991  286.459991  276.529999  282.980011  282.980011   \n",
       "2911 2022-06-30  277.489990  279.829987  271.000000  272.609985  272.609985   \n",
       "2912 2022-07-01  269.140015  271.079987  261.029999  263.380005  263.380005   \n",
       "\n",
       "        volume ticker  \n",
       "0      2905800   LULU  \n",
       "1      2867000   LULU  \n",
       "2      5343800   LULU  \n",
       "3     21547200   LULU  \n",
       "4     11656400   LULU  \n",
       "...        ...    ...  \n",
       "2908   1010600   LULU  \n",
       "2909    939700   LULU  \n",
       "2910    819600   LULU  \n",
       "2911   1248200   LULU  \n",
       "2912   1867900   LULU  \n",
       "\n",
       "[2913 rows x 8 columns]"
      ]
     },
     "execution_count": 2,
     "metadata": {},
     "output_type": "execute_result"
    }
   ],
   "source": [
    "lulu_df= get_data(\"lulu\", start_date=\"12/04/2010\", end_date=\"07/04/2022\", index_as_date = False, interval=\"1d\")\n",
    "lulu_df"
   ]
  },
  {
   "cell_type": "code",
   "execution_count": 3,
   "id": "f68f33d5",
   "metadata": {},
   "outputs": [
    {
     "name": "stdout",
     "output_type": "stream",
     "text": [
      "              open         high          low        close     adjclose  \\\n",
      "count  2913.000000  2913.000000  2913.000000  2913.000000  2913.000000   \n",
      "mean    133.079039   134.976334   131.000465   133.037686   133.037686   \n",
      "std     113.982392   115.510271   112.105927   113.821680   113.821680   \n",
      "min      26.924999    27.809999    26.790001    27.465000    27.465000   \n",
      "25%      58.360001    59.099998    57.290001    58.240002    58.240002   \n",
      "50%      69.660004    70.599998    68.660004    69.559998    69.559998   \n",
      "75%     183.529999   185.119995   180.850006   183.500000   183.500000   \n",
      "max     476.779999   485.829987   469.089996   477.910004   477.910004   \n",
      "\n",
      "             volume  \n",
      "count  2.913000e+03  \n",
      "mean   2.484770e+06  \n",
      "std    2.565483e+06  \n",
      "min    3.974000e+05  \n",
      "25%    1.323500e+06  \n",
      "50%    1.864800e+06  \n",
      "75%    2.800000e+06  \n",
      "max    4.962030e+07  \n"
     ]
    }
   ],
   "source": [
    "print(lulu_df.describe())\n"
   ]
  },
  {
   "cell_type": "code",
   "execution_count": 4,
   "id": "99227f9d",
   "metadata": {},
   "outputs": [],
   "source": [
    "lulu_df.set_index(pd.DatetimeIndex(lulu_df['date']), inplace=True)\n"
   ]
  },
  {
   "cell_type": "code",
   "execution_count": 5,
   "id": "76d40474",
   "metadata": {},
   "outputs": [
    {
     "data": {
      "text/html": [
       "<div>\n",
       "<style scoped>\n",
       "    .dataframe tbody tr th:only-of-type {\n",
       "        vertical-align: middle;\n",
       "    }\n",
       "\n",
       "    .dataframe tbody tr th {\n",
       "        vertical-align: top;\n",
       "    }\n",
       "\n",
       "    .dataframe thead th {\n",
       "        text-align: right;\n",
       "    }\n",
       "</style>\n",
       "<table border=\"1\" class=\"dataframe\">\n",
       "  <thead>\n",
       "    <tr style=\"text-align: right;\">\n",
       "      <th></th>\n",
       "      <th>close</th>\n",
       "    </tr>\n",
       "    <tr>\n",
       "      <th>date</th>\n",
       "      <th></th>\n",
       "    </tr>\n",
       "  </thead>\n",
       "  <tbody>\n",
       "    <tr>\n",
       "      <th>2010-12-06</th>\n",
       "      <td>27.629999</td>\n",
       "    </tr>\n",
       "    <tr>\n",
       "      <th>2010-12-07</th>\n",
       "      <td>27.465000</td>\n",
       "    </tr>\n",
       "    <tr>\n",
       "      <th>2010-12-08</th>\n",
       "      <td>27.850000</td>\n",
       "    </tr>\n",
       "    <tr>\n",
       "      <th>2010-12-09</th>\n",
       "      <td>31.780001</td>\n",
       "    </tr>\n",
       "    <tr>\n",
       "      <th>2010-12-10</th>\n",
       "      <td>34.349998</td>\n",
       "    </tr>\n",
       "    <tr>\n",
       "      <th>...</th>\n",
       "      <td>...</td>\n",
       "    </tr>\n",
       "    <tr>\n",
       "      <th>2022-06-27</th>\n",
       "      <td>287.480011</td>\n",
       "    </tr>\n",
       "    <tr>\n",
       "      <th>2022-06-28</th>\n",
       "      <td>278.559998</td>\n",
       "    </tr>\n",
       "    <tr>\n",
       "      <th>2022-06-29</th>\n",
       "      <td>282.980011</td>\n",
       "    </tr>\n",
       "    <tr>\n",
       "      <th>2022-06-30</th>\n",
       "      <td>272.609985</td>\n",
       "    </tr>\n",
       "    <tr>\n",
       "      <th>2022-07-01</th>\n",
       "      <td>263.380005</td>\n",
       "    </tr>\n",
       "  </tbody>\n",
       "</table>\n",
       "<p>2913 rows × 1 columns</p>\n",
       "</div>"
      ],
      "text/plain": [
       "                 close\n",
       "date                  \n",
       "2010-12-06   27.629999\n",
       "2010-12-07   27.465000\n",
       "2010-12-08   27.850000\n",
       "2010-12-09   31.780001\n",
       "2010-12-10   34.349998\n",
       "...                ...\n",
       "2022-06-27  287.480011\n",
       "2022-06-28  278.559998\n",
       "2022-06-29  282.980011\n",
       "2022-06-30  272.609985\n",
       "2022-07-01  263.380005\n",
       "\n",
       "[2913 rows x 1 columns]"
      ]
     },
     "execution_count": 5,
     "metadata": {},
     "output_type": "execute_result"
    }
   ],
   "source": [
    "lulu_df = lulu_df[['close']]\n",
    "lulu_df"
   ]
  },
  {
   "cell_type": "code",
   "execution_count": 6,
   "id": "7178ce01",
   "metadata": {},
   "outputs": [
    {
     "name": "stdout",
     "output_type": "stream",
     "text": [
      "2022-07-01 00:00:00\n"
     ]
    }
   ],
   "source": [
    "print (lulu_df.index.max())\n"
   ]
  },
  {
   "cell_type": "code",
   "execution_count": 7,
   "id": "33523462",
   "metadata": {},
   "outputs": [],
   "source": [
    "lulu_data = lulu_df.filter(['close'])\n",
    "lulu_dataset = lulu_data.values\n",
    "\n",
    "scaler = MinMaxScaler(feature_range=(0, 1))\n",
    "scaled_data = scaler.fit_transform(lulu_dataset)\n",
    "\n",
    "training_data_len =math.ceil(len(lulu_dataset) *.7)\n",
    "train_data =scaled_data[0:training_data_len , : ]\n",
    "\n",
    "\n",
    "X_train_data = []\n",
    "y_train_data = []\n",
    "\n",
    "for i in range(1500,len(train_data)):\n",
    "    X_train_data=list(X_train_data)\n",
    "    y_train_data=list(y_train_data)\n",
    "    X_train_data.append(train_data[i-1500:i,0])\n",
    "    y_train_data.append(train_data[i,0])\n",
    "    \n",
    "    X_train_data1, y_train_data1 = np.array(X_train_data), np.array(y_train_data)\n",
    "    \n",
    "    X_train_data2 = np.reshape(X_train_data1,(X_train_data1.shape[0],X_train_data1.shape[1],1))"
   ]
  },
  {
   "cell_type": "code",
   "execution_count": 8,
   "id": "87551854",
   "metadata": {},
   "outputs": [],
   "source": [
    "model = Sequential()\n",
    "\n",
    "model.add(LSTM(units=50, return_sequences=True,input_shape=(X_train_data2.shape[1],1)))\n",
    "\n",
    "model.add(LSTM(units=50, return_sequences=False))\n",
    "\n",
    "model.add(Dense(units=25))\n",
    "\n",
    "model.add(Dense(units=1))"
   ]
  },
  {
   "cell_type": "code",
   "execution_count": 9,
   "id": "c611e963",
   "metadata": {},
   "outputs": [
    {
     "name": "stdout",
     "output_type": "stream",
     "text": [
      "540/540 [==============================] - 191s 351ms/step - loss: 4.1499e-04\n"
     ]
    },
    {
     "data": {
      "text/plain": [
       "<keras.callbacks.History at 0x1dedd80a648>"
      ]
     },
     "execution_count": 9,
     "metadata": {},
     "output_type": "execute_result"
    }
   ],
   "source": [
    "model.compile(optimizer='adam', loss='mean_squared_error')\n",
    "\n",
    "model.fit(X_train_data2, y_train_data1, batch_size=1, epochs=1)"
   ]
  },
  {
   "cell_type": "code",
   "execution_count": 10,
   "id": "9e69378d",
   "metadata": {},
   "outputs": [
    {
     "name": "stdout",
     "output_type": "stream",
     "text": [
      "28/28 [==============================] - 6s 212ms/step\n"
     ]
    }
   ],
   "source": [
    "test_data = scaled_data[training_data_len -1500: , : ]\n",
    "\n",
    "X_test = []\n",
    "\n",
    "y_test = lulu_dataset[training_data_len : , : ]\n",
    "\n",
    "for i in range(1500,len(test_data)):\n",
    "    \n",
    "    X_test.append(test_data[i-1500:i,0])\n",
    "\n",
    "X_test = np.array(X_test)\n",
    "\n",
    "X_test = np.reshape(X_test,(X_test.shape[0],X_test.shape[1],1))\n",
    "\n",
    "predictions = model.predict(X_test)\n",
    "\n",
    "predictions = scaler.inverse_transform(predictions)"
   ]
  },
  {
   "cell_type": "code",
   "execution_count": 11,
   "id": "8ec05267",
   "metadata": {},
   "outputs": [],
   "source": [
    "rmse=np.sqrt(np.mean(((predictions-y_test)**2)))"
   ]
  },
  {
   "cell_type": "code",
   "execution_count": 12,
   "id": "92e0b58d",
   "metadata": {},
   "outputs": [
    {
     "name": "stdout",
     "output_type": "stream",
     "text": [
      "24.267780586229396\n"
     ]
    }
   ],
   "source": [
    "print(rmse)\n"
   ]
  },
  {
   "cell_type": "code",
   "execution_count": 13,
   "id": "f30c6548",
   "metadata": {},
   "outputs": [
    {
     "name": "stderr",
     "output_type": "stream",
     "text": [
      "c:\\Users\\matth\\anaconda3\\envs\\PythonData\\lib\\site-packages\\ipykernel_launcher.py:5: SettingWithCopyWarning: \n",
      "A value is trying to be set on a copy of a slice from a DataFrame.\n",
      "Try using .loc[row_indexer,col_indexer] = value instead\n",
      "\n",
      "See the caveats in the documentation: https://pandas.pydata.org/pandas-docs/stable/user_guide/indexing.html#returning-a-view-versus-a-copy\n",
      "  \"\"\"\n"
     ]
    },
    {
     "data": {
      "image/png": "[encoded data removed]",
      "text/plain": [
       "<Figure size 432x288 with 1 Axes>"
      ]
     },
     "metadata": {
      "needs_background": "light"
     },
     "output_type": "display_data"
    }
   ],
   "source": [
    "train = lulu_df[:training_data_len]\n",
    "\n",
    "valid = lulu_df[training_data_len:]\n",
    "\n",
    "valid['Predictions'] = predictions\n",
    "\n",
    "plt.title('Model')\n",
    "\n",
    "plt.xlabel('Date')\n",
    "\n",
    "plt.ylabel('close')\n",
    "\n",
    "plt.plot(train['close'])\n",
    "\n",
    "plt.plot(valid[['close', 'Predictions']])\n",
    "\n",
    "plt.legend(['Train', 'Val', 'Predictions'], loc='lower right')\n",
    "\n",
    "plt.show()"
   ]
  },
  {
   "cell_type": "code",
   "execution_count": 14,
   "id": "12d4e29e",
   "metadata": {},
   "outputs": [
    {
     "data": {
      "text/plain": [
       "<AxesSubplot:xlabel='date'>"
      ]
     },
     "execution_count": 14,
     "metadata": {},
     "output_type": "execute_result"
    },
    {
     "data": {
      "image/png": "[encoded data removed]",
      "text/plain": [
       "<Figure size 432x288 with 1 Axes>"
      ]
     },
     "metadata": {
      "needs_background": "light"
     },
     "output_type": "display_data"
    }
   ],
   "source": [
    "lulu_df.plot()"
   ]
  },
  {
   "cell_type": "code",
   "execution_count": 15,
   "id": "26bef0b0",
   "metadata": {},
   "outputs": [
    {
     "data": {
      "text/html": [
       "<div>\n",
       "<style scoped>\n",
       "    .dataframe tbody tr th:only-of-type {\n",
       "        vertical-align: middle;\n",
       "    }\n",
       "\n",
       "    .dataframe tbody tr th {\n",
       "        vertical-align: top;\n",
       "    }\n",
       "\n",
       "    .dataframe thead th {\n",
       "        text-align: right;\n",
       "    }\n",
       "</style>\n",
       "<table border=\"1\" class=\"dataframe\">\n",
       "  <thead>\n",
       "    <tr style=\"text-align: right;\">\n",
       "      <th></th>\n",
       "      <th>close</th>\n",
       "      <th>Predictions</th>\n",
       "    </tr>\n",
       "    <tr>\n",
       "      <th>date</th>\n",
       "      <th></th>\n",
       "      <th></th>\n",
       "    </tr>\n",
       "  </thead>\n",
       "  <tbody>\n",
       "    <tr>\n",
       "      <th>2010-12-06</th>\n",
       "      <td>27.629999</td>\n",
       "      <td>NaN</td>\n",
       "    </tr>\n",
       "    <tr>\n",
       "      <th>2010-12-07</th>\n",
       "      <td>27.465000</td>\n",
       "      <td>NaN</td>\n",
       "    </tr>\n",
       "    <tr>\n",
       "      <th>2010-12-08</th>\n",
       "      <td>27.850000</td>\n",
       "      <td>NaN</td>\n",
       "    </tr>\n",
       "    <tr>\n",
       "      <th>2010-12-09</th>\n",
       "      <td>31.780001</td>\n",
       "      <td>NaN</td>\n",
       "    </tr>\n",
       "    <tr>\n",
       "      <th>2010-12-10</th>\n",
       "      <td>34.349998</td>\n",
       "      <td>NaN</td>\n",
       "    </tr>\n",
       "    <tr>\n",
       "      <th>...</th>\n",
       "      <td>...</td>\n",
       "      <td>...</td>\n",
       "    </tr>\n",
       "    <tr>\n",
       "      <th>2022-06-27</th>\n",
       "      <td>287.480011</td>\n",
       "      <td>271.653870</td>\n",
       "    </tr>\n",
       "    <tr>\n",
       "      <th>2022-06-28</th>\n",
       "      <td>278.559998</td>\n",
       "      <td>271.951080</td>\n",
       "    </tr>\n",
       "    <tr>\n",
       "      <th>2022-06-29</th>\n",
       "      <td>282.980011</td>\n",
       "      <td>271.856079</td>\n",
       "    </tr>\n",
       "    <tr>\n",
       "      <th>2022-06-30</th>\n",
       "      <td>272.609985</td>\n",
       "      <td>271.784973</td>\n",
       "    </tr>\n",
       "    <tr>\n",
       "      <th>2022-07-01</th>\n",
       "      <td>263.380005</td>\n",
       "      <td>271.106018</td>\n",
       "    </tr>\n",
       "  </tbody>\n",
       "</table>\n",
       "<p>2913 rows × 2 columns</p>\n",
       "</div>"
      ],
      "text/plain": [
       "                 close  Predictions\n",
       "date                               \n",
       "2010-12-06   27.629999          NaN\n",
       "2010-12-07   27.465000          NaN\n",
       "2010-12-08   27.850000          NaN\n",
       "2010-12-09   31.780001          NaN\n",
       "2010-12-10   34.349998          NaN\n",
       "...                ...          ...\n",
       "2022-06-27  287.480011   271.653870\n",
       "2022-06-28  278.559998   271.951080\n",
       "2022-06-29  282.980011   271.856079\n",
       "2022-06-30  272.609985   271.784973\n",
       "2022-07-01  263.380005   271.106018\n",
       "\n",
       "[2913 rows x 2 columns]"
      ]
     },
     "execution_count": 15,
     "metadata": {},
     "output_type": "execute_result"
    }
   ],
   "source": [
    "complete_lulu_df = pd.concat([train[['close']], valid[['close', 'Predictions']]])\n",
    "complete_lulu_df"
   ]
  },
  {
   "cell_type": "code",
   "execution_count": 18,
   "id": "b1ddce2d",
   "metadata": {},
   "outputs": [],
   "source": [
    "lulu_df.to_csv(\"lulu_df.csv\", index=False)"
   ]
  },
  {
   "cell_type": "code",
   "execution_count": 19,
   "id": "fa9bcb6a",
   "metadata": {},
   "outputs": [],
   "source": [
    "complete_lulu_df.to_csv(\"complete_lulu_df.csv\", index=False)"
   ]
  },
  {
   "cell_type": "code",
   "execution_count": null,
   "id": "a2de86bc",
   "metadata": {},
   "outputs": [],
   "source": []
  }
 ],
 "metadata": {
  "kernelspec": {
   "display_name": "Python 3.7.11 ('PythonData')",
   "language": "python",
   "name": "python3"
  },
  "language_info": {
   "codemirror_mode": {
    "name": "ipython",
    "version": 3
   },
   "file_extension": ".py",
   "mimetype": "text/x-python",
   "name": "python",
   "nbconvert_exporter": "python",
   "pygments_lexer": "ipython3",
   "version": "3.7.11"
  },
  "vscode": {
   "interpreter": {
    "hash": "5e56b855c8a22d99951d5903f3e420326139b93365d75d089ae493339284e0f2"
   }
  }
 },
 "nbformat": 4,
 "nbformat_minor": 5
}
