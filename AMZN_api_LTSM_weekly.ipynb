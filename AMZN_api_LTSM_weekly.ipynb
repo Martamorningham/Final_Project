{
 "cells": [
  {
   "cell_type": "code",
   "execution_count": null,
   "id": "2a4b7f01",
   "metadata": {},
   "outputs": [],
   "source": [
    "##pip install yahoo_fin\n",
    "##pip install yahoo_fin --upgrade\n",
    "##pip install requests_html"
   ]
  },
  {
   "cell_type": "code",
   "execution_count": 1,
   "id": "53bbe2b3",
   "metadata": {},
   "outputs": [],
   "source": [
    "from yahoo_fin.stock_info import get_data"
   ]
  },
  {
   "cell_type": "code",
   "execution_count": 2,
   "id": "0fb0d649",
   "metadata": {},
   "outputs": [],
   "source": [
    "import pandas as pd\n",
    "import numpy as np"
   ]
  },
  {
   "cell_type": "code",
   "execution_count": null,
   "id": "ba35db73",
   "metadata": {},
   "outputs": [],
   "source": [
    "#downloaded from https://finance.yahoo.com/quote/AMZN/history?period1=863654400&period2=1660348800&interval=1d&filter=history&frequency=1d&includeAdjustedClose=true\n",
    "\n",
    "#file_path = \"AMZN.csv\"\n",
    "#csv_df = pd.read_csv(file_path) #,index_col = 0\n",
    "#csv_df"
   ]
  },
  {
   "cell_type": "code",
   "execution_count": null,
   "id": "e228a01e",
   "metadata": {},
   "outputs": [],
   "source": [
    "#interval: {“1d”, “1wk”, “1mo”}. Refers to the interval to sample the data: “1d”= daily, “1wk”= weekly, “1mo”=monthly."
   ]
  },
  {
   "cell_type": "code",
   "execution_count": 3,
   "id": "97175354",
   "metadata": {
    "scrolled": false
   },
   "outputs": [
    {
     "data": {
      "text/html": [
       "<div>\n",
       "<style scoped>\n",
       "    .dataframe tbody tr th:only-of-type {\n",
       "        vertical-align: middle;\n",
       "    }\n",
       "\n",
       "    .dataframe tbody tr th {\n",
       "        vertical-align: top;\n",
       "    }\n",
       "\n",
       "    .dataframe thead th {\n",
       "        text-align: right;\n",
       "    }\n",
       "</style>\n",
       "<table border=\"1\" class=\"dataframe\">\n",
       "  <thead>\n",
       "    <tr style=\"text-align: right;\">\n",
       "      <th></th>\n",
       "      <th>date</th>\n",
       "      <th>open</th>\n",
       "      <th>high</th>\n",
       "      <th>low</th>\n",
       "      <th>close</th>\n",
       "      <th>adjclose</th>\n",
       "      <th>volume</th>\n",
       "      <th>ticker</th>\n",
       "    </tr>\n",
       "  </thead>\n",
       "  <tbody>\n",
       "    <tr>\n",
       "      <th>0</th>\n",
       "      <td>1997-05-12</td>\n",
       "      <td>0.121875</td>\n",
       "      <td>0.125000</td>\n",
       "      <td>0.085417</td>\n",
       "      <td>0.086458</td>\n",
       "      <td>0.086458</td>\n",
       "      <td>1.737120e+09</td>\n",
       "      <td>AMZN</td>\n",
       "    </tr>\n",
       "    <tr>\n",
       "      <th>1</th>\n",
       "      <td>1997-05-19</td>\n",
       "      <td>0.088021</td>\n",
       "      <td>0.088542</td>\n",
       "      <td>0.065625</td>\n",
       "      <td>0.075000</td>\n",
       "      <td>0.075000</td>\n",
       "      <td>1.162824e+09</td>\n",
       "      <td>AMZN</td>\n",
       "    </tr>\n",
       "    <tr>\n",
       "      <th>2</th>\n",
       "      <td>1997-05-26</td>\n",
       "      <td>0.075521</td>\n",
       "      <td>0.082292</td>\n",
       "      <td>0.072917</td>\n",
       "      <td>0.075000</td>\n",
       "      <td>0.075000</td>\n",
       "      <td>3.867840e+08</td>\n",
       "      <td>AMZN</td>\n",
       "    </tr>\n",
       "    <tr>\n",
       "      <th>3</th>\n",
       "      <td>1997-06-02</td>\n",
       "      <td>0.075521</td>\n",
       "      <td>0.085417</td>\n",
       "      <td>0.068750</td>\n",
       "      <td>0.082813</td>\n",
       "      <td>0.082813</td>\n",
       "      <td>3.666960e+08</td>\n",
       "      <td>AMZN</td>\n",
       "    </tr>\n",
       "    <tr>\n",
       "      <th>4</th>\n",
       "      <td>1997-06-09</td>\n",
       "      <td>0.082813</td>\n",
       "      <td>0.085417</td>\n",
       "      <td>0.076563</td>\n",
       "      <td>0.079167</td>\n",
       "      <td>0.079167</td>\n",
       "      <td>2.264880e+08</td>\n",
       "      <td>AMZN</td>\n",
       "    </tr>\n",
       "    <tr>\n",
       "      <th>...</th>\n",
       "      <td>...</td>\n",
       "      <td>...</td>\n",
       "      <td>...</td>\n",
       "      <td>...</td>\n",
       "      <td>...</td>\n",
       "      <td>...</td>\n",
       "      <td>...</td>\n",
       "      <td>...</td>\n",
       "    </tr>\n",
       "    <tr>\n",
       "      <th>1308</th>\n",
       "      <td>2022-06-06</td>\n",
       "      <td>125.250000</td>\n",
       "      <td>128.990005</td>\n",
       "      <td>109.050003</td>\n",
       "      <td>109.650002</td>\n",
       "      <td>109.650002</td>\n",
       "      <td>4.396481e+08</td>\n",
       "      <td>AMZN</td>\n",
       "    </tr>\n",
       "    <tr>\n",
       "      <th>1309</th>\n",
       "      <td>2022-06-13</td>\n",
       "      <td>104.190002</td>\n",
       "      <td>109.059998</td>\n",
       "      <td>101.430000</td>\n",
       "      <td>106.220001</td>\n",
       "      <td>106.220001</td>\n",
       "      <td>4.359760e+08</td>\n",
       "      <td>AMZN</td>\n",
       "    </tr>\n",
       "    <tr>\n",
       "      <th>1310</th>\n",
       "      <td>2022-06-20</td>\n",
       "      <td>108.199997</td>\n",
       "      <td>116.709999</td>\n",
       "      <td>103.559998</td>\n",
       "      <td>116.459999</td>\n",
       "      <td>116.459999</td>\n",
       "      <td>2.651542e+08</td>\n",
       "      <td>AMZN</td>\n",
       "    </tr>\n",
       "    <tr>\n",
       "      <th>1311</th>\n",
       "      <td>2022-06-27</td>\n",
       "      <td>117.089996</td>\n",
       "      <td>117.980003</td>\n",
       "      <td>102.519997</td>\n",
       "      <td>109.559998</td>\n",
       "      <td>109.559998</td>\n",
       "      <td>3.741520e+08</td>\n",
       "      <td>AMZN</td>\n",
       "    </tr>\n",
       "    <tr>\n",
       "      <th>1312</th>\n",
       "      <td>2022-07-04</td>\n",
       "      <td>NaN</td>\n",
       "      <td>NaN</td>\n",
       "      <td>NaN</td>\n",
       "      <td>NaN</td>\n",
       "      <td>NaN</td>\n",
       "      <td>NaN</td>\n",
       "      <td>AMZN</td>\n",
       "    </tr>\n",
       "  </tbody>\n",
       "</table>\n",
       "<p>1313 rows × 8 columns</p>\n",
       "</div>"
      ],
      "text/plain": [
       "           date        open        high         low       close    adjclose  \\\n",
       "0    1997-05-12    0.121875    0.125000    0.085417    0.086458    0.086458   \n",
       "1    1997-05-19    0.088021    0.088542    0.065625    0.075000    0.075000   \n",
       "2    1997-05-26    0.075521    0.082292    0.072917    0.075000    0.075000   \n",
       "3    1997-06-02    0.075521    0.085417    0.068750    0.082813    0.082813   \n",
       "4    1997-06-09    0.082813    0.085417    0.076563    0.079167    0.079167   \n",
       "...         ...         ...         ...         ...         ...         ...   \n",
       "1308 2022-06-06  125.250000  128.990005  109.050003  109.650002  109.650002   \n",
       "1309 2022-06-13  104.190002  109.059998  101.430000  106.220001  106.220001   \n",
       "1310 2022-06-20  108.199997  116.709999  103.559998  116.459999  116.459999   \n",
       "1311 2022-06-27  117.089996  117.980003  102.519997  109.559998  109.559998   \n",
       "1312 2022-07-04         NaN         NaN         NaN         NaN         NaN   \n",
       "\n",
       "            volume ticker  \n",
       "0     1.737120e+09   AMZN  \n",
       "1     1.162824e+09   AMZN  \n",
       "2     3.867840e+08   AMZN  \n",
       "3     3.666960e+08   AMZN  \n",
       "4     2.264880e+08   AMZN  \n",
       "...            ...    ...  \n",
       "1308  4.396481e+08   AMZN  \n",
       "1309  4.359760e+08   AMZN  \n",
       "1310  2.651542e+08   AMZN  \n",
       "1311  3.741520e+08   AMZN  \n",
       "1312           NaN   AMZN  \n",
       "\n",
       "[1313 rows x 8 columns]"
      ]
     },
     "execution_count": 3,
     "metadata": {},
     "output_type": "execute_result"
    }
   ],
   "source": [
    "api_df= get_data(\"amzn\", start_date=\"05/14/1997\", end_date=\"07/05/2022\", index_as_date = False, interval=\"1wk\")\n",
    "api_df"
   ]
  },
  {
   "cell_type": "code",
   "execution_count": null,
   "id": "0f49651b",
   "metadata": {
    "scrolled": true
   },
   "outputs": [],
   "source": []
  },
  {
   "cell_type": "code",
   "execution_count": null,
   "id": "0679c6b9",
   "metadata": {},
   "outputs": [],
   "source": [
    "\n",
    "\n"
   ]
  },
  {
   "cell_type": "code",
   "execution_count": null,
   "id": "2252b4c8",
   "metadata": {},
   "outputs": [],
   "source": []
  },
  {
   "cell_type": "code",
   "execution_count": null,
   "id": "5c89f87e",
   "metadata": {},
   "outputs": [],
   "source": [
    "# use the close value and the date"
   ]
  },
  {
   "cell_type": "code",
   "execution_count": null,
   "id": "29cc80a7",
   "metadata": {},
   "outputs": [],
   "source": [
    "#df = csv_df[['Date', 'Close']]\n",
    "#df"
   ]
  },
  {
   "cell_type": "code",
   "execution_count": 4,
   "id": "f70f97e1",
   "metadata": {},
   "outputs": [
    {
     "data": {
      "text/html": [
       "<div>\n",
       "<style scoped>\n",
       "    .dataframe tbody tr th:only-of-type {\n",
       "        vertical-align: middle;\n",
       "    }\n",
       "\n",
       "    .dataframe tbody tr th {\n",
       "        vertical-align: top;\n",
       "    }\n",
       "\n",
       "    .dataframe thead th {\n",
       "        text-align: right;\n",
       "    }\n",
       "</style>\n",
       "<table border=\"1\" class=\"dataframe\">\n",
       "  <thead>\n",
       "    <tr style=\"text-align: right;\">\n",
       "      <th></th>\n",
       "      <th>date</th>\n",
       "      <th>close</th>\n",
       "    </tr>\n",
       "  </thead>\n",
       "  <tbody>\n",
       "    <tr>\n",
       "      <th>0</th>\n",
       "      <td>1997-05-12</td>\n",
       "      <td>0.086458</td>\n",
       "    </tr>\n",
       "    <tr>\n",
       "      <th>1</th>\n",
       "      <td>1997-05-19</td>\n",
       "      <td>0.075000</td>\n",
       "    </tr>\n",
       "    <tr>\n",
       "      <th>2</th>\n",
       "      <td>1997-05-26</td>\n",
       "      <td>0.075000</td>\n",
       "    </tr>\n",
       "    <tr>\n",
       "      <th>3</th>\n",
       "      <td>1997-06-02</td>\n",
       "      <td>0.082813</td>\n",
       "    </tr>\n",
       "    <tr>\n",
       "      <th>4</th>\n",
       "      <td>1997-06-09</td>\n",
       "      <td>0.079167</td>\n",
       "    </tr>\n",
       "    <tr>\n",
       "      <th>...</th>\n",
       "      <td>...</td>\n",
       "      <td>...</td>\n",
       "    </tr>\n",
       "    <tr>\n",
       "      <th>1308</th>\n",
       "      <td>2022-06-06</td>\n",
       "      <td>109.650002</td>\n",
       "    </tr>\n",
       "    <tr>\n",
       "      <th>1309</th>\n",
       "      <td>2022-06-13</td>\n",
       "      <td>106.220001</td>\n",
       "    </tr>\n",
       "    <tr>\n",
       "      <th>1310</th>\n",
       "      <td>2022-06-20</td>\n",
       "      <td>116.459999</td>\n",
       "    </tr>\n",
       "    <tr>\n",
       "      <th>1311</th>\n",
       "      <td>2022-06-27</td>\n",
       "      <td>109.559998</td>\n",
       "    </tr>\n",
       "    <tr>\n",
       "      <th>1312</th>\n",
       "      <td>2022-07-04</td>\n",
       "      <td>NaN</td>\n",
       "    </tr>\n",
       "  </tbody>\n",
       "</table>\n",
       "<p>1313 rows × 2 columns</p>\n",
       "</div>"
      ],
      "text/plain": [
       "           date       close\n",
       "0    1997-05-12    0.086458\n",
       "1    1997-05-19    0.075000\n",
       "2    1997-05-26    0.075000\n",
       "3    1997-06-02    0.082813\n",
       "4    1997-06-09    0.079167\n",
       "...         ...         ...\n",
       "1308 2022-06-06  109.650002\n",
       "1309 2022-06-13  106.220001\n",
       "1310 2022-06-20  116.459999\n",
       "1311 2022-06-27  109.559998\n",
       "1312 2022-07-04         NaN\n",
       "\n",
       "[1313 rows x 2 columns]"
      ]
     },
     "execution_count": 4,
     "metadata": {},
     "output_type": "execute_result"
    }
   ],
   "source": [
    "df = api_df[['date', 'close']]\n",
    "df"
   ]
  },
  {
   "cell_type": "code",
   "execution_count": 5,
   "id": "085281c1",
   "metadata": {
    "scrolled": true
   },
   "outputs": [
    {
     "data": {
      "text/plain": [
       "0      1997-05-12\n",
       "1      1997-05-19\n",
       "2      1997-05-26\n",
       "3      1997-06-02\n",
       "4      1997-06-09\n",
       "          ...    \n",
       "1308   2022-06-06\n",
       "1309   2022-06-13\n",
       "1310   2022-06-20\n",
       "1311   2022-06-27\n",
       "1312   2022-07-04\n",
       "Name: date, Length: 1313, dtype: datetime64[ns]"
      ]
     },
     "execution_count": 5,
     "metadata": {},
     "output_type": "execute_result"
    }
   ],
   "source": [
    "#dates are in datetime confirmation\n",
    "df['date']"
   ]
  },
  {
   "cell_type": "code",
   "execution_count": 6,
   "id": "7dcd34c0",
   "metadata": {},
   "outputs": [
    {
     "data": {
      "text/plain": [
       "0       1997-05-12\n",
       "1       1997-05-19\n",
       "2       1997-05-26\n",
       "3       1997-06-02\n",
       "4       1997-06-09\n",
       "           ...    \n",
       "1308    2022-06-06\n",
       "1309    2022-06-13\n",
       "1310    2022-06-20\n",
       "1311    2022-06-27\n",
       "1312    2022-07-04\n",
       "Name: date, Length: 1313, dtype: object"
      ]
     },
     "execution_count": 6,
     "metadata": {},
     "output_type": "execute_result"
    }
   ],
   "source": [
    "datetime_to_str = df['date'].astype(str)\n",
    "datetime_to_str"
   ]
  },
  {
   "cell_type": "code",
   "execution_count": 7,
   "id": "0c8d6bf7",
   "metadata": {
    "scrolled": true
   },
   "outputs": [
    {
     "data": {
      "text/plain": [
       "0       1997-05-12\n",
       "1       1997-05-19\n",
       "2       1997-05-26\n",
       "3       1997-06-02\n",
       "4       1997-06-09\n",
       "           ...    \n",
       "1308    2022-06-06\n",
       "1309    2022-06-13\n",
       "1310    2022-06-20\n",
       "1311    2022-06-27\n",
       "1312    2022-07-04\n",
       "Name: date, Length: 1313, dtype: object"
      ]
     },
     "execution_count": 7,
     "metadata": {},
     "output_type": "execute_result"
    }
   ],
   "source": [
    "new_df_date = pd.DataFrame(datetime_to_str)\n",
    "new_df_date['date']"
   ]
  },
  {
   "cell_type": "code",
   "execution_count": 8,
   "id": "ab82bbe1",
   "metadata": {},
   "outputs": [
    {
     "data": {
      "text/plain": [
       "0         0.086458\n",
       "1         0.075000\n",
       "2         0.075000\n",
       "3         0.082813\n",
       "4         0.079167\n",
       "           ...    \n",
       "1308    109.650002\n",
       "1309    106.220001\n",
       "1310    116.459999\n",
       "1311    109.559998\n",
       "1312           NaN\n",
       "Name: close, Length: 1313, dtype: float64"
      ]
     },
     "execution_count": 8,
     "metadata": {},
     "output_type": "execute_result"
    }
   ],
   "source": [
    "close_n = df['close']\n",
    "\n",
    "new_df_close = pd.DataFrame(close_n)\n",
    "new_df_close['close']"
   ]
  },
  {
   "cell_type": "code",
   "execution_count": 9,
   "id": "9ed59526",
   "metadata": {},
   "outputs": [
    {
     "data": {
      "text/html": [
       "<div>\n",
       "<style scoped>\n",
       "    .dataframe tbody tr th:only-of-type {\n",
       "        vertical-align: middle;\n",
       "    }\n",
       "\n",
       "    .dataframe tbody tr th {\n",
       "        vertical-align: top;\n",
       "    }\n",
       "\n",
       "    .dataframe thead th {\n",
       "        text-align: right;\n",
       "    }\n",
       "</style>\n",
       "<table border=\"1\" class=\"dataframe\">\n",
       "  <thead>\n",
       "    <tr style=\"text-align: right;\">\n",
       "      <th></th>\n",
       "      <th>date</th>\n",
       "      <th>close</th>\n",
       "    </tr>\n",
       "  </thead>\n",
       "  <tbody>\n",
       "    <tr>\n",
       "      <th>0</th>\n",
       "      <td>1997-05-12</td>\n",
       "      <td>0.086458</td>\n",
       "    </tr>\n",
       "    <tr>\n",
       "      <th>1</th>\n",
       "      <td>1997-05-19</td>\n",
       "      <td>0.075000</td>\n",
       "    </tr>\n",
       "    <tr>\n",
       "      <th>2</th>\n",
       "      <td>1997-05-26</td>\n",
       "      <td>0.075000</td>\n",
       "    </tr>\n",
       "    <tr>\n",
       "      <th>3</th>\n",
       "      <td>1997-06-02</td>\n",
       "      <td>0.082813</td>\n",
       "    </tr>\n",
       "    <tr>\n",
       "      <th>4</th>\n",
       "      <td>1997-06-09</td>\n",
       "      <td>0.079167</td>\n",
       "    </tr>\n",
       "    <tr>\n",
       "      <th>...</th>\n",
       "      <td>...</td>\n",
       "      <td>...</td>\n",
       "    </tr>\n",
       "    <tr>\n",
       "      <th>1308</th>\n",
       "      <td>2022-06-06</td>\n",
       "      <td>109.650002</td>\n",
       "    </tr>\n",
       "    <tr>\n",
       "      <th>1309</th>\n",
       "      <td>2022-06-13</td>\n",
       "      <td>106.220001</td>\n",
       "    </tr>\n",
       "    <tr>\n",
       "      <th>1310</th>\n",
       "      <td>2022-06-20</td>\n",
       "      <td>116.459999</td>\n",
       "    </tr>\n",
       "    <tr>\n",
       "      <th>1311</th>\n",
       "      <td>2022-06-27</td>\n",
       "      <td>109.559998</td>\n",
       "    </tr>\n",
       "    <tr>\n",
       "      <th>1312</th>\n",
       "      <td>2022-07-04</td>\n",
       "      <td>NaN</td>\n",
       "    </tr>\n",
       "  </tbody>\n",
       "</table>\n",
       "<p>1313 rows × 2 columns</p>\n",
       "</div>"
      ],
      "text/plain": [
       "            date       close\n",
       "0     1997-05-12    0.086458\n",
       "1     1997-05-19    0.075000\n",
       "2     1997-05-26    0.075000\n",
       "3     1997-06-02    0.082813\n",
       "4     1997-06-09    0.079167\n",
       "...          ...         ...\n",
       "1308  2022-06-06  109.650002\n",
       "1309  2022-06-13  106.220001\n",
       "1310  2022-06-20  116.459999\n",
       "1311  2022-06-27  109.559998\n",
       "1312  2022-07-04         NaN\n",
       "\n",
       "[1313 rows x 2 columns]"
      ]
     },
     "metadata": {},
     "output_type": "display_data"
    }
   ],
   "source": [
    "frames = [new_df_date, new_df_close]\n",
    "  \n",
    "df = pd.concat(frames, axis=1, join= 'inner')\n",
    "display(df)"
   ]
  },
  {
   "cell_type": "code",
   "execution_count": null,
   "id": "ac264457",
   "metadata": {},
   "outputs": [],
   "source": []
  },
  {
   "cell_type": "code",
   "execution_count": 10,
   "id": "b4a767c1",
   "metadata": {},
   "outputs": [],
   "source": [
    "import datetime\n",
    "\n",
    "def str_to_datetime(s):\n",
    "    split = s.split('-')\n",
    "    year, month, day = int(split[0]), int(split[1]), int(split[2])\n",
    "    return datetime.datetime(year=year, month=month, day=day)"
   ]
  },
  {
   "cell_type": "code",
   "execution_count": 12,
   "id": "3c56aea1",
   "metadata": {},
   "outputs": [
    {
     "data": {
      "text/plain": [
       "datetime.datetime(1997, 5, 12, 0, 0)"
      ]
     },
     "execution_count": 12,
     "metadata": {},
     "output_type": "execute_result"
    }
   ],
   "source": [
    "datetime_object = str_to_datetime('1997-05-12')\n",
    "datetime_object"
   ]
  },
  {
   "cell_type": "code",
   "execution_count": 13,
   "id": "2b4cf7e2",
   "metadata": {},
   "outputs": [
    {
     "data": {
      "text/plain": [
       "0      1997-05-12\n",
       "1      1997-05-19\n",
       "2      1997-05-26\n",
       "3      1997-06-02\n",
       "4      1997-06-09\n",
       "          ...    \n",
       "1308   2022-06-06\n",
       "1309   2022-06-13\n",
       "1310   2022-06-20\n",
       "1311   2022-06-27\n",
       "1312   2022-07-04\n",
       "Name: date, Length: 1313, dtype: datetime64[ns]"
      ]
     },
     "execution_count": 13,
     "metadata": {},
     "output_type": "execute_result"
    }
   ],
   "source": [
    "#apply function to column 'date' to conver to integers\n",
    "df['date'] = df['date'].apply(str_to_datetime)\n",
    "df['date']"
   ]
  },
  {
   "cell_type": "code",
   "execution_count": 14,
   "id": "5aa344d6",
   "metadata": {},
   "outputs": [
    {
     "data": {
      "text/html": [
       "<div>\n",
       "<style scoped>\n",
       "    .dataframe tbody tr th:only-of-type {\n",
       "        vertical-align: middle;\n",
       "    }\n",
       "\n",
       "    .dataframe tbody tr th {\n",
       "        vertical-align: top;\n",
       "    }\n",
       "\n",
       "    .dataframe thead th {\n",
       "        text-align: right;\n",
       "    }\n",
       "</style>\n",
       "<table border=\"1\" class=\"dataframe\">\n",
       "  <thead>\n",
       "    <tr style=\"text-align: right;\">\n",
       "      <th></th>\n",
       "      <th>close</th>\n",
       "    </tr>\n",
       "    <tr>\n",
       "      <th>date</th>\n",
       "      <th></th>\n",
       "    </tr>\n",
       "  </thead>\n",
       "  <tbody>\n",
       "    <tr>\n",
       "      <th>1997-05-12</th>\n",
       "      <td>0.086458</td>\n",
       "    </tr>\n",
       "    <tr>\n",
       "      <th>1997-05-19</th>\n",
       "      <td>0.075000</td>\n",
       "    </tr>\n",
       "    <tr>\n",
       "      <th>1997-05-26</th>\n",
       "      <td>0.075000</td>\n",
       "    </tr>\n",
       "    <tr>\n",
       "      <th>1997-06-02</th>\n",
       "      <td>0.082813</td>\n",
       "    </tr>\n",
       "    <tr>\n",
       "      <th>1997-06-09</th>\n",
       "      <td>0.079167</td>\n",
       "    </tr>\n",
       "    <tr>\n",
       "      <th>...</th>\n",
       "      <td>...</td>\n",
       "    </tr>\n",
       "    <tr>\n",
       "      <th>2022-06-06</th>\n",
       "      <td>109.650002</td>\n",
       "    </tr>\n",
       "    <tr>\n",
       "      <th>2022-06-13</th>\n",
       "      <td>106.220001</td>\n",
       "    </tr>\n",
       "    <tr>\n",
       "      <th>2022-06-20</th>\n",
       "      <td>116.459999</td>\n",
       "    </tr>\n",
       "    <tr>\n",
       "      <th>2022-06-27</th>\n",
       "      <td>109.559998</td>\n",
       "    </tr>\n",
       "    <tr>\n",
       "      <th>2022-07-04</th>\n",
       "      <td>NaN</td>\n",
       "    </tr>\n",
       "  </tbody>\n",
       "</table>\n",
       "<p>1313 rows × 1 columns</p>\n",
       "</div>"
      ],
      "text/plain": [
       "                 close\n",
       "date                  \n",
       "1997-05-12    0.086458\n",
       "1997-05-19    0.075000\n",
       "1997-05-26    0.075000\n",
       "1997-06-02    0.082813\n",
       "1997-06-09    0.079167\n",
       "...                ...\n",
       "2022-06-06  109.650002\n",
       "2022-06-13  106.220001\n",
       "2022-06-20  116.459999\n",
       "2022-06-27  109.559998\n",
       "2022-07-04         NaN\n",
       "\n",
       "[1313 rows x 1 columns]"
      ]
     },
     "execution_count": 14,
     "metadata": {},
     "output_type": "execute_result"
    }
   ],
   "source": [
    "#remove index column\n",
    "df.index = df.pop('date')\n",
    "df"
   ]
  },
  {
   "cell_type": "code",
   "execution_count": 15,
   "id": "a3edc943",
   "metadata": {},
   "outputs": [],
   "source": [
    "import matplotlib.pyplot as plt"
   ]
  },
  {
   "cell_type": "code",
   "execution_count": 16,
   "id": "a46ed127",
   "metadata": {},
   "outputs": [
    {
     "data": {
      "text/plain": [
       "[<matplotlib.lines.Line2D at 0x2446bdfb1c8>]"
      ]
     },
     "execution_count": 16,
     "metadata": {},
     "output_type": "execute_result"
    },
    {
     "data": {
      "image/png": "[encoded data removed]",
      "text/plain": [
       "<Figure size 432x288 with 1 Axes>"
      ]
     },
     "metadata": {
      "needs_background": "light"
     },
     "output_type": "display_data"
    }
   ],
   "source": [
    "plt.plot(df.index , df['close'])"
   ]
  },
  {
   "cell_type": "code",
   "execution_count": 17,
   "id": "0424a810",
   "metadata": {},
   "outputs": [
    {
     "data": {
      "text/html": [
       "<div>\n",
       "<style scoped>\n",
       "    .dataframe tbody tr th:only-of-type {\n",
       "        vertical-align: middle;\n",
       "    }\n",
       "\n",
       "    .dataframe tbody tr th {\n",
       "        vertical-align: top;\n",
       "    }\n",
       "\n",
       "    .dataframe thead th {\n",
       "        text-align: right;\n",
       "    }\n",
       "</style>\n",
       "<table border=\"1\" class=\"dataframe\">\n",
       "  <thead>\n",
       "    <tr style=\"text-align: right;\">\n",
       "      <th></th>\n",
       "      <th>Target Date</th>\n",
       "      <th>Target-3</th>\n",
       "      <th>Target-2</th>\n",
       "      <th>Target-1</th>\n",
       "      <th>Target</th>\n",
       "    </tr>\n",
       "  </thead>\n",
       "  <tbody>\n",
       "    <tr>\n",
       "      <th>0</th>\n",
       "      <td>1997-06-02</td>\n",
       "      <td>0.086458</td>\n",
       "      <td>0.075000</td>\n",
       "      <td>0.075000</td>\n",
       "      <td>0.082813</td>\n",
       "    </tr>\n",
       "    <tr>\n",
       "      <th>1</th>\n",
       "      <td>1997-06-09</td>\n",
       "      <td>0.075000</td>\n",
       "      <td>0.075000</td>\n",
       "      <td>0.082813</td>\n",
       "      <td>0.079167</td>\n",
       "    </tr>\n",
       "    <tr>\n",
       "      <th>2</th>\n",
       "      <td>1997-06-16</td>\n",
       "      <td>0.075000</td>\n",
       "      <td>0.082813</td>\n",
       "      <td>0.079167</td>\n",
       "      <td>0.076302</td>\n",
       "    </tr>\n",
       "    <tr>\n",
       "      <th>3</th>\n",
       "      <td>1997-06-23</td>\n",
       "      <td>0.082813</td>\n",
       "      <td>0.079167</td>\n",
       "      <td>0.076302</td>\n",
       "      <td>0.074479</td>\n",
       "    </tr>\n",
       "    <tr>\n",
       "      <th>4</th>\n",
       "      <td>1997-06-30</td>\n",
       "      <td>0.079167</td>\n",
       "      <td>0.076302</td>\n",
       "      <td>0.074479</td>\n",
       "      <td>0.095573</td>\n",
       "    </tr>\n",
       "  </tbody>\n",
       "</table>\n",
       "</div>"
      ],
      "text/plain": [
       "  Target Date  Target-3  Target-2  Target-1    Target\n",
       "0  1997-06-02  0.086458  0.075000  0.075000  0.082813\n",
       "1  1997-06-09  0.075000  0.075000  0.082813  0.079167\n",
       "2  1997-06-16  0.075000  0.082813  0.079167  0.076302\n",
       "3  1997-06-23  0.082813  0.079167  0.076302  0.074479\n",
       "4  1997-06-30  0.079167  0.076302  0.074479  0.095573"
      ]
     },
     "execution_count": 17,
     "metadata": {},
     "output_type": "execute_result"
    }
   ],
   "source": [
    "#create a supervised learning problem  LSTM(long short term memory) model\n",
    "\n",
    "\n",
    "\n",
    "import numpy as np\n",
    "\n",
    "def df_to_windowed_df(dataframe, first_date_str, last_date_str, n=3):\n",
    "  first_date = str_to_datetime(first_date_str)\n",
    "  last_date  = str_to_datetime(last_date_str)\n",
    "\n",
    "  target_date = first_date\n",
    "  \n",
    "  dates = []\n",
    "  X, Y = [], []\n",
    "\n",
    "  last_time = False\n",
    "  while True:\n",
    "    df_subset = dataframe.loc[:target_date].tail(n+1)\n",
    "    \n",
    "    if len(df_subset) != n+1:\n",
    "      print(f'Error: Window of size {n} is too large for date {target_date}')\n",
    "      return\n",
    "\n",
    "    values = df_subset['close'].to_numpy()\n",
    "    x, y = values[:-1], values[-1]\n",
    "\n",
    "    dates.append(target_date)\n",
    "    X.append(x)\n",
    "    Y.append(y)\n",
    "\n",
    "    next_week = dataframe.loc[target_date:target_date+datetime.timedelta(days=7)]\n",
    "    next_datetime_str = str(next_week.head(2).tail(1).index.values[0])\n",
    "    next_date_str = next_datetime_str.split('T')[0]\n",
    "    year_month_day = next_date_str.split('-')\n",
    "    year, month, day = year_month_day\n",
    "    next_date = datetime.datetime(day=int(day), month=int(month), year=int(year))\n",
    "    \n",
    "    if last_time:\n",
    "      break\n",
    "    \n",
    "    target_date = next_date\n",
    "\n",
    "    if target_date == last_date:\n",
    "      last_time = True\n",
    "    \n",
    "  ret_df = pd.DataFrame({})\n",
    "  ret_df['Target Date'] = dates\n",
    "  \n",
    "  X = np.array(X)\n",
    "  for i in range(0, n):\n",
    "    X[:, i]\n",
    "    ret_df[f'Target-{n-i}'] = X[:, i]\n",
    "  \n",
    "  ret_df['Target'] = Y\n",
    "\n",
    "  return ret_df\n",
    "\n",
    "# Start day second time around: '1997-05-20'\n",
    "windowed_df = df_to_windowed_df(df, \n",
    "                                '1997-06-02', \n",
    "                                '2022-07-04', \n",
    "                                n=3)\n",
    "windowed_df.head()"
   ]
  },
  {
   "cell_type": "code",
   "execution_count": 18,
   "id": "49c4d420",
   "metadata": {},
   "outputs": [
    {
     "data": {
      "text/plain": [
       "((1310,), (1310, 3, 1), (1310,))"
      ]
     },
     "execution_count": 18,
     "metadata": {},
     "output_type": "execute_result"
    }
   ],
   "source": [
    "def windowed_df_to_date_X_y(windowed_dataframe):\n",
    "    df_as_np = windowed_dataframe.to_numpy()\n",
    "    \n",
    "    dates = df_as_np[:, 0]\n",
    "    \n",
    "    middle_matrix = df_as_np[:, 1:-1]\n",
    "    X= middle_matrix.reshape((len(dates), middle_matrix.shape[1], 1))\n",
    "    \n",
    "    Y= df_as_np[:, -1]\n",
    "    \n",
    "    return dates, X.astype(np.float32), Y.astype(np.float32)\n",
    "\n",
    "dates, X, y= windowed_df_to_date_X_y(windowed_df)\n",
    "\n",
    "dates.shape, X.shape, y.shape\n",
    "\n",
    "## 3 steps in the past for 1 type of variable"
   ]
  },
  {
   "cell_type": "code",
   "execution_count": 19,
   "id": "b71092e9",
   "metadata": {},
   "outputs": [
    {
     "data": {
      "text/plain": [
       "<matplotlib.legend.Legend at 0x2446bc3d708>"
      ]
     },
     "execution_count": 19,
     "metadata": {},
     "output_type": "execute_result"
    },
    {
     "data": {
      "image/png": "[encoded data removed]",
      "text/plain": [
       "<Figure size 432x288 with 1 Axes>"
      ]
     },
     "metadata": {
      "needs_background": "light"
     },
     "output_type": "display_data"
    }
   ],
   "source": [
    "#train 14.07m\n",
    "\n",
    "q_80 = int(len(dates) * .8)\n",
    "q_90 = int(len(dates) * .9)\n",
    "\n",
    "dates_train, X_train, y_train = dates[:q_80], X[:q_80], y[:q_80]\n",
    "\n",
    "dates_val, X_val, y_val = dates[q_80:q_90], X[q_80:q_90], y[q_80:q_90]\n",
    "dates_test, X_test, y_test = dates[q_90:], X[q_90:], y[q_90:]\n",
    "\n",
    "plt.plot(dates_train, y_train)\n",
    "plt.plot(dates_val, y_val)\n",
    "plt.plot(dates_test, y_test)\n",
    "\n",
    "plt.legend(['Train', 'Validation', 'Test'])"
   ]
  },
  {
   "cell_type": "code",
   "execution_count": 20,
   "id": "e9ae4e54",
   "metadata": {},
   "outputs": [],
   "source": [
    "#create and train the model  Tesnsor flow\n",
    "\n",
    "from tensorflow.keras.models import Sequential\n",
    "from tensorflow.keras.optimizers import Adam\n",
    "from tensorflow.keras import layers"
   ]
  },
  {
   "cell_type": "code",
   "execution_count": null,
   "id": "85d9817c",
   "metadata": {},
   "outputs": [
    {
     "name": "stdout",
     "output_type": "stream",
     "text": [
      "Epoch 1/100\n",
      "33/33 [==============================] - 8s 58ms/step - loss: 156.7044 - mean_absolute_error: 7.0651 - val_loss: 5863.3901 - val_mean_absolute_error: 74.9492\n",
      "Epoch 2/100\n",
      "33/33 [==============================] - 0s 8ms/step - loss: 75.0277 - mean_absolute_error: 4.6172 - val_loss: 4130.0938 - val_mean_absolute_error: 62.0962\n",
      "Epoch 3/100\n",
      "33/33 [==============================] - 0s 9ms/step - loss: 14.4893 - mean_absolute_error: 1.5958 - val_loss: 1936.2590 - val_mean_absolute_error: 41.0447\n",
      "Epoch 4/100\n",
      "33/33 [==============================] - 0s 9ms/step - loss: 1.0714 - mean_absolute_error: 0.5190 - val_loss: 1308.0361 - val_mean_absolute_error: 32.8044\n",
      "Epoch 5/100\n",
      "33/33 [==============================] - 0s 10ms/step - loss: 0.4417 - mean_absolute_error: 0.3752 - val_loss: 1200.6337 - val_mean_absolute_error: 31.1936\n",
      "Epoch 6/100\n",
      "33/33 [==============================] - 0s 8ms/step - loss: 0.3704 - mean_absolute_error: 0.3401 - val_loss: 1140.8790 - val_mean_absolute_error: 30.2396\n",
      "Epoch 7/100\n",
      "33/33 [==============================] - 0s 7ms/step - loss: 0.3938 - mean_absolute_error: 0.3537 - val_loss: 1074.0415 - val_mean_absolute_error: 29.2071\n",
      "Epoch 8/100\n",
      "33/33 [==============================] - 0s 7ms/step - loss: 0.3399 - mean_absolute_error: 0.3380 - val_loss: 1032.3779 - val_mean_absolute_error: 28.4698\n",
      "Epoch 9/100\n",
      "33/33 [==============================] - 0s 7ms/step - loss: 0.3583 - mean_absolute_error: 0.3375 - val_loss: 1015.8260 - val_mean_absolute_error: 28.3300\n",
      "Epoch 10/100\n",
      "33/33 [==============================] - 0s 8ms/step - loss: 0.2994 - mean_absolute_error: 0.3173 - val_loss: 996.1204 - val_mean_absolute_error: 28.0723\n",
      "Epoch 11/100\n",
      "33/33 [==============================] - 0s 7ms/step - loss: 0.3910 - mean_absolute_error: 0.3492 - val_loss: 980.5757 - val_mean_absolute_error: 27.7295\n",
      "Epoch 12/100\n",
      "33/33 [==============================] - 0s 9ms/step - loss: 0.2939 - mean_absolute_error: 0.3119 - val_loss: 958.3129 - val_mean_absolute_error: 27.3385\n",
      "Epoch 13/100\n",
      "33/33 [==============================] - 0s 12ms/step - loss: 0.2965 - mean_absolute_error: 0.3146 - val_loss: 937.6870 - val_mean_absolute_error: 27.0106\n",
      "Epoch 14/100\n",
      "33/33 [==============================] - 0s 12ms/step - loss: 0.3666 - mean_absolute_error: 0.3440 - val_loss: 952.2580 - val_mean_absolute_error: 27.2954\n",
      "Epoch 15/100\n",
      "33/33 [==============================] - 0s 9ms/step - loss: 0.3087 - mean_absolute_error: 0.3172 - val_loss: 937.8807 - val_mean_absolute_error: 27.0197\n",
      "Epoch 16/100\n",
      "33/33 [==============================] - 0s 8ms/step - loss: 0.2970 - mean_absolute_error: 0.3093 - val_loss: 923.9618 - val_mean_absolute_error: 26.8162\n",
      "Epoch 17/100\n",
      "33/33 [==============================] - 0s 7ms/step - loss: 0.3145 - mean_absolute_error: 0.3286 - val_loss: 923.6110 - val_mean_absolute_error: 26.8416\n",
      "Epoch 18/100\n",
      "33/33 [==============================] - 0s 8ms/step - loss: 0.2793 - mean_absolute_error: 0.3046 - val_loss: 913.2595 - val_mean_absolute_error: 26.6840\n",
      "Epoch 19/100\n",
      "33/33 [==============================] - 0s 8ms/step - loss: 0.3554 - mean_absolute_error: 0.3355 - val_loss: 913.5254 - val_mean_absolute_error: 26.6264\n",
      "Epoch 20/100\n",
      "33/33 [==============================] - 0s 8ms/step - loss: 0.3101 - mean_absolute_error: 0.3213 - val_loss: 922.0485 - val_mean_absolute_error: 26.8194\n",
      "Epoch 21/100\n",
      "33/33 [==============================] - 0s 8ms/step - loss: 0.3202 - mean_absolute_error: 0.3279 - val_loss: 915.0618 - val_mean_absolute_error: 26.6796\n",
      "Epoch 22/100\n",
      "33/33 [==============================] - 0s 7ms/step - loss: 0.3047 - mean_absolute_error: 0.3234 - val_loss: 910.7811 - val_mean_absolute_error: 26.6243\n",
      "Epoch 23/100\n",
      "33/33 [==============================] - 0s 7ms/step - loss: 0.2925 - mean_absolute_error: 0.3103 - val_loss: 886.2863 - val_mean_absolute_error: 26.1770\n",
      "Epoch 24/100\n",
      "33/33 [==============================] - 0s 8ms/step - loss: 0.3264 - mean_absolute_error: 0.3328 - val_loss: 895.6194 - val_mean_absolute_error: 26.4182\n",
      "Epoch 25/100\n",
      "33/33 [==============================] - 0s 9ms/step - loss: 0.2832 - mean_absolute_error: 0.3037 - val_loss: 890.0013 - val_mean_absolute_error: 26.2569\n",
      "Epoch 26/100\n",
      "33/33 [==============================] - 0s 8ms/step - loss: 0.2980 - mean_absolute_error: 0.3183 - val_loss: 884.8807 - val_mean_absolute_error: 26.2111\n",
      "Epoch 27/100\n",
      "33/33 [==============================] - 0s 8ms/step - loss: 0.2822 - mean_absolute_error: 0.3078 - val_loss: 869.0860 - val_mean_absolute_error: 25.8975\n",
      "Epoch 28/100\n",
      "33/33 [==============================] - 0s 7ms/step - loss: 0.2869 - mean_absolute_error: 0.3042 - val_loss: 874.0930 - val_mean_absolute_error: 25.9782\n",
      "Epoch 29/100\n",
      "33/33 [==============================] - 0s 7ms/step - loss: 0.2808 - mean_absolute_error: 0.3057 - val_loss: 866.1116 - val_mean_absolute_error: 25.8808\n",
      "Epoch 30/100\n",
      "33/33 [==============================] - 0s 8ms/step - loss: 0.2784 - mean_absolute_error: 0.3035 - val_loss: 858.8221 - val_mean_absolute_error: 25.7475\n",
      "Epoch 31/100\n",
      "33/33 [==============================] - 0s 7ms/step - loss: 0.3226 - mean_absolute_error: 0.3273 - val_loss: 857.0637 - val_mean_absolute_error: 25.7753\n",
      "Epoch 32/100\n",
      "33/33 [==============================] - 0s 7ms/step - loss: 0.2905 - mean_absolute_error: 0.3058 - val_loss: 857.0712 - val_mean_absolute_error: 25.7574\n",
      "Epoch 33/100\n",
      "33/33 [==============================] - 0s 7ms/step - loss: 0.2814 - mean_absolute_error: 0.3130 - val_loss: 866.5206 - val_mean_absolute_error: 25.9459\n",
      "Epoch 34/100\n",
      "33/33 [==============================] - 0s 8ms/step - loss: 0.3426 - mean_absolute_error: 0.3346 - val_loss: 857.3045 - val_mean_absolute_error: 25.7399\n",
      "Epoch 35/100\n",
      "33/33 [==============================] - 0s 10ms/step - loss: 0.2839 - mean_absolute_error: 0.3092 - val_loss: 848.7772 - val_mean_absolute_error: 25.5505\n",
      "Epoch 36/100\n",
      "33/33 [==============================] - 0s 10ms/step - loss: 0.2762 - mean_absolute_error: 0.2994 - val_loss: 856.6934 - val_mean_absolute_error: 25.7017\n",
      "Epoch 37/100\n",
      "33/33 [==============================] - 0s 8ms/step - loss: 0.3039 - mean_absolute_error: 0.3068 - val_loss: 850.8761 - val_mean_absolute_error: 25.6065\n",
      "Epoch 38/100\n",
      "33/33 [==============================] - 0s 8ms/step - loss: 0.3114 - mean_absolute_error: 0.3316 - val_loss: 851.7023 - val_mean_absolute_error: 25.6287\n",
      "Epoch 39/100\n",
      "33/33 [==============================] - 0s 7ms/step - loss: 0.4058 - mean_absolute_error: 0.3681 - val_loss: 840.2146 - val_mean_absolute_error: 25.4150\n",
      "Epoch 40/100\n",
      "33/33 [==============================] - 0s 8ms/step - loss: 0.3653 - mean_absolute_error: 0.3506 - val_loss: 871.0067 - val_mean_absolute_error: 25.9187\n",
      "Epoch 41/100\n",
      "33/33 [==============================] - 0s 10ms/step - loss: 0.2941 - mean_absolute_error: 0.3117 - val_loss: 852.2866 - val_mean_absolute_error: 25.5972\n",
      "Epoch 42/100\n",
      "33/33 [==============================] - 0s 11ms/step - loss: 0.2999 - mean_absolute_error: 0.3204 - val_loss: 871.5414 - val_mean_absolute_error: 25.9604\n",
      "Epoch 43/100\n",
      "33/33 [==============================] - 0s 11ms/step - loss: 0.3030 - mean_absolute_error: 0.3096 - val_loss: 875.7377 - val_mean_absolute_error: 26.0853\n",
      "Epoch 44/100\n",
      "33/33 [==============================] - 0s 10ms/step - loss: 0.3041 - mean_absolute_error: 0.3204 - val_loss: 855.2150 - val_mean_absolute_error: 25.6618\n",
      "Epoch 45/100\n",
      "33/33 [==============================] - 0s 10ms/step - loss: 0.2941 - mean_absolute_error: 0.3113 - val_loss: 843.3484 - val_mean_absolute_error: 25.4687\n",
      "Epoch 46/100\n",
      "33/33 [==============================] - 0s 9ms/step - loss: 0.2893 - mean_absolute_error: 0.3150 - val_loss: 842.5347 - val_mean_absolute_error: 25.4921\n",
      "Epoch 47/100\n",
      "33/33 [==============================] - 0s 11ms/step - loss: 0.5847 - mean_absolute_error: 0.4282 - val_loss: 873.2205 - val_mean_absolute_error: 25.9404\n",
      "Epoch 48/100\n",
      "33/33 [==============================] - 0s 10ms/step - loss: 0.3223 - mean_absolute_error: 0.3247 - val_loss: 879.7670 - val_mean_absolute_error: 26.1130\n",
      "Epoch 49/100\n",
      "33/33 [==============================] - 0s 8ms/step - loss: 0.2924 - mean_absolute_error: 0.3139 - val_loss: 846.4997 - val_mean_absolute_error: 25.5008\n"
     ]
    },
    {
     "name": "stdout",
     "output_type": "stream",
     "text": [
      "Epoch 50/100\n",
      "33/33 [==============================] - 0s 7ms/step - loss: 0.2608 - mean_absolute_error: 0.3039 - val_loss: 844.7740 - val_mean_absolute_error: 25.4819\n",
      "Epoch 51/100\n",
      "33/33 [==============================] - 0s 7ms/step - loss: 0.2878 - mean_absolute_error: 0.3171 - val_loss: 845.1058 - val_mean_absolute_error: 25.4946\n",
      "Epoch 52/100\n",
      "33/33 [==============================] - 0s 7ms/step - loss: 0.2980 - mean_absolute_error: 0.3212 - val_loss: 833.0557 - val_mean_absolute_error: 25.2732\n",
      "Epoch 53/100\n",
      "33/33 [==============================] - 0s 7ms/step - loss: 0.2812 - mean_absolute_error: 0.3076 - val_loss: 835.6005 - val_mean_absolute_error: 25.3137\n",
      "Epoch 54/100\n",
      "33/33 [==============================] - 0s 8ms/step - loss: 0.2769 - mean_absolute_error: 0.3093 - val_loss: 833.3580 - val_mean_absolute_error: 25.2744\n",
      "Epoch 55/100\n",
      "33/33 [==============================] - 0s 7ms/step - loss: 0.2985 - mean_absolute_error: 0.3190 - val_loss: 840.5892 - val_mean_absolute_error: 25.3954\n",
      "Epoch 56/100\n",
      "33/33 [==============================] - 0s 7ms/step - loss: 0.2681 - mean_absolute_error: 0.2997 - val_loss: 840.8755 - val_mean_absolute_error: 25.4120\n",
      "Epoch 57/100\n",
      "33/33 [==============================] - 0s 7ms/step - loss: 0.2780 - mean_absolute_error: 0.3053 - val_loss: 835.2024 - val_mean_absolute_error: 25.3222\n",
      "Epoch 58/100\n",
      "33/33 [==============================] - 0s 8ms/step - loss: 0.2674 - mean_absolute_error: 0.3041 - val_loss: 835.7513 - val_mean_absolute_error: 25.3496\n",
      "Epoch 59/100\n",
      "33/33 [==============================] - 0s 10ms/step - loss: 0.2740 - mean_absolute_error: 0.3002 - val_loss: 841.2269 - val_mean_absolute_error: 25.5330\n",
      "Epoch 60/100\n",
      "33/33 [==============================] - 0s 9ms/step - loss: 0.3282 - mean_absolute_error: 0.3286 - val_loss: 812.9352 - val_mean_absolute_error: 24.9354\n",
      "Epoch 61/100\n",
      "33/33 [==============================] - 0s 7ms/step - loss: 0.2987 - mean_absolute_error: 0.3141 - val_loss: 829.0474 - val_mean_absolute_error: 25.2561\n",
      "Epoch 62/100\n",
      "33/33 [==============================] - 0s 7ms/step - loss: 0.3442 - mean_absolute_error: 0.3417 - val_loss: 828.6774 - val_mean_absolute_error: 25.2202\n",
      "Epoch 63/100\n",
      "33/33 [==============================] - 0s 7ms/step - loss: 0.2891 - mean_absolute_error: 0.3189 - val_loss: 840.5684 - val_mean_absolute_error: 25.3973\n",
      "Epoch 64/100\n",
      "33/33 [==============================] - 0s 8ms/step - loss: 0.2921 - mean_absolute_error: 0.3091 - val_loss: 831.7435 - val_mean_absolute_error: 25.2503\n",
      "Epoch 65/100\n",
      "33/33 [==============================] - 0s 7ms/step - loss: 0.3106 - mean_absolute_error: 0.3196 - val_loss: 826.5576 - val_mean_absolute_error: 25.1736\n",
      "Epoch 66/100\n",
      "33/33 [==============================] - 0s 8ms/step - loss: 0.3409 - mean_absolute_error: 0.3342 - val_loss: 844.4622 - val_mean_absolute_error: 25.5155\n",
      "Epoch 67/100\n",
      "33/33 [==============================] - 0s 8ms/step - loss: 0.3110 - mean_absolute_error: 0.3192 - val_loss: 814.3408 - val_mean_absolute_error: 24.9747\n",
      "Epoch 68/100\n",
      "33/33 [==============================] - 0s 7ms/step - loss: 0.2958 - mean_absolute_error: 0.3194 - val_loss: 826.7546 - val_mean_absolute_error: 25.2984\n",
      "Epoch 69/100\n",
      "33/33 [==============================] - 0s 7ms/step - loss: 0.3446 - mean_absolute_error: 0.3410 - val_loss: 787.5020 - val_mean_absolute_error: 24.4938\n",
      "Epoch 70/100\n",
      "33/33 [==============================] - 0s 7ms/step - loss: 0.3045 - mean_absolute_error: 0.3205 - val_loss: 821.2906 - val_mean_absolute_error: 25.1063\n",
      "Epoch 71/100\n",
      "33/33 [==============================] - 0s 8ms/step - loss: 0.2757 - mean_absolute_error: 0.3032 - val_loss: 804.9564 - val_mean_absolute_error: 24.8021\n",
      "Epoch 72/100\n",
      "33/33 [==============================] - 0s 7ms/step - loss: 0.3071 - mean_absolute_error: 0.3226 - val_loss: 808.9452 - val_mean_absolute_error: 24.8722\n",
      "Epoch 73/100\n",
      "33/33 [==============================] - 0s 7ms/step - loss: 0.3334 - mean_absolute_error: 0.3327 - val_loss: 827.6928 - val_mean_absolute_error: 25.2804\n",
      "Epoch 74/100\n",
      "33/33 [==============================] - 0s 8ms/step - loss: 0.3092 - mean_absolute_error: 0.3223 - val_loss: 823.9528 - val_mean_absolute_error: 25.1869\n",
      "Epoch 75/100\n",
      "33/33 [==============================] - 0s 8ms/step - loss: 0.3665 - mean_absolute_error: 0.3498 - val_loss: 810.6077 - val_mean_absolute_error: 24.8870\n",
      "Epoch 76/100\n",
      "33/33 [==============================] - 0s 8ms/step - loss: 0.3034 - mean_absolute_error: 0.3193 - val_loss: 810.4730 - val_mean_absolute_error: 24.8798\n",
      "Epoch 77/100\n",
      "33/33 [==============================] - 0s 7ms/step - loss: 0.3024 - mean_absolute_error: 0.3127 - val_loss: 834.5818 - val_mean_absolute_error: 25.3007\n",
      "Epoch 78/100\n",
      "33/33 [==============================] - 0s 8ms/step - loss: 0.2839 - mean_absolute_error: 0.3055 - val_loss: 827.0485 - val_mean_absolute_error: 25.1938\n",
      "Epoch 79/100\n",
      "33/33 [==============================] - 0s 7ms/step - loss: 0.3388 - mean_absolute_error: 0.3391 - val_loss: 809.4232 - val_mean_absolute_error: 24.8549\n",
      "Epoch 80/100\n",
      "33/33 [==============================] - 0s 7ms/step - loss: 0.4979 - mean_absolute_error: 0.4095 - val_loss: 861.9274 - val_mean_absolute_error: 25.7835\n",
      "Epoch 81/100\n",
      "33/33 [==============================] - 0s 7ms/step - loss: 0.2916 - mean_absolute_error: 0.3109 - val_loss: 869.9447 - val_mean_absolute_error: 25.8963\n",
      "Epoch 82/100\n",
      "33/33 [==============================] - 0s 7ms/step - loss: 0.3088 - mean_absolute_error: 0.3147 - val_loss: 832.0706 - val_mean_absolute_error: 25.2352\n",
      "Epoch 83/100\n",
      "33/33 [==============================] - 0s 8ms/step - loss: 0.2742 - mean_absolute_error: 0.3043 - val_loss: 830.7606 - val_mean_absolute_error: 25.2170\n",
      "Epoch 84/100\n",
      "33/33 [==============================] - 0s 7ms/step - loss: 0.2718 - mean_absolute_error: 0.2999 - val_loss: 841.1511 - val_mean_absolute_error: 25.4287\n",
      "Epoch 85/100\n",
      "33/33 [==============================] - 0s 7ms/step - loss: 0.3013 - mean_absolute_error: 0.3125 - val_loss: 813.2887 - val_mean_absolute_error: 24.9427\n",
      "Epoch 86/100\n",
      "33/33 [==============================] - 0s 7ms/step - loss: 0.3081 - mean_absolute_error: 0.3240 - val_loss: 810.5228 - val_mean_absolute_error: 24.8730\n",
      "Epoch 87/100\n",
      "33/33 [==============================] - 0s 7ms/step - loss: 0.2980 - mean_absolute_error: 0.3149 - val_loss: 812.6433 - val_mean_absolute_error: 24.9280\n",
      "Epoch 88/100\n",
      "33/33 [==============================] - 0s 7ms/step - loss: 0.3001 - mean_absolute_error: 0.3210 - val_loss: 805.1041 - val_mean_absolute_error: 24.8108\n",
      "Epoch 89/100\n",
      "33/33 [==============================] - 0s 7ms/step - loss: 0.2856 - mean_absolute_error: 0.3079 - val_loss: 826.9310 - val_mean_absolute_error: 25.2270\n",
      "Epoch 90/100\n",
      "33/33 [==============================] - 0s 7ms/step - loss: 0.3039 - mean_absolute_error: 0.3115 - val_loss: 803.6877 - val_mean_absolute_error: 24.7494\n",
      "Epoch 91/100\n",
      "33/33 [==============================] - 0s 7ms/step - loss: 0.2842 - mean_absolute_error: 0.3125 - val_loss: 796.9326 - val_mean_absolute_error: 24.7459\n",
      "Epoch 92/100\n",
      "33/33 [==============================] - 0s 8ms/step - loss: 0.2899 - mean_absolute_error: 0.3108 - val_loss: 804.4203 - val_mean_absolute_error: 24.8039\n",
      "Epoch 93/100\n",
      "33/33 [==============================] - 0s 7ms/step - loss: 0.2778 - mean_absolute_error: 0.3079 - val_loss: 828.5955 - val_mean_absolute_error: 25.3524\n",
      "Epoch 94/100\n",
      "33/33 [==============================] - 0s 7ms/step - loss: 0.3290 - mean_absolute_error: 0.3310 - val_loss: 833.2538 - val_mean_absolute_error: 25.4215\n",
      "Epoch 95/100\n",
      "33/33 [==============================] - 0s 7ms/step - loss: 0.3239 - mean_absolute_error: 0.3292 - val_loss: 794.5641 - val_mean_absolute_error: 24.6611\n",
      "Epoch 96/100\n",
      "33/33 [==============================] - 0s 7ms/step - loss: 0.2807 - mean_absolute_error: 0.3065 - val_loss: 777.6233 - val_mean_absolute_error: 24.3221\n",
      "Epoch 97/100\n",
      "33/33 [==============================] - 0s 8ms/step - loss: 0.2958 - mean_absolute_error: 0.3168 - val_loss: 787.8397 - val_mean_absolute_error: 24.5371\n",
      "Epoch 98/100\n",
      "33/33 [==============================] - 0s 7ms/step - loss: 0.2775 - mean_absolute_error: 0.3071 - val_loss: 779.1847 - val_mean_absolute_error: 24.3926\n",
      "Epoch 99/100\n"
     ]
    },
    {
     "name": "stdout",
     "output_type": "stream",
     "text": [
      "\r",
      " 1/33 [..............................] - ETA: 0s - loss: 0.0902 - mean_absolute_error: 0.1853"
     ]
    }
   ],
   "source": [
    "###  (3days in the past) 3 inputs and 1 feature(close), 64 neurons , relu,  \n",
    "## mse = mean squared error\n",
    "## 100 runs\n",
    "\n",
    "model = Sequential([layers.Input((3, 1)),\n",
    "                    layers.LSTM(64),\n",
    "                    layers.Dense(32, activation='relu'),\n",
    "                    layers.Dense(32, activation='relu'),\n",
    "                    layers.Dense(1)])\n",
    "\n",
    "model.compile(loss='mse', \n",
    "              optimizer=Adam(learning_rate=0.001),\n",
    "              metrics=['mean_absolute_error'])\n",
    "\n",
    "model.fit(X_train, y_train, validation_data=(X_val, y_val), epochs=100)"
   ]
  },
  {
   "cell_type": "code",
   "execution_count": null,
   "id": "1aa04726",
   "metadata": {},
   "outputs": [],
   "source": []
  },
  {
   "cell_type": "code",
   "execution_count": null,
   "id": "2ba9f866",
   "metadata": {},
   "outputs": [],
   "source": []
  },
  {
   "cell_type": "code",
   "execution_count": null,
   "id": "8b5e10ba",
   "metadata": {},
   "outputs": [],
   "source": []
  },
  {
   "cell_type": "code",
   "execution_count": null,
   "id": "a2eebbe5",
   "metadata": {},
   "outputs": [],
   "source": [
    "import neptune.new as neptune\n",
    "import os"
   ]
  },
  {
   "cell_type": "code",
   "execution_count": null,
   "id": "2078cb64",
   "metadata": {},
   "outputs": [],
   "source": [
    "import pandas as pd\n",
    "import numpy as np"
   ]
  },
  {
   "cell_type": "code",
   "execution_count": null,
   "id": "d8b65b26",
   "metadata": {},
   "outputs": [],
   "source": [
    "from datetime import date\n",
    "from matplotlib import pyplot as plt\n",
    "\n",
    "from sklearn.preprocessing import MinMaxScaler, StandardScaler\n",
    "from keras.models import Sequential, Model\n",
    "from keras.models import Model\n",
    "from keras.layers import Dense, Dropout, LSTM, Input, Activation, concatenate\n",
    "\n",
    "import tensorflow as tf "
   ]
  },
  {
   "cell_type": "code",
   "execution_count": null,
   "id": "422eec37",
   "metadata": {},
   "outputs": [],
   "source": [
    "import matplotlib.pyplot as plt\n",
    "import pandas as pd\n",
    "import datetime as dt"
   ]
  },
  {
   "cell_type": "code",
   "execution_count": null,
   "id": "9a03b065",
   "metadata": {},
   "outputs": [],
   "source": []
  },
  {
   "cell_type": "code",
   "execution_count": null,
   "id": "1faac126",
   "metadata": {},
   "outputs": [],
   "source": []
  },
  {
   "cell_type": "code",
   "execution_count": null,
   "id": "8300bfe3",
   "metadata": {},
   "outputs": [],
   "source": []
  },
  {
   "cell_type": "code",
   "execution_count": null,
   "id": "168b7502",
   "metadata": {},
   "outputs": [],
   "source": []
  }
 ],
 "metadata": {
  "kernelspec": {
   "display_name": "mlenv",
   "language": "python",
   "name": "mlenv"
  },
  "language_info": {
   "codemirror_mode": {
    "name": "ipython",
    "version": 3
   },
   "file_extension": ".py",
   "mimetype": "text/x-python",
   "name": "python",
   "nbconvert_exporter": "python",
   "pygments_lexer": "ipython3",
   "version": "3.7.13"
  }
 },
 "nbformat": 4,
 "nbformat_minor": 5
}
