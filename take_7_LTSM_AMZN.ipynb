{
 "cells": [
  {
   "cell_type": "code",
   "execution_count": 2,
   "id": "8b5fa349",
   "metadata": {},
   "outputs": [],
   "source": [
    "import numpy as np\n",
    "import pandas as pd\n",
    "import matplotlib.pyplot as plt\n",
    "from keras.models import Sequential\n",
    "from keras.layers import Dense, LSTM\n",
    "import math\n",
    "from sklearn.preprocessing import MinMaxScaler"
   ]
  },
  {
   "cell_type": "code",
   "execution_count": 20,
   "id": "b27e06be",
   "metadata": {},
   "outputs": [],
   "source": [
    "#load the data \n",
    "amzn_df = pd.read_csv('AMZN_14_22.csv')"
   ]
  },
  {
   "cell_type": "code",
   "execution_count": 21,
   "id": "fd08047b",
   "metadata": {},
   "outputs": [
    {
     "data": {
      "text/html": [
       "<div>\n",
       "<style scoped>\n",
       "    .dataframe tbody tr th:only-of-type {\n",
       "        vertical-align: middle;\n",
       "    }\n",
       "\n",
       "    .dataframe tbody tr th {\n",
       "        vertical-align: top;\n",
       "    }\n",
       "\n",
       "    .dataframe thead th {\n",
       "        text-align: right;\n",
       "    }\n",
       "</style>\n",
       "<table border=\"1\" class=\"dataframe\">\n",
       "  <thead>\n",
       "    <tr style=\"text-align: right;\">\n",
       "      <th></th>\n",
       "      <th>Date</th>\n",
       "      <th>Open</th>\n",
       "      <th>High</th>\n",
       "      <th>Low</th>\n",
       "      <th>Close</th>\n",
       "      <th>Adj Close</th>\n",
       "      <th>Volume</th>\n",
       "    </tr>\n",
       "  </thead>\n",
       "  <tbody>\n",
       "    <tr>\n",
       "      <th>0</th>\n",
       "      <td>2014-01-02</td>\n",
       "      <td>19.940001</td>\n",
       "      <td>19.9680</td>\n",
       "      <td>19.701000</td>\n",
       "      <td>19.898500</td>\n",
       "      <td>19.898500</td>\n",
       "      <td>42756000</td>\n",
       "    </tr>\n",
       "    <tr>\n",
       "      <th>1</th>\n",
       "      <td>2014-01-03</td>\n",
       "      <td>19.914499</td>\n",
       "      <td>20.1355</td>\n",
       "      <td>19.811001</td>\n",
       "      <td>19.822001</td>\n",
       "      <td>19.822001</td>\n",
       "      <td>44204000</td>\n",
       "    </tr>\n",
       "    <tr>\n",
       "      <th>2</th>\n",
       "      <td>2014-01-06</td>\n",
       "      <td>19.792500</td>\n",
       "      <td>19.8500</td>\n",
       "      <td>19.421000</td>\n",
       "      <td>19.681499</td>\n",
       "      <td>19.681499</td>\n",
       "      <td>63412000</td>\n",
       "    </tr>\n",
       "    <tr>\n",
       "      <th>3</th>\n",
       "      <td>2014-01-07</td>\n",
       "      <td>19.752001</td>\n",
       "      <td>19.9235</td>\n",
       "      <td>19.714500</td>\n",
       "      <td>19.901501</td>\n",
       "      <td>19.901501</td>\n",
       "      <td>38320000</td>\n",
       "    </tr>\n",
       "    <tr>\n",
       "      <th>4</th>\n",
       "      <td>2014-01-08</td>\n",
       "      <td>19.923500</td>\n",
       "      <td>20.1500</td>\n",
       "      <td>19.802000</td>\n",
       "      <td>20.096001</td>\n",
       "      <td>20.096001</td>\n",
       "      <td>46330000</td>\n",
       "    </tr>\n",
       "  </tbody>\n",
       "</table>\n",
       "</div>"
      ],
      "text/plain": [
       "         Date       Open     High        Low      Close  Adj Close    Volume\n",
       "0  2014-01-02  19.940001  19.9680  19.701000  19.898500  19.898500  42756000\n",
       "1  2014-01-03  19.914499  20.1355  19.811001  19.822001  19.822001  44204000\n",
       "2  2014-01-06  19.792500  19.8500  19.421000  19.681499  19.681499  63412000\n",
       "3  2014-01-07  19.752001  19.9235  19.714500  19.901501  19.901501  38320000\n",
       "4  2014-01-08  19.923500  20.1500  19.802000  20.096001  20.096001  46330000"
      ]
     },
     "execution_count": 21,
     "metadata": {},
     "output_type": "execute_result"
    }
   ],
   "source": [
    "amzn_df.head()"
   ]
  },
  {
   "cell_type": "code",
   "execution_count": 22,
   "id": "60e0610f",
   "metadata": {},
   "outputs": [
    {
     "name": "stdout",
     "output_type": "stream",
     "text": [
      "            Date        Open        High         Low       Close   Adj Close  \\\n",
      "0     2014-01-02   19.940001   19.968000   19.701000   19.898500   19.898500   \n",
      "1     2014-01-03   19.914499   20.135500   19.811001   19.822001   19.822001   \n",
      "2     2014-01-06   19.792500   19.850000   19.421000   19.681499   19.681499   \n",
      "3     2014-01-07   19.752001   19.923500   19.714500   19.901501   19.901501   \n",
      "4     2014-01-08   19.923500   20.150000   19.802000   20.096001   20.096001   \n",
      "...          ...         ...         ...         ...         ...         ...   \n",
      "2169  2022-08-15  142.800003  143.759995  141.490005  143.179993  143.179993   \n",
      "2170  2022-08-16  143.910004  146.570007  142.000000  144.779999  144.779999   \n",
      "2171  2022-08-17  142.690002  143.380005  140.779999  142.100006  142.100006   \n",
      "2172  2022-08-18  141.320007  142.770004  140.380005  142.300003  142.300003   \n",
      "2173  2022-08-19  140.470001  141.110001  137.910004  138.229996  138.229996   \n",
      "\n",
      "        Volume  \n",
      "0     42756000  \n",
      "1     44204000  \n",
      "2     63412000  \n",
      "3     38320000  \n",
      "4     46330000  \n",
      "...        ...  \n",
      "2169  39014600  \n",
      "2170  59102900  \n",
      "2171  48149800  \n",
      "2172  37458700  \n",
      "2173  47727300  \n",
      "\n",
      "[2174 rows x 7 columns]\n"
     ]
    }
   ],
   "source": [
    "#Inspect it \n",
    "print(amzn_df)"
   ]
  },
  {
   "cell_type": "code",
   "execution_count": 23,
   "id": "c4f2ded3",
   "metadata": {},
   "outputs": [
    {
     "name": "stdout",
     "output_type": "stream",
     "text": [
      "              Open         High          Low        Close    Adj Close  \\\n",
      "count  2174.000000  2174.000000  2174.000000  2174.000000  2174.000000   \n",
      "mean     79.225588    80.108009    78.241598    79.189630    79.189630   \n",
      "std      52.956121    53.598411    52.238941    52.902640    52.902640   \n",
      "min      14.220000    14.521000    14.200000    14.347500    14.347500   \n",
      "25%      31.904250    32.308751    31.369500    31.788000    31.788000   \n",
      "50%      77.074749    77.954750    75.480247    76.701504    76.701504   \n",
      "75%     117.067497   119.025374   115.342375   116.446749   116.446749   \n",
      "max     187.199997   188.654007   184.839493   186.570496   186.570496   \n",
      "\n",
      "             Volume  \n",
      "count  2.174000e+03  \n",
      "mean   8.302917e+07  \n",
      "std    4.299692e+07  \n",
      "min    1.762600e+07  \n",
      "25%    5.561950e+07  \n",
      "50%    7.138700e+07  \n",
      "75%    9.668550e+07  \n",
      "max    4.771220e+08  \n"
     ]
    }
   ],
   "source": [
    "#print the summary \n",
    "print(amzn_df.describe())"
   ]
  },
  {
   "cell_type": "code",
   "execution_count": 7,
   "id": "80e018cc",
   "metadata": {},
   "outputs": [],
   "source": [
    "# load data set 2\n",
    "amzn_df2 = pd.read_csv('AMZN_2020_2022.csv')"
   ]
  },
  {
   "cell_type": "code",
   "execution_count": 8,
   "id": "3095febb",
   "metadata": {},
   "outputs": [
    {
     "data": {
      "text/html": [
       "<div>\n",
       "<style scoped>\n",
       "    .dataframe tbody tr th:only-of-type {\n",
       "        vertical-align: middle;\n",
       "    }\n",
       "\n",
       "    .dataframe tbody tr th {\n",
       "        vertical-align: top;\n",
       "    }\n",
       "\n",
       "    .dataframe thead th {\n",
       "        text-align: right;\n",
       "    }\n",
       "</style>\n",
       "<table border=\"1\" class=\"dataframe\">\n",
       "  <thead>\n",
       "    <tr style=\"text-align: right;\">\n",
       "      <th></th>\n",
       "      <th>Date</th>\n",
       "      <th>Open</th>\n",
       "      <th>High</th>\n",
       "      <th>Low</th>\n",
       "      <th>Close</th>\n",
       "      <th>Adj Close</th>\n",
       "      <th>Volume</th>\n",
       "    </tr>\n",
       "  </thead>\n",
       "  <tbody>\n",
       "    <tr>\n",
       "      <th>0</th>\n",
       "      <td>2020-01-17</td>\n",
       "      <td>94.294502</td>\n",
       "      <td>94.332001</td>\n",
       "      <td>92.862503</td>\n",
       "      <td>93.236000</td>\n",
       "      <td>93.236000</td>\n",
       "      <td>79946000</td>\n",
       "    </tr>\n",
       "    <tr>\n",
       "      <th>1</th>\n",
       "      <td>2020-01-21</td>\n",
       "      <td>93.250000</td>\n",
       "      <td>94.713501</td>\n",
       "      <td>93.000000</td>\n",
       "      <td>94.599998</td>\n",
       "      <td>94.599998</td>\n",
       "      <td>74156000</td>\n",
       "    </tr>\n",
       "    <tr>\n",
       "      <th>2</th>\n",
       "      <td>2020-01-22</td>\n",
       "      <td>94.804497</td>\n",
       "      <td>95.125000</td>\n",
       "      <td>94.167000</td>\n",
       "      <td>94.373001</td>\n",
       "      <td>94.373001</td>\n",
       "      <td>64326000</td>\n",
       "    </tr>\n",
       "    <tr>\n",
       "      <th>3</th>\n",
       "      <td>2020-01-23</td>\n",
       "      <td>94.255501</td>\n",
       "      <td>94.499001</td>\n",
       "      <td>93.638000</td>\n",
       "      <td>94.228996</td>\n",
       "      <td>94.228996</td>\n",
       "      <td>49692000</td>\n",
       "    </tr>\n",
       "    <tr>\n",
       "      <th>4</th>\n",
       "      <td>2020-01-24</td>\n",
       "      <td>94.568497</td>\n",
       "      <td>94.749496</td>\n",
       "      <td>92.372002</td>\n",
       "      <td>93.082001</td>\n",
       "      <td>93.082001</td>\n",
       "      <td>75324000</td>\n",
       "    </tr>\n",
       "  </tbody>\n",
       "</table>\n",
       "</div>"
      ],
      "text/plain": [
       "         Date       Open       High        Low      Close  Adj Close    Volume\n",
       "0  2020-01-17  94.294502  94.332001  92.862503  93.236000  93.236000  79946000\n",
       "1  2020-01-21  93.250000  94.713501  93.000000  94.599998  94.599998  74156000\n",
       "2  2020-01-22  94.804497  95.125000  94.167000  94.373001  94.373001  64326000\n",
       "3  2020-01-23  94.255501  94.499001  93.638000  94.228996  94.228996  49692000\n",
       "4  2020-01-24  94.568497  94.749496  92.372002  93.082001  93.082001  75324000"
      ]
     },
     "execution_count": 8,
     "metadata": {},
     "output_type": "execute_result"
    }
   ],
   "source": [
    "amzn_df2.head()"
   ]
  },
  {
   "cell_type": "code",
   "execution_count": 9,
   "id": "53579188",
   "metadata": {},
   "outputs": [
    {
     "name": "stdout",
     "output_type": "stream",
     "text": [
      "           Date        Open        High         Low       Close   Adj Close  \\\n",
      "0    2020-01-17   94.294502   94.332001   92.862503   93.236000   93.236000   \n",
      "1    2020-01-21   93.250000   94.713501   93.000000   94.599998   94.599998   \n",
      "2    2020-01-22   94.804497   95.125000   94.167000   94.373001   94.373001   \n",
      "3    2020-01-23   94.255501   94.499001   93.638000   94.228996   94.228996   \n",
      "4    2020-01-24   94.568497   94.749496   92.372002   93.082001   93.082001   \n",
      "..          ...         ...         ...         ...         ...         ...   \n",
      "645  2022-08-10  142.899994  144.600006  141.009995  142.690002  142.690002   \n",
      "646  2022-08-11  143.860001  144.490005  139.759995  140.639999  140.639999   \n",
      "647  2022-08-12  142.050003  143.570007  140.119995  143.550003  143.550003   \n",
      "648  2022-08-15  142.800003  143.759995  141.490005  143.179993  143.179993   \n",
      "649  2022-08-16  143.910004  146.570007  142.000000  144.779999  144.779999   \n",
      "\n",
      "       Volume  \n",
      "0    79946000  \n",
      "1    74156000  \n",
      "2    64326000  \n",
      "3    49692000  \n",
      "4    75324000  \n",
      "..        ...  \n",
      "645  54773800  \n",
      "646  44867300  \n",
      "647  47582800  \n",
      "648  39014600  \n",
      "649  59102900  \n",
      "\n",
      "[650 rows x 7 columns]\n"
     ]
    }
   ],
   "source": [
    "#Inspect the 2020-2022\n",
    "print(amzn_df2)"
   ]
  },
  {
   "cell_type": "code",
   "execution_count": 10,
   "id": "ab940a43",
   "metadata": {},
   "outputs": [
    {
     "name": "stdout",
     "output_type": "stream",
     "text": [
      "             Open        High         Low       Close   Adj Close  \\\n",
      "count  650.000000  650.000000  650.000000  650.000000  650.000000   \n",
      "mean   148.333415  150.234915  146.300269  148.263115  148.263115   \n",
      "std     24.977077   24.857995   24.878893   24.805564   24.805564   \n",
      "min     82.075500   87.972504   81.301498   83.830498   83.830498   \n",
      "25%    130.089126  131.135879  126.390375  128.986252  128.986252   \n",
      "50%    157.837006  159.479996  155.691498  157.618248  157.618248   \n",
      "75%    165.937496  167.603248  164.344620  165.634747  165.634747   \n",
      "max    187.199997  188.654007  184.839493  186.570496  186.570496   \n",
      "\n",
      "             Volume  \n",
      "count  6.500000e+02  \n",
      "mean   8.249905e+07  \n",
      "std    3.595608e+07  \n",
      "min    2.903800e+07  \n",
      "25%    5.858200e+07  \n",
      "50%    7.250700e+07  \n",
      "75%    9.794900e+07  \n",
      "max    3.113460e+08  \n"
     ]
    }
   ],
   "source": [
    "#print the summary \n",
    "print(amzn_df2.describe())"
   ]
  },
  {
   "cell_type": "code",
   "execution_count": 24,
   "id": "392b76f2",
   "metadata": {},
   "outputs": [],
   "source": [
    "#now prep the data for 2014-2019\n",
    "amzn_df.set_index(pd.DatetimeIndex(amzn_df['Date']), inplace=True)"
   ]
  },
  {
   "cell_type": "code",
   "execution_count": 12,
   "id": "f36ad84a",
   "metadata": {},
   "outputs": [],
   "source": [
    "#now prep the data for 2020-2022\n",
    "amzn_df2.set_index(pd.DatetimeIndex(amzn_df2['Date']), inplace=True)"
   ]
  },
  {
   "cell_type": "code",
   "execution_count": 25,
   "id": "ea4ba7fe",
   "metadata": {},
   "outputs": [],
   "source": [
    "#Keep the close for 2014-19\n",
    "amzn_df = amzn_df[['Close']]"
   ]
  },
  {
   "cell_type": "code",
   "execution_count": 14,
   "id": "b2e1df5c",
   "metadata": {},
   "outputs": [
    {
     "name": "stdout",
     "output_type": "stream",
     "text": [
      "                Close\n",
      "Date                 \n",
      "2014-01-17  19.980499\n",
      "2014-01-21  20.352501\n",
      "2014-01-22  20.226999\n",
      "2014-01-23  19.993500\n",
      "2014-01-24  19.379999\n",
      "...               ...\n",
      "2019-01-10  82.810997\n",
      "2019-01-11  82.028000\n",
      "2019-01-14  80.860497\n",
      "2019-01-15  83.727997\n",
      "2019-01-16  84.189003\n",
      "\n",
      "[1258 rows x 1 columns]\n"
     ]
    }
   ],
   "source": [
    "print(amzn_df)"
   ]
  },
  {
   "cell_type": "code",
   "execution_count": 15,
   "id": "d1b561a2",
   "metadata": {},
   "outputs": [
    {
     "name": "stdout",
     "output_type": "stream",
     "text": [
      "2019-01-16 00:00:00\n"
     ]
    }
   ],
   "source": [
    "print (amzn_df.index.max())"
   ]
  },
  {
   "cell_type": "code",
   "execution_count": 19,
   "id": "87d329a5",
   "metadata": {},
   "outputs": [
    {
     "name": "stdout",
     "output_type": "stream",
     "text": [
      "2020-01-17 00:00:00\n"
     ]
    }
   ],
   "source": [
    "print (amzn_df2.index.min())"
   ]
  },
  {
   "cell_type": "code",
   "execution_count": 16,
   "id": "b9c84d1e",
   "metadata": {},
   "outputs": [],
   "source": [
    "#Keep the close 2020-22\n",
    "amzn_df2 = amzn_df2[['Close']]"
   ]
  },
  {
   "cell_type": "code",
   "execution_count": 17,
   "id": "6215839d",
   "metadata": {},
   "outputs": [
    {
     "name": "stdout",
     "output_type": "stream",
     "text": [
      "                 Close\n",
      "Date                  \n",
      "2020-01-17   93.236000\n",
      "2020-01-21   94.599998\n",
      "2020-01-22   94.373001\n",
      "2020-01-23   94.228996\n",
      "2020-01-24   93.082001\n",
      "...                ...\n",
      "2022-08-10  142.690002\n",
      "2022-08-11  140.639999\n",
      "2022-08-12  143.550003\n",
      "2022-08-15  143.179993\n",
      "2022-08-16  144.779999\n",
      "\n",
      "[650 rows x 1 columns]\n"
     ]
    }
   ],
   "source": [
    "print(amzn_df2)"
   ]
  },
  {
   "cell_type": "code",
   "execution_count": 18,
   "id": "58d8c988",
   "metadata": {},
   "outputs": [],
   "source": [
    "# final_data = amzn_df2.plot('Date','Close', color='red')\n",
    "# new_data = final_data.head(60)\n",
    "# new_data.plot('Date','Close', color='green')\n",
    "# plt.show()\n",
    "\n",
    "# amzn_df2.plot('Close', 'Date', color='red')\n",
    "# plt.show()"
   ]
  },
  {
   "cell_type": "code",
   "execution_count": 52,
   "id": "1f0bdc95",
   "metadata": {},
   "outputs": [],
   "source": [
    "#okay what data set am i going to be using. that is what im am confused about. \n",
    "#lets try the 2014 data for shits and giggles \n",
    "\n",
    "data_14_19 = amzn_df.filter(['Close'])\n",
    "dataset_14_19 = data_14_19.values\n",
    "\n",
    "scaler = MinMaxScaler(feature_range=(0, 1))\n",
    "scaled_data = scaler.fit_transform(dataset_14_19)\n",
    "\n",
    "training_data_len =math.ceil(len(dataset_14_19) *.7)\n",
    "train_data =scaled_data[0:training_data_len , : ]\n",
    "\n",
    "\n",
    "X_train_data = []\n",
    "y_train_data = []\n",
    "\n",
    "for i in range(120,len(train_data)):\n",
    "    X_train_data=list(X_train_data)\n",
    "    y_train_data=list(y_train_data)\n",
    "    X_train_data.append(train_data[i-120:i,0])\n",
    "    y_train_data.append(train_data[i,0])\n",
    "    \n",
    "    X_train_data1, y_train_data1 = np.array(X_train_data), np.array(y_train_data)\n",
    "    \n",
    "    X_train_data2 = np.reshape(X_train_data1,(X_train_data1.shape[0],X_train_data1.shape[1],1))\n",
    "\n",
    "   \n",
    "    \n",
    "#60 = number of days \n",
    "# There will be a total of 60 values, 1st column will contain an index of 0-59\n",
    "# The second will have an index of 1-60 ++_\n",
    "# the y_train has the 60 st value on c1 and c2 will have 61++"
   ]
  },
  {
   "cell_type": "code",
   "execution_count": 36,
   "id": "43aa4acf",
   "metadata": {},
   "outputs": [],
   "source": [
    "#Lets build the LSTM MODEL \n",
    "\n",
    "model = Sequential()\n",
    "\n",
    "model.add(LSTM(units=50, return_sequences=True,input_shape=(X_train_data2.shape[1],1)))\n",
    "\n",
    "model.add(LSTM(units=50, return_sequences=False))\n",
    "\n",
    "model.add(Dense(units=25))\n",
    "\n",
    "model.add(Dense(units=1))\n",
    "\n",
    "\n",
    "#okay this example will have 2 LSTM layers w/50 neurons and 2 dense layers\n",
    "# plust one with 25 nuerons "
   ]
  },
  {
   "cell_type": "code",
   "execution_count": 37,
   "id": "d5f1458e",
   "metadata": {},
   "outputs": [
    {
     "name": "stdout",
     "output_type": "stream",
     "text": [
      "1402/1402 [==============================] - 60s 40ms/step - loss: 6.1153e-04\n"
     ]
    },
    {
     "data": {
      "text/plain": [
       "<keras.callbacks.History at 0x7f8153c24150>"
      ]
     },
     "execution_count": 37,
     "metadata": {},
     "output_type": "execute_result"
    }
   ],
   "source": [
    "# Comple the model \n",
    "\n",
    "model.compile(optimizer='adam', loss='mean_squared_error')\n",
    "\n",
    "model.fit(X_train_data2, y_train_data1, batch_size=1, epochs=1)"
   ]
  },
  {
   "cell_type": "code",
   "execution_count": 40,
   "id": "58fc061c",
   "metadata": {},
   "outputs": [
    {
     "name": "stdout",
     "output_type": "stream",
     "text": [
      "21/21 [==============================] - 1s 25ms/step\n"
     ]
    }
   ],
   "source": [
    "test_data = scaled_data[training_data_len -120: , : ]\n",
    "\n",
    "X_test = []\n",
    "\n",
    "y_test = dataset_14_19[training_data_len : , : ]\n",
    "\n",
    "for i in range(120,len(test_data)):\n",
    "    \n",
    "    X_test.append(test_data[i-120:i,0])\n",
    "\n",
    "X_test = np.array(X_test)\n",
    "\n",
    "X_test = np.reshape(X_test,(X_test.shape[0],X_test.shape[1],1))\n",
    "\n",
    "predictions = model.predict(X_test)\n",
    "\n",
    "predictions = scaler.inverse_transform(predictions)\n"
   ]
  },
  {
   "cell_type": "code",
   "execution_count": 41,
   "id": "5820609b",
   "metadata": {},
   "outputs": [],
   "source": [
    "# Error calculation where RMSE = root mean squared error \n",
    "\n",
    "rmse=np.sqrt(np.mean(((predictions-y_test)**2)))"
   ]
  },
  {
   "cell_type": "code",
   "execution_count": 42,
   "id": "87eca23d",
   "metadata": {},
   "outputs": [
    {
     "name": "stdout",
     "output_type": "stream",
     "text": [
      "13.393167576558882\n"
     ]
    }
   ],
   "source": [
    "print(rmse)"
   ]
  },
  {
   "cell_type": "code",
   "execution_count": 32,
   "id": "77253d30",
   "metadata": {},
   "outputs": [],
   "source": [
    "#OOOF okay the lower the value is to 0 the better\n",
    "# it indicates that the models p-value match the actual values from the data set \n",
    "# which in this case it does not. "
   ]
  },
  {
   "cell_type": "code",
   "execution_count": 43,
   "id": "a304a982",
   "metadata": {},
   "outputs": [
    {
     "name": "stderr",
     "output_type": "stream",
     "text": [
      "/Users/dashickscott/opt/anaconda3/envs/mlenv/lib/python3.7/site-packages/ipykernel_launcher.py:7: SettingWithCopyWarning: \n",
      "A value is trying to be set on a copy of a slice from a DataFrame.\n",
      "Try using .loc[row_indexer,col_indexer] = value instead\n",
      "\n",
      "See the caveats in the documentation: https://pandas.pydata.org/pandas-docs/stable/user_guide/indexing.html#returning-a-view-versus-a-copy\n",
      "  import sys\n"
     ]
    },
    {
     "data": {
      "image/png": "[encoded data removed]",
      "text/plain": [
       "<Figure size 432x288 with 1 Axes>"
      ]
     },
     "metadata": {
      "needs_background": "light"
     },
     "output_type": "display_data"
    }
   ],
   "source": [
    "#Predict and visualize \n",
    "\n",
    "train = amzn_df[:training_data_len]\n",
    "\n",
    "valid = amzn_df[training_data_len:]\n",
    "\n",
    "valid['Predictions'] = predictions\n",
    "\n",
    "plt.title('Model')\n",
    "\n",
    "plt.xlabel('Date')\n",
    "\n",
    "plt.ylabel('Close')\n",
    "\n",
    "plt.plot(train['Close'])\n",
    "\n",
    "plt.plot(valid[['Close', 'Predictions']])\n",
    "\n",
    "plt.legend(['Train', 'Val', 'Predictions'], loc='lower right')\n",
    "\n",
    "plt.show()\n"
   ]
  },
  {
   "cell_type": "code",
   "execution_count": 34,
   "id": "71eb336a",
   "metadata": {},
   "outputs": [
    {
     "data": {
      "text/plain": [
       "<AxesSubplot:xlabel='Date'>"
      ]
     },
     "execution_count": 34,
     "metadata": {},
     "output_type": "execute_result"
    },
    {
     "data": {
      "image/png": "[encoded data removed]",
      "text/plain": [
       "<Figure size 432x288 with 1 Axes>"
      ]
     },
     "metadata": {
      "needs_background": "light"
     },
     "output_type": "display_data"
    }
   ],
   "source": [
    "amzn_df.plot()"
   ]
  },
  {
   "cell_type": "code",
   "execution_count": 53,
   "id": "abf2b9bc",
   "metadata": {},
   "outputs": [
    {
     "data": {
      "text/plain": [
       "Date\n",
       "2014-01-02    19.898500\n",
       "2014-01-03    19.822001\n",
       "2014-01-06    19.681499\n",
       "2014-01-07    19.901501\n",
       "2014-01-08    20.096001\n",
       "                ...    \n",
       "2020-01-13    94.565002\n",
       "2020-01-14    93.472000\n",
       "2020-01-15    93.100998\n",
       "2020-01-16    93.897003\n",
       "2020-01-17    93.236000\n",
       "Name: Close, Length: 1522, dtype: float64"
      ]
     },
     "execution_count": 53,
     "metadata": {},
     "output_type": "execute_result"
    }
   ],
   "source": [
    "train['Close']"
   ]
  },
  {
   "cell_type": "code",
   "execution_count": 54,
   "id": "db2bf616",
   "metadata": {},
   "outputs": [
    {
     "data": {
      "text/html": [
       "<div>\n",
       "<style scoped>\n",
       "    .dataframe tbody tr th:only-of-type {\n",
       "        vertical-align: middle;\n",
       "    }\n",
       "\n",
       "    .dataframe tbody tr th {\n",
       "        vertical-align: top;\n",
       "    }\n",
       "\n",
       "    .dataframe thead th {\n",
       "        text-align: right;\n",
       "    }\n",
       "</style>\n",
       "<table border=\"1\" class=\"dataframe\">\n",
       "  <thead>\n",
       "    <tr style=\"text-align: right;\">\n",
       "      <th></th>\n",
       "      <th>Close</th>\n",
       "      <th>Predictions</th>\n",
       "    </tr>\n",
       "    <tr>\n",
       "      <th>Date</th>\n",
       "      <th></th>\n",
       "      <th></th>\n",
       "    </tr>\n",
       "  </thead>\n",
       "  <tbody>\n",
       "    <tr>\n",
       "      <th>2020-01-21</th>\n",
       "      <td>94.599998</td>\n",
       "      <td>91.400360</td>\n",
       "    </tr>\n",
       "    <tr>\n",
       "      <th>2020-01-22</th>\n",
       "      <td>94.373001</td>\n",
       "      <td>91.393188</td>\n",
       "    </tr>\n",
       "    <tr>\n",
       "      <th>2020-01-23</th>\n",
       "      <td>94.228996</td>\n",
       "      <td>91.417938</td>\n",
       "    </tr>\n",
       "    <tr>\n",
       "      <th>2020-01-24</th>\n",
       "      <td>93.082001</td>\n",
       "      <td>91.450394</td>\n",
       "    </tr>\n",
       "    <tr>\n",
       "      <th>2020-01-27</th>\n",
       "      <td>91.417000</td>\n",
       "      <td>91.405548</td>\n",
       "    </tr>\n",
       "    <tr>\n",
       "      <th>...</th>\n",
       "      <td>...</td>\n",
       "      <td>...</td>\n",
       "    </tr>\n",
       "    <tr>\n",
       "      <th>2022-08-15</th>\n",
       "      <td>143.179993</td>\n",
       "      <td>129.950592</td>\n",
       "    </tr>\n",
       "    <tr>\n",
       "      <th>2022-08-16</th>\n",
       "      <td>144.779999</td>\n",
       "      <td>130.714691</td>\n",
       "    </tr>\n",
       "    <tr>\n",
       "      <th>2022-08-17</th>\n",
       "      <td>142.100006</td>\n",
       "      <td>131.473175</td>\n",
       "    </tr>\n",
       "    <tr>\n",
       "      <th>2022-08-18</th>\n",
       "      <td>142.300003</td>\n",
       "      <td>131.983231</td>\n",
       "    </tr>\n",
       "    <tr>\n",
       "      <th>2022-08-19</th>\n",
       "      <td>138.229996</td>\n",
       "      <td>132.332947</td>\n",
       "    </tr>\n",
       "  </tbody>\n",
       "</table>\n",
       "<p>652 rows × 2 columns</p>\n",
       "</div>"
      ],
      "text/plain": [
       "                 Close  Predictions\n",
       "Date                               \n",
       "2020-01-21   94.599998    91.400360\n",
       "2020-01-22   94.373001    91.393188\n",
       "2020-01-23   94.228996    91.417938\n",
       "2020-01-24   93.082001    91.450394\n",
       "2020-01-27   91.417000    91.405548\n",
       "...                ...          ...\n",
       "2022-08-15  143.179993   129.950592\n",
       "2022-08-16  144.779999   130.714691\n",
       "2022-08-17  142.100006   131.473175\n",
       "2022-08-18  142.300003   131.983231\n",
       "2022-08-19  138.229996   132.332947\n",
       "\n",
       "[652 rows x 2 columns]"
      ]
     },
     "execution_count": 54,
     "metadata": {},
     "output_type": "execute_result"
    }
   ],
   "source": [
    "valid[['Close', 'Predictions']]"
   ]
  },
  {
   "cell_type": "code",
   "execution_count": 59,
   "id": "5110febe",
   "metadata": {},
   "outputs": [
    {
     "data": {
      "text/html": [
       "<div>\n",
       "<style scoped>\n",
       "    .dataframe tbody tr th:only-of-type {\n",
       "        vertical-align: middle;\n",
       "    }\n",
       "\n",
       "    .dataframe tbody tr th {\n",
       "        vertical-align: top;\n",
       "    }\n",
       "\n",
       "    .dataframe thead th {\n",
       "        text-align: right;\n",
       "    }\n",
       "</style>\n",
       "<table border=\"1\" class=\"dataframe\">\n",
       "  <thead>\n",
       "    <tr style=\"text-align: right;\">\n",
       "      <th></th>\n",
       "      <th>Close</th>\n",
       "      <th>Predictions</th>\n",
       "    </tr>\n",
       "    <tr>\n",
       "      <th>Date</th>\n",
       "      <th></th>\n",
       "      <th></th>\n",
       "    </tr>\n",
       "  </thead>\n",
       "  <tbody>\n",
       "    <tr>\n",
       "      <th>2014-01-02</th>\n",
       "      <td>19.898500</td>\n",
       "      <td>NaN</td>\n",
       "    </tr>\n",
       "    <tr>\n",
       "      <th>2014-01-03</th>\n",
       "      <td>19.822001</td>\n",
       "      <td>NaN</td>\n",
       "    </tr>\n",
       "    <tr>\n",
       "      <th>2014-01-06</th>\n",
       "      <td>19.681499</td>\n",
       "      <td>NaN</td>\n",
       "    </tr>\n",
       "    <tr>\n",
       "      <th>2014-01-07</th>\n",
       "      <td>19.901501</td>\n",
       "      <td>NaN</td>\n",
       "    </tr>\n",
       "    <tr>\n",
       "      <th>2014-01-08</th>\n",
       "      <td>20.096001</td>\n",
       "      <td>NaN</td>\n",
       "    </tr>\n",
       "    <tr>\n",
       "      <th>...</th>\n",
       "      <td>...</td>\n",
       "      <td>...</td>\n",
       "    </tr>\n",
       "    <tr>\n",
       "      <th>2022-08-15</th>\n",
       "      <td>143.179993</td>\n",
       "      <td>129.950592</td>\n",
       "    </tr>\n",
       "    <tr>\n",
       "      <th>2022-08-16</th>\n",
       "      <td>144.779999</td>\n",
       "      <td>130.714691</td>\n",
       "    </tr>\n",
       "    <tr>\n",
       "      <th>2022-08-17</th>\n",
       "      <td>142.100006</td>\n",
       "      <td>131.473175</td>\n",
       "    </tr>\n",
       "    <tr>\n",
       "      <th>2022-08-18</th>\n",
       "      <td>142.300003</td>\n",
       "      <td>131.983231</td>\n",
       "    </tr>\n",
       "    <tr>\n",
       "      <th>2022-08-19</th>\n",
       "      <td>138.229996</td>\n",
       "      <td>132.332947</td>\n",
       "    </tr>\n",
       "  </tbody>\n",
       "</table>\n",
       "<p>2174 rows × 2 columns</p>\n",
       "</div>"
      ],
      "text/plain": [
       "                 Close  Predictions\n",
       "Date                               \n",
       "2014-01-02   19.898500          NaN\n",
       "2014-01-03   19.822001          NaN\n",
       "2014-01-06   19.681499          NaN\n",
       "2014-01-07   19.901501          NaN\n",
       "2014-01-08   20.096001          NaN\n",
       "...                ...          ...\n",
       "2022-08-15  143.179993   129.950592\n",
       "2022-08-16  144.779999   130.714691\n",
       "2022-08-17  142.100006   131.473175\n",
       "2022-08-18  142.300003   131.983231\n",
       "2022-08-19  138.229996   132.332947\n",
       "\n",
       "[2174 rows x 2 columns]"
      ]
     },
     "execution_count": 59,
     "metadata": {},
     "output_type": "execute_result"
    }
   ],
   "source": [
    "complete_df = pd.concat([train[['Close']], valid[['Close', 'Predictions']]])\n",
    "complete_df"
   ]
  },
  {
   "cell_type": "code",
   "execution_count": null,
   "id": "283c154d",
   "metadata": {},
   "outputs": [],
   "source": []
  },
  {
   "cell_type": "code",
   "execution_count": null,
   "id": "5d4ec062",
   "metadata": {},
   "outputs": [],
   "source": []
  },
  {
   "cell_type": "code",
   "execution_count": null,
   "id": "a6fd8811",
   "metadata": {},
   "outputs": [],
   "source": []
  },
  {
   "cell_type": "code",
   "execution_count": null,
   "id": "d727d13d",
   "metadata": {},
   "outputs": [],
   "source": [
    "#Predict 2020-2022 based off of amazon_df"
   ]
  },
  {
   "cell_type": "code",
   "execution_count": null,
   "id": "f0500286",
   "metadata": {},
   "outputs": [],
   "source": []
  },
  {
   "cell_type": "code",
   "execution_count": null,
   "id": "5ab00953",
   "metadata": {},
   "outputs": [],
   "source": [
    "#Plot predicted amazon_df 2020-2022 against actual amazon_df2 "
   ]
  },
  {
   "cell_type": "code",
   "execution_count": null,
   "id": "4313b2ee",
   "metadata": {},
   "outputs": [],
   "source": []
  },
  {
   "cell_type": "code",
   "execution_count": null,
   "id": "b03951b5",
   "metadata": {},
   "outputs": [],
   "source": [
    "#Create a Variable to predict 2020-2022\n",
    "prediction_days = 599\n",
    "\n",
    "# Create an new column that targets the data and \n",
    "# predict values of x day away from the current price \n",
    "amzn_df['Actual Prediction'] = amzn_df[['Close']].shift(-prediction_days)\n"
   ]
  },
  {
   "cell_type": "code",
   "execution_count": null,
   "id": "c673f9fb",
   "metadata": {},
   "outputs": [],
   "source": [
    "#print the new column for 2014-19\n",
    "amzn_df"
   ]
  },
  {
   "cell_type": "code",
   "execution_count": null,
   "id": "ccdd4d07",
   "metadata": {},
   "outputs": [],
   "source": [
    "# Create independent dataset X and create a numpy array\n",
    "X=X = np.array(amzn_df[['Close']])"
   ]
  },
  {
   "cell_type": "code",
   "execution_count": null,
   "id": "cf96ec53",
   "metadata": {},
   "outputs": [],
   "source": [
    "#Git rid of any Nan/rows \n",
    "X=X[:-prediction_days]\n",
    "#print(X)"
   ]
  },
  {
   "cell_type": "code",
   "execution_count": null,
   "id": "e229756a",
   "metadata": {},
   "outputs": [],
   "source": [
    "#Creat the dependetnt data for Y\n",
    "Y=amzn_df['Actual Prediction'].values\n"
   ]
  },
  {
   "cell_type": "code",
   "execution_count": null,
   "id": "3109d5ac",
   "metadata": {},
   "outputs": [],
   "source": [
    "Y=Y[:-prediction_days]\n",
    "# print(Y)"
   ]
  },
  {
   "cell_type": "code",
   "execution_count": null,
   "id": "35fba64d",
   "metadata": {},
   "outputs": [],
   "source": [
    "# train and test ratio is 70% traing and 30% testing\n",
    "x_train, x_test, y_train, y_test = train_test_split(X, Y, test_size = 0.30)"
   ]
  },
  {
   "cell_type": "code",
   "execution_count": null,
   "id": "920ea166",
   "metadata": {},
   "outputs": [],
   "source": [
    "#Creat the model\n",
    "l_r = LinearRegression()\n",
    "#train the model\n",
    "l_r.fit(x_train, y_train)"
   ]
  },
  {
   "cell_type": "code",
   "execution_count": null,
   "id": "04a71d98",
   "metadata": {},
   "outputs": [],
   "source": [
    "#test the model using score\n",
    "linear_score=l_r.score(x_test,y_test)\n",
    "print(linear_score)"
   ]
  },
  {
   "cell_type": "code",
   "execution_count": null,
   "id": "8c061a5b",
   "metadata": {},
   "outputs": [],
   "source": [
    "#well I think that im going to predict the last 500days.\n",
    "acutal_days=np.array(amzn_df[['Close']])[-prediction_days:]\n",
    "# acutal_days"
   ]
  },
  {
   "cell_type": "code",
   "execution_count": null,
   "id": "4cdac2e5",
   "metadata": {},
   "outputs": [],
   "source": [
    "#print the liner regression prediction  for the next 52 days\n",
    "\n",
    "linear_prediction=l_r.predict(acutal_days)\n",
    "\n",
    "# linear_prediction\n"
   ]
  },
  {
   "cell_type": "code",
   "execution_count": null,
   "id": "feacf23f",
   "metadata": {},
   "outputs": [],
   "source": [
    "#okay this is were we put the 2020-2022 data in \n",
    "actual_20_22=np.array(amzn_df2[['Close']])\n",
    "actual_20_22"
   ]
  },
  {
   "cell_type": "code",
   "execution_count": null,
   "id": "dfa125b2",
   "metadata": {},
   "outputs": [],
   "source": [
    "linear_prediction.shape"
   ]
  },
  {
   "cell_type": "code",
   "execution_count": null,
   "id": "8fbcf9e8",
   "metadata": {},
   "outputs": [],
   "source": [
    "actual_20_22.shape "
   ]
  },
  {
   "cell_type": "code",
   "execution_count": null,
   "id": "ea28cbf1",
   "metadata": {},
   "outputs": [],
   "source": [
    "# Visualize the data\n",
    "\n",
    "import matplotlib.pyplot as plt\n",
    "\n",
    "plt.figure(figsize=(20, 8))\n",
    "plt.plot(linear_prediction) # lable='Prediction' , lw=2, alpha=.7)\n",
    "plt.plot(actual_20_22) #  , lable='Actual') # , lw=2, alpha=.7)\n",
    "plt.title('Pred vs Act')\n",
    "plt.xlabel('Time')\n",
    "plt.ylabel('Amzn Close USD($)')\n",
    "plt.legend(['linear_prediction', 'actual_20_22'])\n",
    "plt.xticks(rotation=45)\n",
    "plt.show()"
   ]
  },
  {
   "cell_type": "code",
   "execution_count": null,
   "id": "63011413",
   "metadata": {},
   "outputs": [],
   "source": []
  }
 ],
 "metadata": {
  "kernelspec": {
   "display_name": "mlenv",
   "language": "python",
   "name": "mlenv"
  },
  "language_info": {
   "codemirror_mode": {
    "name": "ipython",
    "version": 3
   },
   "file_extension": ".py",
   "mimetype": "text/x-python",
   "name": "python",
   "nbconvert_exporter": "python",
   "pygments_lexer": "ipython3",
   "version": "3.7.13"
  }
 },
 "nbformat": 4,
 "nbformat_minor": 5
}
