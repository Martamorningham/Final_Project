{
 "cells": [
  {
   "cell_type": "code",
   "execution_count": 1,
   "id": "b2037e62",
   "metadata": {},
   "outputs": [],
   "source": [
    "import numpy as np\n",
    "import pandas as pd\n",
    "import matplotlib.pyplot as plt\n",
    "from keras.models import Sequential\n",
    "from keras.layers import Dense, LSTM\n",
    "import math\n",
    "from sklearn.preprocessing import MinMaxScaler\n",
    "\n",
    "from yahoo_fin.stock_info import get_data\n"
   ]
  },
  {
   "cell_type": "code",
   "execution_count": null,
   "id": "dcf480e3",
   "metadata": {},
   "outputs": [],
   "source": [
    "\n",
    "\n"
   ]
  },
  {
   "cell_type": "code",
   "execution_count": null,
   "id": "1b322511",
   "metadata": {},
   "outputs": [],
   "source": []
  },
  {
   "cell_type": "code",
   "execution_count": 2,
   "id": "c3e33a89",
   "metadata": {
    "scrolled": true
   },
   "outputs": [
    {
     "data": {
      "text/html": [
       "<div>\n",
       "<style scoped>\n",
       "    .dataframe tbody tr th:only-of-type {\n",
       "        vertical-align: middle;\n",
       "    }\n",
       "\n",
       "    .dataframe tbody tr th {\n",
       "        vertical-align: top;\n",
       "    }\n",
       "\n",
       "    .dataframe thead th {\n",
       "        text-align: right;\n",
       "    }\n",
       "</style>\n",
       "<table border=\"1\" class=\"dataframe\">\n",
       "  <thead>\n",
       "    <tr style=\"text-align: right;\">\n",
       "      <th></th>\n",
       "      <th>date</th>\n",
       "      <th>open</th>\n",
       "      <th>high</th>\n",
       "      <th>low</th>\n",
       "      <th>close</th>\n",
       "      <th>adjclose</th>\n",
       "      <th>volume</th>\n",
       "      <th>ticker</th>\n",
       "    </tr>\n",
       "  </thead>\n",
       "  <tbody>\n",
       "    <tr>\n",
       "      <th>0</th>\n",
       "      <td>2010-12-06</td>\n",
       "      <td>24.035000</td>\n",
       "      <td>24.065001</td>\n",
       "      <td>23.905001</td>\n",
       "      <td>24.020000</td>\n",
       "      <td>20.578669</td>\n",
       "      <td>15320800</td>\n",
       "      <td>XRT</td>\n",
       "    </tr>\n",
       "    <tr>\n",
       "      <th>1</th>\n",
       "      <td>2010-12-07</td>\n",
       "      <td>24.299999</td>\n",
       "      <td>24.905001</td>\n",
       "      <td>23.885000</td>\n",
       "      <td>23.889999</td>\n",
       "      <td>20.467291</td>\n",
       "      <td>25254600</td>\n",
       "      <td>XRT</td>\n",
       "    </tr>\n",
       "    <tr>\n",
       "      <th>2</th>\n",
       "      <td>2010-12-08</td>\n",
       "      <td>23.950001</td>\n",
       "      <td>23.980000</td>\n",
       "      <td>23.680000</td>\n",
       "      <td>23.785000</td>\n",
       "      <td>20.377335</td>\n",
       "      <td>18244800</td>\n",
       "      <td>XRT</td>\n",
       "    </tr>\n",
       "    <tr>\n",
       "      <th>3</th>\n",
       "      <td>2010-12-09</td>\n",
       "      <td>23.995001</td>\n",
       "      <td>23.995001</td>\n",
       "      <td>23.730000</td>\n",
       "      <td>23.930000</td>\n",
       "      <td>20.501564</td>\n",
       "      <td>9641200</td>\n",
       "      <td>XRT</td>\n",
       "    </tr>\n",
       "    <tr>\n",
       "      <th>4</th>\n",
       "      <td>2010-12-10</td>\n",
       "      <td>23.915001</td>\n",
       "      <td>24.100000</td>\n",
       "      <td>23.820000</td>\n",
       "      <td>24.070000</td>\n",
       "      <td>20.621498</td>\n",
       "      <td>12218200</td>\n",
       "      <td>XRT</td>\n",
       "    </tr>\n",
       "    <tr>\n",
       "      <th>...</th>\n",
       "      <td>...</td>\n",
       "      <td>...</td>\n",
       "      <td>...</td>\n",
       "      <td>...</td>\n",
       "      <td>...</td>\n",
       "      <td>...</td>\n",
       "      <td>...</td>\n",
       "      <td>...</td>\n",
       "    </tr>\n",
       "    <tr>\n",
       "      <th>2945</th>\n",
       "      <td>2022-08-18</td>\n",
       "      <td>71.989998</td>\n",
       "      <td>72.070000</td>\n",
       "      <td>70.949997</td>\n",
       "      <td>71.720001</td>\n",
       "      <td>71.720001</td>\n",
       "      <td>3019400</td>\n",
       "      <td>XRT</td>\n",
       "    </tr>\n",
       "    <tr>\n",
       "      <th>2946</th>\n",
       "      <td>2022-08-19</td>\n",
       "      <td>70.800003</td>\n",
       "      <td>71.139999</td>\n",
       "      <td>69.029999</td>\n",
       "      <td>69.419998</td>\n",
       "      <td>69.419998</td>\n",
       "      <td>5839000</td>\n",
       "      <td>XRT</td>\n",
       "    </tr>\n",
       "    <tr>\n",
       "      <th>2947</th>\n",
       "      <td>2022-08-22</td>\n",
       "      <td>68.180000</td>\n",
       "      <td>68.300003</td>\n",
       "      <td>67.059998</td>\n",
       "      <td>67.230003</td>\n",
       "      <td>67.230003</td>\n",
       "      <td>7351600</td>\n",
       "      <td>XRT</td>\n",
       "    </tr>\n",
       "    <tr>\n",
       "      <th>2948</th>\n",
       "      <td>2022-08-23</td>\n",
       "      <td>67.699997</td>\n",
       "      <td>68.660004</td>\n",
       "      <td>67.260002</td>\n",
       "      <td>67.349998</td>\n",
       "      <td>67.349998</td>\n",
       "      <td>3073700</td>\n",
       "      <td>XRT</td>\n",
       "    </tr>\n",
       "    <tr>\n",
       "      <th>2949</th>\n",
       "      <td>2022-08-24</td>\n",
       "      <td>66.879997</td>\n",
       "      <td>67.550003</td>\n",
       "      <td>66.150002</td>\n",
       "      <td>66.629997</td>\n",
       "      <td>66.629997</td>\n",
       "      <td>3465300</td>\n",
       "      <td>XRT</td>\n",
       "    </tr>\n",
       "  </tbody>\n",
       "</table>\n",
       "<p>2950 rows × 8 columns</p>\n",
       "</div>"
      ],
      "text/plain": [
       "           date       open       high        low      close   adjclose  \\\n",
       "0    2010-12-06  24.035000  24.065001  23.905001  24.020000  20.578669   \n",
       "1    2010-12-07  24.299999  24.905001  23.885000  23.889999  20.467291   \n",
       "2    2010-12-08  23.950001  23.980000  23.680000  23.785000  20.377335   \n",
       "3    2010-12-09  23.995001  23.995001  23.730000  23.930000  20.501564   \n",
       "4    2010-12-10  23.915001  24.100000  23.820000  24.070000  20.621498   \n",
       "...         ...        ...        ...        ...        ...        ...   \n",
       "2945 2022-08-18  71.989998  72.070000  70.949997  71.720001  71.720001   \n",
       "2946 2022-08-19  70.800003  71.139999  69.029999  69.419998  69.419998   \n",
       "2947 2022-08-22  68.180000  68.300003  67.059998  67.230003  67.230003   \n",
       "2948 2022-08-23  67.699997  68.660004  67.260002  67.349998  67.349998   \n",
       "2949 2022-08-24  66.879997  67.550003  66.150002  66.629997  66.629997   \n",
       "\n",
       "        volume ticker  \n",
       "0     15320800    XRT  \n",
       "1     25254600    XRT  \n",
       "2     18244800    XRT  \n",
       "3      9641200    XRT  \n",
       "4     12218200    XRT  \n",
       "...        ...    ...  \n",
       "2945   3019400    XRT  \n",
       "2946   5839000    XRT  \n",
       "2947   7351600    XRT  \n",
       "2948   3073700    XRT  \n",
       "2949   3465300    XRT  \n",
       "\n",
       "[2950 rows x 8 columns]"
      ]
     },
     "execution_count": 2,
     "metadata": {},
     "output_type": "execute_result"
    }
   ],
   "source": [
    "XRT_df= get_data(\"XRT\", start_date=\"12/04/2010\", end_date=\"12/04/2022\", index_as_date = False, interval=\"1d\")\n",
    "XRT_df"
   ]
  },
  {
   "cell_type": "code",
   "execution_count": null,
   "id": "d6fbdbd9",
   "metadata": {},
   "outputs": [],
   "source": [
    "#XRT_df = XRT_df.drop(\"ticker\", axis=1)"
   ]
  },
  {
   "cell_type": "code",
   "execution_count": null,
   "id": "81c06330",
   "metadata": {},
   "outputs": [],
   "source": [
    "#XRT_df.to_csv(\"XRT.csv\", index=False)"
   ]
  },
  {
   "cell_type": "code",
   "execution_count": null,
   "id": "f79619c4",
   "metadata": {},
   "outputs": [],
   "source": [
    "#XRT_df = pd.read_csv('XRT.csv')"
   ]
  },
  {
   "cell_type": "code",
   "execution_count": 3,
   "id": "03450822",
   "metadata": {},
   "outputs": [
    {
     "name": "stdout",
     "output_type": "stream",
     "text": [
      "              open         high          low        close     adjclose  \\\n",
      "count  2950.000000  2950.000000  2950.000000  2950.000000  2950.000000   \n",
      "mean     46.573800    47.006097    46.107307    46.566137    43.470904   \n",
      "std      17.285084    17.519894    17.008970    17.258505    17.949121   \n",
      "min      22.000000    22.545000    21.750000    21.915001    18.926882   \n",
      "25%      39.207500    39.463749    38.799999    39.137501    35.762766   \n",
      "50%      43.514999    43.840000    43.150002    43.490002    40.037018   \n",
      "75%      48.357500    48.758749    48.057501    48.465001    44.300468   \n",
      "max     104.160004   104.309998   102.410004   104.160004   102.392715   \n",
      "\n",
      "             volume  \n",
      "count  2.950000e+03  \n",
      "mean   7.079911e+06  \n",
      "std    6.123522e+06  \n",
      "min    5.547000e+05  \n",
      "25%    3.420950e+06  \n",
      "50%    5.113400e+06  \n",
      "75%    7.977900e+06  \n",
      "max    4.876300e+07  \n"
     ]
    }
   ],
   "source": [
    "print(XRT_df.describe())"
   ]
  },
  {
   "cell_type": "code",
   "execution_count": null,
   "id": "c126004e",
   "metadata": {},
   "outputs": [],
   "source": [
    "#print the summary \n",
    "print(XRT_df.describe())"
   ]
  },
  {
   "cell_type": "code",
   "execution_count": 4,
   "id": "8c1e3de0",
   "metadata": {},
   "outputs": [],
   "source": [
    "#now prep the data for 2014-2019\n",
    "XRT_df.set_index(pd.DatetimeIndex(XRT_df['date']), inplace=True)"
   ]
  },
  {
   "cell_type": "code",
   "execution_count": 5,
   "id": "ffb0f3b1",
   "metadata": {},
   "outputs": [],
   "source": [
    "#Keep the close for 2014-19\n",
    "XRT_df = XRT_df[['close']]"
   ]
  },
  {
   "cell_type": "code",
   "execution_count": 6,
   "id": "7ad9f6f5",
   "metadata": {},
   "outputs": [
    {
     "name": "stdout",
     "output_type": "stream",
     "text": [
      "                close\n",
      "date                 \n",
      "2010-12-06  24.020000\n",
      "2010-12-07  23.889999\n",
      "2010-12-08  23.785000\n",
      "2010-12-09  23.930000\n",
      "2010-12-10  24.070000\n",
      "...               ...\n",
      "2022-08-18  71.720001\n",
      "2022-08-19  69.419998\n",
      "2022-08-22  67.230003\n",
      "2022-08-23  67.349998\n",
      "2022-08-24  66.629997\n",
      "\n",
      "[2950 rows x 1 columns]\n"
     ]
    }
   ],
   "source": [
    "print(XRT_df)"
   ]
  },
  {
   "cell_type": "code",
   "execution_count": 7,
   "id": "e549b7e7",
   "metadata": {},
   "outputs": [
    {
     "name": "stdout",
     "output_type": "stream",
     "text": [
      "2022-08-24 00:00:00\n"
     ]
    }
   ],
   "source": [
    "print (XRT_df.index.max())"
   ]
  },
  {
   "cell_type": "code",
   "execution_count": null,
   "id": "94f94d72",
   "metadata": {},
   "outputs": [],
   "source": [
    "XRT_df"
   ]
  },
  {
   "cell_type": "code",
   "execution_count": null,
   "id": "b265648c",
   "metadata": {},
   "outputs": [],
   "source": [
    "XRT_dataset = XRT_df.values"
   ]
  },
  {
   "cell_type": "code",
   "execution_count": null,
   "id": "fb92c688",
   "metadata": {},
   "outputs": [],
   "source": [
    "XRT_dataset"
   ]
  },
  {
   "cell_type": "code",
   "execution_count": 9,
   "id": "7740a77a",
   "metadata": {},
   "outputs": [],
   "source": [
    "#data_14_22 = XRT_df.filter(['Close'])\n",
    "#dataset_14_22 = data_14_22.values\n",
    "XRT_data = XRT_df.filter(['close'])\n",
    "XRT_dataset = XRT_data.values\n",
    "#scaler = MinMaxScaler(feature_range=(0, 1))\n",
    "#scaled_data = scaler.fit_transform(dataset_14_22)\n",
    "scaler = MinMaxScaler(feature_range=(0, 1))\n",
    "scaled_data = scaler.fit_transform(XRT_dataset)\n",
    "\n",
    "\n",
    "training_data_len =math.ceil(len(XRT_dataset) *.7)\n",
    "train_data =scaled_data[0:training_data_len , : ]\n",
    "\n",
    "\n",
    "X_train_data = []\n",
    "y_train_data = []\n",
    "\n",
    "for i in range(1500,len(train_data)):\n",
    "    X_train_data=list(X_train_data)\n",
    "    y_train_data=list(y_train_data)\n",
    "    X_train_data.append(train_data[i-1500:i,0])\n",
    "    y_train_data.append(train_data[i,0])\n",
    "\n",
    "    X_train_data1, y_train_data1 = np.array(X_train_data), np.array(y_train_data)\n",
    "\n",
    "    #X_train_data1, y_train_data1 = np.array(X_train_data), np.array(y_train_data)\n",
    "    \n",
    "    X_train_data2 = np.reshape(X_train_data1,(X_train_data1.shape[0],X_train_data1.shape[1],1))\n",
    "\n",
    "   \n",
    "    \n",
    "#1500 = number of days you can change it accordingly. \n",
    "\n",
    "# There will be a total of 60 values, 1st column will contain an index of 0-59\n",
    "# The second will have an index of 1-60 ++_\n",
    "# the y_train has the 60 st value on c1 and c2 will have 61++"
   ]
  },
  {
   "cell_type": "code",
   "execution_count": 10,
   "id": "70c90fe4",
   "metadata": {},
   "outputs": [],
   "source": [
    "#Lets build the LSTM MODEL \n",
    "\n",
    "model = Sequential()\n",
    "\n",
    "model.add(LSTM(units=50, return_sequences=True,input_shape=(X_train_data2.shape[1],1)))\n",
    "\n",
    "model.add(LSTM(units=50, return_sequences=False))\n",
    "\n",
    "model.add(Dense(units=25))\n",
    "\n",
    "model.add(Dense(units=1))\n",
    "\n",
    "\n",
    "#okay this example will have 2 LSTM layers w/50 neurons and 2 dense layers\n",
    "# plust one with 25 nuerons "
   ]
  },
  {
   "cell_type": "code",
   "execution_count": 11,
   "id": "dbae25fb",
   "metadata": {},
   "outputs": [
    {
     "name": "stdout",
     "output_type": "stream",
     "text": [
      "565/565 [==============================] - 215s 377ms/step - loss: 9.3518e-04\n"
     ]
    },
    {
     "data": {
      "text/plain": [
       "<keras.callbacks.History at 0x24e209ac108>"
      ]
     },
     "execution_count": 11,
     "metadata": {},
     "output_type": "execute_result"
    }
   ],
   "source": [
    "# Complete the model \n",
    "\n",
    "model.compile(optimizer='adam', loss='mean_squared_error')\n",
    "\n",
    "model.fit(X_train_data2, y_train_data1, batch_size=1, epochs=1)"
   ]
  },
  {
   "cell_type": "code",
   "execution_count": 12,
   "id": "06714b78",
   "metadata": {},
   "outputs": [
    {
     "name": "stdout",
     "output_type": "stream",
     "text": [
      "28/28 [==============================] - 6s 197ms/step\n"
     ]
    }
   ],
   "source": [
    "test_data = scaled_data[training_data_len -1500: , : ]\n",
    "\n",
    "X_test = []\n",
    "\n",
    "y_test = XRT_dataset[training_data_len : , : ]\n",
    "\n",
    "for i in range(1500,len(test_data)):\n",
    "    \n",
    "    X_test.append(test_data[i-1500:i,0])\n",
    "\n",
    "X_test = np.array(X_test)\n",
    "\n",
    "X_test = np.reshape(X_test,(X_test.shape[0],X_test.shape[1],1))\n",
    "\n",
    "predictions = model.predict(X_test)\n",
    "\n",
    "predictions = scaler.inverse_transform(predictions)"
   ]
  },
  {
   "cell_type": "code",
   "execution_count": null,
   "id": "7f111ec7",
   "metadata": {},
   "outputs": [],
   "source": []
  },
  {
   "cell_type": "code",
   "execution_count": null,
   "id": "7457c765",
   "metadata": {},
   "outputs": [],
   "source": []
  },
  {
   "cell_type": "code",
   "execution_count": null,
   "id": "a7ced4b7",
   "metadata": {},
   "outputs": [],
   "source": []
  },
  {
   "cell_type": "code",
   "execution_count": 13,
   "id": "6c46b030",
   "metadata": {},
   "outputs": [],
   "source": [
    "# Error calculation where RMSE = root mean squared error \n",
    "\n",
    "rmse=np.sqrt(np.mean(((predictions-y_test)**2)))"
   ]
  },
  {
   "cell_type": "code",
   "execution_count": 14,
   "id": "8d40313f",
   "metadata": {},
   "outputs": [
    {
     "name": "stdout",
     "output_type": "stream",
     "text": [
      "5.7453400166590445\n"
     ]
    }
   ],
   "source": [
    "print(rmse)"
   ]
  },
  {
   "cell_type": "code",
   "execution_count": null,
   "id": "5400054b",
   "metadata": {},
   "outputs": [],
   "source": [
    "#OOOF okay the lower the value is to 0 the better\n",
    "# it indicates that the models p-value match the actual values from the data set \n",
    "# which in this case it does not. "
   ]
  },
  {
   "cell_type": "code",
   "execution_count": 18,
   "id": "adcb44b7",
   "metadata": {},
   "outputs": [
    {
     "name": "stderr",
     "output_type": "stream",
     "text": [
      "C:\\Users\\matth\\anaconda3\\envs\\PythonData\\lib\\site-packages\\ipykernel_launcher.py:7: SettingWithCopyWarning: \n",
      "A value is trying to be set on a copy of a slice from a DataFrame.\n",
      "Try using .loc[row_indexer,col_indexer] = value instead\n",
      "\n",
      "See the caveats in the documentation: https://pandas.pydata.org/pandas-docs/stable/user_guide/indexing.html#returning-a-view-versus-a-copy\n",
      "  import sys\n"
     ]
    },
    {
     "data": {
      "image/png": "[encoded data removed]",
      "text/plain": [
       "<Figure size 432x288 with 1 Axes>"
      ]
     },
     "metadata": {
      "needs_background": "light"
     },
     "output_type": "display_data"
    }
   ],
   "source": [
    "#Predict and visualize \n",
    "\n",
    "train = XRT_df[:training_data_len]\n",
    "\n",
    "valid = XRT_df[training_data_len:]\n",
    "\n",
    "valid['Predictions'] = predictions\n",
    "\n",
    "plt.title('Model')\n",
    "\n",
    "plt.xlabel('Date')\n",
    "\n",
    "plt.ylabel('close')\n",
    "\n",
    "plt.plot(train['close'])\n",
    "\n",
    "plt.plot(valid[['close', 'Predictions']])\n",
    "\n",
    "plt.legend(['Train', 'Val', 'Predictions'], loc='lower right')\n",
    "\n",
    "plt.show()"
   ]
  },
  {
   "cell_type": "code",
   "execution_count": 19,
   "id": "c96895d9",
   "metadata": {},
   "outputs": [
    {
     "ename": "AttributeError",
     "evalue": "'numpy.ndarray' object has no attribute 'plot'",
     "output_type": "error",
     "traceback": [
      "\u001b[1;31m---------------------------------------------------------------------------\u001b[0m",
      "\u001b[1;31mAttributeError\u001b[0m                            Traceback (most recent call last)",
      "\u001b[1;32m~\\AppData\\Local\\Temp/ipykernel_4944/2127970194.py\u001b[0m in \u001b[0;36m<module>\u001b[1;34m\u001b[0m\n\u001b[1;32m----> 1\u001b[1;33m \u001b[0mXRT_dataset\u001b[0m\u001b[1;33m.\u001b[0m\u001b[0mplot\u001b[0m\u001b[1;33m(\u001b[0m\u001b[1;33m)\u001b[0m\u001b[1;33m\u001b[0m\u001b[1;33m\u001b[0m\u001b[0m\n\u001b[0m",
      "\u001b[1;31mAttributeError\u001b[0m: 'numpy.ndarray' object has no attribute 'plot'"
     ]
    }
   ],
   "source": [
    "XRT_dataset.plot()"
   ]
  },
  {
   "cell_type": "code",
   "execution_count": 21,
   "id": "615617c8",
   "metadata": {},
   "outputs": [
    {
     "data": {
      "text/plain": [
       "date\n",
       "2010-12-06    24.020000\n",
       "2010-12-07    23.889999\n",
       "2010-12-08    23.785000\n",
       "2010-12-09    23.930000\n",
       "2010-12-10    24.070000\n",
       "                ...    \n",
       "2019-02-13    44.910000\n",
       "2019-02-14    44.820000\n",
       "2019-02-15    45.340000\n",
       "2019-02-19    45.580002\n",
       "2019-02-20    45.650002\n",
       "Name: close, Length: 2065, dtype: float64"
      ]
     },
     "execution_count": 21,
     "metadata": {},
     "output_type": "execute_result"
    }
   ],
   "source": [
    "train['close']"
   ]
  },
  {
   "cell_type": "code",
   "execution_count": 121,
   "id": "88f01e5b",
   "metadata": {},
   "outputs": [
    {
     "name": "stderr",
     "output_type": "stream",
     "text": [
      "c:\\Users\\matth\\anaconda3\\envs\\PythonData\\lib\\site-packages\\ipykernel_launcher.py:1: FutureWarning: Using a non-tuple sequence for multidimensional indexing is deprecated; use `arr[tuple(seq)]` instead of `arr[seq]`. In the future this will be interpreted as an array index, `arr[np.array(seq)]`, which will result either in an error or a different result.\n",
      "  \"\"\"Entry point for launching an IPython kernel.\n"
     ]
    },
    {
     "ename": "IndexError",
     "evalue": "only integers, slices (`:`), ellipsis (`...`), numpy.newaxis (`None`) and integer or boolean arrays are valid indices",
     "output_type": "error",
     "traceback": [
      "\u001b[1;31m---------------------------------------------------------------------------\u001b[0m",
      "\u001b[1;31mIndexError\u001b[0m                                Traceback (most recent call last)",
      "\u001b[1;32m~\\AppData\\Local\\Temp/ipykernel_1552/510448884.py\u001b[0m in \u001b[0;36m<module>\u001b[1;34m\u001b[0m\n\u001b[1;32m----> 1\u001b[1;33m \u001b[0mvalid\u001b[0m\u001b[1;33m[\u001b[0m\u001b[1;33m[\u001b[0m\u001b[1;34m'close'\u001b[0m\u001b[1;33m,\u001b[0m \u001b[1;34m'Predictions'\u001b[0m\u001b[1;33m]\u001b[0m\u001b[1;33m]\u001b[0m\u001b[1;33m\u001b[0m\u001b[1;33m\u001b[0m\u001b[0m\n\u001b[0m",
      "\u001b[1;31mIndexError\u001b[0m: only integers, slices (`:`), ellipsis (`...`), numpy.newaxis (`None`) and integer or boolean arrays are valid indices"
     ]
    }
   ],
   "source": [
    "valid[['close', 'Predictions']]"
   ]
  },
  {
   "cell_type": "code",
   "execution_count": 120,
   "id": "eb74821e",
   "metadata": {},
   "outputs": [
    {
     "name": "stderr",
     "output_type": "stream",
     "text": [
      "c:\\Users\\matth\\anaconda3\\envs\\PythonData\\lib\\site-packages\\ipykernel_launcher.py:1: FutureWarning: Using a non-tuple sequence for multidimensional indexing is deprecated; use `arr[tuple(seq)]` instead of `arr[seq]`. In the future this will be interpreted as an array index, `arr[np.array(seq)]`, which will result either in an error or a different result.\n",
      "  \"\"\"Entry point for launching an IPython kernel.\n"
     ]
    },
    {
     "ename": "IndexError",
     "evalue": "only integers, slices (`:`), ellipsis (`...`), numpy.newaxis (`None`) and integer or boolean arrays are valid indices",
     "output_type": "error",
     "traceback": [
      "\u001b[1;31m---------------------------------------------------------------------------\u001b[0m",
      "\u001b[1;31mIndexError\u001b[0m                                Traceback (most recent call last)",
      "\u001b[1;32m~\\AppData\\Local\\Temp/ipykernel_1552/3957306927.py\u001b[0m in \u001b[0;36m<module>\u001b[1;34m\u001b[0m\n\u001b[1;32m----> 1\u001b[1;33m \u001b[0mcomplete_XRT_df\u001b[0m \u001b[1;33m=\u001b[0m \u001b[0mpd\u001b[0m\u001b[1;33m.\u001b[0m\u001b[0mconcat\u001b[0m\u001b[1;33m(\u001b[0m\u001b[1;33m[\u001b[0m\u001b[0mtrain\u001b[0m\u001b[1;33m[\u001b[0m\u001b[1;33m[\u001b[0m\u001b[1;34m'close'\u001b[0m\u001b[1;33m]\u001b[0m\u001b[1;33m]\u001b[0m\u001b[1;33m,\u001b[0m \u001b[0mvalid\u001b[0m\u001b[1;33m[\u001b[0m\u001b[1;33m[\u001b[0m\u001b[1;34m'close'\u001b[0m\u001b[1;33m,\u001b[0m \u001b[1;34m'Predictions'\u001b[0m\u001b[1;33m]\u001b[0m\u001b[1;33m]\u001b[0m\u001b[1;33m]\u001b[0m\u001b[1;33m)\u001b[0m\u001b[1;33m\u001b[0m\u001b[1;33m\u001b[0m\u001b[0m\n\u001b[0m\u001b[0;32m      2\u001b[0m \u001b[0mcomplete_XRT_df\u001b[0m\u001b[1;33m\u001b[0m\u001b[1;33m\u001b[0m\u001b[0m\n",
      "\u001b[1;31mIndexError\u001b[0m: only integers, slices (`:`), ellipsis (`...`), numpy.newaxis (`None`) and integer or boolean arrays are valid indices"
     ]
    }
   ],
   "source": [
    "complete_XRT_df = pd.concat([train[['close']], valid[['close', 'Predictions']]])\n",
    "complete_XRT_df"
   ]
  }
 ],
 "metadata": {
  "kernelspec": {
   "display_name": "PythonData",
   "language": "python",
   "name": "pythondata"
  },
  "language_info": {
   "codemirror_mode": {
    "name": "ipython",
    "version": 3
   },
   "file_extension": ".py",
   "mimetype": "text/x-python",
   "name": "python",
   "nbconvert_exporter": "python",
   "pygments_lexer": "ipython3",
   "version": "3.7.11"
  },
  "vscode": {
   "interpreter": {
    "hash": "4d84be3c410a6f798d496036b1e38af6761158aeda0d74715ca80cdd150c814d"
   }
  }
 },
 "nbformat": 4,
 "nbformat_minor": 5
}
