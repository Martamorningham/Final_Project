{
 "cells": [
  {
   "cell_type": "code",
   "execution_count": 1,
   "id": "38be4bc1",
   "metadata": {},
   "outputs": [],
   "source": [
    "import pandas as pd \n",
    "import pandas as pd\n",
    "import numpy as np\n",
    "import matplotlib.pyplot as plt\n",
    "import pandas_ta #moving avg\n",
    "from sklearn.model_selection import train_test_split\n",
    "from sklearn.linear_model import LinearRegression\n",
    "from sklearn.metrics import mean_squared_error, r2_score, mean_absolute_error"
   ]
  },
  {
   "cell_type": "code",
   "execution_count": 2,
   "id": "a6cef13d",
   "metadata": {},
   "outputs": [],
   "source": [
    "#load the data \n",
    "xrt_df = pd.read_csv('XRT.csv')"
   ]
  },
  {
   "cell_type": "code",
   "execution_count": 3,
   "id": "5fcd05ec",
   "metadata": {},
   "outputs": [
    {
     "data": {
      "text/html": [
       "<div>\n",
       "<style scoped>\n",
       "    .dataframe tbody tr th:only-of-type {\n",
       "        vertical-align: middle;\n",
       "    }\n",
       "\n",
       "    .dataframe tbody tr th {\n",
       "        vertical-align: top;\n",
       "    }\n",
       "\n",
       "    .dataframe thead th {\n",
       "        text-align: right;\n",
       "    }\n",
       "</style>\n",
       "<table border=\"1\" class=\"dataframe\">\n",
       "  <thead>\n",
       "    <tr style=\"text-align: right;\">\n",
       "      <th></th>\n",
       "      <th>Date</th>\n",
       "      <th>Open</th>\n",
       "      <th>High</th>\n",
       "      <th>Low</th>\n",
       "      <th>Close</th>\n",
       "      <th>Adj Close</th>\n",
       "      <th>Volume</th>\n",
       "    </tr>\n",
       "  </thead>\n",
       "  <tbody>\n",
       "    <tr>\n",
       "      <th>0</th>\n",
       "      <td>2014-01-03</td>\n",
       "      <td>43.689999</td>\n",
       "      <td>43.955002</td>\n",
       "      <td>43.645000</td>\n",
       "      <td>43.799999</td>\n",
       "      <td>38.968216</td>\n",
       "      <td>4769600</td>\n",
       "    </tr>\n",
       "    <tr>\n",
       "      <th>1</th>\n",
       "      <td>2014-01-06</td>\n",
       "      <td>43.750000</td>\n",
       "      <td>43.924999</td>\n",
       "      <td>43.334999</td>\n",
       "      <td>43.380001</td>\n",
       "      <td>38.594555</td>\n",
       "      <td>5658200</td>\n",
       "    </tr>\n",
       "    <tr>\n",
       "      <th>2</th>\n",
       "      <td>2014-01-07</td>\n",
       "      <td>43.535000</td>\n",
       "      <td>43.705002</td>\n",
       "      <td>43.259998</td>\n",
       "      <td>43.450001</td>\n",
       "      <td>38.656826</td>\n",
       "      <td>7025200</td>\n",
       "    </tr>\n",
       "    <tr>\n",
       "      <th>3</th>\n",
       "      <td>2014-01-08</td>\n",
       "      <td>43.404999</td>\n",
       "      <td>43.450001</td>\n",
       "      <td>43.084999</td>\n",
       "      <td>43.244999</td>\n",
       "      <td>38.474434</td>\n",
       "      <td>5277200</td>\n",
       "    </tr>\n",
       "    <tr>\n",
       "      <th>4</th>\n",
       "      <td>2014-01-09</td>\n",
       "      <td>43.340000</td>\n",
       "      <td>43.340000</td>\n",
       "      <td>42.654999</td>\n",
       "      <td>42.904999</td>\n",
       "      <td>38.171951</td>\n",
       "      <td>7345000</td>\n",
       "    </tr>\n",
       "  </tbody>\n",
       "</table>\n",
       "</div>"
      ],
      "text/plain": [
       "         Date       Open       High        Low      Close  Adj Close   Volume\n",
       "0  2014-01-03  43.689999  43.955002  43.645000  43.799999  38.968216  4769600\n",
       "1  2014-01-06  43.750000  43.924999  43.334999  43.380001  38.594555  5658200\n",
       "2  2014-01-07  43.535000  43.705002  43.259998  43.450001  38.656826  7025200\n",
       "3  2014-01-08  43.404999  43.450001  43.084999  43.244999  38.474434  5277200\n",
       "4  2014-01-09  43.340000  43.340000  42.654999  42.904999  38.171951  7345000"
      ]
     },
     "execution_count": 3,
     "metadata": {},
     "output_type": "execute_result"
    }
   ],
   "source": [
    "xrt_df.head()"
   ]
  },
  {
   "cell_type": "code",
   "execution_count": 4,
   "id": "29644f20",
   "metadata": {},
   "outputs": [
    {
     "name": "stdout",
     "output_type": "stream",
     "text": [
      "            Date       Open       High        Low      Close  Adj Close  \\\n",
      "0     2014-01-03  43.689999  43.955002  43.645000  43.799999  38.968216   \n",
      "1     2014-01-06  43.750000  43.924999  43.334999  43.380001  38.594555   \n",
      "2     2014-01-07  43.535000  43.705002  43.259998  43.450001  38.656826   \n",
      "3     2014-01-08  43.404999  43.450001  43.084999  43.244999  38.474434   \n",
      "4     2014-01-09  43.340000  43.340000  42.654999  42.904999  38.171951   \n",
      "...          ...        ...        ...        ...        ...        ...   \n",
      "2169  2022-08-16  71.849998  75.790001  71.529999  74.349998  74.349998   \n",
      "2170  2022-08-17  73.150002  73.489998  71.720001  72.230003  72.230003   \n",
      "2171  2022-08-18  71.989998  72.070000  70.949997  71.720001  71.720001   \n",
      "2172  2022-08-19  70.800003  71.139999  69.029999  69.419998  69.419998   \n",
      "2173  2022-08-22  68.180000  68.300003  67.059998  67.230003  67.230003   \n",
      "\n",
      "       Volume  \n",
      "0     4769600  \n",
      "1     5658200  \n",
      "2     7025200  \n",
      "3     5277200  \n",
      "4     7345000  \n",
      "...       ...  \n",
      "2169  7422200  \n",
      "2170  5286500  \n",
      "2171  3019400  \n",
      "2172  5839000  \n",
      "2173  7351600  \n",
      "\n",
      "[2174 rows x 7 columns]\n"
     ]
    }
   ],
   "source": [
    "#Inspect it \n",
    "print(xrt_df)"
   ]
  },
  {
   "cell_type": "code",
   "execution_count": 5,
   "id": "cda06dd8",
   "metadata": {},
   "outputs": [
    {
     "name": "stdout",
     "output_type": "stream",
     "text": [
      "              Open         High          Low        Close    Adj Close  \\\n",
      "count  2174.000000  2174.000000  2174.000000  2174.000000  2174.000000   \n",
      "mean     52.057183    52.558774    51.513429    52.043335    49.224037   \n",
      "std      16.643219    16.887788    16.349743    16.613608    17.285598   \n",
      "min      27.549999    27.770000    26.290001    26.990000    26.168465   \n",
      "25%      42.601248    42.952500    42.271251    42.650002    39.146802   \n",
      "50%      45.135000    45.500000    44.790001    45.182501    41.999617   \n",
      "75%      50.655000    50.987501    50.343749    50.667499    48.016634   \n",
      "max     104.160004   104.309998   102.410004   104.160004   102.392715   \n",
      "\n",
      "             Volume  \n",
      "count  2.174000e+03  \n",
      "mean   4.859034e+06  \n",
      "std    2.598077e+06  \n",
      "min    5.547000e+05  \n",
      "25%    3.055200e+06  \n",
      "50%    4.336900e+06  \n",
      "75%    6.045500e+06  \n",
      "max    3.274590e+07  \n"
     ]
    }
   ],
   "source": [
    "#print the summary \n",
    "print(xrt_df.describe())"
   ]
  },
  {
   "cell_type": "code",
   "execution_count": 6,
   "id": "2917722f",
   "metadata": {},
   "outputs": [],
   "source": [
    "# load data set 2\n",
    "xrt_df2 = pd.read_csv('XRT_2020_2022.csv')"
   ]
  },
  {
   "cell_type": "code",
   "execution_count": 7,
   "id": "22e4aa61",
   "metadata": {},
   "outputs": [
    {
     "data": {
      "text/html": [
       "<div>\n",
       "<style scoped>\n",
       "    .dataframe tbody tr th:only-of-type {\n",
       "        vertical-align: middle;\n",
       "    }\n",
       "\n",
       "    .dataframe tbody tr th {\n",
       "        vertical-align: top;\n",
       "    }\n",
       "\n",
       "    .dataframe thead th {\n",
       "        text-align: right;\n",
       "    }\n",
       "</style>\n",
       "<table border=\"1\" class=\"dataframe\">\n",
       "  <thead>\n",
       "    <tr style=\"text-align: right;\">\n",
       "      <th></th>\n",
       "      <th>Date</th>\n",
       "      <th>Open</th>\n",
       "      <th>High</th>\n",
       "      <th>Low</th>\n",
       "      <th>Close</th>\n",
       "      <th>Adj Close</th>\n",
       "      <th>Volume</th>\n",
       "    </tr>\n",
       "  </thead>\n",
       "  <tbody>\n",
       "    <tr>\n",
       "      <th>0</th>\n",
       "      <td>2020-01-03</td>\n",
       "      <td>45.040001</td>\n",
       "      <td>45.500000</td>\n",
       "      <td>45.009998</td>\n",
       "      <td>45.310001</td>\n",
       "      <td>43.655869</td>\n",
       "      <td>4236000</td>\n",
       "    </tr>\n",
       "    <tr>\n",
       "      <th>1</th>\n",
       "      <td>2020-01-06</td>\n",
       "      <td>45.099998</td>\n",
       "      <td>45.549999</td>\n",
       "      <td>44.930000</td>\n",
       "      <td>45.470001</td>\n",
       "      <td>43.810032</td>\n",
       "      <td>3350300</td>\n",
       "    </tr>\n",
       "    <tr>\n",
       "      <th>2</th>\n",
       "      <td>2020-01-07</td>\n",
       "      <td>45.500000</td>\n",
       "      <td>45.680000</td>\n",
       "      <td>45.020000</td>\n",
       "      <td>45.310001</td>\n",
       "      <td>43.655869</td>\n",
       "      <td>2889600</td>\n",
       "    </tr>\n",
       "    <tr>\n",
       "      <th>3</th>\n",
       "      <td>2020-01-08</td>\n",
       "      <td>45.730000</td>\n",
       "      <td>45.779999</td>\n",
       "      <td>45.189999</td>\n",
       "      <td>45.400002</td>\n",
       "      <td>43.742584</td>\n",
       "      <td>4679700</td>\n",
       "    </tr>\n",
       "    <tr>\n",
       "      <th>4</th>\n",
       "      <td>2020-01-09</td>\n",
       "      <td>45.450001</td>\n",
       "      <td>45.500000</td>\n",
       "      <td>44.900002</td>\n",
       "      <td>45.209999</td>\n",
       "      <td>43.559521</td>\n",
       "      <td>5148700</td>\n",
       "    </tr>\n",
       "  </tbody>\n",
       "</table>\n",
       "</div>"
      ],
      "text/plain": [
       "         Date       Open       High        Low      Close  Adj Close   Volume\n",
       "0  2020-01-03  45.040001  45.500000  45.009998  45.310001  43.655869  4236000\n",
       "1  2020-01-06  45.099998  45.549999  44.930000  45.470001  43.810032  3350300\n",
       "2  2020-01-07  45.500000  45.680000  45.020000  45.310001  43.655869  2889600\n",
       "3  2020-01-08  45.730000  45.779999  45.189999  45.400002  43.742584  4679700\n",
       "4  2020-01-09  45.450001  45.500000  44.900002  45.209999  43.559521  5148700"
      ]
     },
     "execution_count": 7,
     "metadata": {},
     "output_type": "execute_result"
    }
   ],
   "source": [
    "xrt_df2.head()"
   ]
  },
  {
   "cell_type": "code",
   "execution_count": 8,
   "id": "4984617b",
   "metadata": {},
   "outputs": [
    {
     "name": "stdout",
     "output_type": "stream",
     "text": [
      "           Date       Open       High        Low      Close  Adj Close  \\\n",
      "0    2020-01-03  45.040001  45.500000  45.009998  45.310001  43.655869   \n",
      "1    2020-01-06  45.099998  45.549999  44.930000  45.470001  43.810032   \n",
      "2    2020-01-07  45.500000  45.680000  45.020000  45.310001  43.655869   \n",
      "3    2020-01-08  45.730000  45.779999  45.189999  45.400002  43.742584   \n",
      "4    2020-01-09  45.450001  45.500000  44.900002  45.209999  43.559521   \n",
      "..          ...        ...        ...        ...        ...        ...   \n",
      "663  2022-08-22  68.180000  68.300003  67.059998  67.230003  67.230003   \n",
      "664  2022-08-23  67.699997  68.660004  67.260002  67.349998  67.349998   \n",
      "665  2022-08-24  66.879997  67.550003  66.150002  66.629997  66.629997   \n",
      "666  2022-08-25  66.529999  68.349998  66.070000  67.910004  67.910004   \n",
      "667  2022-08-26  68.169998  68.459999  65.470001  65.550003  65.550003   \n",
      "\n",
      "      Volume  \n",
      "0    4236000  \n",
      "1    3350300  \n",
      "2    2889600  \n",
      "3    4679700  \n",
      "4    5148700  \n",
      "..       ...  \n",
      "663  7351600  \n",
      "664  3073700  \n",
      "665  3465700  \n",
      "666  2921800  \n",
      "667  4719800  \n",
      "\n",
      "[668 rows x 7 columns]\n"
     ]
    }
   ],
   "source": [
    "#Inspect the 2020-2022\n",
    "print(xrt_df2)"
   ]
  },
  {
   "cell_type": "code",
   "execution_count": 9,
   "id": "56119d3d",
   "metadata": {},
   "outputs": [
    {
     "name": "stdout",
     "output_type": "stream",
     "text": [
      "             Open        High         Low       Close   Adj Close  \\\n",
      "count  668.000000  668.000000  668.000000  668.000000  668.000000   \n",
      "mean    69.413263   70.287246   68.436766   69.374416   68.141050   \n",
      "std     21.176683   21.366038   20.931750   21.127429   20.978257   \n",
      "min     27.549999   27.770000   26.290001   26.990000   26.168463   \n",
      "25%     50.785001   51.254999   50.009998   50.787501   49.370038   \n",
      "50%     70.790001   71.979999   69.960003   71.439999   70.319820   \n",
      "75%     91.220001   92.262499   89.997501   90.959999   89.268957   \n",
      "max    104.160004  104.309998  102.410004  104.160004  102.392715   \n",
      "\n",
      "             Volume  \n",
      "count  6.680000e+02  \n",
      "mean   4.400997e+06  \n",
      "std    2.808209e+06  \n",
      "min    5.547000e+05  \n",
      "25%    2.474750e+06  \n",
      "50%    3.722100e+06  \n",
      "75%    5.552800e+06  \n",
      "max    3.274590e+07  \n"
     ]
    }
   ],
   "source": [
    "#print the summary \n",
    "print(xrt_df2.describe())"
   ]
  },
  {
   "cell_type": "code",
   "execution_count": 10,
   "id": "848b76bc",
   "metadata": {},
   "outputs": [],
   "source": [
    "#now prep the data for 2014-2019\n",
    "xrt_df.set_index(pd.DatetimeIndex(xrt_df['Date']), inplace=True)"
   ]
  },
  {
   "cell_type": "code",
   "execution_count": 11,
   "id": "6a6bc144",
   "metadata": {},
   "outputs": [],
   "source": [
    "#now prep the data for 2020-2022\n",
    "xrt_df2.set_index(pd.DatetimeIndex(xrt_df2['Date']), inplace=True)"
   ]
  },
  {
   "cell_type": "code",
   "execution_count": 12,
   "id": "7ba8e1c7",
   "metadata": {},
   "outputs": [],
   "source": [
    "#Keep the close for 2014-19\n",
    "xrt_df = xrt_df[['Close']]"
   ]
  },
  {
   "cell_type": "code",
   "execution_count": 13,
   "id": "5a4531b4",
   "metadata": {},
   "outputs": [
    {
     "name": "stdout",
     "output_type": "stream",
     "text": [
      "                Close\n",
      "Date                 \n",
      "2014-01-03  43.799999\n",
      "2014-01-06  43.380001\n",
      "2014-01-07  43.450001\n",
      "2014-01-08  43.244999\n",
      "2014-01-09  42.904999\n",
      "...               ...\n",
      "2022-08-16  74.349998\n",
      "2022-08-17  72.230003\n",
      "2022-08-18  71.720001\n",
      "2022-08-19  69.419998\n",
      "2022-08-22  67.230003\n",
      "\n",
      "[2174 rows x 1 columns]\n"
     ]
    }
   ],
   "source": [
    "print(xrt_df)"
   ]
  },
  {
   "cell_type": "code",
   "execution_count": 14,
   "id": "8423e900",
   "metadata": {},
   "outputs": [],
   "source": [
    "#Keep the close 2020-22\n",
    "xrt_df2 = xrt_df2[['Close']]"
   ]
  },
  {
   "cell_type": "code",
   "execution_count": 15,
   "id": "a27af2e4",
   "metadata": {},
   "outputs": [
    {
     "name": "stdout",
     "output_type": "stream",
     "text": [
      "                Close\n",
      "Date                 \n",
      "2020-01-03  45.310001\n",
      "2020-01-06  45.470001\n",
      "2020-01-07  45.310001\n",
      "2020-01-08  45.400002\n",
      "2020-01-09  45.209999\n",
      "...               ...\n",
      "2022-08-22  67.230003\n",
      "2022-08-23  67.349998\n",
      "2022-08-24  66.629997\n",
      "2022-08-25  67.910004\n",
      "2022-08-26  65.550003\n",
      "\n",
      "[668 rows x 1 columns]\n"
     ]
    }
   ],
   "source": [
    "print(xrt_df2)"
   ]
  },
  {
   "cell_type": "code",
   "execution_count": 16,
   "id": "586a5070",
   "metadata": {},
   "outputs": [],
   "source": [
    "#Create a Variable to predict 2020-2022\n",
    "prediction_days = 599\n",
    "\n",
    "# Create an new column that targets the data and \n",
    "# predict values of x day away from the current price \n",
    "xrt_df['Actual Prediction'] = xrt_df[['Close']].shift(-prediction_days)\n"
   ]
  },
  {
   "cell_type": "code",
   "execution_count": 17,
   "id": "28ac3da1",
   "metadata": {},
   "outputs": [
    {
     "data": {
      "text/html": [
       "<div>\n",
       "<style scoped>\n",
       "    .dataframe tbody tr th:only-of-type {\n",
       "        vertical-align: middle;\n",
       "    }\n",
       "\n",
       "    .dataframe tbody tr th {\n",
       "        vertical-align: top;\n",
       "    }\n",
       "\n",
       "    .dataframe thead th {\n",
       "        text-align: right;\n",
       "    }\n",
       "</style>\n",
       "<table border=\"1\" class=\"dataframe\">\n",
       "  <thead>\n",
       "    <tr style=\"text-align: right;\">\n",
       "      <th></th>\n",
       "      <th>Close</th>\n",
       "      <th>Actual Prediction</th>\n",
       "    </tr>\n",
       "    <tr>\n",
       "      <th>Date</th>\n",
       "      <th></th>\n",
       "      <th></th>\n",
       "    </tr>\n",
       "  </thead>\n",
       "  <tbody>\n",
       "    <tr>\n",
       "      <th>2014-01-03</th>\n",
       "      <td>43.799999</td>\n",
       "      <td>41.259998</td>\n",
       "    </tr>\n",
       "    <tr>\n",
       "      <th>2014-01-06</th>\n",
       "      <td>43.380001</td>\n",
       "      <td>40.869999</td>\n",
       "    </tr>\n",
       "    <tr>\n",
       "      <th>2014-01-07</th>\n",
       "      <td>43.450001</td>\n",
       "      <td>41.200001</td>\n",
       "    </tr>\n",
       "    <tr>\n",
       "      <th>2014-01-08</th>\n",
       "      <td>43.244999</td>\n",
       "      <td>41.700001</td>\n",
       "    </tr>\n",
       "    <tr>\n",
       "      <th>2014-01-09</th>\n",
       "      <td>42.904999</td>\n",
       "      <td>41.810001</td>\n",
       "    </tr>\n",
       "    <tr>\n",
       "      <th>...</th>\n",
       "      <td>...</td>\n",
       "      <td>...</td>\n",
       "    </tr>\n",
       "    <tr>\n",
       "      <th>2022-08-16</th>\n",
       "      <td>74.349998</td>\n",
       "      <td>NaN</td>\n",
       "    </tr>\n",
       "    <tr>\n",
       "      <th>2022-08-17</th>\n",
       "      <td>72.230003</td>\n",
       "      <td>NaN</td>\n",
       "    </tr>\n",
       "    <tr>\n",
       "      <th>2022-08-18</th>\n",
       "      <td>71.720001</td>\n",
       "      <td>NaN</td>\n",
       "    </tr>\n",
       "    <tr>\n",
       "      <th>2022-08-19</th>\n",
       "      <td>69.419998</td>\n",
       "      <td>NaN</td>\n",
       "    </tr>\n",
       "    <tr>\n",
       "      <th>2022-08-22</th>\n",
       "      <td>67.230003</td>\n",
       "      <td>NaN</td>\n",
       "    </tr>\n",
       "  </tbody>\n",
       "</table>\n",
       "<p>2174 rows × 2 columns</p>\n",
       "</div>"
      ],
      "text/plain": [
       "                Close  Actual Prediction\n",
       "Date                                    \n",
       "2014-01-03  43.799999          41.259998\n",
       "2014-01-06  43.380001          40.869999\n",
       "2014-01-07  43.450001          41.200001\n",
       "2014-01-08  43.244999          41.700001\n",
       "2014-01-09  42.904999          41.810001\n",
       "...               ...                ...\n",
       "2022-08-16  74.349998                NaN\n",
       "2022-08-17  72.230003                NaN\n",
       "2022-08-18  71.720001                NaN\n",
       "2022-08-19  69.419998                NaN\n",
       "2022-08-22  67.230003                NaN\n",
       "\n",
       "[2174 rows x 2 columns]"
      ]
     },
     "execution_count": 17,
     "metadata": {},
     "output_type": "execute_result"
    }
   ],
   "source": [
    "#print the new column for 2014-19\n",
    "xrt_df"
   ]
  },
  {
   "cell_type": "code",
   "execution_count": 18,
   "id": "70bbddec",
   "metadata": {},
   "outputs": [],
   "source": [
    "# Create independent dataset X and create a numpy array\n",
    "X=X = np.array(xrt_df[['Close']])"
   ]
  },
  {
   "cell_type": "code",
   "execution_count": 19,
   "id": "b8e0ad3e",
   "metadata": {},
   "outputs": [],
   "source": [
    "#Git rid of any Nan/rows \n",
    "X=X[:-prediction_days]\n",
    "#print(X)"
   ]
  },
  {
   "cell_type": "code",
   "execution_count": 20,
   "id": "e401e719",
   "metadata": {},
   "outputs": [],
   "source": [
    "#Creat the dependetnt data for Y\n",
    "Y=xrt_df['Actual Prediction'].values\n"
   ]
  },
  {
   "cell_type": "code",
   "execution_count": 21,
   "id": "d79d8846",
   "metadata": {},
   "outputs": [],
   "source": [
    "Y=Y[:-prediction_days]\n",
    "# print(Y)"
   ]
  },
  {
   "cell_type": "code",
   "execution_count": 22,
   "id": "decc22cb",
   "metadata": {},
   "outputs": [],
   "source": [
    "# train and test ratio is 70% traing and 30% testing\n",
    "x_train, x_test, y_train, y_test = train_test_split(X, Y, test_size = 0.30)"
   ]
  },
  {
   "cell_type": "code",
   "execution_count": 23,
   "id": "20f98625",
   "metadata": {},
   "outputs": [
    {
     "data": {
      "text/plain": [
       "LinearRegression()"
      ]
     },
     "execution_count": 23,
     "metadata": {},
     "output_type": "execute_result"
    }
   ],
   "source": [
    "#Creat the model\n",
    "l_r = LinearRegression()\n",
    "#train the model\n",
    "l_r.fit(x_train, y_train)"
   ]
  },
  {
   "cell_type": "code",
   "execution_count": 24,
   "id": "a483c5ee",
   "metadata": {},
   "outputs": [
    {
     "name": "stdout",
     "output_type": "stream",
     "text": [
      "-0.009331869442458007\n"
     ]
    }
   ],
   "source": [
    "#test the model using score\n",
    "linear_score=l_r.score(x_test,y_test)\n",
    "print(linear_score)"
   ]
  },
  {
   "cell_type": "code",
   "execution_count": 25,
   "id": "c5264ddb",
   "metadata": {},
   "outputs": [],
   "source": [
    "#well I think that im going to predict the last 500days.\n",
    "acutal_days=np.array(xrt_df[['Close']])[-prediction_days:]\n",
    "# acutal_days"
   ]
  },
  {
   "cell_type": "code",
   "execution_count": 26,
   "id": "7bc7d6b2",
   "metadata": {},
   "outputs": [],
   "source": [
    "#print the liner regression prediction  for the next 599 days\n",
    "\n",
    "linear_prediction=l_r.predict(acutal_days)\n",
    "\n",
    "# linear_prediction\n"
   ]
  },
  {
   "cell_type": "code",
   "execution_count": 27,
   "id": "84235874",
   "metadata": {},
   "outputs": [],
   "source": [
    "#okay this is were we put the 2020-2022 data in \n",
    "actual_20_22=np.array(xrt_df2[['Close']])\n",
    "# actual_20_22"
   ]
  },
  {
   "cell_type": "code",
   "execution_count": 28,
   "id": "119b0210",
   "metadata": {},
   "outputs": [
    {
     "data": {
      "text/plain": [
       "(599,)"
      ]
     },
     "execution_count": 28,
     "metadata": {},
     "output_type": "execute_result"
    }
   ],
   "source": [
    "linear_prediction.shape"
   ]
  },
  {
   "cell_type": "code",
   "execution_count": 29,
   "id": "29c6da25",
   "metadata": {},
   "outputs": [
    {
     "data": {
      "text/plain": [
       "(668, 1)"
      ]
     },
     "execution_count": 29,
     "metadata": {},
     "output_type": "execute_result"
    }
   ],
   "source": [
    "actual_20_22.shape "
   ]
  },
  {
   "cell_type": "code",
   "execution_count": 30,
   "id": "a151095e",
   "metadata": {},
   "outputs": [
    {
     "data": {
      "image/png": "[encoded data removed]",
      "text/plain": [
       "<Figure size 1440x576 with 1 Axes>"
      ]
     },
     "metadata": {
      "needs_background": "light"
     },
     "output_type": "display_data"
    }
   ],
   "source": [
    "# Visualize the data\n",
    "\n",
    "import matplotlib.pyplot as plt\n",
    "\n",
    "plt.figure(figsize=(20, 8))\n",
    "plt.plot(linear_prediction) # lable='Prediction' , lw=2, alpha=.7)\n",
    "plt.plot(actual_20_22) #  , lable='Actual') # , lw=2, alpha=.7)\n",
    "plt.title('Pred vs Act')\n",
    "plt.xlabel('Time')\n",
    "plt.ylabel('XRTClose USD($)')\n",
    "plt.legend(['linear_prediction', 'actual_20_22'])\n",
    "plt.xticks(rotation=45)\n",
    "plt.show()"
   ]
  },
  {
   "cell_type": "code",
   "execution_count": null,
   "id": "1a5a5e74",
   "metadata": {},
   "outputs": [],
   "source": []
  }
 ],
 "metadata": {
  "kernelspec": {
   "display_name": "mlenv",
   "language": "python",
   "name": "mlenv"
  },
  "language_info": {
   "codemirror_mode": {
    "name": "ipython",
    "version": 3
   },
   "file_extension": ".py",
   "mimetype": "text/x-python",
   "name": "python",
   "nbconvert_exporter": "python",
   "pygments_lexer": "ipython3",
   "version": "3.7.13"
  }
 },
 "nbformat": 4,
 "nbformat_minor": 5
}
