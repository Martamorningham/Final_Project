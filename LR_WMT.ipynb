{
 "cells": [
  {
   "cell_type": "code",
   "execution_count": 1,
   "id": "38be4bc1",
   "metadata": {},
   "outputs": [],
   "source": [
    "import pandas as pd \n",
    "import pandas as pd\n",
    "import numpy as np\n",
    "import matplotlib.pyplot as plt\n",
    "import pandas_ta #moving avg\n",
    "from sklearn.model_selection import train_test_split\n",
    "from sklearn.linear_model import LinearRegression\n",
    "from sklearn.metrics import mean_squared_error, r2_score, mean_absolute_error"
   ]
  },
  {
   "cell_type": "code",
   "execution_count": 2,
   "id": "a6cef13d",
   "metadata": {},
   "outputs": [],
   "source": [
    "#load the data \n",
    "wmt_df = pd.read_csv('WMT_14_19.csv')"
   ]
  },
  {
   "cell_type": "code",
   "execution_count": 3,
   "id": "5fcd05ec",
   "metadata": {},
   "outputs": [
    {
     "data": {
      "text/html": [
       "<div>\n",
       "<style scoped>\n",
       "    .dataframe tbody tr th:only-of-type {\n",
       "        vertical-align: middle;\n",
       "    }\n",
       "\n",
       "    .dataframe tbody tr th {\n",
       "        vertical-align: top;\n",
       "    }\n",
       "\n",
       "    .dataframe thead th {\n",
       "        text-align: right;\n",
       "    }\n",
       "</style>\n",
       "<table border=\"1\" class=\"dataframe\">\n",
       "  <thead>\n",
       "    <tr style=\"text-align: right;\">\n",
       "      <th></th>\n",
       "      <th>Date</th>\n",
       "      <th>Open</th>\n",
       "      <th>High</th>\n",
       "      <th>Low</th>\n",
       "      <th>Close</th>\n",
       "      <th>Adj Close</th>\n",
       "      <th>Volume</th>\n",
       "    </tr>\n",
       "  </thead>\n",
       "  <tbody>\n",
       "    <tr>\n",
       "      <th>0</th>\n",
       "      <td>2014-01-17</td>\n",
       "      <td>76.730003</td>\n",
       "      <td>76.820000</td>\n",
       "      <td>76.029999</td>\n",
       "      <td>76.190002</td>\n",
       "      <td>62.755169</td>\n",
       "      <td>11440700</td>\n",
       "    </tr>\n",
       "    <tr>\n",
       "      <th>1</th>\n",
       "      <td>2014-01-21</td>\n",
       "      <td>76.250000</td>\n",
       "      <td>76.389999</td>\n",
       "      <td>74.860001</td>\n",
       "      <td>75.839996</td>\n",
       "      <td>62.466919</td>\n",
       "      <td>8971100</td>\n",
       "    </tr>\n",
       "    <tr>\n",
       "      <th>2</th>\n",
       "      <td>2014-01-22</td>\n",
       "      <td>76.080002</td>\n",
       "      <td>76.080002</td>\n",
       "      <td>75.029999</td>\n",
       "      <td>75.349998</td>\n",
       "      <td>62.063290</td>\n",
       "      <td>5853700</td>\n",
       "    </tr>\n",
       "    <tr>\n",
       "      <th>3</th>\n",
       "      <td>2014-01-23</td>\n",
       "      <td>74.839996</td>\n",
       "      <td>75.120003</td>\n",
       "      <td>74.470001</td>\n",
       "      <td>74.959999</td>\n",
       "      <td>61.742085</td>\n",
       "      <td>6006300</td>\n",
       "    </tr>\n",
       "    <tr>\n",
       "      <th>4</th>\n",
       "      <td>2014-01-24</td>\n",
       "      <td>74.730003</td>\n",
       "      <td>75.120003</td>\n",
       "      <td>74.230003</td>\n",
       "      <td>74.419998</td>\n",
       "      <td>61.297295</td>\n",
       "      <td>9332800</td>\n",
       "    </tr>\n",
       "  </tbody>\n",
       "</table>\n",
       "</div>"
      ],
      "text/plain": [
       "         Date       Open       High        Low      Close  Adj Close    Volume\n",
       "0  2014-01-17  76.730003  76.820000  76.029999  76.190002  62.755169  11440700\n",
       "1  2014-01-21  76.250000  76.389999  74.860001  75.839996  62.466919   8971100\n",
       "2  2014-01-22  76.080002  76.080002  75.029999  75.349998  62.063290   5853700\n",
       "3  2014-01-23  74.839996  75.120003  74.470001  74.959999  61.742085   6006300\n",
       "4  2014-01-24  74.730003  75.120003  74.230003  74.419998  61.297295   9332800"
      ]
     },
     "execution_count": 3,
     "metadata": {},
     "output_type": "execute_result"
    }
   ],
   "source": [
    "wmt_df.head()"
   ]
  },
  {
   "cell_type": "code",
   "execution_count": 4,
   "id": "29644f20",
   "metadata": {},
   "outputs": [
    {
     "name": "stdout",
     "output_type": "stream",
     "text": [
      "            Date       Open       High        Low      Close  Adj Close  \\\n",
      "0     2014-01-17  76.730003  76.820000  76.029999  76.190002  62.755169   \n",
      "1     2014-01-21  76.250000  76.389999  74.860001  75.839996  62.466919   \n",
      "2     2014-01-22  76.080002  76.080002  75.029999  75.349998  62.063290   \n",
      "3     2014-01-23  74.839996  75.120003  74.470001  74.959999  61.742085   \n",
      "4     2014-01-24  74.730003  75.120003  74.230003  74.419998  61.297295   \n",
      "...          ...        ...        ...        ...        ...        ...   \n",
      "1253  2019-01-10  93.879997  94.980003  93.120003  94.959999  89.053589   \n",
      "1254  2019-01-11  94.989998  95.290001  94.550003  94.839996  88.941063   \n",
      "1255  2019-01-14  94.480003  95.449997  94.279999  94.949997  89.044228   \n",
      "1256  2019-01-15  95.470001  96.599998  95.379997  96.250000  90.263344   \n",
      "1257  2019-01-16  95.930000  96.860001  95.830002  96.349998  90.357132   \n",
      "\n",
      "        Volume  \n",
      "0     11440700  \n",
      "1      8971100  \n",
      "2      5853700  \n",
      "3      6006300  \n",
      "4      9332800  \n",
      "...        ...  \n",
      "1253   9396300  \n",
      "1254   5394600  \n",
      "1255   7085100  \n",
      "1256   7058200  \n",
      "1257   5410000  \n",
      "\n",
      "[1258 rows x 7 columns]\n"
     ]
    }
   ],
   "source": [
    "#Inspect it \n",
    "print(wmt_df)"
   ]
  },
  {
   "cell_type": "code",
   "execution_count": 5,
   "id": "cda06dd8",
   "metadata": {},
   "outputs": [
    {
     "name": "stdout",
     "output_type": "stream",
     "text": [
      "              Open         High          Low        Close    Adj Close  \\\n",
      "count  1258.000000  1258.000000  1258.000000  1258.000000  1258.000000   \n",
      "mean     78.248307    78.826876    77.722671    78.273514    69.148844   \n",
      "std      10.579113    10.686520    10.455335    10.574986    11.129199   \n",
      "min      56.389999    57.060001    56.299999    56.419998    48.553188   \n",
      "25%      71.110001    71.639999    70.704998    71.139999    61.977370   \n",
      "50%      76.229999    76.575001    75.860001    76.175003    64.772007   \n",
      "75%      85.837497    86.355000    85.105002    85.792498    76.633310   \n",
      "max     109.139999   109.980003   107.989998   109.550003   100.354187   \n",
      "\n",
      "             Volume  \n",
      "count  1.258000e+03  \n",
      "mean   8.672326e+06  \n",
      "std    5.033155e+06  \n",
      "min    2.482800e+06  \n",
      "25%    6.054525e+06  \n",
      "50%    7.513200e+06  \n",
      "75%    9.695500e+06  \n",
      "max    8.089810e+07  \n"
     ]
    }
   ],
   "source": [
    "#print the summary \n",
    "print(wmt_df.describe())"
   ]
  },
  {
   "cell_type": "code",
   "execution_count": 6,
   "id": "2917722f",
   "metadata": {},
   "outputs": [],
   "source": [
    "# load data set 2\n",
    "wmt_df2 = pd.read_csv('WMT_2020_2022.csv')"
   ]
  },
  {
   "cell_type": "code",
   "execution_count": 7,
   "id": "22e4aa61",
   "metadata": {},
   "outputs": [
    {
     "data": {
      "text/html": [
       "<div>\n",
       "<style scoped>\n",
       "    .dataframe tbody tr th:only-of-type {\n",
       "        vertical-align: middle;\n",
       "    }\n",
       "\n",
       "    .dataframe tbody tr th {\n",
       "        vertical-align: top;\n",
       "    }\n",
       "\n",
       "    .dataframe thead th {\n",
       "        text-align: right;\n",
       "    }\n",
       "</style>\n",
       "<table border=\"1\" class=\"dataframe\">\n",
       "  <thead>\n",
       "    <tr style=\"text-align: right;\">\n",
       "      <th></th>\n",
       "      <th>Date</th>\n",
       "      <th>Open</th>\n",
       "      <th>High</th>\n",
       "      <th>Low</th>\n",
       "      <th>Close</th>\n",
       "      <th>Adj Close</th>\n",
       "      <th>Volume</th>\n",
       "    </tr>\n",
       "  </thead>\n",
       "  <tbody>\n",
       "    <tr>\n",
       "      <th>0</th>\n",
       "      <td>2020-01-17</td>\n",
       "      <td>116.050003</td>\n",
       "      <td>116.300003</td>\n",
       "      <td>114.639999</td>\n",
       "      <td>114.959999</td>\n",
       "      <td>109.993027</td>\n",
       "      <td>10045000</td>\n",
       "    </tr>\n",
       "    <tr>\n",
       "      <th>1</th>\n",
       "      <td>2020-01-21</td>\n",
       "      <td>114.589996</td>\n",
       "      <td>115.690002</td>\n",
       "      <td>114.519997</td>\n",
       "      <td>115.589996</td>\n",
       "      <td>110.595795</td>\n",
       "      <td>7353700</td>\n",
       "    </tr>\n",
       "    <tr>\n",
       "      <th>2</th>\n",
       "      <td>2020-01-22</td>\n",
       "      <td>115.220001</td>\n",
       "      <td>116.529999</td>\n",
       "      <td>115.180000</td>\n",
       "      <td>116.099998</td>\n",
       "      <td>111.083771</td>\n",
       "      <td>4926100</td>\n",
       "    </tr>\n",
       "    <tr>\n",
       "      <th>3</th>\n",
       "      <td>2020-01-23</td>\n",
       "      <td>116.209999</td>\n",
       "      <td>116.309998</td>\n",
       "      <td>115.040001</td>\n",
       "      <td>115.809998</td>\n",
       "      <td>110.806297</td>\n",
       "      <td>4305100</td>\n",
       "    </tr>\n",
       "    <tr>\n",
       "      <th>4</th>\n",
       "      <td>2020-01-24</td>\n",
       "      <td>116.000000</td>\n",
       "      <td>116.029999</td>\n",
       "      <td>114.150002</td>\n",
       "      <td>114.370003</td>\n",
       "      <td>109.428535</td>\n",
       "      <td>4383400</td>\n",
       "    </tr>\n",
       "  </tbody>\n",
       "</table>\n",
       "</div>"
      ],
      "text/plain": [
       "         Date        Open        High         Low       Close   Adj Close  \\\n",
       "0  2020-01-17  116.050003  116.300003  114.639999  114.959999  109.993027   \n",
       "1  2020-01-21  114.589996  115.690002  114.519997  115.589996  110.595795   \n",
       "2  2020-01-22  115.220001  116.529999  115.180000  116.099998  111.083771   \n",
       "3  2020-01-23  116.209999  116.309998  115.040001  115.809998  110.806297   \n",
       "4  2020-01-24  116.000000  116.029999  114.150002  114.370003  109.428535   \n",
       "\n",
       "     Volume  \n",
       "0  10045000  \n",
       "1   7353700  \n",
       "2   4926100  \n",
       "3   4305100  \n",
       "4   4383400  "
      ]
     },
     "execution_count": 7,
     "metadata": {},
     "output_type": "execute_result"
    }
   ],
   "source": [
    "wmt_df2.head()"
   ]
  },
  {
   "cell_type": "code",
   "execution_count": 8,
   "id": "4984617b",
   "metadata": {},
   "outputs": [
    {
     "name": "stdout",
     "output_type": "stream",
     "text": [
      "           Date        Open        High         Low       Close   Adj Close  \\\n",
      "0    2020-01-17  116.050003  116.300003  114.639999  114.959999  109.993027   \n",
      "1    2020-01-21  114.589996  115.690002  114.519997  115.589996  110.595795   \n",
      "2    2020-01-22  115.220001  116.529999  115.180000  116.099998  111.083771   \n",
      "3    2020-01-23  116.209999  116.309998  115.040001  115.809998  110.806297   \n",
      "4    2020-01-24  116.000000  116.029999  114.150002  114.370003  109.428535   \n",
      "..          ...         ...         ...         ...         ...         ...   \n",
      "648  2022-08-15  131.630005  133.570007  131.360001  132.600006  132.600006   \n",
      "649  2022-08-16  138.899994  140.929993  138.190002  139.369995  139.369995   \n",
      "650  2022-08-17  138.570007  142.720001  138.399994  139.520004  139.520004   \n",
      "651  2022-08-18  139.529999  140.419998  138.500000  139.070007  139.070007   \n",
      "652  2022-08-19  138.919998  139.070007  136.910004  137.020004  137.020004   \n",
      "\n",
      "       Volume  \n",
      "0    10045000  \n",
      "1     7353700  \n",
      "2     4926100  \n",
      "3     4305100  \n",
      "4     4383400  \n",
      "..        ...  \n",
      "648   8838700  \n",
      "649  30591100  \n",
      "650  13930700  \n",
      "651   6399200  \n",
      "652   7634000  \n",
      "\n",
      "[653 rows x 7 columns]\n"
     ]
    }
   ],
   "source": [
    "#Inspect the 2020-2022\n",
    "print(wmt_df2)"
   ]
  },
  {
   "cell_type": "code",
   "execution_count": 9,
   "id": "56119d3d",
   "metadata": {},
   "outputs": [
    {
     "name": "stdout",
     "output_type": "stream",
     "text": [
      "             Open        High         Low       Close   Adj Close  \\\n",
      "count  653.000000  653.000000  653.000000  653.000000  653.000000   \n",
      "mean   136.290123  137.645727  135.109663  136.363201  133.367264   \n",
      "std     11.033342   10.785048   11.132874   10.894256   11.379848   \n",
      "min    105.199997  108.519997  102.000000  104.050003   99.554413   \n",
      "25%    129.000000  130.149994  127.730003  129.000000  125.454193   \n",
      "50%    139.339996  140.369995  138.220001  139.369995  136.472580   \n",
      "75%    144.160004  145.360001  143.020004  144.229996  141.265076   \n",
      "max    160.250000  160.770004  159.070007  159.869995  158.600250   \n",
      "\n",
      "             Volume  \n",
      "count  6.530000e+02  \n",
      "mean   8.787900e+06  \n",
      "std    4.709867e+06  \n",
      "min    3.018200e+06  \n",
      "25%    6.134100e+06  \n",
      "50%    7.442900e+06  \n",
      "75%    9.817700e+06  \n",
      "max    4.431340e+07  \n"
     ]
    }
   ],
   "source": [
    "#print the summary \n",
    "print(wmt_df2.describe())"
   ]
  },
  {
   "cell_type": "code",
   "execution_count": 10,
   "id": "848b76bc",
   "metadata": {},
   "outputs": [],
   "source": [
    "#now prep the data for 2014-2019\n",
    "wmt_df.set_index(pd.DatetimeIndex(wmt_df['Date']), inplace=True)"
   ]
  },
  {
   "cell_type": "code",
   "execution_count": 11,
   "id": "6a6bc144",
   "metadata": {},
   "outputs": [],
   "source": [
    "#now prep the data for 2020-2022\n",
    "wmt_df2.set_index(pd.DatetimeIndex(wmt_df2['Date']), inplace=True)"
   ]
  },
  {
   "cell_type": "code",
   "execution_count": 12,
   "id": "7ba8e1c7",
   "metadata": {},
   "outputs": [],
   "source": [
    "#Keep the close for 2014-19\n",
    "wmt_df = wmt_df[['Close']]"
   ]
  },
  {
   "cell_type": "code",
   "execution_count": 13,
   "id": "5a4531b4",
   "metadata": {},
   "outputs": [
    {
     "name": "stdout",
     "output_type": "stream",
     "text": [
      "                Close\n",
      "Date                 \n",
      "2014-01-17  76.190002\n",
      "2014-01-21  75.839996\n",
      "2014-01-22  75.349998\n",
      "2014-01-23  74.959999\n",
      "2014-01-24  74.419998\n",
      "...               ...\n",
      "2019-01-10  94.959999\n",
      "2019-01-11  94.839996\n",
      "2019-01-14  94.949997\n",
      "2019-01-15  96.250000\n",
      "2019-01-16  96.349998\n",
      "\n",
      "[1258 rows x 1 columns]\n"
     ]
    }
   ],
   "source": [
    "print(wmt_df)"
   ]
  },
  {
   "cell_type": "code",
   "execution_count": 14,
   "id": "8423e900",
   "metadata": {},
   "outputs": [],
   "source": [
    "#Keep the close 2020-22\n",
    "wmt_df2 = wmt_df2[['Close']]"
   ]
  },
  {
   "cell_type": "code",
   "execution_count": 15,
   "id": "a27af2e4",
   "metadata": {},
   "outputs": [
    {
     "name": "stdout",
     "output_type": "stream",
     "text": [
      "                 Close\n",
      "Date                  \n",
      "2020-01-17  114.959999\n",
      "2020-01-21  115.589996\n",
      "2020-01-22  116.099998\n",
      "2020-01-23  115.809998\n",
      "2020-01-24  114.370003\n",
      "...                ...\n",
      "2022-08-15  132.600006\n",
      "2022-08-16  139.369995\n",
      "2022-08-17  139.520004\n",
      "2022-08-18  139.070007\n",
      "2022-08-19  137.020004\n",
      "\n",
      "[653 rows x 1 columns]\n"
     ]
    }
   ],
   "source": [
    "print(wmt_df2)"
   ]
  },
  {
   "cell_type": "code",
   "execution_count": 16,
   "id": "586a5070",
   "metadata": {},
   "outputs": [],
   "source": [
    "#Create a Variable to predict 2020-2022\n",
    "prediction_days = 599\n",
    "\n",
    "# Create an new column that targets the data and \n",
    "# predict values of x day away from the current price \n",
    "wmt_df['Actual Prediction'] = wmt_df[['Close']].shift(-prediction_days)\n"
   ]
  },
  {
   "cell_type": "code",
   "execution_count": 17,
   "id": "28ac3da1",
   "metadata": {},
   "outputs": [
    {
     "data": {
      "text/html": [
       "<div>\n",
       "<style scoped>\n",
       "    .dataframe tbody tr th:only-of-type {\n",
       "        vertical-align: middle;\n",
       "    }\n",
       "\n",
       "    .dataframe tbody tr th {\n",
       "        vertical-align: top;\n",
       "    }\n",
       "\n",
       "    .dataframe thead th {\n",
       "        text-align: right;\n",
       "    }\n",
       "</style>\n",
       "<table border=\"1\" class=\"dataframe\">\n",
       "  <thead>\n",
       "    <tr style=\"text-align: right;\">\n",
       "      <th></th>\n",
       "      <th>Close</th>\n",
       "      <th>Actual Prediction</th>\n",
       "    </tr>\n",
       "    <tr>\n",
       "      <th>Date</th>\n",
       "      <th></th>\n",
       "      <th></th>\n",
       "    </tr>\n",
       "  </thead>\n",
       "  <tbody>\n",
       "    <tr>\n",
       "      <th>2014-01-17</th>\n",
       "      <td>76.190002</td>\n",
       "      <td>71.050003</td>\n",
       "    </tr>\n",
       "    <tr>\n",
       "      <th>2014-01-21</th>\n",
       "      <td>75.839996</td>\n",
       "      <td>71.029999</td>\n",
       "    </tr>\n",
       "    <tr>\n",
       "      <th>2014-01-22</th>\n",
       "      <td>75.349998</td>\n",
       "      <td>71.279999</td>\n",
       "    </tr>\n",
       "    <tr>\n",
       "      <th>2014-01-23</th>\n",
       "      <td>74.959999</td>\n",
       "      <td>71.089996</td>\n",
       "    </tr>\n",
       "    <tr>\n",
       "      <th>2014-01-24</th>\n",
       "      <td>74.419998</td>\n",
       "      <td>71.139999</td>\n",
       "    </tr>\n",
       "    <tr>\n",
       "      <th>...</th>\n",
       "      <td>...</td>\n",
       "      <td>...</td>\n",
       "    </tr>\n",
       "    <tr>\n",
       "      <th>2019-01-10</th>\n",
       "      <td>94.959999</td>\n",
       "      <td>NaN</td>\n",
       "    </tr>\n",
       "    <tr>\n",
       "      <th>2019-01-11</th>\n",
       "      <td>94.839996</td>\n",
       "      <td>NaN</td>\n",
       "    </tr>\n",
       "    <tr>\n",
       "      <th>2019-01-14</th>\n",
       "      <td>94.949997</td>\n",
       "      <td>NaN</td>\n",
       "    </tr>\n",
       "    <tr>\n",
       "      <th>2019-01-15</th>\n",
       "      <td>96.250000</td>\n",
       "      <td>NaN</td>\n",
       "    </tr>\n",
       "    <tr>\n",
       "      <th>2019-01-16</th>\n",
       "      <td>96.349998</td>\n",
       "      <td>NaN</td>\n",
       "    </tr>\n",
       "  </tbody>\n",
       "</table>\n",
       "<p>1258 rows × 2 columns</p>\n",
       "</div>"
      ],
      "text/plain": [
       "                Close  Actual Prediction\n",
       "Date                                    \n",
       "2014-01-17  76.190002          71.050003\n",
       "2014-01-21  75.839996          71.029999\n",
       "2014-01-22  75.349998          71.279999\n",
       "2014-01-23  74.959999          71.089996\n",
       "2014-01-24  74.419998          71.139999\n",
       "...               ...                ...\n",
       "2019-01-10  94.959999                NaN\n",
       "2019-01-11  94.839996                NaN\n",
       "2019-01-14  94.949997                NaN\n",
       "2019-01-15  96.250000                NaN\n",
       "2019-01-16  96.349998                NaN\n",
       "\n",
       "[1258 rows x 2 columns]"
      ]
     },
     "execution_count": 17,
     "metadata": {},
     "output_type": "execute_result"
    }
   ],
   "source": [
    "#print the new column for 2014-19\n",
    "wmt_df"
   ]
  },
  {
   "cell_type": "code",
   "execution_count": 18,
   "id": "70bbddec",
   "metadata": {},
   "outputs": [],
   "source": [
    "# Create independent dataset X and create a numpy array\n",
    "X=X = np.array(wmt_df[['Close']])"
   ]
  },
  {
   "cell_type": "code",
   "execution_count": 19,
   "id": "b8e0ad3e",
   "metadata": {},
   "outputs": [],
   "source": [
    "#Git rid of any Nan/rows \n",
    "X=X[:-prediction_days]\n",
    "#print(X)"
   ]
  },
  {
   "cell_type": "code",
   "execution_count": 20,
   "id": "e401e719",
   "metadata": {},
   "outputs": [],
   "source": [
    "#Creat the dependetnt data for Y\n",
    "Y=wmt_df['Actual Prediction'].values\n"
   ]
  },
  {
   "cell_type": "code",
   "execution_count": 21,
   "id": "d79d8846",
   "metadata": {},
   "outputs": [],
   "source": [
    "Y=Y[:-prediction_days]\n",
    "# print(Y)"
   ]
  },
  {
   "cell_type": "code",
   "execution_count": 22,
   "id": "decc22cb",
   "metadata": {},
   "outputs": [],
   "source": [
    "# train and test ratio is 70% traing and 30% testing\n",
    "x_train, x_test, y_train, y_test = train_test_split(X, Y, test_size = 0.30)"
   ]
  },
  {
   "cell_type": "code",
   "execution_count": 23,
   "id": "20f98625",
   "metadata": {},
   "outputs": [
    {
     "data": {
      "text/plain": [
       "LinearRegression()"
      ]
     },
     "execution_count": 23,
     "metadata": {},
     "output_type": "execute_result"
    }
   ],
   "source": [
    "#Creat the model\n",
    "l_r = LinearRegression()\n",
    "#train the model\n",
    "l_r.fit(x_train, y_train)"
   ]
  },
  {
   "cell_type": "code",
   "execution_count": 24,
   "id": "a483c5ee",
   "metadata": {},
   "outputs": [
    {
     "name": "stdout",
     "output_type": "stream",
     "text": [
      "0.33278331990608256\n"
     ]
    }
   ],
   "source": [
    "#test the model using score\n",
    "linear_score=l_r.score(x_test,y_test)\n",
    "print(linear_score)"
   ]
  },
  {
   "cell_type": "code",
   "execution_count": 25,
   "id": "c5264ddb",
   "metadata": {},
   "outputs": [],
   "source": [
    "#well I think that im going to predict the last 500days.\n",
    "acutal_days=np.array(wmt_df[['Close']])[-prediction_days:]\n",
    "# acutal_days"
   ]
  },
  {
   "cell_type": "code",
   "execution_count": 26,
   "id": "7bc7d6b2",
   "metadata": {},
   "outputs": [],
   "source": [
    "#print the liner regression prediction  for the next 599 days\n",
    "\n",
    "linear_prediction=l_r.predict(acutal_days)\n",
    "\n",
    "# linear_prediction\n"
   ]
  },
  {
   "cell_type": "code",
   "execution_count": 28,
   "id": "84235874",
   "metadata": {},
   "outputs": [],
   "source": [
    "#okay this is were we put the 2020-2022 data in \n",
    "actual_20_22=np.array(wmt_df2[['Close']])\n",
    "# actual_20_22"
   ]
  },
  {
   "cell_type": "code",
   "execution_count": 29,
   "id": "119b0210",
   "metadata": {},
   "outputs": [
    {
     "data": {
      "text/plain": [
       "(599,)"
      ]
     },
     "execution_count": 29,
     "metadata": {},
     "output_type": "execute_result"
    }
   ],
   "source": [
    "linear_prediction.shape"
   ]
  },
  {
   "cell_type": "code",
   "execution_count": 30,
   "id": "29c6da25",
   "metadata": {},
   "outputs": [
    {
     "data": {
      "text/plain": [
       "(653, 1)"
      ]
     },
     "execution_count": 30,
     "metadata": {},
     "output_type": "execute_result"
    }
   ],
   "source": [
    "actual_20_22.shape "
   ]
  },
  {
   "cell_type": "code",
   "execution_count": 31,
   "id": "a151095e",
   "metadata": {},
   "outputs": [
    {
     "data": {
      "image/png": "[encoded data removed]",
      "text/plain": [
       "<Figure size 1440x576 with 1 Axes>"
      ]
     },
     "metadata": {
      "needs_background": "light"
     },
     "output_type": "display_data"
    }
   ],
   "source": [
    "# Visualize the data\n",
    "\n",
    "import matplotlib.pyplot as plt\n",
    "\n",
    "plt.figure(figsize=(20, 8))\n",
    "plt.plot(linear_prediction) # lable='Prediction' , lw=2, alpha=.7)\n",
    "plt.plot(actual_20_22) #  , lable='Actual') # , lw=2, alpha=.7)\n",
    "plt.title('Pred vs Act')\n",
    "plt.xlabel('Time')\n",
    "plt.ylabel('WMT Close USD($)')\n",
    "plt.legend(['linear_prediction', 'actual_20_22'])\n",
    "plt.xticks(rotation=45)\n",
    "plt.show()"
   ]
  },
  {
   "cell_type": "code",
   "execution_count": null,
   "id": "1a5a5e74",
   "metadata": {},
   "outputs": [],
   "source": []
  }
 ],
 "metadata": {
  "kernelspec": {
   "display_name": "mlenv",
   "language": "python",
   "name": "mlenv"
  },
  "language_info": {
   "codemirror_mode": {
    "name": "ipython",
    "version": 3
   },
   "file_extension": ".py",
   "mimetype": "text/x-python",
   "name": "python",
   "nbconvert_exporter": "python",
   "pygments_lexer": "ipython3",
   "version": "3.7.13"
  }
 },
 "nbformat": 4,
 "nbformat_minor": 5
}
