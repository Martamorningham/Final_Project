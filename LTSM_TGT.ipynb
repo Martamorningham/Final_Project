{
 "cells": [
  {
   "cell_type": "code",
   "execution_count": 3,
   "id": "8b5fa349",
   "metadata": {},
   "outputs": [],
   "source": [
    "import numpy as np\n",
    "import pandas as pd\n",
    "import matplotlib.pyplot as plt\n",
    "from keras.models import Sequential\n",
    "from keras.layers import Dense, LSTM\n",
    "import math\n",
    "from sklearn.preprocessing import MinMaxScaler"
   ]
  },
  {
   "cell_type": "code",
   "execution_count": 4,
   "id": "b27e06be",
   "metadata": {},
   "outputs": [],
   "source": [
    "#load the data \n",
    "tgt_df = pd.read_csv('TGT_14_22.csv')"
   ]
  },
  {
   "cell_type": "code",
   "execution_count": 5,
   "id": "fd08047b",
   "metadata": {},
   "outputs": [
    {
     "data": {
      "text/html": [
       "<div>\n",
       "<style scoped>\n",
       "    .dataframe tbody tr th:only-of-type {\n",
       "        vertical-align: middle;\n",
       "    }\n",
       "\n",
       "    .dataframe tbody tr th {\n",
       "        vertical-align: top;\n",
       "    }\n",
       "\n",
       "    .dataframe thead th {\n",
       "        text-align: right;\n",
       "    }\n",
       "</style>\n",
       "<table border=\"1\" class=\"dataframe\">\n",
       "  <thead>\n",
       "    <tr style=\"text-align: right;\">\n",
       "      <th></th>\n",
       "      <th>Date</th>\n",
       "      <th>Open</th>\n",
       "      <th>High</th>\n",
       "      <th>Low</th>\n",
       "      <th>Close</th>\n",
       "      <th>Adj Close</th>\n",
       "      <th>Volume</th>\n",
       "    </tr>\n",
       "  </thead>\n",
       "  <tbody>\n",
       "    <tr>\n",
       "      <th>0</th>\n",
       "      <td>2014-01-03</td>\n",
       "      <td>63.619999</td>\n",
       "      <td>63.889999</td>\n",
       "      <td>63.400002</td>\n",
       "      <td>63.490002</td>\n",
       "      <td>49.632183</td>\n",
       "      <td>4589400</td>\n",
       "    </tr>\n",
       "    <tr>\n",
       "      <th>1</th>\n",
       "      <td>2014-01-06</td>\n",
       "      <td>63.680000</td>\n",
       "      <td>63.689999</td>\n",
       "      <td>62.669998</td>\n",
       "      <td>63.060001</td>\n",
       "      <td>49.296040</td>\n",
       "      <td>4609600</td>\n",
       "    </tr>\n",
       "    <tr>\n",
       "      <th>2</th>\n",
       "      <td>2014-01-07</td>\n",
       "      <td>63.029999</td>\n",
       "      <td>63.290001</td>\n",
       "      <td>62.599998</td>\n",
       "      <td>62.910000</td>\n",
       "      <td>49.178783</td>\n",
       "      <td>5398300</td>\n",
       "    </tr>\n",
       "    <tr>\n",
       "      <th>3</th>\n",
       "      <td>2014-01-08</td>\n",
       "      <td>62.810001</td>\n",
       "      <td>62.820000</td>\n",
       "      <td>62.430000</td>\n",
       "      <td>62.689999</td>\n",
       "      <td>49.006805</td>\n",
       "      <td>5529900</td>\n",
       "    </tr>\n",
       "    <tr>\n",
       "      <th>4</th>\n",
       "      <td>2014-01-09</td>\n",
       "      <td>62.889999</td>\n",
       "      <td>63.590000</td>\n",
       "      <td>62.770000</td>\n",
       "      <td>63.340000</td>\n",
       "      <td>49.514927</td>\n",
       "      <td>7264600</td>\n",
       "    </tr>\n",
       "  </tbody>\n",
       "</table>\n",
       "</div>"
      ],
      "text/plain": [
       "         Date       Open       High        Low      Close  Adj Close   Volume\n",
       "0  2014-01-03  63.619999  63.889999  63.400002  63.490002  49.632183  4589400\n",
       "1  2014-01-06  63.680000  63.689999  62.669998  63.060001  49.296040  4609600\n",
       "2  2014-01-07  63.029999  63.290001  62.599998  62.910000  49.178783  5398300\n",
       "3  2014-01-08  62.810001  62.820000  62.430000  62.689999  49.006805  5529900\n",
       "4  2014-01-09  62.889999  63.590000  62.770000  63.340000  49.514927  7264600"
      ]
     },
     "execution_count": 5,
     "metadata": {},
     "output_type": "execute_result"
    }
   ],
   "source": [
    "tgt_df.head()"
   ]
  },
  {
   "cell_type": "code",
   "execution_count": 6,
   "id": "60e0610f",
   "metadata": {},
   "outputs": [
    {
     "name": "stdout",
     "output_type": "stream",
     "text": [
      "            Date        Open        High         Low       Close   Adj Close  \\\n",
      "0     2014-01-03   63.619999   63.889999   63.400002   63.490002   49.632183   \n",
      "1     2014-01-06   63.680000   63.689999   62.669998   63.060001   49.296040   \n",
      "2     2014-01-07   63.029999   63.290001   62.599998   62.910000   49.178783   \n",
      "3     2014-01-08   62.810001   62.820000   62.430000   62.689999   49.006805   \n",
      "4     2014-01-09   62.889999   63.590000   62.770000   63.340000   49.514927   \n",
      "...          ...         ...         ...         ...         ...         ...   \n",
      "2168  2022-08-15  171.830002  174.160004  170.199997  173.389999  172.309998   \n",
      "2169  2022-08-16  177.110001  183.889999  175.559998  180.190002  180.190002   \n",
      "2170  2022-08-17  174.160004  177.990005  170.830002  175.339996  175.339996   \n",
      "2171  2022-08-18  173.979996  175.139999  171.580002  173.050003  173.050003   \n",
      "2172  2022-08-19  171.830002  171.919998  166.789993  167.039993  167.039993   \n",
      "\n",
      "        Volume  \n",
      "0      4589400  \n",
      "1      4609600  \n",
      "2      5398300  \n",
      "3      5529900  \n",
      "4      7264600  \n",
      "...        ...  \n",
      "2168   3788600  \n",
      "2169   9057600  \n",
      "2170  13409000  \n",
      "2171   4241300  \n",
      "2172   5012900  \n",
      "\n",
      "[2173 rows x 7 columns]\n"
     ]
    }
   ],
   "source": [
    "#Inspect it \n",
    "print(tgt_df)"
   ]
  },
  {
   "cell_type": "code",
   "execution_count": 7,
   "id": "c4f2ded3",
   "metadata": {},
   "outputs": [
    {
     "name": "stdout",
     "output_type": "stream",
     "text": [
      "              Open         High          Low        Close    Adj Close  \\\n",
      "count  2173.000000  2173.000000  2173.000000  2173.000000  2173.000000   \n",
      "mean    106.706917   107.825150   105.611233   106.717865    98.755860   \n",
      "std      58.499377    59.140570    57.889271    58.499835    60.905127   \n",
      "min      50.230000    50.779999    48.560001    50.180000    43.050007   \n",
      "25%      68.620003    69.290001    68.000000    68.680000    58.440788   \n",
      "50%      78.779999    79.459999    78.180000    78.879997    67.386223   \n",
      "75%     125.010002   125.930000   123.930000   125.029999   119.282143   \n",
      "max     264.549988   268.980011   262.739990   266.390015   262.506409   \n",
      "\n",
      "             Volume  \n",
      "count  2.173000e+03  \n",
      "mean   5.265282e+06  \n",
      "std    3.662838e+06  \n",
      "min    1.097700e+06  \n",
      "25%    3.369800e+06  \n",
      "50%    4.396200e+06  \n",
      "75%    6.017900e+06  \n",
      "max    5.093680e+07  \n"
     ]
    }
   ],
   "source": [
    "#print the summary \n",
    "print(tgt_df.describe())"
   ]
  },
  {
   "cell_type": "code",
   "execution_count": 8,
   "id": "392b76f2",
   "metadata": {},
   "outputs": [],
   "source": [
    "#now prep the data for 2014-2019\n",
    "tgt_df.set_index(pd.DatetimeIndex(tgt_df['Date']), inplace=True)"
   ]
  },
  {
   "cell_type": "code",
   "execution_count": 9,
   "id": "ea4ba7fe",
   "metadata": {},
   "outputs": [],
   "source": [
    "#Keep the close for 2014-19\n",
    "tgt_df = tgt_df[['Close']]"
   ]
  },
  {
   "cell_type": "code",
   "execution_count": 10,
   "id": "b2e1df5c",
   "metadata": {},
   "outputs": [
    {
     "name": "stdout",
     "output_type": "stream",
     "text": [
      "                 Close\n",
      "Date                  \n",
      "2014-01-03   63.490002\n",
      "2014-01-06   63.060001\n",
      "2014-01-07   62.910000\n",
      "2014-01-08   62.689999\n",
      "2014-01-09   63.340000\n",
      "...                ...\n",
      "2022-08-15  173.389999\n",
      "2022-08-16  180.190002\n",
      "2022-08-17  175.339996\n",
      "2022-08-18  173.050003\n",
      "2022-08-19  167.039993\n",
      "\n",
      "[2173 rows x 1 columns]\n"
     ]
    }
   ],
   "source": [
    "print(tgt_df)"
   ]
  },
  {
   "cell_type": "code",
   "execution_count": 11,
   "id": "543dd8ac",
   "metadata": {},
   "outputs": [
    {
     "name": "stdout",
     "output_type": "stream",
     "text": [
      "2022-08-19 00:00:00\n"
     ]
    }
   ],
   "source": [
    "print (tgt_df.index.max())"
   ]
  },
  {
   "cell_type": "code",
   "execution_count": 12,
   "id": "1f0bdc95",
   "metadata": {},
   "outputs": [],
   "source": [
    "\n",
    "data_14_22 = tgt_df.filter(['Close'])\n",
    "dataset_14_22 = data_14_22.values\n",
    "\n",
    "scaler = MinMaxScaler(feature_range=(0, 1))\n",
    "scaled_data = scaler.fit_transform(dataset_14_22)\n",
    "\n",
    "training_data_len =math.ceil(len(dataset_14_22) *.7)\n",
    "train_data =scaled_data[0:training_data_len , : ]\n",
    "\n",
    "\n",
    "X_train_data = []\n",
    "y_train_data = []\n",
    "\n",
    "for i in range(1500,len(train_data)):\n",
    "    X_train_data=list(X_train_data)\n",
    "    y_train_data=list(y_train_data)\n",
    "    X_train_data.append(train_data[i-1500:i,0])\n",
    "    y_train_data.append(train_data[i,0])\n",
    "    \n",
    "    X_train_data1, y_train_data1 = np.array(X_train_data), np.array(y_train_data)\n",
    "    \n",
    "    X_train_data2 = np.reshape(X_train_data1,(X_train_data1.shape[0],X_train_data1.shape[1],1))\n",
    "\n",
    "   \n",
    "    \n",
    "#1500 = number of days you can change it accordingly. \n",
    "\n",
    "# There will be a total of 60 values, 1st column will contain an index of 0-59\n",
    "# The second will have an index of 1-60 ++_\n",
    "# the y_train has the 60 st value on c1 and c2 will have 61++"
   ]
  },
  {
   "cell_type": "code",
   "execution_count": 13,
   "id": "43aa4acf",
   "metadata": {},
   "outputs": [
    {
     "name": "stderr",
     "output_type": "stream",
     "text": [
      "2022-08-24 17:49:18.904000: I tensorflow/core/platform/cpu_feature_guard.cc:193] This TensorFlow binary is optimized with oneAPI Deep Neural Network Library (oneDNN) to use the following CPU instructions in performance-critical operations:  AVX2 AVX512F AVX512_VNNI FMA\n",
      "To enable them in other operations, rebuild TensorFlow with the appropriate compiler flags.\n"
     ]
    }
   ],
   "source": [
    "#Lets build the LSTM MODEL \n",
    "\n",
    "model = Sequential()\n",
    "\n",
    "model.add(LSTM(units=50, return_sequences=True,input_shape=(X_train_data2.shape[1],1)))\n",
    "\n",
    "model.add(LSTM(units=50, return_sequences=False))\n",
    "\n",
    "model.add(Dense(units=25))\n",
    "\n",
    "model.add(Dense(units=1))\n",
    "\n",
    "\n",
    "#okay this example will have 2 LSTM layers w/50 neurons and 2 dense layers\n",
    "# plust one with 25 nuerons "
   ]
  },
  {
   "cell_type": "code",
   "execution_count": 14,
   "id": "d5f1458e",
   "metadata": {},
   "outputs": [
    {
     "name": "stdout",
     "output_type": "stream",
     "text": [
      "22/22 [==============================] - 16s 593ms/step - loss: 0.0094\n"
     ]
    },
    {
     "data": {
      "text/plain": [
       "<keras.callbacks.History at 0x7faf574a9ad0>"
      ]
     },
     "execution_count": 14,
     "metadata": {},
     "output_type": "execute_result"
    }
   ],
   "source": [
    "# Comple the model \n",
    "\n",
    "model.compile(optimizer='adam', loss='mean_squared_error')\n",
    "\n",
    "model.fit(X_train_data2, y_train_data1, batch_size=1, epochs=1)"
   ]
  },
  {
   "cell_type": "code",
   "execution_count": 15,
   "id": "58fc061c",
   "metadata": {},
   "outputs": [
    {
     "name": "stdout",
     "output_type": "stream",
     "text": [
      "21/21 [==============================] - 5s 202ms/step\n"
     ]
    }
   ],
   "source": [
    "test_data = scaled_data[training_data_len -1500: , : ]\n",
    "\n",
    "X_test = []\n",
    "\n",
    "y_test = dataset_14_22[training_data_len : , : ]\n",
    "\n",
    "for i in range(1500,len(test_data)):\n",
    "    \n",
    "    X_test.append(test_data[i-1500:i,0])\n",
    "\n",
    "X_test = np.array(X_test)\n",
    "\n",
    "X_test = np.reshape(X_test,(X_test.shape[0],X_test.shape[1],1))\n",
    "\n",
    "predictions = model.predict(X_test)\n",
    "\n",
    "predictions = scaler.inverse_transform(predictions)\n"
   ]
  },
  {
   "cell_type": "code",
   "execution_count": 16,
   "id": "5820609b",
   "metadata": {},
   "outputs": [],
   "source": [
    "# Error calculation where RMSE = root mean squared error \n",
    "\n",
    "rmse=np.sqrt(np.mean(((predictions-y_test)**2)))"
   ]
  },
  {
   "cell_type": "code",
   "execution_count": 17,
   "id": "87eca23d",
   "metadata": {},
   "outputs": [
    {
     "name": "stdout",
     "output_type": "stream",
     "text": [
      "24.23455525200296\n"
     ]
    }
   ],
   "source": [
    "print(rmse)"
   ]
  },
  {
   "cell_type": "code",
   "execution_count": 18,
   "id": "77253d30",
   "metadata": {},
   "outputs": [],
   "source": [
    "#OOOF okay the lower the value is to 0 the better\n",
    "# it indicates that the models p-value match the actual values from the data set \n",
    "# which in this case it does not. "
   ]
  },
  {
   "cell_type": "code",
   "execution_count": 27,
   "id": "a304a982",
   "metadata": {},
   "outputs": [
    {
     "name": "stderr",
     "output_type": "stream",
     "text": [
      "/Users/dashickscott/opt/anaconda3/envs/mlenv/lib/python3.7/site-packages/ipykernel_launcher.py:7: SettingWithCopyWarning: \n",
      "A value is trying to be set on a copy of a slice from a DataFrame.\n",
      "Try using .loc[row_indexer,col_indexer] = value instead\n",
      "\n",
      "See the caveats in the documentation: https://pandas.pydata.org/pandas-docs/stable/user_guide/indexing.html#returning-a-view-versus-a-copy\n",
      "  import sys\n"
     ]
    },
    {
     "data": {
      "image/png": "[encoded data removed]",
      "text/plain": [
       "<Figure size 432x288 with 1 Axes>"
      ]
     },
     "metadata": {
      "needs_background": "light"
     },
     "output_type": "display_data"
    }
   ],
   "source": [
    "#Predict and visualize \n",
    "\n",
    "train = tgt_df[:training_data_len]\n",
    "\n",
    "valid = tgt_df[training_data_len:]\n",
    "\n",
    "valid['Predictions'] = predictions\n",
    "\n",
    "plt.title('Target LSTM')\n",
    "\n",
    "plt.xlabel('Date')\n",
    "\n",
    "plt.ylabel('Close')\n",
    "\n",
    "plt.plot(train['Close'])\n",
    "\n",
    "plt.plot(valid[['Close', 'Predictions']])\n",
    "\n",
    "plt.legend(['Train', 'Val', 'Predictions'], loc='lower right')\n",
    "\n",
    "plt.show()\n"
   ]
  },
  {
   "cell_type": "code",
   "execution_count": 20,
   "id": "71eb336a",
   "metadata": {},
   "outputs": [
    {
     "data": {
      "text/plain": [
       "<AxesSubplot:xlabel='Date'>"
      ]
     },
     "execution_count": 20,
     "metadata": {},
     "output_type": "execute_result"
    },
    {
     "data": {
      "image/png": "[encoded data removed]",
      "text/plain": [
       "<Figure size 432x288 with 1 Axes>"
      ]
     },
     "metadata": {
      "needs_background": "light"
     },
     "output_type": "display_data"
    }
   ],
   "source": [
    "tgt_df.plot()"
   ]
  },
  {
   "cell_type": "code",
   "execution_count": 21,
   "id": "abf2b9bc",
   "metadata": {},
   "outputs": [
    {
     "data": {
      "text/plain": [
       "Date\n",
       "2014-01-03     63.490002\n",
       "2014-01-06     63.060001\n",
       "2014-01-07     62.910000\n",
       "2014-01-08     62.689999\n",
       "2014-01-09     63.340000\n",
       "                 ...    \n",
       "2020-01-14    125.260002\n",
       "2020-01-15    117.000000\n",
       "2020-01-16    116.320000\n",
       "2020-01-17    116.919998\n",
       "2020-01-21    114.040001\n",
       "Name: Close, Length: 1522, dtype: float64"
      ]
     },
     "execution_count": 21,
     "metadata": {},
     "output_type": "execute_result"
    }
   ],
   "source": [
    "train['Close']"
   ]
  },
  {
   "cell_type": "code",
   "execution_count": 22,
   "id": "db2bf616",
   "metadata": {},
   "outputs": [
    {
     "data": {
      "text/html": [
       "<div>\n",
       "<style scoped>\n",
       "    .dataframe tbody tr th:only-of-type {\n",
       "        vertical-align: middle;\n",
       "    }\n",
       "\n",
       "    .dataframe tbody tr th {\n",
       "        vertical-align: top;\n",
       "    }\n",
       "\n",
       "    .dataframe thead th {\n",
       "        text-align: right;\n",
       "    }\n",
       "</style>\n",
       "<table border=\"1\" class=\"dataframe\">\n",
       "  <thead>\n",
       "    <tr style=\"text-align: right;\">\n",
       "      <th></th>\n",
       "      <th>Close</th>\n",
       "      <th>Predictions</th>\n",
       "    </tr>\n",
       "    <tr>\n",
       "      <th>Date</th>\n",
       "      <th></th>\n",
       "      <th></th>\n",
       "    </tr>\n",
       "  </thead>\n",
       "  <tbody>\n",
       "    <tr>\n",
       "      <th>2020-01-22</th>\n",
       "      <td>113.900002</td>\n",
       "      <td>130.468658</td>\n",
       "    </tr>\n",
       "    <tr>\n",
       "      <th>2020-01-23</th>\n",
       "      <td>115.529999</td>\n",
       "      <td>129.832062</td>\n",
       "    </tr>\n",
       "    <tr>\n",
       "      <th>2020-01-24</th>\n",
       "      <td>114.320000</td>\n",
       "      <td>129.217880</td>\n",
       "    </tr>\n",
       "    <tr>\n",
       "      <th>2020-01-27</th>\n",
       "      <td>115.779999</td>\n",
       "      <td>128.616547</td>\n",
       "    </tr>\n",
       "    <tr>\n",
       "      <th>2020-01-28</th>\n",
       "      <td>115.440002</td>\n",
       "      <td>128.076782</td>\n",
       "    </tr>\n",
       "    <tr>\n",
       "      <th>...</th>\n",
       "      <td>...</td>\n",
       "      <td>...</td>\n",
       "    </tr>\n",
       "    <tr>\n",
       "      <th>2022-08-15</th>\n",
       "      <td>173.389999</td>\n",
       "      <td>157.992584</td>\n",
       "    </tr>\n",
       "    <tr>\n",
       "      <th>2022-08-16</th>\n",
       "      <td>180.190002</td>\n",
       "      <td>158.681534</td>\n",
       "    </tr>\n",
       "    <tr>\n",
       "      <th>2022-08-17</th>\n",
       "      <td>175.339996</td>\n",
       "      <td>159.504425</td>\n",
       "    </tr>\n",
       "    <tr>\n",
       "      <th>2022-08-18</th>\n",
       "      <td>173.050003</td>\n",
       "      <td>160.307892</td>\n",
       "    </tr>\n",
       "    <tr>\n",
       "      <th>2022-08-19</th>\n",
       "      <td>167.039993</td>\n",
       "      <td>161.013962</td>\n",
       "    </tr>\n",
       "  </tbody>\n",
       "</table>\n",
       "<p>651 rows × 2 columns</p>\n",
       "</div>"
      ],
      "text/plain": [
       "                 Close  Predictions\n",
       "Date                               \n",
       "2020-01-22  113.900002   130.468658\n",
       "2020-01-23  115.529999   129.832062\n",
       "2020-01-24  114.320000   129.217880\n",
       "2020-01-27  115.779999   128.616547\n",
       "2020-01-28  115.440002   128.076782\n",
       "...                ...          ...\n",
       "2022-08-15  173.389999   157.992584\n",
       "2022-08-16  180.190002   158.681534\n",
       "2022-08-17  175.339996   159.504425\n",
       "2022-08-18  173.050003   160.307892\n",
       "2022-08-19  167.039993   161.013962\n",
       "\n",
       "[651 rows x 2 columns]"
      ]
     },
     "execution_count": 22,
     "metadata": {},
     "output_type": "execute_result"
    }
   ],
   "source": [
    "valid[['Close', 'Predictions']]"
   ]
  },
  {
   "cell_type": "code",
   "execution_count": 23,
   "id": "5110febe",
   "metadata": {},
   "outputs": [
    {
     "data": {
      "text/html": [
       "<div>\n",
       "<style scoped>\n",
       "    .dataframe tbody tr th:only-of-type {\n",
       "        vertical-align: middle;\n",
       "    }\n",
       "\n",
       "    .dataframe tbody tr th {\n",
       "        vertical-align: top;\n",
       "    }\n",
       "\n",
       "    .dataframe thead th {\n",
       "        text-align: right;\n",
       "    }\n",
       "</style>\n",
       "<table border=\"1\" class=\"dataframe\">\n",
       "  <thead>\n",
       "    <tr style=\"text-align: right;\">\n",
       "      <th></th>\n",
       "      <th>Close</th>\n",
       "      <th>Predictions</th>\n",
       "    </tr>\n",
       "    <tr>\n",
       "      <th>Date</th>\n",
       "      <th></th>\n",
       "      <th></th>\n",
       "    </tr>\n",
       "  </thead>\n",
       "  <tbody>\n",
       "    <tr>\n",
       "      <th>2014-01-03</th>\n",
       "      <td>63.490002</td>\n",
       "      <td>NaN</td>\n",
       "    </tr>\n",
       "    <tr>\n",
       "      <th>2014-01-06</th>\n",
       "      <td>63.060001</td>\n",
       "      <td>NaN</td>\n",
       "    </tr>\n",
       "    <tr>\n",
       "      <th>2014-01-07</th>\n",
       "      <td>62.910000</td>\n",
       "      <td>NaN</td>\n",
       "    </tr>\n",
       "    <tr>\n",
       "      <th>2014-01-08</th>\n",
       "      <td>62.689999</td>\n",
       "      <td>NaN</td>\n",
       "    </tr>\n",
       "    <tr>\n",
       "      <th>2014-01-09</th>\n",
       "      <td>63.340000</td>\n",
       "      <td>NaN</td>\n",
       "    </tr>\n",
       "    <tr>\n",
       "      <th>...</th>\n",
       "      <td>...</td>\n",
       "      <td>...</td>\n",
       "    </tr>\n",
       "    <tr>\n",
       "      <th>2022-08-15</th>\n",
       "      <td>173.389999</td>\n",
       "      <td>157.992584</td>\n",
       "    </tr>\n",
       "    <tr>\n",
       "      <th>2022-08-16</th>\n",
       "      <td>180.190002</td>\n",
       "      <td>158.681534</td>\n",
       "    </tr>\n",
       "    <tr>\n",
       "      <th>2022-08-17</th>\n",
       "      <td>175.339996</td>\n",
       "      <td>159.504425</td>\n",
       "    </tr>\n",
       "    <tr>\n",
       "      <th>2022-08-18</th>\n",
       "      <td>173.050003</td>\n",
       "      <td>160.307892</td>\n",
       "    </tr>\n",
       "    <tr>\n",
       "      <th>2022-08-19</th>\n",
       "      <td>167.039993</td>\n",
       "      <td>161.013962</td>\n",
       "    </tr>\n",
       "  </tbody>\n",
       "</table>\n",
       "<p>2173 rows × 2 columns</p>\n",
       "</div>"
      ],
      "text/plain": [
       "                 Close  Predictions\n",
       "Date                               \n",
       "2014-01-03   63.490002          NaN\n",
       "2014-01-06   63.060001          NaN\n",
       "2014-01-07   62.910000          NaN\n",
       "2014-01-08   62.689999          NaN\n",
       "2014-01-09   63.340000          NaN\n",
       "...                ...          ...\n",
       "2022-08-15  173.389999   157.992584\n",
       "2022-08-16  180.190002   158.681534\n",
       "2022-08-17  175.339996   159.504425\n",
       "2022-08-18  173.050003   160.307892\n",
       "2022-08-19  167.039993   161.013962\n",
       "\n",
       "[2173 rows x 2 columns]"
      ]
     },
     "execution_count": 23,
     "metadata": {},
     "output_type": "execute_result"
    }
   ],
   "source": [
    "complete_df = pd.concat([train[['Close']], valid[['Close', 'Predictions']]])\n",
    "complete_df"
   ]
  },
  {
   "cell_type": "code",
   "execution_count": 24,
   "id": "cbaadb2f",
   "metadata": {},
   "outputs": [
    {
     "name": "stdout",
     "output_type": "stream",
     "text": [
      "                 Close  Predictions\n",
      "Date                               \n",
      "2020-01-22  113.900002   130.468658\n",
      "2020-01-23  115.529999   129.832062\n",
      "2020-01-24  114.320000   129.217880\n",
      "2020-01-27  115.779999   128.616547\n",
      "2020-01-28  115.440002   128.076782\n",
      "...                ...          ...\n",
      "2022-08-15  173.389999   157.992584\n",
      "2022-08-16  180.190002   158.681534\n",
      "2022-08-17  175.339996   159.504425\n",
      "2022-08-18  173.050003   160.307892\n",
      "2022-08-19  167.039993   161.013962\n",
      "\n",
      "[651 rows x 2 columns]\n"
     ]
    }
   ],
   "source": [
    "complete_df2 = complete_df.dropna()\n",
    "\n",
    "print(complete_df2)"
   ]
  },
  {
   "cell_type": "code",
   "execution_count": 28,
   "id": "0ee6cd7b",
   "metadata": {},
   "outputs": [
    {
     "name": "stderr",
     "output_type": "stream",
     "text": [
      "/Users/dashickscott/opt/anaconda3/envs/mlenv/lib/python3.7/site-packages/ipykernel_launcher.py:1: SettingWithCopyWarning: \n",
      "A value is trying to be set on a copy of a slice from a DataFrame.\n",
      "Try using .loc[row_indexer,col_indexer] = value instead\n",
      "\n",
      "See the caveats in the documentation: https://pandas.pydata.org/pandas-docs/stable/user_guide/indexing.html#returning-a-view-versus-a-copy\n",
      "  \"\"\"Entry point for launching an IPython kernel.\n"
     ]
    }
   ],
   "source": [
    "complete_df2['Difference'] = complete_df2['Close'] - complete_df2['Predictions'] "
   ]
  },
  {
   "cell_type": "code",
   "execution_count": 29,
   "id": "9bfd7118",
   "metadata": {},
   "outputs": [
    {
     "data": {
      "text/html": [
       "<div>\n",
       "<style scoped>\n",
       "    .dataframe tbody tr th:only-of-type {\n",
       "        vertical-align: middle;\n",
       "    }\n",
       "\n",
       "    .dataframe tbody tr th {\n",
       "        vertical-align: top;\n",
       "    }\n",
       "\n",
       "    .dataframe thead th {\n",
       "        text-align: right;\n",
       "    }\n",
       "</style>\n",
       "<table border=\"1\" class=\"dataframe\">\n",
       "  <thead>\n",
       "    <tr style=\"text-align: right;\">\n",
       "      <th></th>\n",
       "      <th>Close</th>\n",
       "      <th>Predictions</th>\n",
       "      <th>Difference</th>\n",
       "    </tr>\n",
       "    <tr>\n",
       "      <th>Date</th>\n",
       "      <th></th>\n",
       "      <th></th>\n",
       "      <th></th>\n",
       "    </tr>\n",
       "  </thead>\n",
       "  <tbody>\n",
       "    <tr>\n",
       "      <th>2020-01-22</th>\n",
       "      <td>113.900002</td>\n",
       "      <td>130.468658</td>\n",
       "      <td>-16.568656</td>\n",
       "    </tr>\n",
       "    <tr>\n",
       "      <th>2020-01-23</th>\n",
       "      <td>115.529999</td>\n",
       "      <td>129.832062</td>\n",
       "      <td>-14.302063</td>\n",
       "    </tr>\n",
       "    <tr>\n",
       "      <th>2020-01-24</th>\n",
       "      <td>114.320000</td>\n",
       "      <td>129.217880</td>\n",
       "      <td>-14.897880</td>\n",
       "    </tr>\n",
       "    <tr>\n",
       "      <th>2020-01-27</th>\n",
       "      <td>115.779999</td>\n",
       "      <td>128.616547</td>\n",
       "      <td>-12.836548</td>\n",
       "    </tr>\n",
       "    <tr>\n",
       "      <th>2020-01-28</th>\n",
       "      <td>115.440002</td>\n",
       "      <td>128.076782</td>\n",
       "      <td>-12.636780</td>\n",
       "    </tr>\n",
       "    <tr>\n",
       "      <th>...</th>\n",
       "      <td>...</td>\n",
       "      <td>...</td>\n",
       "      <td>...</td>\n",
       "    </tr>\n",
       "    <tr>\n",
       "      <th>2022-08-15</th>\n",
       "      <td>173.389999</td>\n",
       "      <td>157.992584</td>\n",
       "      <td>15.397415</td>\n",
       "    </tr>\n",
       "    <tr>\n",
       "      <th>2022-08-16</th>\n",
       "      <td>180.190002</td>\n",
       "      <td>158.681534</td>\n",
       "      <td>21.508468</td>\n",
       "    </tr>\n",
       "    <tr>\n",
       "      <th>2022-08-17</th>\n",
       "      <td>175.339996</td>\n",
       "      <td>159.504425</td>\n",
       "      <td>15.835571</td>\n",
       "    </tr>\n",
       "    <tr>\n",
       "      <th>2022-08-18</th>\n",
       "      <td>173.050003</td>\n",
       "      <td>160.307892</td>\n",
       "      <td>12.742111</td>\n",
       "    </tr>\n",
       "    <tr>\n",
       "      <th>2022-08-19</th>\n",
       "      <td>167.039993</td>\n",
       "      <td>161.013962</td>\n",
       "      <td>6.026031</td>\n",
       "    </tr>\n",
       "  </tbody>\n",
       "</table>\n",
       "<p>651 rows × 3 columns</p>\n",
       "</div>"
      ],
      "text/plain": [
       "                 Close  Predictions  Difference\n",
       "Date                                           \n",
       "2020-01-22  113.900002   130.468658  -16.568656\n",
       "2020-01-23  115.529999   129.832062  -14.302063\n",
       "2020-01-24  114.320000   129.217880  -14.897880\n",
       "2020-01-27  115.779999   128.616547  -12.836548\n",
       "2020-01-28  115.440002   128.076782  -12.636780\n",
       "...                ...          ...         ...\n",
       "2022-08-15  173.389999   157.992584   15.397415\n",
       "2022-08-16  180.190002   158.681534   21.508468\n",
       "2022-08-17  175.339996   159.504425   15.835571\n",
       "2022-08-18  173.050003   160.307892   12.742111\n",
       "2022-08-19  167.039993   161.013962    6.026031\n",
       "\n",
       "[651 rows x 3 columns]"
      ]
     },
     "execution_count": 29,
     "metadata": {},
     "output_type": "execute_result"
    }
   ],
   "source": [
    "complete_df2.loc[~(complete_df2==0).all(axis=1)]"
   ]
  },
  {
   "cell_type": "code",
   "execution_count": 30,
   "id": "283c154d",
   "metadata": {},
   "outputs": [],
   "source": [
    "complete_df2.to_csv('AP_TNG.csv', index=False)"
   ]
  },
  {
   "cell_type": "code",
   "execution_count": null,
   "id": "5df73ef8",
   "metadata": {},
   "outputs": [],
   "source": []
  }
 ],
 "metadata": {
  "kernelspec": {
   "display_name": "mlenv",
   "language": "python",
   "name": "mlenv"
  },
  "language_info": {
   "codemirror_mode": {
    "name": "ipython",
    "version": 3
   },
   "file_extension": ".py",
   "mimetype": "text/x-python",
   "name": "python",
   "nbconvert_exporter": "python",
   "pygments_lexer": "ipython3",
   "version": "3.7.13"
  }
 },
 "nbformat": 4,
 "nbformat_minor": 5
}
