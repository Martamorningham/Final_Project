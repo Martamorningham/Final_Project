{
 "cells": [
  {
   "cell_type": "code",
   "execution_count": 3,
   "id": "90f7269d",
   "metadata": {},
   "outputs": [],
   "source": [
    "import numpy as np\n",
    "import pandas as pd\n",
    "import matplotlib.pyplot as plt\n",
    "from keras.models import Sequential\n",
    "from keras.layers import Dense, LSTM\n",
    "import math\n",
    "from sklearn.preprocessing import MinMaxScaler\n",
    "\n",
    "from yahoo_fin.stock_info import get_data"
   ]
  },
  {
   "cell_type": "code",
   "execution_count": 4,
   "id": "a9df9302",
   "metadata": {},
   "outputs": [
    {
     "data": {
      "text/html": [
       "<div>\n",
       "<style scoped>\n",
       "    .dataframe tbody tr th:only-of-type {\n",
       "        vertical-align: middle;\n",
       "    }\n",
       "\n",
       "    .dataframe tbody tr th {\n",
       "        vertical-align: top;\n",
       "    }\n",
       "\n",
       "    .dataframe thead th {\n",
       "        text-align: right;\n",
       "    }\n",
       "</style>\n",
       "<table border=\"1\" class=\"dataframe\">\n",
       "  <thead>\n",
       "    <tr style=\"text-align: right;\">\n",
       "      <th></th>\n",
       "      <th>date</th>\n",
       "      <th>open</th>\n",
       "      <th>high</th>\n",
       "      <th>low</th>\n",
       "      <th>close</th>\n",
       "      <th>adjclose</th>\n",
       "      <th>volume</th>\n",
       "      <th>ticker</th>\n",
       "    </tr>\n",
       "  </thead>\n",
       "  <tbody>\n",
       "    <tr>\n",
       "      <th>0</th>\n",
       "      <td>2010-12-06</td>\n",
       "      <td>12.407407</td>\n",
       "      <td>12.550505</td>\n",
       "      <td>12.377946</td>\n",
       "      <td>12.411616</td>\n",
       "      <td>11.818234</td>\n",
       "      <td>20394871</td>\n",
       "      <td>EBAY</td>\n",
       "    </tr>\n",
       "    <tr>\n",
       "      <th>1</th>\n",
       "      <td>2010-12-07</td>\n",
       "      <td>12.563131</td>\n",
       "      <td>12.803030</td>\n",
       "      <td>12.554714</td>\n",
       "      <td>12.626263</td>\n",
       "      <td>12.022618</td>\n",
       "      <td>35430437</td>\n",
       "      <td>EBAY</td>\n",
       "    </tr>\n",
       "    <tr>\n",
       "      <th>2</th>\n",
       "      <td>2010-12-08</td>\n",
       "      <td>12.672559</td>\n",
       "      <td>12.723064</td>\n",
       "      <td>12.470539</td>\n",
       "      <td>12.689394</td>\n",
       "      <td>12.082733</td>\n",
       "      <td>25010251</td>\n",
       "      <td>EBAY</td>\n",
       "    </tr>\n",
       "    <tr>\n",
       "      <th>3</th>\n",
       "      <td>2010-12-09</td>\n",
       "      <td>12.727273</td>\n",
       "      <td>12.819865</td>\n",
       "      <td>12.702020</td>\n",
       "      <td>12.773569</td>\n",
       "      <td>12.162882</td>\n",
       "      <td>20779308</td>\n",
       "      <td>EBAY</td>\n",
       "    </tr>\n",
       "    <tr>\n",
       "      <th>4</th>\n",
       "      <td>2010-12-10</td>\n",
       "      <td>12.836700</td>\n",
       "      <td>12.967172</td>\n",
       "      <td>12.765152</td>\n",
       "      <td>12.916667</td>\n",
       "      <td>12.299140</td>\n",
       "      <td>23931785</td>\n",
       "      <td>EBAY</td>\n",
       "    </tr>\n",
       "    <tr>\n",
       "      <th>...</th>\n",
       "      <td>...</td>\n",
       "      <td>...</td>\n",
       "      <td>...</td>\n",
       "      <td>...</td>\n",
       "      <td>...</td>\n",
       "      <td>...</td>\n",
       "      <td>...</td>\n",
       "      <td>...</td>\n",
       "    </tr>\n",
       "    <tr>\n",
       "      <th>2908</th>\n",
       "      <td>2022-06-27</td>\n",
       "      <td>45.869999</td>\n",
       "      <td>45.939999</td>\n",
       "      <td>44.220001</td>\n",
       "      <td>44.380001</td>\n",
       "      <td>44.380001</td>\n",
       "      <td>4703400</td>\n",
       "      <td>EBAY</td>\n",
       "    </tr>\n",
       "    <tr>\n",
       "      <th>2909</th>\n",
       "      <td>2022-06-28</td>\n",
       "      <td>43.400002</td>\n",
       "      <td>44.480000</td>\n",
       "      <td>42.599998</td>\n",
       "      <td>42.650002</td>\n",
       "      <td>42.650002</td>\n",
       "      <td>5435600</td>\n",
       "      <td>EBAY</td>\n",
       "    </tr>\n",
       "    <tr>\n",
       "      <th>2910</th>\n",
       "      <td>2022-06-29</td>\n",
       "      <td>42.580002</td>\n",
       "      <td>43.029999</td>\n",
       "      <td>42.299999</td>\n",
       "      <td>42.669998</td>\n",
       "      <td>42.669998</td>\n",
       "      <td>3517100</td>\n",
       "      <td>EBAY</td>\n",
       "    </tr>\n",
       "    <tr>\n",
       "      <th>2911</th>\n",
       "      <td>2022-06-30</td>\n",
       "      <td>42.419998</td>\n",
       "      <td>42.419998</td>\n",
       "      <td>41.020000</td>\n",
       "      <td>41.669998</td>\n",
       "      <td>41.669998</td>\n",
       "      <td>6571700</td>\n",
       "      <td>EBAY</td>\n",
       "    </tr>\n",
       "    <tr>\n",
       "      <th>2912</th>\n",
       "      <td>2022-07-01</td>\n",
       "      <td>41.939999</td>\n",
       "      <td>43.040001</td>\n",
       "      <td>41.759998</td>\n",
       "      <td>42.889999</td>\n",
       "      <td>42.889999</td>\n",
       "      <td>4950800</td>\n",
       "      <td>EBAY</td>\n",
       "    </tr>\n",
       "  </tbody>\n",
       "</table>\n",
       "<p>2913 rows × 8 columns</p>\n",
       "</div>"
      ],
      "text/plain": [
       "           date       open       high        low      close   adjclose  \\\n",
       "0    2010-12-06  12.407407  12.550505  12.377946  12.411616  11.818234   \n",
       "1    2010-12-07  12.563131  12.803030  12.554714  12.626263  12.022618   \n",
       "2    2010-12-08  12.672559  12.723064  12.470539  12.689394  12.082733   \n",
       "3    2010-12-09  12.727273  12.819865  12.702020  12.773569  12.162882   \n",
       "4    2010-12-10  12.836700  12.967172  12.765152  12.916667  12.299140   \n",
       "...         ...        ...        ...        ...        ...        ...   \n",
       "2908 2022-06-27  45.869999  45.939999  44.220001  44.380001  44.380001   \n",
       "2909 2022-06-28  43.400002  44.480000  42.599998  42.650002  42.650002   \n",
       "2910 2022-06-29  42.580002  43.029999  42.299999  42.669998  42.669998   \n",
       "2911 2022-06-30  42.419998  42.419998  41.020000  41.669998  41.669998   \n",
       "2912 2022-07-01  41.939999  43.040001  41.759998  42.889999  42.889999   \n",
       "\n",
       "        volume ticker  \n",
       "0     20394871   EBAY  \n",
       "1     35430437   EBAY  \n",
       "2     25010251   EBAY  \n",
       "3     20779308   EBAY  \n",
       "4     23931785   EBAY  \n",
       "...        ...    ...  \n",
       "2908   4703400   EBAY  \n",
       "2909   5435600   EBAY  \n",
       "2910   3517100   EBAY  \n",
       "2911   6571700   EBAY  \n",
       "2912   4950800   EBAY  \n",
       "\n",
       "[2913 rows x 8 columns]"
      ]
     },
     "execution_count": 4,
     "metadata": {},
     "output_type": "execute_result"
    }
   ],
   "source": [
    "EBAY_df= get_data(\"EBAY\", start_date=\"12/04/2010\", end_date=\"07/04/2022\", index_as_date = False, interval=\"1d\")\n",
    "EBAY_df"
   ]
  },
  {
   "cell_type": "code",
   "execution_count": 5,
   "id": "f68f33d5",
   "metadata": {},
   "outputs": [
    {
     "name": "stdout",
     "output_type": "stream",
     "text": [
      "              open         high          low        close     adjclose  \\\n",
      "count  2913.000000  2913.000000  2913.000000  2913.000000  2913.000000   \n",
      "mean     32.541338    32.934129    32.169848    32.550107    31.394977   \n",
      "std      15.171868    15.395408    14.966323    15.170005    15.130626   \n",
      "min      11.502525    11.780303    11.304714    11.342593    10.800321   \n",
      "25%      22.213804    22.432659    21.978113    22.234848    21.171829   \n",
      "50%      28.799999    29.100000    28.500000    28.840000    27.489767   \n",
      "75%      38.540001    39.029999    38.209999    38.590000    36.932949   \n",
      "max      80.970001    81.190002    79.900002    80.589996    79.691910   \n",
      "\n",
      "             volume  \n",
      "count  2.913000e+03  \n",
      "mean   1.665993e+07  \n",
      "std    1.308184e+07  \n",
      "min    2.129200e+06  \n",
      "25%    7.722400e+06  \n",
      "50%    1.242360e+07  \n",
      "75%    2.206300e+07  \n",
      "max    1.835567e+08  \n"
     ]
    }
   ],
   "source": [
    "print(EBAY_df.describe())\n"
   ]
  },
  {
   "cell_type": "code",
   "execution_count": 6,
   "id": "99227f9d",
   "metadata": {},
   "outputs": [],
   "source": [
    "EBAY_df.set_index(pd.DatetimeIndex(EBAY_df['date']), inplace=True)\n"
   ]
  },
  {
   "cell_type": "code",
   "execution_count": 7,
   "id": "76d40474",
   "metadata": {},
   "outputs": [
    {
     "data": {
      "text/html": [
       "<div>\n",
       "<style scoped>\n",
       "    .dataframe tbody tr th:only-of-type {\n",
       "        vertical-align: middle;\n",
       "    }\n",
       "\n",
       "    .dataframe tbody tr th {\n",
       "        vertical-align: top;\n",
       "    }\n",
       "\n",
       "    .dataframe thead th {\n",
       "        text-align: right;\n",
       "    }\n",
       "</style>\n",
       "<table border=\"1\" class=\"dataframe\">\n",
       "  <thead>\n",
       "    <tr style=\"text-align: right;\">\n",
       "      <th></th>\n",
       "      <th>close</th>\n",
       "    </tr>\n",
       "    <tr>\n",
       "      <th>date</th>\n",
       "      <th></th>\n",
       "    </tr>\n",
       "  </thead>\n",
       "  <tbody>\n",
       "    <tr>\n",
       "      <th>2010-12-06</th>\n",
       "      <td>12.411616</td>\n",
       "    </tr>\n",
       "    <tr>\n",
       "      <th>2010-12-07</th>\n",
       "      <td>12.626263</td>\n",
       "    </tr>\n",
       "    <tr>\n",
       "      <th>2010-12-08</th>\n",
       "      <td>12.689394</td>\n",
       "    </tr>\n",
       "    <tr>\n",
       "      <th>2010-12-09</th>\n",
       "      <td>12.773569</td>\n",
       "    </tr>\n",
       "    <tr>\n",
       "      <th>2010-12-10</th>\n",
       "      <td>12.916667</td>\n",
       "    </tr>\n",
       "    <tr>\n",
       "      <th>...</th>\n",
       "      <td>...</td>\n",
       "    </tr>\n",
       "    <tr>\n",
       "      <th>2022-06-27</th>\n",
       "      <td>44.380001</td>\n",
       "    </tr>\n",
       "    <tr>\n",
       "      <th>2022-06-28</th>\n",
       "      <td>42.650002</td>\n",
       "    </tr>\n",
       "    <tr>\n",
       "      <th>2022-06-29</th>\n",
       "      <td>42.669998</td>\n",
       "    </tr>\n",
       "    <tr>\n",
       "      <th>2022-06-30</th>\n",
       "      <td>41.669998</td>\n",
       "    </tr>\n",
       "    <tr>\n",
       "      <th>2022-07-01</th>\n",
       "      <td>42.889999</td>\n",
       "    </tr>\n",
       "  </tbody>\n",
       "</table>\n",
       "<p>2913 rows × 1 columns</p>\n",
       "</div>"
      ],
      "text/plain": [
       "                close\n",
       "date                 \n",
       "2010-12-06  12.411616\n",
       "2010-12-07  12.626263\n",
       "2010-12-08  12.689394\n",
       "2010-12-09  12.773569\n",
       "2010-12-10  12.916667\n",
       "...               ...\n",
       "2022-06-27  44.380001\n",
       "2022-06-28  42.650002\n",
       "2022-06-29  42.669998\n",
       "2022-06-30  41.669998\n",
       "2022-07-01  42.889999\n",
       "\n",
       "[2913 rows x 1 columns]"
      ]
     },
     "execution_count": 7,
     "metadata": {},
     "output_type": "execute_result"
    }
   ],
   "source": [
    "EBAY_df = EBAY_df[['close']]\n",
    "EBAY_df"
   ]
  },
  {
   "cell_type": "code",
   "execution_count": 8,
   "id": "7178ce01",
   "metadata": {},
   "outputs": [
    {
     "name": "stdout",
     "output_type": "stream",
     "text": [
      "2022-07-01 00:00:00\n"
     ]
    }
   ],
   "source": [
    "print (EBAY_df.index.max())\n"
   ]
  },
  {
   "cell_type": "code",
   "execution_count": 9,
   "id": "33523462",
   "metadata": {},
   "outputs": [],
   "source": [
    "EBAY_data = EBAY_df.filter(['close'])\n",
    "EBAY_dataset = EBAY_data.values\n",
    "\n",
    "scaler = MinMaxScaler(feature_range=(0, 1))\n",
    "scaled_data = scaler.fit_transform(EBAY_dataset)\n",
    "\n",
    "training_data_len =math.ceil(len(EBAY_dataset) *.7)\n",
    "train_data =scaled_data[0:training_data_len , : ]\n",
    "\n",
    "\n",
    "X_train_data = []\n",
    "y_train_data = []\n",
    "\n",
    "for i in range(1500,len(train_data)):\n",
    "    X_train_data=list(X_train_data)\n",
    "    y_train_data=list(y_train_data)\n",
    "    X_train_data.append(train_data[i-1500:i,0])\n",
    "    y_train_data.append(train_data[i,0])\n",
    "    \n",
    "    X_train_data1, y_train_data1 = np.array(X_train_data), np.array(y_train_data)\n",
    "    \n",
    "    X_train_data2 = np.reshape(X_train_data1,(X_train_data1.shape[0],X_train_data1.shape[1],1))"
   ]
  },
  {
   "cell_type": "code",
   "execution_count": 10,
   "id": "87551854",
   "metadata": {},
   "outputs": [],
   "source": [
    "model = Sequential()\n",
    "\n",
    "model.add(LSTM(units=50, return_sequences=True,input_shape=(X_train_data2.shape[1],1)))\n",
    "\n",
    "model.add(LSTM(units=50, return_sequences=False))\n",
    "\n",
    "model.add(Dense(units=25))\n",
    "\n",
    "model.add(Dense(units=1))"
   ]
  },
  {
   "cell_type": "code",
   "execution_count": 11,
   "id": "c611e963",
   "metadata": {},
   "outputs": [
    {
     "name": "stdout",
     "output_type": "stream",
     "text": [
      "540/540 [==============================] - 148s 271ms/step - loss: 0.0014\n"
     ]
    },
    {
     "data": {
      "text/plain": [
       "<keras.callbacks.History at 0x19f2affdf88>"
      ]
     },
     "execution_count": 11,
     "metadata": {},
     "output_type": "execute_result"
    }
   ],
   "source": [
    "model.compile(optimizer='adam', loss='mean_squared_error')\n",
    "\n",
    "model.fit(X_train_data2, y_train_data1, batch_size=1, epochs=1)"
   ]
  },
  {
   "cell_type": "code",
   "execution_count": 12,
   "id": "9e69378d",
   "metadata": {},
   "outputs": [
    {
     "name": "stdout",
     "output_type": "stream",
     "text": [
      "28/28 [==============================] - 5s 172ms/step\n"
     ]
    }
   ],
   "source": [
    "test_data = scaled_data[training_data_len -1500: , : ]\n",
    "\n",
    "X_test = []\n",
    "\n",
    "y_test = EBAY_dataset[training_data_len : , : ]\n",
    "\n",
    "for i in range(1500,len(test_data)):\n",
    "    \n",
    "    X_test.append(test_data[i-1500:i,0])\n",
    "\n",
    "X_test = np.array(X_test)\n",
    "\n",
    "X_test = np.reshape(X_test,(X_test.shape[0],X_test.shape[1],1))\n",
    "\n",
    "predictions = model.predict(X_test)\n",
    "\n",
    "predictions = scaler.inverse_transform(predictions)"
   ]
  },
  {
   "cell_type": "code",
   "execution_count": 13,
   "id": "8ec05267",
   "metadata": {},
   "outputs": [],
   "source": [
    "rmse=np.sqrt(np.mean(((predictions-y_test)**2)))"
   ]
  },
  {
   "cell_type": "code",
   "execution_count": 14,
   "id": "92e0b58d",
   "metadata": {},
   "outputs": [
    {
     "name": "stdout",
     "output_type": "stream",
     "text": [
      "2.2054686088899165\n"
     ]
    }
   ],
   "source": [
    "print(rmse)\n"
   ]
  },
  {
   "cell_type": "code",
   "execution_count": 15,
   "id": "f30c6548",
   "metadata": {},
   "outputs": [
    {
     "name": "stderr",
     "output_type": "stream",
     "text": [
      "c:\\Users\\matth\\anaconda3\\envs\\PythonData\\lib\\site-packages\\ipykernel_launcher.py:5: SettingWithCopyWarning: \n",
      "A value is trying to be set on a copy of a slice from a DataFrame.\n",
      "Try using .loc[row_indexer,col_indexer] = value instead\n",
      "\n",
      "See the caveats in the documentation: https://pandas.pydata.org/pandas-docs/stable/user_guide/indexing.html#returning-a-view-versus-a-copy\n",
      "  \"\"\"\n"
     ]
    },
    {
     "data": {
      "image/png": "[encoded data removed]",
      "text/plain": [
       "<Figure size 432x288 with 1 Axes>"
      ]
     },
     "metadata": {
      "needs_background": "light"
     },
     "output_type": "display_data"
    }
   ],
   "source": [
    "train = EBAY_df[:training_data_len]\n",
    "\n",
    "valid = EBAY_df[training_data_len:]\n",
    "\n",
    "valid['Predictions'] = predictions\n",
    "\n",
    "plt.title('Model')\n",
    "\n",
    "plt.xlabel('Date')\n",
    "\n",
    "plt.ylabel('close')\n",
    "\n",
    "plt.plot(train['close'])\n",
    "\n",
    "plt.plot(valid[['close', 'Predictions']])\n",
    "\n",
    "plt.legend(['Train', 'Val', 'Predictions'], loc='lower right')\n",
    "\n",
    "plt.show()"
   ]
  },
  {
   "cell_type": "code",
   "execution_count": 16,
   "id": "12d4e29e",
   "metadata": {},
   "outputs": [
    {
     "data": {
      "text/plain": [
       "<AxesSubplot:xlabel='date'>"
      ]
     },
     "execution_count": 16,
     "metadata": {},
     "output_type": "execute_result"
    },
    {
     "data": {
      "image/png": "[encoded data removed]",
      "text/plain": [
       "<Figure size 432x288 with 1 Axes>"
      ]
     },
     "metadata": {
      "needs_background": "light"
     },
     "output_type": "display_data"
    }
   ],
   "source": [
    "EBAY_df.plot()"
   ]
  },
  {
   "cell_type": "code",
   "execution_count": 17,
   "id": "26bef0b0",
   "metadata": {},
   "outputs": [
    {
     "data": {
      "text/html": [
       "<div>\n",
       "<style scoped>\n",
       "    .dataframe tbody tr th:only-of-type {\n",
       "        vertical-align: middle;\n",
       "    }\n",
       "\n",
       "    .dataframe tbody tr th {\n",
       "        vertical-align: top;\n",
       "    }\n",
       "\n",
       "    .dataframe thead th {\n",
       "        text-align: right;\n",
       "    }\n",
       "</style>\n",
       "<table border=\"1\" class=\"dataframe\">\n",
       "  <thead>\n",
       "    <tr style=\"text-align: right;\">\n",
       "      <th></th>\n",
       "      <th>close</th>\n",
       "      <th>Predictions</th>\n",
       "    </tr>\n",
       "    <tr>\n",
       "      <th>date</th>\n",
       "      <th></th>\n",
       "      <th></th>\n",
       "    </tr>\n",
       "  </thead>\n",
       "  <tbody>\n",
       "    <tr>\n",
       "      <th>2010-12-06</th>\n",
       "      <td>12.411616</td>\n",
       "      <td>NaN</td>\n",
       "    </tr>\n",
       "    <tr>\n",
       "      <th>2010-12-07</th>\n",
       "      <td>12.626263</td>\n",
       "      <td>NaN</td>\n",
       "    </tr>\n",
       "    <tr>\n",
       "      <th>2010-12-08</th>\n",
       "      <td>12.689394</td>\n",
       "      <td>NaN</td>\n",
       "    </tr>\n",
       "    <tr>\n",
       "      <th>2010-12-09</th>\n",
       "      <td>12.773569</td>\n",
       "      <td>NaN</td>\n",
       "    </tr>\n",
       "    <tr>\n",
       "      <th>2010-12-10</th>\n",
       "      <td>12.916667</td>\n",
       "      <td>NaN</td>\n",
       "    </tr>\n",
       "    <tr>\n",
       "      <th>...</th>\n",
       "      <td>...</td>\n",
       "      <td>...</td>\n",
       "    </tr>\n",
       "    <tr>\n",
       "      <th>2022-06-27</th>\n",
       "      <td>44.380001</td>\n",
       "      <td>44.039024</td>\n",
       "    </tr>\n",
       "    <tr>\n",
       "      <th>2022-06-28</th>\n",
       "      <td>42.650002</td>\n",
       "      <td>44.043385</td>\n",
       "    </tr>\n",
       "    <tr>\n",
       "      <th>2022-06-29</th>\n",
       "      <td>42.669998</td>\n",
       "      <td>43.988388</td>\n",
       "    </tr>\n",
       "    <tr>\n",
       "      <th>2022-06-30</th>\n",
       "      <td>41.669998</td>\n",
       "      <td>43.903637</td>\n",
       "    </tr>\n",
       "    <tr>\n",
       "      <th>2022-07-01</th>\n",
       "      <td>42.889999</td>\n",
       "      <td>43.747223</td>\n",
       "    </tr>\n",
       "  </tbody>\n",
       "</table>\n",
       "<p>2913 rows × 2 columns</p>\n",
       "</div>"
      ],
      "text/plain": [
       "                close  Predictions\n",
       "date                              \n",
       "2010-12-06  12.411616          NaN\n",
       "2010-12-07  12.626263          NaN\n",
       "2010-12-08  12.689394          NaN\n",
       "2010-12-09  12.773569          NaN\n",
       "2010-12-10  12.916667          NaN\n",
       "...               ...          ...\n",
       "2022-06-27  44.380001    44.039024\n",
       "2022-06-28  42.650002    44.043385\n",
       "2022-06-29  42.669998    43.988388\n",
       "2022-06-30  41.669998    43.903637\n",
       "2022-07-01  42.889999    43.747223\n",
       "\n",
       "[2913 rows x 2 columns]"
      ]
     },
     "execution_count": 17,
     "metadata": {},
     "output_type": "execute_result"
    }
   ],
   "source": [
    "complete_EBAY_df = pd.concat([train[['close']], valid[['close', 'Predictions']]])\n",
    "complete_EBAY_df"
   ]
  },
  {
   "cell_type": "code",
   "execution_count": 18,
   "id": "b1ddce2d",
   "metadata": {},
   "outputs": [],
   "source": [
    "EBAY_df.to_csv(\"EBAY_df.csv\", index=False)"
   ]
  },
  {
   "cell_type": "code",
   "execution_count": 19,
   "id": "fa9bcb6a",
   "metadata": {},
   "outputs": [],
   "source": [
    "complete_EBAY_df.to_csv(\"complete_EBAY_df.csv\", index=False)"
   ]
  },
  {
   "cell_type": "code",
   "execution_count": null,
   "id": "a2de86bc",
   "metadata": {},
   "outputs": [],
   "source": []
  }
 ],
 "metadata": {
  "kernelspec": {
   "display_name": "Python 3 (ipykernel)",
   "language": "python",
   "name": "python3"
  },
  "language_info": {
   "codemirror_mode": {
    "name": "ipython",
    "version": 3
   },
   "file_extension": ".py",
   "mimetype": "text/x-python",
   "name": "python",
   "nbconvert_exporter": "python",
   "pygments_lexer": "ipython3",
   "version": "3.7.11"
  },
  "vscode": {
   "interpreter": {
    "hash": "5e56b855c8a22d99951d5903f3e420326139b93365d75d089ae493339284e0f2"
   }
  }
 },
 "nbformat": 4,
 "nbformat_minor": 5
}
