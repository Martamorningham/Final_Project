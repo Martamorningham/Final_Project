{
 "cells": [
  {
   "cell_type": "code",
   "execution_count": null,
   "id": "d04ac70f",
   "metadata": {},
   "outputs": [],
   "source": [
    "#AMZN ticker  AMAZON"
   ]
  },
  {
   "cell_type": "code",
   "execution_count": 1,
   "id": "aea7b09a",
   "metadata": {},
   "outputs": [],
   "source": [
    "import numpy as np\n",
    "import pandas as pd\n",
    "import matplotlib.pyplot as plt\n",
    "from keras.models import Sequential\n",
    "from keras.layers import Dense, LSTM\n",
    "import math\n",
    "from sklearn.preprocessing import MinMaxScaler\n",
    "\n",
    "from yahoo_fin.stock_info import get_data"
   ]
  },
  {
   "cell_type": "code",
   "execution_count": null,
   "id": "ed9e3472",
   "metadata": {},
   "outputs": [],
   "source": [
    "#interval: {“1d”, “1wk”, “1mo”}. Refers to the interval to sample the data: “1d”= daily, “1wk”= weekly, “1mo”=monthly."
   ]
  },
  {
   "cell_type": "code",
   "execution_count": 2,
   "id": "563ee7db",
   "metadata": {},
   "outputs": [
    {
     "data": {
      "text/html": [
       "<div>\n",
       "<style scoped>\n",
       "    .dataframe tbody tr th:only-of-type {\n",
       "        vertical-align: middle;\n",
       "    }\n",
       "\n",
       "    .dataframe tbody tr th {\n",
       "        vertical-align: top;\n",
       "    }\n",
       "\n",
       "    .dataframe thead th {\n",
       "        text-align: right;\n",
       "    }\n",
       "</style>\n",
       "<table border=\"1\" class=\"dataframe\">\n",
       "  <thead>\n",
       "    <tr style=\"text-align: right;\">\n",
       "      <th></th>\n",
       "      <th>date</th>\n",
       "      <th>open</th>\n",
       "      <th>high</th>\n",
       "      <th>low</th>\n",
       "      <th>close</th>\n",
       "      <th>adjclose</th>\n",
       "      <th>volume</th>\n",
       "      <th>ticker</th>\n",
       "    </tr>\n",
       "  </thead>\n",
       "  <tbody>\n",
       "    <tr>\n",
       "      <th>0</th>\n",
       "      <td>2010-12-06</td>\n",
       "      <td>8.776000</td>\n",
       "      <td>8.921500</td>\n",
       "      <td>8.730000</td>\n",
       "      <td>8.902500</td>\n",
       "      <td>8.902500</td>\n",
       "      <td>113084000</td>\n",
       "      <td>AMZN</td>\n",
       "    </tr>\n",
       "    <tr>\n",
       "      <th>1</th>\n",
       "      <td>2010-12-07</td>\n",
       "      <td>9.025000</td>\n",
       "      <td>9.073500</td>\n",
       "      <td>8.828500</td>\n",
       "      <td>8.838500</td>\n",
       "      <td>8.838500</td>\n",
       "      <td>101542000</td>\n",
       "      <td>AMZN</td>\n",
       "    </tr>\n",
       "    <tr>\n",
       "      <th>2</th>\n",
       "      <td>2010-12-08</td>\n",
       "      <td>8.874500</td>\n",
       "      <td>8.908000</td>\n",
       "      <td>8.760000</td>\n",
       "      <td>8.814500</td>\n",
       "      <td>8.814500</td>\n",
       "      <td>74538000</td>\n",
       "      <td>AMZN</td>\n",
       "    </tr>\n",
       "    <tr>\n",
       "      <th>3</th>\n",
       "      <td>2010-12-09</td>\n",
       "      <td>8.888500</td>\n",
       "      <td>8.905500</td>\n",
       "      <td>8.690000</td>\n",
       "      <td>8.742500</td>\n",
       "      <td>8.742500</td>\n",
       "      <td>91110000</td>\n",
       "      <td>AMZN</td>\n",
       "    </tr>\n",
       "    <tr>\n",
       "      <th>4</th>\n",
       "      <td>2010-12-10</td>\n",
       "      <td>8.744000</td>\n",
       "      <td>8.797500</td>\n",
       "      <td>8.668000</td>\n",
       "      <td>8.781000</td>\n",
       "      <td>8.781000</td>\n",
       "      <td>71310000</td>\n",
       "      <td>AMZN</td>\n",
       "    </tr>\n",
       "    <tr>\n",
       "      <th>...</th>\n",
       "      <td>...</td>\n",
       "      <td>...</td>\n",
       "      <td>...</td>\n",
       "      <td>...</td>\n",
       "      <td>...</td>\n",
       "      <td>...</td>\n",
       "      <td>...</td>\n",
       "      <td>...</td>\n",
       "    </tr>\n",
       "    <tr>\n",
       "      <th>2908</th>\n",
       "      <td>2022-06-27</td>\n",
       "      <td>117.089996</td>\n",
       "      <td>117.980003</td>\n",
       "      <td>112.699997</td>\n",
       "      <td>113.220001</td>\n",
       "      <td>113.220001</td>\n",
       "      <td>62133200</td>\n",
       "      <td>AMZN</td>\n",
       "    </tr>\n",
       "    <tr>\n",
       "      <th>2909</th>\n",
       "      <td>2022-06-28</td>\n",
       "      <td>113.500000</td>\n",
       "      <td>114.849998</td>\n",
       "      <td>107.040001</td>\n",
       "      <td>107.400002</td>\n",
       "      <td>107.400002</td>\n",
       "      <td>74942900</td>\n",
       "      <td>AMZN</td>\n",
       "    </tr>\n",
       "    <tr>\n",
       "      <th>2910</th>\n",
       "      <td>2022-06-29</td>\n",
       "      <td>107.379997</td>\n",
       "      <td>110.989998</td>\n",
       "      <td>106.910004</td>\n",
       "      <td>108.919998</td>\n",
       "      <td>108.919998</td>\n",
       "      <td>66375300</td>\n",
       "      <td>AMZN</td>\n",
       "    </tr>\n",
       "    <tr>\n",
       "      <th>2911</th>\n",
       "      <td>2022-06-30</td>\n",
       "      <td>108.110001</td>\n",
       "      <td>108.180000</td>\n",
       "      <td>102.519997</td>\n",
       "      <td>106.209999</td>\n",
       "      <td>106.209999</td>\n",
       "      <td>97679400</td>\n",
       "      <td>AMZN</td>\n",
       "    </tr>\n",
       "    <tr>\n",
       "      <th>2912</th>\n",
       "      <td>2022-07-01</td>\n",
       "      <td>106.290001</td>\n",
       "      <td>109.750000</td>\n",
       "      <td>105.849998</td>\n",
       "      <td>109.559998</td>\n",
       "      <td>109.559998</td>\n",
       "      <td>73021200</td>\n",
       "      <td>AMZN</td>\n",
       "    </tr>\n",
       "  </tbody>\n",
       "</table>\n",
       "<p>2913 rows × 8 columns</p>\n",
       "</div>"
      ],
      "text/plain": [
       "           date        open        high         low       close    adjclose  \\\n",
       "0    2010-12-06    8.776000    8.921500    8.730000    8.902500    8.902500   \n",
       "1    2010-12-07    9.025000    9.073500    8.828500    8.838500    8.838500   \n",
       "2    2010-12-08    8.874500    8.908000    8.760000    8.814500    8.814500   \n",
       "3    2010-12-09    8.888500    8.905500    8.690000    8.742500    8.742500   \n",
       "4    2010-12-10    8.744000    8.797500    8.668000    8.781000    8.781000   \n",
       "...         ...         ...         ...         ...         ...         ...   \n",
       "2908 2022-06-27  117.089996  117.980003  112.699997  113.220001  113.220001   \n",
       "2909 2022-06-28  113.500000  114.849998  107.040001  107.400002  107.400002   \n",
       "2910 2022-06-29  107.379997  110.989998  106.910004  108.919998  108.919998   \n",
       "2911 2022-06-30  108.110001  108.180000  102.519997  106.209999  106.209999   \n",
       "2912 2022-07-01  106.290001  109.750000  105.849998  109.559998  109.559998   \n",
       "\n",
       "         volume ticker  \n",
       "0     113084000   AMZN  \n",
       "1     101542000   AMZN  \n",
       "2      74538000   AMZN  \n",
       "3      91110000   AMZN  \n",
       "4      71310000   AMZN  \n",
       "...         ...    ...  \n",
       "2908   62133200   AMZN  \n",
       "2909   74942900   AMZN  \n",
       "2910   66375300   AMZN  \n",
       "2911   97679400   AMZN  \n",
       "2912   73021200   AMZN  \n",
       "\n",
       "[2913 rows x 8 columns]"
      ]
     },
     "execution_count": 2,
     "metadata": {},
     "output_type": "execute_result"
    }
   ],
   "source": [
    "api_df= get_data(\"amzn\", start_date=\"12/04/2010\", end_date=\"07/04/2022\", index_as_date = False, interval=\"1d\")\n",
    "api_df"
   ]
  },
  {
   "cell_type": "code",
   "execution_count": 3,
   "id": "4e8a3887",
   "metadata": {},
   "outputs": [
    {
     "name": "stdout",
     "output_type": "stream",
     "text": [
      "              open         high          low        close     adjclose  \\\n",
      "count  2913.000000  2913.000000  2913.000000  2913.000000  2913.000000   \n",
      "mean     60.784937    61.453926    60.033075    60.754295    60.754295   \n",
      "std      54.139053    54.766744    53.425571    54.083420    54.083420   \n",
      "min       8.059500     8.177000     8.029500     8.048500     8.048500   \n",
      "25%      15.158000    15.290000    14.966500    15.170000    15.170000   \n",
      "50%      38.240501    38.494499    37.990002    38.236000    38.236000   \n",
      "75%      92.567497    93.523003    91.588997    92.765999    92.765999   \n",
      "max     187.199997   188.654007   184.839493   186.570496   186.570496   \n",
      "\n",
      "             volume  \n",
      "count  2.913000e+03  \n",
      "mean   8.415458e+07  \n",
      "std    4.575082e+07  \n",
      "min    1.762600e+07  \n",
      "25%    5.508400e+07  \n",
      "50%    7.272000e+07  \n",
      "75%    9.863800e+07  \n",
      "max    4.826840e+08  \n"
     ]
    }
   ],
   "source": [
    "#print the summary \n",
    "print(api_df.describe())"
   ]
  },
  {
   "cell_type": "code",
   "execution_count": 4,
   "id": "7322076a",
   "metadata": {},
   "outputs": [],
   "source": [
    "#prep the data \n",
    "api_df.set_index(pd.DatetimeIndex(api_df['date']), inplace=True)"
   ]
  },
  {
   "cell_type": "code",
   "execution_count": 5,
   "id": "2430dd24",
   "metadata": {},
   "outputs": [
    {
     "data": {
      "text/html": [
       "<div>\n",
       "<style scoped>\n",
       "    .dataframe tbody tr th:only-of-type {\n",
       "        vertical-align: middle;\n",
       "    }\n",
       "\n",
       "    .dataframe tbody tr th {\n",
       "        vertical-align: top;\n",
       "    }\n",
       "\n",
       "    .dataframe thead th {\n",
       "        text-align: right;\n",
       "    }\n",
       "</style>\n",
       "<table border=\"1\" class=\"dataframe\">\n",
       "  <thead>\n",
       "    <tr style=\"text-align: right;\">\n",
       "      <th></th>\n",
       "      <th>close</th>\n",
       "    </tr>\n",
       "    <tr>\n",
       "      <th>date</th>\n",
       "      <th></th>\n",
       "    </tr>\n",
       "  </thead>\n",
       "  <tbody>\n",
       "    <tr>\n",
       "      <th>2010-12-06</th>\n",
       "      <td>8.902500</td>\n",
       "    </tr>\n",
       "    <tr>\n",
       "      <th>2010-12-07</th>\n",
       "      <td>8.838500</td>\n",
       "    </tr>\n",
       "    <tr>\n",
       "      <th>2010-12-08</th>\n",
       "      <td>8.814500</td>\n",
       "    </tr>\n",
       "    <tr>\n",
       "      <th>2010-12-09</th>\n",
       "      <td>8.742500</td>\n",
       "    </tr>\n",
       "    <tr>\n",
       "      <th>2010-12-10</th>\n",
       "      <td>8.781000</td>\n",
       "    </tr>\n",
       "    <tr>\n",
       "      <th>...</th>\n",
       "      <td>...</td>\n",
       "    </tr>\n",
       "    <tr>\n",
       "      <th>2022-06-27</th>\n",
       "      <td>113.220001</td>\n",
       "    </tr>\n",
       "    <tr>\n",
       "      <th>2022-06-28</th>\n",
       "      <td>107.400002</td>\n",
       "    </tr>\n",
       "    <tr>\n",
       "      <th>2022-06-29</th>\n",
       "      <td>108.919998</td>\n",
       "    </tr>\n",
       "    <tr>\n",
       "      <th>2022-06-30</th>\n",
       "      <td>106.209999</td>\n",
       "    </tr>\n",
       "    <tr>\n",
       "      <th>2022-07-01</th>\n",
       "      <td>109.559998</td>\n",
       "    </tr>\n",
       "  </tbody>\n",
       "</table>\n",
       "<p>2913 rows × 1 columns</p>\n",
       "</div>"
      ],
      "text/plain": [
       "                 close\n",
       "date                  \n",
       "2010-12-06    8.902500\n",
       "2010-12-07    8.838500\n",
       "2010-12-08    8.814500\n",
       "2010-12-09    8.742500\n",
       "2010-12-10    8.781000\n",
       "...                ...\n",
       "2022-06-27  113.220001\n",
       "2022-06-28  107.400002\n",
       "2022-06-29  108.919998\n",
       "2022-06-30  106.209999\n",
       "2022-07-01  109.559998\n",
       "\n",
       "[2913 rows x 1 columns]"
      ]
     },
     "execution_count": 5,
     "metadata": {},
     "output_type": "execute_result"
    }
   ],
   "source": [
    "#Keep the close for 2014-19\n",
    "api_df = api_df[['close']]\n",
    "api_df"
   ]
  },
  {
   "cell_type": "code",
   "execution_count": 6,
   "id": "7e161e61",
   "metadata": {},
   "outputs": [
    {
     "name": "stdout",
     "output_type": "stream",
     "text": [
      "2022-07-01 00:00:00\n"
     ]
    }
   ],
   "source": [
    "print (api_df.index.max())"
   ]
  },
  {
   "cell_type": "code",
   "execution_count": 7,
   "id": "18a6c74e",
   "metadata": {},
   "outputs": [],
   "source": [
    "data = api_df.filter(['close'])\n",
    "dataset = data.values\n",
    "\n",
    "scaler = MinMaxScaler(feature_range=(0, 1))\n",
    "scaled_data = scaler.fit_transform(dataset)\n",
    "\n",
    "training_data_len =math.ceil(len(dataset) *.7)\n",
    "train_data =scaled_data[0:training_data_len , : ]\n",
    "\n",
    "\n",
    "X_train_data = []\n",
    "y_train_data = []\n",
    "\n",
    "for i in range(1500,len(train_data)):\n",
    "    X_train_data=list(X_train_data)\n",
    "    y_train_data=list(y_train_data)\n",
    "    X_train_data.append(train_data[i-1500:i,0])\n",
    "    y_train_data.append(train_data[i,0])\n",
    "    \n",
    "    X_train_data1, y_train_data1 = np.array(X_train_data), np.array(y_train_data)\n",
    "    \n",
    "    X_train_data2 = np.reshape(X_train_data1,(X_train_data1.shape[0],X_train_data1.shape[1],1))\n",
    "\n",
    "   \n",
    "    \n",
    "#1500 = number of days you can change it accordingly. \n",
    "\n",
    "# There will be a total of 60 values, 1st column will contain an index of 0-59\n",
    "# The second will have an index of 1-60 ++_\n",
    "# the y_train has the 60 st value on c1 and c2 will have 61++"
   ]
  },
  {
   "cell_type": "code",
   "execution_count": 8,
   "id": "2f721bf9",
   "metadata": {},
   "outputs": [],
   "source": [
    "#Build the LSTM MODEL \n",
    "\n",
    "model = Sequential()\n",
    "\n",
    "model.add(LSTM(units=50, return_sequences=True,input_shape=(X_train_data2.shape[1],1)))\n",
    "\n",
    "model.add(LSTM(units=50, return_sequences=False))\n",
    "\n",
    "model.add(Dense(units=25))\n",
    "\n",
    "model.add(Dense(units=1))"
   ]
  },
  {
   "cell_type": "code",
   "execution_count": 9,
   "id": "e80f29e5",
   "metadata": {},
   "outputs": [
    {
     "name": "stdout",
     "output_type": "stream",
     "text": [
      "540/540 [==============================] - 318s 572ms/step - loss: 0.0013\n"
     ]
    },
    {
     "data": {
      "text/plain": [
       "<keras.callbacks.History at 0x270bd9d6748>"
      ]
     },
     "execution_count": 9,
     "metadata": {},
     "output_type": "execute_result"
    }
   ],
   "source": [
    "model.compile(optimizer='adam', loss='mean_squared_error')\n",
    "\n",
    "model.fit(X_train_data2, y_train_data1, batch_size=1, epochs=1)"
   ]
  },
  {
   "cell_type": "code",
   "execution_count": 10,
   "id": "22f51fea",
   "metadata": {},
   "outputs": [
    {
     "name": "stdout",
     "output_type": "stream",
     "text": [
      "28/28 [==============================] - 10s 311ms/step\n"
     ]
    }
   ],
   "source": [
    "test_data = scaled_data[training_data_len -1500: , : ]\n",
    "\n",
    "X_test = []\n",
    "\n",
    "y_test = dataset[training_data_len : , : ]\n",
    "\n",
    "for i in range(1500,len(test_data)):\n",
    "    \n",
    "    X_test.append(test_data[i-1500:i,0])\n",
    "\n",
    "X_test = np.array(X_test)\n",
    "\n",
    "X_test = np.reshape(X_test,(X_test.shape[0],X_test.shape[1],1))\n",
    "\n",
    "predictions = model.predict(X_test)\n",
    "\n",
    "predictions = scaler.inverse_transform(predictions)"
   ]
  },
  {
   "cell_type": "code",
   "execution_count": 11,
   "id": "ac4f9146",
   "metadata": {},
   "outputs": [],
   "source": [
    "# Error calculation where RMSE = root mean squared error \n",
    "\n",
    "rmse=np.sqrt(np.mean(((predictions-y_test)**2)))"
   ]
  },
  {
   "cell_type": "code",
   "execution_count": 12,
   "id": "295df0f2",
   "metadata": {},
   "outputs": [
    {
     "name": "stdout",
     "output_type": "stream",
     "text": [
      "8.277469131384883\n"
     ]
    }
   ],
   "source": [
    "print(rmse)"
   ]
  },
  {
   "cell_type": "code",
   "execution_count": 13,
   "id": "5fcd0136",
   "metadata": {},
   "outputs": [
    {
     "name": "stderr",
     "output_type": "stream",
     "text": [
      "C:\\Users\\rctay\\anaconda3\\envs\\mlenv\\lib\\site-packages\\ipykernel_launcher.py:7: SettingWithCopyWarning: \n",
      "A value is trying to be set on a copy of a slice from a DataFrame.\n",
      "Try using .loc[row_indexer,col_indexer] = value instead\n",
      "\n",
      "See the caveats in the documentation: https://pandas.pydata.org/pandas-docs/stable/user_guide/indexing.html#returning-a-view-versus-a-copy\n",
      "  import sys\n"
     ]
    },
    {
     "data": {
      "image/png": "[encoded data removed]",
      "text/plain": [
       "<Figure size 432x288 with 1 Axes>"
      ]
     },
     "metadata": {
      "needs_background": "light"
     },
     "output_type": "display_data"
    }
   ],
   "source": [
    "#Predict and visualize \n",
    "\n",
    "train = api_df[:training_data_len]\n",
    "\n",
    "valid = api_df[training_data_len:]\n",
    "\n",
    "valid['Predictions'] = predictions\n",
    "\n",
    "plt.title('Model')\n",
    "\n",
    "plt.xlabel('Date')\n",
    "\n",
    "plt.ylabel('close')\n",
    "\n",
    "plt.plot(train['close'])\n",
    "\n",
    "plt.plot(valid[['close', 'Predictions']])\n",
    "\n",
    "plt.legend(['Train', 'Val', 'Predictions'], loc='lower right')\n",
    "\n",
    "plt.show()"
   ]
  },
  {
   "cell_type": "code",
   "execution_count": 14,
   "id": "8aab62eb",
   "metadata": {},
   "outputs": [
    {
     "data": {
      "text/plain": [
       "<AxesSubplot:xlabel='date'>"
      ]
     },
     "execution_count": 14,
     "metadata": {},
     "output_type": "execute_result"
    },
    {
     "data": {
      "image/png": "[encoded data removed]",
      "text/plain": [
       "<Figure size 432x288 with 1 Axes>"
      ]
     },
     "metadata": {
      "needs_background": "light"
     },
     "output_type": "display_data"
    }
   ],
   "source": [
    "api_df.plot()"
   ]
  },
  {
   "cell_type": "code",
   "execution_count": null,
   "id": "482b5cab",
   "metadata": {},
   "outputs": [],
   "source": []
  }
 ],
 "metadata": {
  "kernelspec": {
   "display_name": "mlenv",
   "language": "python",
   "name": "mlenv"
  },
  "language_info": {
   "codemirror_mode": {
    "name": "ipython",
    "version": 3
   },
   "file_extension": ".py",
   "mimetype": "text/x-python",
   "name": "python",
   "nbconvert_exporter": "python",
   "pygments_lexer": "ipython3",
   "version": "3.7.13"
  }
 },
 "nbformat": 4,
 "nbformat_minor": 5
}
