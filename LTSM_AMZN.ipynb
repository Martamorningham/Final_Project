{
 "cells": [
  {
   "cell_type": "code",
   "execution_count": 1,
   "id": "8b5fa349",
   "metadata": {},
   "outputs": [],
   "source": [
    "import numpy as np\n",
    "import pandas as pd\n",
    "import matplotlib.pyplot as plt\n",
    "from keras.models import Sequential\n",
    "from keras.layers import Dense, LSTM\n",
    "import math\n",
    "from sklearn.preprocessing import MinMaxScaler"
   ]
  },
  {
   "cell_type": "code",
   "execution_count": 2,
   "id": "b27e06be",
   "metadata": {},
   "outputs": [],
   "source": [
    "#load the data \n",
    "amzn_df = pd.read_csv('AMZN_14_22.csv')"
   ]
  },
  {
   "cell_type": "code",
   "execution_count": 3,
   "id": "fd08047b",
   "metadata": {},
   "outputs": [
    {
     "data": {
      "text/html": [
       "<div>\n",
       "<style scoped>\n",
       "    .dataframe tbody tr th:only-of-type {\n",
       "        vertical-align: middle;\n",
       "    }\n",
       "\n",
       "    .dataframe tbody tr th {\n",
       "        vertical-align: top;\n",
       "    }\n",
       "\n",
       "    .dataframe thead th {\n",
       "        text-align: right;\n",
       "    }\n",
       "</style>\n",
       "<table border=\"1\" class=\"dataframe\">\n",
       "  <thead>\n",
       "    <tr style=\"text-align: right;\">\n",
       "      <th></th>\n",
       "      <th>Date</th>\n",
       "      <th>Open</th>\n",
       "      <th>High</th>\n",
       "      <th>Low</th>\n",
       "      <th>Close</th>\n",
       "      <th>Adj Close</th>\n",
       "      <th>Volume</th>\n",
       "    </tr>\n",
       "  </thead>\n",
       "  <tbody>\n",
       "    <tr>\n",
       "      <th>0</th>\n",
       "      <td>2014-01-02</td>\n",
       "      <td>19.940001</td>\n",
       "      <td>19.9680</td>\n",
       "      <td>19.701000</td>\n",
       "      <td>19.898500</td>\n",
       "      <td>19.898500</td>\n",
       "      <td>42756000</td>\n",
       "    </tr>\n",
       "    <tr>\n",
       "      <th>1</th>\n",
       "      <td>2014-01-03</td>\n",
       "      <td>19.914499</td>\n",
       "      <td>20.1355</td>\n",
       "      <td>19.811001</td>\n",
       "      <td>19.822001</td>\n",
       "      <td>19.822001</td>\n",
       "      <td>44204000</td>\n",
       "    </tr>\n",
       "    <tr>\n",
       "      <th>2</th>\n",
       "      <td>2014-01-06</td>\n",
       "      <td>19.792500</td>\n",
       "      <td>19.8500</td>\n",
       "      <td>19.421000</td>\n",
       "      <td>19.681499</td>\n",
       "      <td>19.681499</td>\n",
       "      <td>63412000</td>\n",
       "    </tr>\n",
       "    <tr>\n",
       "      <th>3</th>\n",
       "      <td>2014-01-07</td>\n",
       "      <td>19.752001</td>\n",
       "      <td>19.9235</td>\n",
       "      <td>19.714500</td>\n",
       "      <td>19.901501</td>\n",
       "      <td>19.901501</td>\n",
       "      <td>38320000</td>\n",
       "    </tr>\n",
       "    <tr>\n",
       "      <th>4</th>\n",
       "      <td>2014-01-08</td>\n",
       "      <td>19.923500</td>\n",
       "      <td>20.1500</td>\n",
       "      <td>19.802000</td>\n",
       "      <td>20.096001</td>\n",
       "      <td>20.096001</td>\n",
       "      <td>46330000</td>\n",
       "    </tr>\n",
       "  </tbody>\n",
       "</table>\n",
       "</div>"
      ],
      "text/plain": [
       "         Date       Open     High        Low      Close  Adj Close    Volume\n",
       "0  2014-01-02  19.940001  19.9680  19.701000  19.898500  19.898500  42756000\n",
       "1  2014-01-03  19.914499  20.1355  19.811001  19.822001  19.822001  44204000\n",
       "2  2014-01-06  19.792500  19.8500  19.421000  19.681499  19.681499  63412000\n",
       "3  2014-01-07  19.752001  19.9235  19.714500  19.901501  19.901501  38320000\n",
       "4  2014-01-08  19.923500  20.1500  19.802000  20.096001  20.096001  46330000"
      ]
     },
     "execution_count": 3,
     "metadata": {},
     "output_type": "execute_result"
    }
   ],
   "source": [
    "amzn_df.head()"
   ]
  },
  {
   "cell_type": "code",
   "execution_count": 4,
   "id": "60e0610f",
   "metadata": {},
   "outputs": [
    {
     "name": "stdout",
     "output_type": "stream",
     "text": [
      "            Date        Open        High         Low       Close   Adj Close  \\\n",
      "0     2014-01-02   19.940001   19.968000   19.701000   19.898500   19.898500   \n",
      "1     2014-01-03   19.914499   20.135500   19.811001   19.822001   19.822001   \n",
      "2     2014-01-06   19.792500   19.850000   19.421000   19.681499   19.681499   \n",
      "3     2014-01-07   19.752001   19.923500   19.714500   19.901501   19.901501   \n",
      "4     2014-01-08   19.923500   20.150000   19.802000   20.096001   20.096001   \n",
      "...          ...         ...         ...         ...         ...         ...   \n",
      "2169  2022-08-15  142.800003  143.759995  141.490005  143.179993  143.179993   \n",
      "2170  2022-08-16  143.910004  146.570007  142.000000  144.779999  144.779999   \n",
      "2171  2022-08-17  142.690002  143.380005  140.779999  142.100006  142.100006   \n",
      "2172  2022-08-18  141.320007  142.770004  140.380005  142.300003  142.300003   \n",
      "2173  2022-08-19  140.470001  141.110001  137.910004  138.229996  138.229996   \n",
      "\n",
      "        Volume  \n",
      "0     42756000  \n",
      "1     44204000  \n",
      "2     63412000  \n",
      "3     38320000  \n",
      "4     46330000  \n",
      "...        ...  \n",
      "2169  39014600  \n",
      "2170  59102900  \n",
      "2171  48149800  \n",
      "2172  37458700  \n",
      "2173  47727300  \n",
      "\n",
      "[2174 rows x 7 columns]\n"
     ]
    }
   ],
   "source": [
    "#Inspect it \n",
    "print(amzn_df)"
   ]
  },
  {
   "cell_type": "code",
   "execution_count": 5,
   "id": "c4f2ded3",
   "metadata": {},
   "outputs": [
    {
     "name": "stdout",
     "output_type": "stream",
     "text": [
      "              Open         High          Low        Close    Adj Close  \\\n",
      "count  2174.000000  2174.000000  2174.000000  2174.000000  2174.000000   \n",
      "mean     79.225588    80.108009    78.241598    79.189630    79.189630   \n",
      "std      52.956121    53.598411    52.238941    52.902640    52.902640   \n",
      "min      14.220000    14.521000    14.200000    14.347500    14.347500   \n",
      "25%      31.904250    32.308751    31.369500    31.788000    31.788000   \n",
      "50%      77.074749    77.954750    75.480247    76.701504    76.701504   \n",
      "75%     117.067497   119.025374   115.342375   116.446749   116.446749   \n",
      "max     187.199997   188.654007   184.839493   186.570496   186.570496   \n",
      "\n",
      "             Volume  \n",
      "count  2.174000e+03  \n",
      "mean   8.302917e+07  \n",
      "std    4.299692e+07  \n",
      "min    1.762600e+07  \n",
      "25%    5.561950e+07  \n",
      "50%    7.138700e+07  \n",
      "75%    9.668550e+07  \n",
      "max    4.771220e+08  \n"
     ]
    }
   ],
   "source": [
    "#print the summary \n",
    "print(amzn_df.describe())"
   ]
  },
  {
   "cell_type": "code",
   "execution_count": 7,
   "id": "392b76f2",
   "metadata": {},
   "outputs": [],
   "source": [
    "#now prep the data for 2014-2019\n",
    "amzn_df.set_index(pd.DatetimeIndex(amzn_df['Date']), inplace=True)"
   ]
  },
  {
   "cell_type": "code",
   "execution_count": 8,
   "id": "ea4ba7fe",
   "metadata": {},
   "outputs": [],
   "source": [
    "#Keep the close for 2014-19\n",
    "amzn_df = amzn_df[['Close']]"
   ]
  },
  {
   "cell_type": "code",
   "execution_count": 9,
   "id": "b2e1df5c",
   "metadata": {},
   "outputs": [
    {
     "name": "stdout",
     "output_type": "stream",
     "text": [
      "                 Close\n",
      "Date                  \n",
      "2014-01-02   19.898500\n",
      "2014-01-03   19.822001\n",
      "2014-01-06   19.681499\n",
      "2014-01-07   19.901501\n",
      "2014-01-08   20.096001\n",
      "...                ...\n",
      "2022-08-15  143.179993\n",
      "2022-08-16  144.779999\n",
      "2022-08-17  142.100006\n",
      "2022-08-18  142.300003\n",
      "2022-08-19  138.229996\n",
      "\n",
      "[2174 rows x 1 columns]\n"
     ]
    }
   ],
   "source": [
    "print(amzn_df)"
   ]
  },
  {
   "cell_type": "code",
   "execution_count": 10,
   "id": "d1b561a2",
   "metadata": {},
   "outputs": [
    {
     "name": "stdout",
     "output_type": "stream",
     "text": [
      "2022-08-19 00:00:00\n"
     ]
    }
   ],
   "source": [
    "print (amzn_df.index.max())"
   ]
  },
  {
   "cell_type": "code",
   "execution_count": 12,
   "id": "1f0bdc95",
   "metadata": {},
   "outputs": [],
   "source": [
    "\n",
    "\n",
    "data= amzn_df.filter(['Close'])\n",
    "dataset = data.values\n",
    "\n",
    "scaler = MinMaxScaler(feature_range=(0, 1))\n",
    "scaled_data = scaler.fit_transform(dataset)\n",
    "\n",
    "training_data_len =math.ceil(len(dataset) *.7)\n",
    "train_data =scaled_data[0:training_data_len , : ]\n",
    "\n",
    "\n",
    "X_train_data = []\n",
    "y_train_data = []\n",
    "\n",
    "for i in range(1500,len(train_data)):\n",
    "    X_train_data=list(X_train_data)\n",
    "    y_train_data=list(y_train_data)\n",
    "    X_train_data.append(train_data[i-1500:i,0])\n",
    "    y_train_data.append(train_data[i,0])\n",
    "    \n",
    "    X_train_data1, y_train_data1 = np.array(X_train_data), np.array(y_train_data)\n",
    "    \n",
    "    X_train_data2 = np.reshape(X_train_data1,(X_train_data1.shape[0],X_train_data1.shape[1],1))\n",
    "\n",
    "   \n",
    "    \n",
    "#60 = number of days \n",
    "# There will be a total of 60 values, 1st column will contain an index of 0-59\n",
    "# The second will have an index of 1-60 ++_\n",
    "# the y_train has the 60 st value on c1 and c2 will have 61++"
   ]
  },
  {
   "cell_type": "code",
   "execution_count": 13,
   "id": "43aa4acf",
   "metadata": {},
   "outputs": [
    {
     "name": "stderr",
     "output_type": "stream",
     "text": [
      "2022-08-24 18:00:19.147442: I tensorflow/core/platform/cpu_feature_guard.cc:193] This TensorFlow binary is optimized with oneAPI Deep Neural Network Library (oneDNN) to use the following CPU instructions in performance-critical operations:  AVX2 AVX512F AVX512_VNNI FMA\n",
      "To enable them in other operations, rebuild TensorFlow with the appropriate compiler flags.\n"
     ]
    }
   ],
   "source": [
    "#Lets build the LSTM MODEL \n",
    "\n",
    "model = Sequential()\n",
    "\n",
    "model.add(LSTM(units=50, return_sequences=True,input_shape=(X_train_data2.shape[1],1)))\n",
    "\n",
    "model.add(LSTM(units=50, return_sequences=False))\n",
    "\n",
    "model.add(Dense(units=25))\n",
    "\n",
    "model.add(Dense(units=1))\n",
    "\n",
    "\n",
    "#okay this example will have 2 LSTM layers w/50 neurons and 2 dense layers\n",
    "# plust one with 25 nuerons "
   ]
  },
  {
   "cell_type": "code",
   "execution_count": 14,
   "id": "d5f1458e",
   "metadata": {},
   "outputs": [
    {
     "name": "stdout",
     "output_type": "stream",
     "text": [
      "22/22 [==============================] - 13s 443ms/step - loss: 0.0264\n"
     ]
    },
    {
     "data": {
      "text/plain": [
       "<keras.callbacks.History at 0x7fb51514f9d0>"
      ]
     },
     "execution_count": 14,
     "metadata": {},
     "output_type": "execute_result"
    }
   ],
   "source": [
    "# Comple the model \n",
    "\n",
    "model.compile(optimizer='adam', loss='mean_squared_error')\n",
    "\n",
    "model.fit(X_train_data2, y_train_data1, batch_size=1, epochs=1)"
   ]
  },
  {
   "cell_type": "code",
   "execution_count": 16,
   "id": "58fc061c",
   "metadata": {},
   "outputs": [
    {
     "name": "stdout",
     "output_type": "stream",
     "text": [
      "21/21 [==============================] - 5s 202ms/step\n"
     ]
    }
   ],
   "source": [
    "test_data = scaled_data[training_data_len -1500: , : ]\n",
    "\n",
    "X_test = []\n",
    "\n",
    "y_test = dataset[training_data_len : , : ]\n",
    "\n",
    "for i in range(1500,len(test_data)):\n",
    "    \n",
    "    X_test.append(test_data[i-1500:i,0])\n",
    "\n",
    "X_test = np.array(X_test)\n",
    "\n",
    "X_test = np.reshape(X_test,(X_test.shape[0],X_test.shape[1],1))\n",
    "\n",
    "predictions = model.predict(X_test)\n",
    "\n",
    "predictions = scaler.inverse_transform(predictions)\n"
   ]
  },
  {
   "cell_type": "code",
   "execution_count": 17,
   "id": "5820609b",
   "metadata": {},
   "outputs": [],
   "source": [
    "# Error calculation where RMSE = root mean squared error \n",
    "\n",
    "rmse=np.sqrt(np.mean(((predictions-y_test)**2)))"
   ]
  },
  {
   "cell_type": "code",
   "execution_count": 18,
   "id": "87eca23d",
   "metadata": {},
   "outputs": [
    {
     "name": "stdout",
     "output_type": "stream",
     "text": [
      "30.224387217174566\n"
     ]
    }
   ],
   "source": [
    "print(rmse)"
   ]
  },
  {
   "cell_type": "code",
   "execution_count": 19,
   "id": "77253d30",
   "metadata": {},
   "outputs": [],
   "source": [
    "#OOOF okay the lower the value is to 0 the better\n",
    "# it indicates that the models p-value match the actual values from the data set \n",
    "# which in this case it does not. "
   ]
  },
  {
   "cell_type": "code",
   "execution_count": 20,
   "id": "a304a982",
   "metadata": {},
   "outputs": [
    {
     "name": "stderr",
     "output_type": "stream",
     "text": [
      "/Users/dashickscott/opt/anaconda3/envs/mlenv/lib/python3.7/site-packages/ipykernel_launcher.py:7: SettingWithCopyWarning: \n",
      "A value is trying to be set on a copy of a slice from a DataFrame.\n",
      "Try using .loc[row_indexer,col_indexer] = value instead\n",
      "\n",
      "See the caveats in the documentation: https://pandas.pydata.org/pandas-docs/stable/user_guide/indexing.html#returning-a-view-versus-a-copy\n",
      "  import sys\n"
     ]
    },
    {
     "data": {
      "image/png": "[encoded data removed]",
      "text/plain": [
       "<Figure size 432x288 with 1 Axes>"
      ]
     },
     "metadata": {
      "needs_background": "light"
     },
     "output_type": "display_data"
    }
   ],
   "source": [
    "#Predict and visualize \n",
    "\n",
    "train = amzn_df[:training_data_len]\n",
    "\n",
    "valid = amzn_df[training_data_len:]\n",
    "\n",
    "valid['Predictions'] = predictions\n",
    "\n",
    "plt.title('Model')\n",
    "\n",
    "plt.xlabel('Date')\n",
    "\n",
    "plt.ylabel('Close')\n",
    "\n",
    "plt.plot(train['Close'])\n",
    "\n",
    "plt.plot(valid[['Close', 'Predictions']])\n",
    "\n",
    "plt.legend(['Train', 'Val', 'Predictions'], loc='lower right')\n",
    "\n",
    "plt.show()\n"
   ]
  },
  {
   "cell_type": "code",
   "execution_count": 21,
   "id": "71eb336a",
   "metadata": {},
   "outputs": [
    {
     "data": {
      "text/plain": [
       "<AxesSubplot:xlabel='Date'>"
      ]
     },
     "execution_count": 21,
     "metadata": {},
     "output_type": "execute_result"
    },
    {
     "data": {
      "image/png": "[encoded data removed]",
      "text/plain": [
       "<Figure size 432x288 with 1 Axes>"
      ]
     },
     "metadata": {
      "needs_background": "light"
     },
     "output_type": "display_data"
    }
   ],
   "source": [
    "amzn_df.plot()"
   ]
  },
  {
   "cell_type": "code",
   "execution_count": 22,
   "id": "abf2b9bc",
   "metadata": {},
   "outputs": [
    {
     "data": {
      "text/plain": [
       "Date\n",
       "2014-01-02    19.898500\n",
       "2014-01-03    19.822001\n",
       "2014-01-06    19.681499\n",
       "2014-01-07    19.901501\n",
       "2014-01-08    20.096001\n",
       "                ...    \n",
       "2020-01-13    94.565002\n",
       "2020-01-14    93.472000\n",
       "2020-01-15    93.100998\n",
       "2020-01-16    93.897003\n",
       "2020-01-17    93.236000\n",
       "Name: Close, Length: 1522, dtype: float64"
      ]
     },
     "execution_count": 22,
     "metadata": {},
     "output_type": "execute_result"
    }
   ],
   "source": [
    "train['Close']"
   ]
  },
  {
   "cell_type": "code",
   "execution_count": 23,
   "id": "db2bf616",
   "metadata": {},
   "outputs": [
    {
     "data": {
      "text/html": [
       "<div>\n",
       "<style scoped>\n",
       "    .dataframe tbody tr th:only-of-type {\n",
       "        vertical-align: middle;\n",
       "    }\n",
       "\n",
       "    .dataframe tbody tr th {\n",
       "        vertical-align: top;\n",
       "    }\n",
       "\n",
       "    .dataframe thead th {\n",
       "        text-align: right;\n",
       "    }\n",
       "</style>\n",
       "<table border=\"1\" class=\"dataframe\">\n",
       "  <thead>\n",
       "    <tr style=\"text-align: right;\">\n",
       "      <th></th>\n",
       "      <th>Close</th>\n",
       "      <th>Predictions</th>\n",
       "    </tr>\n",
       "    <tr>\n",
       "      <th>Date</th>\n",
       "      <th></th>\n",
       "      <th></th>\n",
       "    </tr>\n",
       "  </thead>\n",
       "  <tbody>\n",
       "    <tr>\n",
       "      <th>2020-01-21</th>\n",
       "      <td>94.599998</td>\n",
       "      <td>88.892830</td>\n",
       "    </tr>\n",
       "    <tr>\n",
       "      <th>2020-01-22</th>\n",
       "      <td>94.373001</td>\n",
       "      <td>88.933487</td>\n",
       "    </tr>\n",
       "    <tr>\n",
       "      <th>2020-01-23</th>\n",
       "      <td>94.228996</td>\n",
       "      <td>88.973618</td>\n",
       "    </tr>\n",
       "    <tr>\n",
       "      <th>2020-01-24</th>\n",
       "      <td>93.082001</td>\n",
       "      <td>89.008873</td>\n",
       "    </tr>\n",
       "    <tr>\n",
       "      <th>2020-01-27</th>\n",
       "      <td>91.417000</td>\n",
       "      <td>89.011177</td>\n",
       "    </tr>\n",
       "    <tr>\n",
       "      <th>...</th>\n",
       "      <td>...</td>\n",
       "      <td>...</td>\n",
       "    </tr>\n",
       "    <tr>\n",
       "      <th>2022-08-15</th>\n",
       "      <td>143.179993</td>\n",
       "      <td>113.754486</td>\n",
       "    </tr>\n",
       "    <tr>\n",
       "      <th>2022-08-16</th>\n",
       "      <td>144.779999</td>\n",
       "      <td>114.476181</td>\n",
       "    </tr>\n",
       "    <tr>\n",
       "      <th>2022-08-17</th>\n",
       "      <td>142.100006</td>\n",
       "      <td>115.163597</td>\n",
       "    </tr>\n",
       "    <tr>\n",
       "      <th>2022-08-18</th>\n",
       "      <td>142.300003</td>\n",
       "      <td>115.731857</td>\n",
       "    </tr>\n",
       "    <tr>\n",
       "      <th>2022-08-19</th>\n",
       "      <td>138.229996</td>\n",
       "      <td>116.204903</td>\n",
       "    </tr>\n",
       "  </tbody>\n",
       "</table>\n",
       "<p>652 rows × 2 columns</p>\n",
       "</div>"
      ],
      "text/plain": [
       "                 Close  Predictions\n",
       "Date                               \n",
       "2020-01-21   94.599998    88.892830\n",
       "2020-01-22   94.373001    88.933487\n",
       "2020-01-23   94.228996    88.973618\n",
       "2020-01-24   93.082001    89.008873\n",
       "2020-01-27   91.417000    89.011177\n",
       "...                ...          ...\n",
       "2022-08-15  143.179993   113.754486\n",
       "2022-08-16  144.779999   114.476181\n",
       "2022-08-17  142.100006   115.163597\n",
       "2022-08-18  142.300003   115.731857\n",
       "2022-08-19  138.229996   116.204903\n",
       "\n",
       "[652 rows x 2 columns]"
      ]
     },
     "execution_count": 23,
     "metadata": {},
     "output_type": "execute_result"
    }
   ],
   "source": [
    "valid[['Close', 'Predictions']]"
   ]
  },
  {
   "cell_type": "code",
   "execution_count": 24,
   "id": "5110febe",
   "metadata": {},
   "outputs": [
    {
     "data": {
      "text/html": [
       "<div>\n",
       "<style scoped>\n",
       "    .dataframe tbody tr th:only-of-type {\n",
       "        vertical-align: middle;\n",
       "    }\n",
       "\n",
       "    .dataframe tbody tr th {\n",
       "        vertical-align: top;\n",
       "    }\n",
       "\n",
       "    .dataframe thead th {\n",
       "        text-align: right;\n",
       "    }\n",
       "</style>\n",
       "<table border=\"1\" class=\"dataframe\">\n",
       "  <thead>\n",
       "    <tr style=\"text-align: right;\">\n",
       "      <th></th>\n",
       "      <th>Close</th>\n",
       "      <th>Predictions</th>\n",
       "    </tr>\n",
       "    <tr>\n",
       "      <th>Date</th>\n",
       "      <th></th>\n",
       "      <th></th>\n",
       "    </tr>\n",
       "  </thead>\n",
       "  <tbody>\n",
       "    <tr>\n",
       "      <th>2014-01-02</th>\n",
       "      <td>19.898500</td>\n",
       "      <td>NaN</td>\n",
       "    </tr>\n",
       "    <tr>\n",
       "      <th>2014-01-03</th>\n",
       "      <td>19.822001</td>\n",
       "      <td>NaN</td>\n",
       "    </tr>\n",
       "    <tr>\n",
       "      <th>2014-01-06</th>\n",
       "      <td>19.681499</td>\n",
       "      <td>NaN</td>\n",
       "    </tr>\n",
       "    <tr>\n",
       "      <th>2014-01-07</th>\n",
       "      <td>19.901501</td>\n",
       "      <td>NaN</td>\n",
       "    </tr>\n",
       "    <tr>\n",
       "      <th>2014-01-08</th>\n",
       "      <td>20.096001</td>\n",
       "      <td>NaN</td>\n",
       "    </tr>\n",
       "    <tr>\n",
       "      <th>...</th>\n",
       "      <td>...</td>\n",
       "      <td>...</td>\n",
       "    </tr>\n",
       "    <tr>\n",
       "      <th>2022-08-15</th>\n",
       "      <td>143.179993</td>\n",
       "      <td>113.754486</td>\n",
       "    </tr>\n",
       "    <tr>\n",
       "      <th>2022-08-16</th>\n",
       "      <td>144.779999</td>\n",
       "      <td>114.476181</td>\n",
       "    </tr>\n",
       "    <tr>\n",
       "      <th>2022-08-17</th>\n",
       "      <td>142.100006</td>\n",
       "      <td>115.163597</td>\n",
       "    </tr>\n",
       "    <tr>\n",
       "      <th>2022-08-18</th>\n",
       "      <td>142.300003</td>\n",
       "      <td>115.731857</td>\n",
       "    </tr>\n",
       "    <tr>\n",
       "      <th>2022-08-19</th>\n",
       "      <td>138.229996</td>\n",
       "      <td>116.204903</td>\n",
       "    </tr>\n",
       "  </tbody>\n",
       "</table>\n",
       "<p>2174 rows × 2 columns</p>\n",
       "</div>"
      ],
      "text/plain": [
       "                 Close  Predictions\n",
       "Date                               \n",
       "2014-01-02   19.898500          NaN\n",
       "2014-01-03   19.822001          NaN\n",
       "2014-01-06   19.681499          NaN\n",
       "2014-01-07   19.901501          NaN\n",
       "2014-01-08   20.096001          NaN\n",
       "...                ...          ...\n",
       "2022-08-15  143.179993   113.754486\n",
       "2022-08-16  144.779999   114.476181\n",
       "2022-08-17  142.100006   115.163597\n",
       "2022-08-18  142.300003   115.731857\n",
       "2022-08-19  138.229996   116.204903\n",
       "\n",
       "[2174 rows x 2 columns]"
      ]
     },
     "execution_count": 24,
     "metadata": {},
     "output_type": "execute_result"
    }
   ],
   "source": [
    "complete_df = pd.concat([train[['Close']], valid[['Close', 'Predictions']]])\n",
    "complete_df"
   ]
  },
  {
   "cell_type": "code",
   "execution_count": 25,
   "id": "283c154d",
   "metadata": {},
   "outputs": [
    {
     "name": "stdout",
     "output_type": "stream",
     "text": [
      "                 Close  Predictions\n",
      "Date                               \n",
      "2020-01-21   94.599998    88.892830\n",
      "2020-01-22   94.373001    88.933487\n",
      "2020-01-23   94.228996    88.973618\n",
      "2020-01-24   93.082001    89.008873\n",
      "2020-01-27   91.417000    89.011177\n",
      "...                ...          ...\n",
      "2022-08-15  143.179993   113.754486\n",
      "2022-08-16  144.779999   114.476181\n",
      "2022-08-17  142.100006   115.163597\n",
      "2022-08-18  142.300003   115.731857\n",
      "2022-08-19  138.229996   116.204903\n",
      "\n",
      "[652 rows x 2 columns]\n"
     ]
    }
   ],
   "source": [
    "complete_df2 = complete_df.dropna()\n",
    "\n",
    "print(complete_df2)"
   ]
  },
  {
   "cell_type": "code",
   "execution_count": 26,
   "id": "151b9d1e",
   "metadata": {},
   "outputs": [],
   "source": [
    "complete_df2.to_csv('AP_AMZN.csv', index=False)"
   ]
  },
  {
   "cell_type": "code",
   "execution_count": null,
   "id": "fe943694",
   "metadata": {},
   "outputs": [],
   "source": []
  }
 ],
 "metadata": {
  "kernelspec": {
   "display_name": "mlenv",
   "language": "python",
   "name": "mlenv"
  },
  "language_info": {
   "codemirror_mode": {
    "name": "ipython",
    "version": 3
   },
   "file_extension": ".py",
   "mimetype": "text/x-python",
   "name": "python",
   "nbconvert_exporter": "python",
   "pygments_lexer": "ipython3",
   "version": "3.7.13"
  }
 },
 "nbformat": 4,
 "nbformat_minor": 5
}
