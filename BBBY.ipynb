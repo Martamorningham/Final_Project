{
 "cells": [
  {
   "cell_type": "code",
   "execution_count": null,
   "id": "508d9080",
   "metadata": {},
   "outputs": [],
   "source": [
    "#BBBY  ticker  Bed Bath & Beyond"
   ]
  },
  {
   "cell_type": "code",
   "execution_count": 40,
   "id": "7d53e765",
   "metadata": {},
   "outputs": [],
   "source": [
    "import numpy as np\n",
    "import pandas as pd\n",
    "import matplotlib.pyplot as plt\n",
    "from keras.models import Sequential\n",
    "from keras.layers import Dense, LSTM\n",
    "import math\n",
    "from sklearn.preprocessing import MinMaxScaler\n",
    "\n",
    "from yahoo_fin.stock_info import get_data"
   ]
  },
  {
   "cell_type": "code",
   "execution_count": null,
   "id": "4b6bb421",
   "metadata": {},
   "outputs": [],
   "source": [
    "#interval: {“1d”, “1wk”, “1mo”}. Refers to the interval to sample the data: “1d”= daily, “1wk”= weekly, “1mo”=monthly."
   ]
  },
  {
   "cell_type": "code",
   "execution_count": 41,
   "id": "09b91620",
   "metadata": {},
   "outputs": [
    {
     "data": {
      "text/html": [
       "<div>\n",
       "<style scoped>\n",
       "    .dataframe tbody tr th:only-of-type {\n",
       "        vertical-align: middle;\n",
       "    }\n",
       "\n",
       "    .dataframe tbody tr th {\n",
       "        vertical-align: top;\n",
       "    }\n",
       "\n",
       "    .dataframe thead th {\n",
       "        text-align: right;\n",
       "    }\n",
       "</style>\n",
       "<table border=\"1\" class=\"dataframe\">\n",
       "  <thead>\n",
       "    <tr style=\"text-align: right;\">\n",
       "      <th></th>\n",
       "      <th>date</th>\n",
       "      <th>open</th>\n",
       "      <th>high</th>\n",
       "      <th>low</th>\n",
       "      <th>close</th>\n",
       "      <th>adjclose</th>\n",
       "      <th>volume</th>\n",
       "      <th>ticker</th>\n",
       "    </tr>\n",
       "  </thead>\n",
       "  <tbody>\n",
       "    <tr>\n",
       "      <th>0</th>\n",
       "      <td>2010-12-06</td>\n",
       "      <td>45.790001</td>\n",
       "      <td>45.950001</td>\n",
       "      <td>45.610001</td>\n",
       "      <td>45.790001</td>\n",
       "      <td>39.923748</td>\n",
       "      <td>1089600</td>\n",
       "      <td>BBBY</td>\n",
       "    </tr>\n",
       "    <tr>\n",
       "      <th>1</th>\n",
       "      <td>2010-12-07</td>\n",
       "      <td>46.209999</td>\n",
       "      <td>46.750000</td>\n",
       "      <td>45.790001</td>\n",
       "      <td>45.849998</td>\n",
       "      <td>39.976063</td>\n",
       "      <td>1894000</td>\n",
       "      <td>BBBY</td>\n",
       "    </tr>\n",
       "    <tr>\n",
       "      <th>2</th>\n",
       "      <td>2010-12-08</td>\n",
       "      <td>46.130001</td>\n",
       "      <td>46.459999</td>\n",
       "      <td>45.820000</td>\n",
       "      <td>46.250000</td>\n",
       "      <td>40.324810</td>\n",
       "      <td>1927700</td>\n",
       "      <td>BBBY</td>\n",
       "    </tr>\n",
       "    <tr>\n",
       "      <th>3</th>\n",
       "      <td>2010-12-09</td>\n",
       "      <td>46.400002</td>\n",
       "      <td>46.650002</td>\n",
       "      <td>46.200001</td>\n",
       "      <td>46.520000</td>\n",
       "      <td>40.560226</td>\n",
       "      <td>1358100</td>\n",
       "      <td>BBBY</td>\n",
       "    </tr>\n",
       "    <tr>\n",
       "      <th>4</th>\n",
       "      <td>2010-12-10</td>\n",
       "      <td>46.669998</td>\n",
       "      <td>46.860001</td>\n",
       "      <td>46.150002</td>\n",
       "      <td>46.759998</td>\n",
       "      <td>40.769478</td>\n",
       "      <td>1724200</td>\n",
       "      <td>BBBY</td>\n",
       "    </tr>\n",
       "    <tr>\n",
       "      <th>...</th>\n",
       "      <td>...</td>\n",
       "      <td>...</td>\n",
       "      <td>...</td>\n",
       "      <td>...</td>\n",
       "      <td>...</td>\n",
       "      <td>...</td>\n",
       "      <td>...</td>\n",
       "      <td>...</td>\n",
       "    </tr>\n",
       "    <tr>\n",
       "      <th>2908</th>\n",
       "      <td>2022-06-27</td>\n",
       "      <td>6.770000</td>\n",
       "      <td>7.020000</td>\n",
       "      <td>6.410000</td>\n",
       "      <td>6.750000</td>\n",
       "      <td>6.750000</td>\n",
       "      <td>7456600</td>\n",
       "      <td>BBBY</td>\n",
       "    </tr>\n",
       "    <tr>\n",
       "      <th>2909</th>\n",
       "      <td>2022-06-28</td>\n",
       "      <td>6.700000</td>\n",
       "      <td>6.870000</td>\n",
       "      <td>6.350000</td>\n",
       "      <td>6.530000</td>\n",
       "      <td>6.530000</td>\n",
       "      <td>8411000</td>\n",
       "      <td>BBBY</td>\n",
       "    </tr>\n",
       "    <tr>\n",
       "      <th>2910</th>\n",
       "      <td>2022-06-29</td>\n",
       "      <td>5.460000</td>\n",
       "      <td>5.460000</td>\n",
       "      <td>4.910000</td>\n",
       "      <td>4.990000</td>\n",
       "      <td>4.990000</td>\n",
       "      <td>35110100</td>\n",
       "      <td>BBBY</td>\n",
       "    </tr>\n",
       "    <tr>\n",
       "      <th>2911</th>\n",
       "      <td>2022-06-30</td>\n",
       "      <td>4.850000</td>\n",
       "      <td>5.330000</td>\n",
       "      <td>4.730000</td>\n",
       "      <td>4.970000</td>\n",
       "      <td>4.970000</td>\n",
       "      <td>19239200</td>\n",
       "      <td>BBBY</td>\n",
       "    </tr>\n",
       "    <tr>\n",
       "      <th>2912</th>\n",
       "      <td>2022-07-01</td>\n",
       "      <td>4.900000</td>\n",
       "      <td>5.020000</td>\n",
       "      <td>4.380000</td>\n",
       "      <td>4.710000</td>\n",
       "      <td>4.710000</td>\n",
       "      <td>15458200</td>\n",
       "      <td>BBBY</td>\n",
       "    </tr>\n",
       "  </tbody>\n",
       "</table>\n",
       "<p>2913 rows × 8 columns</p>\n",
       "</div>"
      ],
      "text/plain": [
       "           date       open       high        low      close   adjclose  \\\n",
       "0    2010-12-06  45.790001  45.950001  45.610001  45.790001  39.923748   \n",
       "1    2010-12-07  46.209999  46.750000  45.790001  45.849998  39.976063   \n",
       "2    2010-12-08  46.130001  46.459999  45.820000  46.250000  40.324810   \n",
       "3    2010-12-09  46.400002  46.650002  46.200001  46.520000  40.560226   \n",
       "4    2010-12-10  46.669998  46.860001  46.150002  46.759998  40.769478   \n",
       "...         ...        ...        ...        ...        ...        ...   \n",
       "2908 2022-06-27   6.770000   7.020000   6.410000   6.750000   6.750000   \n",
       "2909 2022-06-28   6.700000   6.870000   6.350000   6.530000   6.530000   \n",
       "2910 2022-06-29   5.460000   5.460000   4.910000   4.990000   4.990000   \n",
       "2911 2022-06-30   4.850000   5.330000   4.730000   4.970000   4.970000   \n",
       "2912 2022-07-01   4.900000   5.020000   4.380000   4.710000   4.710000   \n",
       "\n",
       "        volume ticker  \n",
       "0      1089600   BBBY  \n",
       "1      1894000   BBBY  \n",
       "2      1927700   BBBY  \n",
       "3      1358100   BBBY  \n",
       "4      1724200   BBBY  \n",
       "...        ...    ...  \n",
       "2908   7456600   BBBY  \n",
       "2909   8411000   BBBY  \n",
       "2910  35110100   BBBY  \n",
       "2911  19239200   BBBY  \n",
       "2912  15458200   BBBY  \n",
       "\n",
       "[2913 rows x 8 columns]"
      ]
     },
     "execution_count": 41,
     "metadata": {},
     "output_type": "execute_result"
    }
   ],
   "source": [
    "api_df= get_data(\"bbby\", start_date=\"12/04/2010\", end_date=\"07/04/2022\", index_as_date = False, interval=\"1d\")\n",
    "api_df"
   ]
  },
  {
   "cell_type": "code",
   "execution_count": 42,
   "id": "0f566610",
   "metadata": {},
   "outputs": [
    {
     "name": "stdout",
     "output_type": "stream",
     "text": [
      "              open         high          low        close     adjclose  \\\n",
      "count  2913.000000  2913.000000  2913.000000  2913.000000  2913.000000   \n",
      "mean     41.241682    41.802921    40.705836    41.232358    36.627617   \n",
      "std      22.684393    22.769880    22.612588    22.703399    19.211707   \n",
      "min       3.550000     4.050000     3.430000     3.560000     3.560000   \n",
      "25%      18.790001    19.240000    18.389999    18.770000    17.479641   \n",
      "50%      43.290001    44.040001    42.730000    43.389999    37.900959   \n",
      "75%      61.750000    62.310001    61.180000    61.720001    53.812916   \n",
      "max      80.269997    80.820000    79.860001    80.480003    70.169540   \n",
      "\n",
      "             volume  \n",
      "count  2.913000e+03  \n",
      "mean   4.644686e+06  \n",
      "std    6.897087e+06  \n",
      "min    4.807000e+05  \n",
      "25%    1.976700e+06  \n",
      "50%    2.894600e+06  \n",
      "75%    4.810200e+06  \n",
      "max    1.098713e+08  \n"
     ]
    }
   ],
   "source": [
    "#print the summary \n",
    "print(api_df.describe())"
   ]
  },
  {
   "cell_type": "code",
   "execution_count": 43,
   "id": "bbf732e5",
   "metadata": {},
   "outputs": [],
   "source": [
    "#prep the data \n",
    "api_df.set_index(pd.DatetimeIndex(api_df['date']), inplace=True)"
   ]
  },
  {
   "cell_type": "code",
   "execution_count": 44,
   "id": "ed2615a7",
   "metadata": {},
   "outputs": [
    {
     "data": {
      "text/html": [
       "<div>\n",
       "<style scoped>\n",
       "    .dataframe tbody tr th:only-of-type {\n",
       "        vertical-align: middle;\n",
       "    }\n",
       "\n",
       "    .dataframe tbody tr th {\n",
       "        vertical-align: top;\n",
       "    }\n",
       "\n",
       "    .dataframe thead th {\n",
       "        text-align: right;\n",
       "    }\n",
       "</style>\n",
       "<table border=\"1\" class=\"dataframe\">\n",
       "  <thead>\n",
       "    <tr style=\"text-align: right;\">\n",
       "      <th></th>\n",
       "      <th>close</th>\n",
       "    </tr>\n",
       "    <tr>\n",
       "      <th>date</th>\n",
       "      <th></th>\n",
       "    </tr>\n",
       "  </thead>\n",
       "  <tbody>\n",
       "    <tr>\n",
       "      <th>2010-12-06</th>\n",
       "      <td>45.790001</td>\n",
       "    </tr>\n",
       "    <tr>\n",
       "      <th>2010-12-07</th>\n",
       "      <td>45.849998</td>\n",
       "    </tr>\n",
       "    <tr>\n",
       "      <th>2010-12-08</th>\n",
       "      <td>46.250000</td>\n",
       "    </tr>\n",
       "    <tr>\n",
       "      <th>2010-12-09</th>\n",
       "      <td>46.520000</td>\n",
       "    </tr>\n",
       "    <tr>\n",
       "      <th>2010-12-10</th>\n",
       "      <td>46.759998</td>\n",
       "    </tr>\n",
       "    <tr>\n",
       "      <th>...</th>\n",
       "      <td>...</td>\n",
       "    </tr>\n",
       "    <tr>\n",
       "      <th>2022-06-27</th>\n",
       "      <td>6.750000</td>\n",
       "    </tr>\n",
       "    <tr>\n",
       "      <th>2022-06-28</th>\n",
       "      <td>6.530000</td>\n",
       "    </tr>\n",
       "    <tr>\n",
       "      <th>2022-06-29</th>\n",
       "      <td>4.990000</td>\n",
       "    </tr>\n",
       "    <tr>\n",
       "      <th>2022-06-30</th>\n",
       "      <td>4.970000</td>\n",
       "    </tr>\n",
       "    <tr>\n",
       "      <th>2022-07-01</th>\n",
       "      <td>4.710000</td>\n",
       "    </tr>\n",
       "  </tbody>\n",
       "</table>\n",
       "<p>2913 rows × 1 columns</p>\n",
       "</div>"
      ],
      "text/plain": [
       "                close\n",
       "date                 \n",
       "2010-12-06  45.790001\n",
       "2010-12-07  45.849998\n",
       "2010-12-08  46.250000\n",
       "2010-12-09  46.520000\n",
       "2010-12-10  46.759998\n",
       "...               ...\n",
       "2022-06-27   6.750000\n",
       "2022-06-28   6.530000\n",
       "2022-06-29   4.990000\n",
       "2022-06-30   4.970000\n",
       "2022-07-01   4.710000\n",
       "\n",
       "[2913 rows x 1 columns]"
      ]
     },
     "execution_count": 44,
     "metadata": {},
     "output_type": "execute_result"
    }
   ],
   "source": [
    "#Keep the close for 2014-19\n",
    "api_df = api_df[['close']]\n",
    "api_df"
   ]
  },
  {
   "cell_type": "code",
   "execution_count": 45,
   "id": "a3efd6e9",
   "metadata": {},
   "outputs": [
    {
     "name": "stdout",
     "output_type": "stream",
     "text": [
      "2022-07-01 00:00:00\n"
     ]
    }
   ],
   "source": [
    "print (api_df.index.max())"
   ]
  },
  {
   "cell_type": "code",
   "execution_count": 46,
   "id": "b6179aa3",
   "metadata": {},
   "outputs": [],
   "source": [
    "data = api_df.filter(['close'])\n",
    "dataset = data.values\n",
    "\n",
    "scaler = MinMaxScaler(feature_range=(0, 1))\n",
    "scaled_data = scaler.fit_transform(dataset)\n",
    "\n",
    "training_data_len =math.ceil(len(dataset) *.7)\n",
    "train_data =scaled_data[0:training_data_len , : ]\n",
    "\n",
    "\n",
    "X_train_data = []\n",
    "y_train_data = []\n",
    "\n",
    "for i in range(1500,len(train_data)):\n",
    "    X_train_data=list(X_train_data)\n",
    "    y_train_data=list(y_train_data)\n",
    "    X_train_data.append(train_data[i-1500:i,0])\n",
    "    y_train_data.append(train_data[i,0])\n",
    "    \n",
    "    X_train_data1, y_train_data1 = np.array(X_train_data), np.array(y_train_data)\n",
    "    \n",
    "    X_train_data2 = np.reshape(X_train_data1,(X_train_data1.shape[0],X_train_data1.shape[1],1))\n",
    "\n",
    "   \n",
    "    \n",
    "#1500 = number of days you can change it accordingly. \n",
    "\n",
    "# There will be a total of 60 values, 1st column will contain an index of 0-59\n",
    "# The second will have an index of 1-60 ++_\n",
    "# the y_train has the 60 st value on c1 and c2 will have 61++"
   ]
  },
  {
   "cell_type": "code",
   "execution_count": 47,
   "id": "739f9109",
   "metadata": {},
   "outputs": [],
   "source": [
    "#Build the LSTM MODEL \n",
    "\n",
    "model = Sequential()\n",
    "\n",
    "model.add(LSTM(units=50, return_sequences=True,input_shape=(X_train_data2.shape[1],1)))\n",
    "\n",
    "model.add(LSTM(units=50, return_sequences=False))\n",
    "\n",
    "model.add(Dense(units=25))\n",
    "\n",
    "model.add(Dense(units=1))"
   ]
  },
  {
   "cell_type": "code",
   "execution_count": 48,
   "id": "6255ff94",
   "metadata": {},
   "outputs": [
    {
     "name": "stdout",
     "output_type": "stream",
     "text": [
      "540/540 [==============================] - 348s 631ms/step - loss: 0.0013\n"
     ]
    },
    {
     "data": {
      "text/plain": [
       "<keras.callbacks.History at 0x200984c8508>"
      ]
     },
     "execution_count": 48,
     "metadata": {},
     "output_type": "execute_result"
    }
   ],
   "source": [
    "model.compile(optimizer='adam', loss='mean_squared_error')\n",
    "\n",
    "model.fit(X_train_data2, y_train_data1, batch_size=1, epochs=1)"
   ]
  },
  {
   "cell_type": "code",
   "execution_count": 49,
   "id": "f8ea4a91",
   "metadata": {},
   "outputs": [
    {
     "name": "stdout",
     "output_type": "stream",
     "text": [
      "28/28 [==============================] - 14s 422ms/step\n"
     ]
    }
   ],
   "source": [
    "test_data = scaled_data[training_data_len -1500: , : ]\n",
    "\n",
    "X_test = []\n",
    "\n",
    "y_test = dataset[training_data_len : , : ]\n",
    "\n",
    "for i in range(1500,len(test_data)):\n",
    "    \n",
    "    X_test.append(test_data[i-1500:i,0])\n",
    "\n",
    "X_test = np.array(X_test)\n",
    "\n",
    "X_test = np.reshape(X_test,(X_test.shape[0],X_test.shape[1],1))\n",
    "\n",
    "predictions = model.predict(X_test)\n",
    "\n",
    "predictions = scaler.inverse_transform(predictions)"
   ]
  },
  {
   "cell_type": "code",
   "execution_count": 50,
   "id": "a6232784",
   "metadata": {},
   "outputs": [],
   "source": [
    "# Error calculation where RMSE = root mean squared error \n",
    "\n",
    "rmse=np.sqrt(np.mean(((predictions-y_test)**2)))"
   ]
  },
  {
   "cell_type": "code",
   "execution_count": 51,
   "id": "ea648d96",
   "metadata": {},
   "outputs": [
    {
     "name": "stdout",
     "output_type": "stream",
     "text": [
      "2.532647731132066\n"
     ]
    }
   ],
   "source": [
    "print(rmse)"
   ]
  },
  {
   "cell_type": "code",
   "execution_count": 52,
   "id": "eeef47d9",
   "metadata": {},
   "outputs": [
    {
     "name": "stderr",
     "output_type": "stream",
     "text": [
      "C:\\Users\\rctay\\anaconda3\\envs\\mlenv\\lib\\site-packages\\ipykernel_launcher.py:7: SettingWithCopyWarning: \n",
      "A value is trying to be set on a copy of a slice from a DataFrame.\n",
      "Try using .loc[row_indexer,col_indexer] = value instead\n",
      "\n",
      "See the caveats in the documentation: https://pandas.pydata.org/pandas-docs/stable/user_guide/indexing.html#returning-a-view-versus-a-copy\n",
      "  import sys\n"
     ]
    },
    {
     "data": {
      "image/png": "[encoded data removed]",
      "text/plain": [
       "<Figure size 432x288 with 1 Axes>"
      ]
     },
     "metadata": {
      "needs_background": "light"
     },
     "output_type": "display_data"
    }
   ],
   "source": [
    "#Predict and visualize \n",
    "\n",
    "train = api_df[:training_data_len]\n",
    "\n",
    "valid = api_df[training_data_len:]\n",
    "\n",
    "valid['Predictions'] = predictions\n",
    "\n",
    "plt.title('Model')\n",
    "\n",
    "plt.xlabel('Date')\n",
    "\n",
    "plt.ylabel('close')\n",
    "\n",
    "plt.plot(train['close'])\n",
    "\n",
    "plt.plot(valid[['close', 'Predictions']])\n",
    "\n",
    "plt.legend(['Train', 'Val', 'Predictions'], loc='lower right')\n",
    "\n",
    "plt.show()"
   ]
  },
  {
   "cell_type": "code",
   "execution_count": 53,
   "id": "dab736bc",
   "metadata": {},
   "outputs": [
    {
     "data": {
      "text/plain": [
       "<AxesSubplot:xlabel='date'>"
      ]
     },
     "execution_count": 53,
     "metadata": {},
     "output_type": "execute_result"
    },
    {
     "data": {
      "image/png": "[encoded data removed]",
      "text/plain": [
       "<Figure size 432x288 with 1 Axes>"
      ]
     },
     "metadata": {
      "needs_background": "light"
     },
     "output_type": "display_data"
    }
   ],
   "source": [
    "api_df.plot()"
   ]
  },
  {
   "cell_type": "code",
   "execution_count": null,
   "id": "b1314349",
   "metadata": {},
   "outputs": [],
   "source": []
  }
 ],
 "metadata": {
  "kernelspec": {
   "display_name": "mlenv",
   "language": "python",
   "name": "mlenv"
  },
  "language_info": {
   "codemirror_mode": {
    "name": "ipython",
    "version": 3
   },
   "file_extension": ".py",
   "mimetype": "text/x-python",
   "name": "python",
   "nbconvert_exporter": "python",
   "pygments_lexer": "ipython3",
   "version": "3.7.13"
  }
 },
 "nbformat": 4,
 "nbformat_minor": 5
}
