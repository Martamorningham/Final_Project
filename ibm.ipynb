{
 "cells": [
  {
   "cell_type": "code",
   "execution_count": 1,
   "id": "90f7269d",
   "metadata": {},
   "outputs": [],
   "source": [
    "import numpy as np\n",
    "import pandas as pd\n",
    "import matplotlib.pyplot as plt\n",
    "from keras.models import Sequential\n",
    "from keras.layers import Dense, LSTM\n",
    "import math\n",
    "from sklearn.preprocessing import MinMaxScaler\n",
    "\n",
    "from yahoo_fin.stock_info import get_data"
   ]
  },
  {
   "cell_type": "code",
   "execution_count": 2,
   "id": "a9df9302",
   "metadata": {},
   "outputs": [
    {
     "data": {
      "text/html": [
       "<div>\n",
       "<style scoped>\n",
       "    .dataframe tbody tr th:only-of-type {\n",
       "        vertical-align: middle;\n",
       "    }\n",
       "\n",
       "    .dataframe tbody tr th {\n",
       "        vertical-align: top;\n",
       "    }\n",
       "\n",
       "    .dataframe thead th {\n",
       "        text-align: right;\n",
       "    }\n",
       "</style>\n",
       "<table border=\"1\" class=\"dataframe\">\n",
       "  <thead>\n",
       "    <tr style=\"text-align: right;\">\n",
       "      <th></th>\n",
       "      <th>date</th>\n",
       "      <th>open</th>\n",
       "      <th>high</th>\n",
       "      <th>low</th>\n",
       "      <th>close</th>\n",
       "      <th>adjclose</th>\n",
       "      <th>volume</th>\n",
       "      <th>ticker</th>\n",
       "    </tr>\n",
       "  </thead>\n",
       "  <tbody>\n",
       "    <tr>\n",
       "      <th>0</th>\n",
       "      <td>2010-12-06</td>\n",
       "      <td>138.183563</td>\n",
       "      <td>139.455063</td>\n",
       "      <td>138.164429</td>\n",
       "      <td>138.613770</td>\n",
       "      <td>91.798065</td>\n",
       "      <td>3474603</td>\n",
       "      <td>IBM</td>\n",
       "    </tr>\n",
       "    <tr>\n",
       "      <th>1</th>\n",
       "      <td>2010-12-07</td>\n",
       "      <td>139.598465</td>\n",
       "      <td>139.866150</td>\n",
       "      <td>137.543015</td>\n",
       "      <td>137.686417</td>\n",
       "      <td>91.183945</td>\n",
       "      <td>5050716</td>\n",
       "      <td>IBM</td>\n",
       "    </tr>\n",
       "    <tr>\n",
       "      <th>2</th>\n",
       "      <td>2010-12-08</td>\n",
       "      <td>138.001907</td>\n",
       "      <td>139.244736</td>\n",
       "      <td>137.514343</td>\n",
       "      <td>138.604202</td>\n",
       "      <td>91.791710</td>\n",
       "      <td>5189624</td>\n",
       "      <td>IBM</td>\n",
       "    </tr>\n",
       "    <tr>\n",
       "      <th>3</th>\n",
       "      <td>2010-12-09</td>\n",
       "      <td>139.521988</td>\n",
       "      <td>139.521988</td>\n",
       "      <td>137.208420</td>\n",
       "      <td>137.954117</td>\n",
       "      <td>91.361206</td>\n",
       "      <td>4607944</td>\n",
       "      <td>IBM</td>\n",
       "    </tr>\n",
       "    <tr>\n",
       "      <th>4</th>\n",
       "      <td>2010-12-10</td>\n",
       "      <td>138.508606</td>\n",
       "      <td>138.575531</td>\n",
       "      <td>137.409180</td>\n",
       "      <td>138.451248</td>\n",
       "      <td>91.690460</td>\n",
       "      <td>3664975</td>\n",
       "      <td>IBM</td>\n",
       "    </tr>\n",
       "    <tr>\n",
       "      <th>...</th>\n",
       "      <td>...</td>\n",
       "      <td>...</td>\n",
       "      <td>...</td>\n",
       "      <td>...</td>\n",
       "      <td>...</td>\n",
       "      <td>...</td>\n",
       "      <td>...</td>\n",
       "      <td>...</td>\n",
       "    </tr>\n",
       "    <tr>\n",
       "      <th>2908</th>\n",
       "      <td>2022-06-27</td>\n",
       "      <td>142.259995</td>\n",
       "      <td>143.830002</td>\n",
       "      <td>141.949997</td>\n",
       "      <td>142.800003</td>\n",
       "      <td>141.023209</td>\n",
       "      <td>3936000</td>\n",
       "      <td>IBM</td>\n",
       "    </tr>\n",
       "    <tr>\n",
       "      <th>2909</th>\n",
       "      <td>2022-06-28</td>\n",
       "      <td>142.919998</td>\n",
       "      <td>144.160004</td>\n",
       "      <td>141.320007</td>\n",
       "      <td>141.860001</td>\n",
       "      <td>140.094910</td>\n",
       "      <td>4064800</td>\n",
       "      <td>IBM</td>\n",
       "    </tr>\n",
       "    <tr>\n",
       "      <th>2910</th>\n",
       "      <td>2022-06-29</td>\n",
       "      <td>142.740005</td>\n",
       "      <td>143.520004</td>\n",
       "      <td>139.500000</td>\n",
       "      <td>140.710007</td>\n",
       "      <td>138.959213</td>\n",
       "      <td>4161500</td>\n",
       "      <td>IBM</td>\n",
       "    </tr>\n",
       "    <tr>\n",
       "      <th>2911</th>\n",
       "      <td>2022-06-30</td>\n",
       "      <td>139.580002</td>\n",
       "      <td>142.460007</td>\n",
       "      <td>139.279999</td>\n",
       "      <td>141.190002</td>\n",
       "      <td>139.433243</td>\n",
       "      <td>4878000</td>\n",
       "      <td>IBM</td>\n",
       "    </tr>\n",
       "    <tr>\n",
       "      <th>2912</th>\n",
       "      <td>2022-07-01</td>\n",
       "      <td>141.000000</td>\n",
       "      <td>141.669998</td>\n",
       "      <td>139.259995</td>\n",
       "      <td>141.119995</td>\n",
       "      <td>139.364105</td>\n",
       "      <td>4011900</td>\n",
       "      <td>IBM</td>\n",
       "    </tr>\n",
       "  </tbody>\n",
       "</table>\n",
       "<p>2913 rows × 8 columns</p>\n",
       "</div>"
      ],
      "text/plain": [
       "           date        open        high         low       close    adjclose  \\\n",
       "0    2010-12-06  138.183563  139.455063  138.164429  138.613770   91.798065   \n",
       "1    2010-12-07  139.598465  139.866150  137.543015  137.686417   91.183945   \n",
       "2    2010-12-08  138.001907  139.244736  137.514343  138.604202   91.791710   \n",
       "3    2010-12-09  139.521988  139.521988  137.208420  137.954117   91.361206   \n",
       "4    2010-12-10  138.508606  138.575531  137.409180  138.451248   91.690460   \n",
       "...         ...         ...         ...         ...         ...         ...   \n",
       "2908 2022-06-27  142.259995  143.830002  141.949997  142.800003  141.023209   \n",
       "2909 2022-06-28  142.919998  144.160004  141.320007  141.860001  140.094910   \n",
       "2910 2022-06-29  142.740005  143.520004  139.500000  140.710007  138.959213   \n",
       "2911 2022-06-30  139.580002  142.460007  139.279999  141.190002  139.433243   \n",
       "2912 2022-07-01  141.000000  141.669998  139.259995  141.119995  139.364105   \n",
       "\n",
       "       volume ticker  \n",
       "0     3474603    IBM  \n",
       "1     5050716    IBM  \n",
       "2     5189624    IBM  \n",
       "3     4607944    IBM  \n",
       "4     3664975    IBM  \n",
       "...       ...    ...  \n",
       "2908  3936000    IBM  \n",
       "2909  4064800    IBM  \n",
       "2910  4161500    IBM  \n",
       "2911  4878000    IBM  \n",
       "2912  4011900    IBM  \n",
       "\n",
       "[2913 rows x 8 columns]"
      ]
     },
     "execution_count": 2,
     "metadata": {},
     "output_type": "execute_result"
    }
   ],
   "source": [
    "IBM_df= get_data(\"IBM\", start_date=\"12/04/2010\", end_date=\"07/04/2022\", index_as_date = False, interval=\"1d\")\n",
    "IBM_df"
   ]
  },
  {
   "cell_type": "code",
   "execution_count": 3,
   "id": "f68f33d5",
   "metadata": {},
   "outputs": [
    {
     "name": "stdout",
     "output_type": "stream",
     "text": [
      "              open         high          low        close     adjclose  \\\n",
      "count  2913.000000  2913.000000  2913.000000  2913.000000  2913.000000   \n",
      "mean    150.918493   152.068154   149.815779   150.952191   116.232247   \n",
      "std      24.115026    24.122969    24.153981    24.144456    11.241210   \n",
      "min      90.439774    93.441681    86.577438    90.602295    79.847008   \n",
      "25%     133.030594   134.158707   132.112808   133.059280   108.756058   \n",
      "50%     146.768646   147.705551   145.812622   146.797318   115.669357   \n",
      "75%     171.988525   173.499039   171.166351   172.294449   125.689125   \n",
      "max     205.908218   206.405350   204.875717   206.309753   141.874649   \n",
      "\n",
      "             volume  \n",
      "count  2.913000e+03  \n",
      "mean   4.902648e+06  \n",
      "std    2.732750e+06  \n",
      "min    1.247878e+06  \n",
      "25%    3.397094e+06  \n",
      "50%    4.234522e+06  \n",
      "75%    5.450183e+06  \n",
      "max    3.981442e+07  \n"
     ]
    }
   ],
   "source": [
    "print(IBM_df.describe())\n"
   ]
  },
  {
   "cell_type": "code",
   "execution_count": 4,
   "id": "99227f9d",
   "metadata": {},
   "outputs": [],
   "source": [
    "IBM_df.set_index(pd.DatetimeIndex(IBM_df['date']), inplace=True)\n"
   ]
  },
  {
   "cell_type": "code",
   "execution_count": 5,
   "id": "76d40474",
   "metadata": {},
   "outputs": [
    {
     "data": {
      "text/html": [
       "<div>\n",
       "<style scoped>\n",
       "    .dataframe tbody tr th:only-of-type {\n",
       "        vertical-align: middle;\n",
       "    }\n",
       "\n",
       "    .dataframe tbody tr th {\n",
       "        vertical-align: top;\n",
       "    }\n",
       "\n",
       "    .dataframe thead th {\n",
       "        text-align: right;\n",
       "    }\n",
       "</style>\n",
       "<table border=\"1\" class=\"dataframe\">\n",
       "  <thead>\n",
       "    <tr style=\"text-align: right;\">\n",
       "      <th></th>\n",
       "      <th>close</th>\n",
       "    </tr>\n",
       "    <tr>\n",
       "      <th>date</th>\n",
       "      <th></th>\n",
       "    </tr>\n",
       "  </thead>\n",
       "  <tbody>\n",
       "    <tr>\n",
       "      <th>2010-12-06</th>\n",
       "      <td>138.613770</td>\n",
       "    </tr>\n",
       "    <tr>\n",
       "      <th>2010-12-07</th>\n",
       "      <td>137.686417</td>\n",
       "    </tr>\n",
       "    <tr>\n",
       "      <th>2010-12-08</th>\n",
       "      <td>138.604202</td>\n",
       "    </tr>\n",
       "    <tr>\n",
       "      <th>2010-12-09</th>\n",
       "      <td>137.954117</td>\n",
       "    </tr>\n",
       "    <tr>\n",
       "      <th>2010-12-10</th>\n",
       "      <td>138.451248</td>\n",
       "    </tr>\n",
       "    <tr>\n",
       "      <th>...</th>\n",
       "      <td>...</td>\n",
       "    </tr>\n",
       "    <tr>\n",
       "      <th>2022-06-27</th>\n",
       "      <td>142.800003</td>\n",
       "    </tr>\n",
       "    <tr>\n",
       "      <th>2022-06-28</th>\n",
       "      <td>141.860001</td>\n",
       "    </tr>\n",
       "    <tr>\n",
       "      <th>2022-06-29</th>\n",
       "      <td>140.710007</td>\n",
       "    </tr>\n",
       "    <tr>\n",
       "      <th>2022-06-30</th>\n",
       "      <td>141.190002</td>\n",
       "    </tr>\n",
       "    <tr>\n",
       "      <th>2022-07-01</th>\n",
       "      <td>141.119995</td>\n",
       "    </tr>\n",
       "  </tbody>\n",
       "</table>\n",
       "<p>2913 rows × 1 columns</p>\n",
       "</div>"
      ],
      "text/plain": [
       "                 close\n",
       "date                  \n",
       "2010-12-06  138.613770\n",
       "2010-12-07  137.686417\n",
       "2010-12-08  138.604202\n",
       "2010-12-09  137.954117\n",
       "2010-12-10  138.451248\n",
       "...                ...\n",
       "2022-06-27  142.800003\n",
       "2022-06-28  141.860001\n",
       "2022-06-29  140.710007\n",
       "2022-06-30  141.190002\n",
       "2022-07-01  141.119995\n",
       "\n",
       "[2913 rows x 1 columns]"
      ]
     },
     "execution_count": 5,
     "metadata": {},
     "output_type": "execute_result"
    }
   ],
   "source": [
    "IBM_df = IBM_df[['close']]\n",
    "IBM_df"
   ]
  },
  {
   "cell_type": "code",
   "execution_count": 6,
   "id": "7178ce01",
   "metadata": {},
   "outputs": [
    {
     "name": "stdout",
     "output_type": "stream",
     "text": [
      "2022-07-01 00:00:00\n"
     ]
    }
   ],
   "source": [
    "print (IBM_df.index.max())\n"
   ]
  },
  {
   "cell_type": "code",
   "execution_count": 7,
   "id": "33523462",
   "metadata": {},
   "outputs": [],
   "source": [
    "IBM_data = IBM_df.filter(['close'])\n",
    "IBM_dataset = IBM_data.values\n",
    "\n",
    "scaler = MinMaxScaler(feature_range=(0, 1))\n",
    "scaled_data = scaler.fit_transform(IBM_dataset)\n",
    "\n",
    "training_data_len =math.ceil(len(IBM_dataset) *.7)\n",
    "train_data =scaled_data[0:training_data_len , : ]\n",
    "\n",
    "\n",
    "X_train_data = []\n",
    "y_train_data = []\n",
    "\n",
    "for i in range(1500,len(train_data)):\n",
    "    X_train_data=list(X_train_data)\n",
    "    y_train_data=list(y_train_data)\n",
    "    X_train_data.append(train_data[i-1500:i,0])\n",
    "    y_train_data.append(train_data[i,0])\n",
    "    \n",
    "    X_train_data1, y_train_data1 = np.array(X_train_data), np.array(y_train_data)\n",
    "    \n",
    "    X_train_data2 = np.reshape(X_train_data1,(X_train_data1.shape[0],X_train_data1.shape[1],1))"
   ]
  },
  {
   "cell_type": "code",
   "execution_count": 8,
   "id": "87551854",
   "metadata": {},
   "outputs": [],
   "source": [
    "model = Sequential()\n",
    "\n",
    "model.add(LSTM(units=50, return_sequences=True,input_shape=(X_train_data2.shape[1],1)))\n",
    "\n",
    "model.add(LSTM(units=50, return_sequences=False))\n",
    "\n",
    "model.add(Dense(units=25))\n",
    "\n",
    "model.add(Dense(units=1))"
   ]
  },
  {
   "cell_type": "code",
   "execution_count": 9,
   "id": "c611e963",
   "metadata": {},
   "outputs": [
    {
     "name": "stdout",
     "output_type": "stream",
     "text": [
      "540/540 [==============================] - 144s 264ms/step - loss: 0.0035\n"
     ]
    },
    {
     "data": {
      "text/plain": [
       "<keras.callbacks.History at 0x2646914b908>"
      ]
     },
     "execution_count": 9,
     "metadata": {},
     "output_type": "execute_result"
    }
   ],
   "source": [
    "model.compile(optimizer='adam', loss='mean_squared_error')\n",
    "\n",
    "model.fit(X_train_data2, y_train_data1, batch_size=1, epochs=1)"
   ]
  },
  {
   "cell_type": "code",
   "execution_count": 10,
   "id": "9e69378d",
   "metadata": {},
   "outputs": [
    {
     "name": "stdout",
     "output_type": "stream",
     "text": [
      "28/28 [==============================] - 5s 174ms/step\n"
     ]
    }
   ],
   "source": [
    "test_data = scaled_data[training_data_len -1500: , : ]\n",
    "\n",
    "X_test = []\n",
    "\n",
    "y_test = IBM_dataset[training_data_len : , : ]\n",
    "\n",
    "for i in range(1500,len(test_data)):\n",
    "    \n",
    "    X_test.append(test_data[i-1500:i,0])\n",
    "\n",
    "X_test = np.array(X_test)\n",
    "\n",
    "X_test = np.reshape(X_test,(X_test.shape[0],X_test.shape[1],1))\n",
    "\n",
    "predictions = model.predict(X_test)\n",
    "\n",
    "predictions = scaler.inverse_transform(predictions)"
   ]
  },
  {
   "cell_type": "code",
   "execution_count": 11,
   "id": "8ec05267",
   "metadata": {},
   "outputs": [],
   "source": [
    "rmse=np.sqrt(np.mean(((predictions-y_test)**2)))"
   ]
  },
  {
   "cell_type": "code",
   "execution_count": 12,
   "id": "92e0b58d",
   "metadata": {},
   "outputs": [
    {
     "name": "stdout",
     "output_type": "stream",
     "text": [
      "4.985484613318461\n"
     ]
    }
   ],
   "source": [
    "print(rmse)\n"
   ]
  },
  {
   "cell_type": "code",
   "execution_count": 13,
   "id": "f30c6548",
   "metadata": {},
   "outputs": [
    {
     "name": "stderr",
     "output_type": "stream",
     "text": [
      "c:\\Users\\matth\\anaconda3\\envs\\PythonData\\lib\\site-packages\\ipykernel_launcher.py:5: SettingWithCopyWarning: \n",
      "A value is trying to be set on a copy of a slice from a DataFrame.\n",
      "Try using .loc[row_indexer,col_indexer] = value instead\n",
      "\n",
      "See the caveats in the documentation: https://pandas.pydata.org/pandas-docs/stable/user_guide/indexing.html#returning-a-view-versus-a-copy\n",
      "  \"\"\"\n"
     ]
    },
    {
     "data": {
      "image/png": "[encoded data removed]",
      "text/plain": [
       "<Figure size 432x288 with 1 Axes>"
      ]
     },
     "metadata": {
      "needs_background": "light"
     },
     "output_type": "display_data"
    }
   ],
   "source": [
    "train = IBM_df[:training_data_len]\n",
    "\n",
    "valid = IBM_df[training_data_len:]\n",
    "\n",
    "valid['Predictions'] = predictions\n",
    "\n",
    "plt.title('Model')\n",
    "\n",
    "plt.xlabel('Date')\n",
    "\n",
    "plt.ylabel('close')\n",
    "\n",
    "plt.plot(train['close'])\n",
    "\n",
    "plt.plot(valid[['close', 'Predictions']])\n",
    "\n",
    "plt.legend(['Train', 'Val', 'Predictions'], loc='lower right')\n",
    "\n",
    "plt.show()"
   ]
  },
  {
   "cell_type": "code",
   "execution_count": 14,
   "id": "12d4e29e",
   "metadata": {},
   "outputs": [
    {
     "data": {
      "text/plain": [
       "<AxesSubplot:xlabel='date'>"
      ]
     },
     "execution_count": 14,
     "metadata": {},
     "output_type": "execute_result"
    },
    {
     "data": {
      "image/png": "[encoded data removed]",
      "text/plain": [
       "<Figure size 432x288 with 1 Axes>"
      ]
     },
     "metadata": {
      "needs_background": "light"
     },
     "output_type": "display_data"
    }
   ],
   "source": [
    "IBM_df.plot()"
   ]
  },
  {
   "cell_type": "code",
   "execution_count": 15,
   "id": "26bef0b0",
   "metadata": {},
   "outputs": [
    {
     "data": {
      "text/html": [
       "<div>\n",
       "<style scoped>\n",
       "    .dataframe tbody tr th:only-of-type {\n",
       "        vertical-align: middle;\n",
       "    }\n",
       "\n",
       "    .dataframe tbody tr th {\n",
       "        vertical-align: top;\n",
       "    }\n",
       "\n",
       "    .dataframe thead th {\n",
       "        text-align: right;\n",
       "    }\n",
       "</style>\n",
       "<table border=\"1\" class=\"dataframe\">\n",
       "  <thead>\n",
       "    <tr style=\"text-align: right;\">\n",
       "      <th></th>\n",
       "      <th>close</th>\n",
       "      <th>Predictions</th>\n",
       "    </tr>\n",
       "    <tr>\n",
       "      <th>date</th>\n",
       "      <th></th>\n",
       "      <th></th>\n",
       "    </tr>\n",
       "  </thead>\n",
       "  <tbody>\n",
       "    <tr>\n",
       "      <th>2010-12-06</th>\n",
       "      <td>138.613770</td>\n",
       "      <td>NaN</td>\n",
       "    </tr>\n",
       "    <tr>\n",
       "      <th>2010-12-07</th>\n",
       "      <td>137.686417</td>\n",
       "      <td>NaN</td>\n",
       "    </tr>\n",
       "    <tr>\n",
       "      <th>2010-12-08</th>\n",
       "      <td>138.604202</td>\n",
       "      <td>NaN</td>\n",
       "    </tr>\n",
       "    <tr>\n",
       "      <th>2010-12-09</th>\n",
       "      <td>137.954117</td>\n",
       "      <td>NaN</td>\n",
       "    </tr>\n",
       "    <tr>\n",
       "      <th>2010-12-10</th>\n",
       "      <td>138.451248</td>\n",
       "      <td>NaN</td>\n",
       "    </tr>\n",
       "    <tr>\n",
       "      <th>...</th>\n",
       "      <td>...</td>\n",
       "      <td>...</td>\n",
       "    </tr>\n",
       "    <tr>\n",
       "      <th>2022-06-27</th>\n",
       "      <td>142.800003</td>\n",
       "      <td>139.732712</td>\n",
       "    </tr>\n",
       "    <tr>\n",
       "      <th>2022-06-28</th>\n",
       "      <td>141.860001</td>\n",
       "      <td>140.352982</td>\n",
       "    </tr>\n",
       "    <tr>\n",
       "      <th>2022-06-29</th>\n",
       "      <td>140.710007</td>\n",
       "      <td>140.986084</td>\n",
       "    </tr>\n",
       "    <tr>\n",
       "      <th>2022-06-30</th>\n",
       "      <td>141.190002</td>\n",
       "      <td>141.492416</td>\n",
       "    </tr>\n",
       "    <tr>\n",
       "      <th>2022-07-01</th>\n",
       "      <td>141.119995</td>\n",
       "      <td>141.925293</td>\n",
       "    </tr>\n",
       "  </tbody>\n",
       "</table>\n",
       "<p>2913 rows × 2 columns</p>\n",
       "</div>"
      ],
      "text/plain": [
       "                 close  Predictions\n",
       "date                               \n",
       "2010-12-06  138.613770          NaN\n",
       "2010-12-07  137.686417          NaN\n",
       "2010-12-08  138.604202          NaN\n",
       "2010-12-09  137.954117          NaN\n",
       "2010-12-10  138.451248          NaN\n",
       "...                ...          ...\n",
       "2022-06-27  142.800003   139.732712\n",
       "2022-06-28  141.860001   140.352982\n",
       "2022-06-29  140.710007   140.986084\n",
       "2022-06-30  141.190002   141.492416\n",
       "2022-07-01  141.119995   141.925293\n",
       "\n",
       "[2913 rows x 2 columns]"
      ]
     },
     "execution_count": 15,
     "metadata": {},
     "output_type": "execute_result"
    }
   ],
   "source": [
    "complete_IBM_df = pd.concat([train[['close']], valid[['close', 'Predictions']]])\n",
    "complete_IBM_df"
   ]
  },
  {
   "cell_type": "code",
   "execution_count": 16,
   "id": "b1ddce2d",
   "metadata": {},
   "outputs": [],
   "source": [
    "IBM_df.to_csv(\"IBM_df.csv\", index=False)"
   ]
  },
  {
   "cell_type": "code",
   "execution_count": 17,
   "id": "fa9bcb6a",
   "metadata": {},
   "outputs": [],
   "source": [
    "complete_IBM_df.to_csv(\"complete_IBM_df.csv\", index=False)"
   ]
  },
  {
   "cell_type": "code",
   "execution_count": null,
   "id": "a2de86bc",
   "metadata": {},
   "outputs": [],
   "source": []
  }
 ],
 "metadata": {
  "kernelspec": {
   "display_name": "PythonData",
   "language": "python",
   "name": "pythondata"
  },
  "language_info": {
   "codemirror_mode": {
    "name": "ipython",
    "version": 3
   },
   "file_extension": ".py",
   "mimetype": "text/x-python",
   "name": "python",
   "nbconvert_exporter": "python",
   "pygments_lexer": "ipython3",
   "version": "3.7.11"
  },
  "vscode": {
   "interpreter": {
    "hash": "5e56b855c8a22d99951d5903f3e420326139b93365d75d089ae493339284e0f2"
   }
  }
 },
 "nbformat": 4,
 "nbformat_minor": 5
}
