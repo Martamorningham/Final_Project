{
 "cells": [
  {
   "cell_type": "code",
   "execution_count": 20,
   "id": "626858dc",
   "metadata": {},
   "outputs": [
    {
     "name": "stdout",
     "output_type": "stream",
     "text": [
      "Collecting pandas-ta\n",
      "  Downloading pandas_ta-0.3.14b.tar.gz (115 kB)\n",
      "\u001b[K     |████████████████████████████████| 115 kB 991 kB/s eta 0:00:01\n",
      "\u001b[?25hRequirement already satisfied: pandas in /Users/dashickscott/opt/anaconda3/envs/mlenv/lib/python3.7/site-packages (from pandas-ta) (1.3.5)\n",
      "Requirement already satisfied: python-dateutil>=2.7.3 in /Users/dashickscott/opt/anaconda3/envs/mlenv/lib/python3.7/site-packages (from pandas->pandas-ta) (2.8.2)\n",
      "Requirement already satisfied: pytz>=2017.3 in /Users/dashickscott/opt/anaconda3/envs/mlenv/lib/python3.7/site-packages (from pandas->pandas-ta) (2021.3)\n",
      "Requirement already satisfied: numpy>=1.17.3 in /Users/dashickscott/opt/anaconda3/envs/mlenv/lib/python3.7/site-packages (from pandas->pandas-ta) (1.21.5)\n",
      "Requirement already satisfied: six>=1.5 in /Users/dashickscott/opt/anaconda3/envs/mlenv/lib/python3.7/site-packages (from python-dateutil>=2.7.3->pandas->pandas-ta) (1.16.0)\n",
      "Building wheels for collected packages: pandas-ta\n",
      "  Building wheel for pandas-ta (setup.py) ... \u001b[?25ldone\n",
      "\u001b[?25h  Created wheel for pandas-ta: filename=pandas_ta-0.3.14b0-py3-none-any.whl size=218922 sha256=a6182d47f67f1e7a0bfcc16c821b6c0c0b73377642997675c417225d9e1a91c8\n",
      "  Stored in directory: /Users/dashickscott/Library/Caches/pip/wheels/0b/81/f0/cca85757840e4616a2c6b9fe12569d97d324c27cac60724c58\n",
      "Successfully built pandas-ta\n",
      "Installing collected packages: pandas-ta\n",
      "Successfully installed pandas-ta-0.3.14b0\n",
      "Note: you may need to restart the kernel to use updated packages.\n"
     ]
    }
   ],
   "source": [
    "#pip install pandas-ta"
   ]
  },
  {
   "cell_type": "code",
   "execution_count": 49,
   "id": "7988901f",
   "metadata": {},
   "outputs": [],
   "source": [
    "import pandas as pd \n",
    "import pandas as pd\n",
    "import numpy as np\n",
    "import matplotlib.pyplot as plt\n",
    "import pandas_ta #moving avg\n",
    "from sklearn.model_selection import train_test_split\n",
    "from sklearn.linear_model import LinearRegression\n",
    "from sklearn.metrics import mean_squared_error, r2_score, mean_absolute_error"
   ]
  },
  {
   "cell_type": "code",
   "execution_count": 3,
   "id": "bfd7a050",
   "metadata": {},
   "outputs": [],
   "source": [
    "#load the data \n",
    "amzn_df = pd.read_csv('AMZN.csv')"
   ]
  },
  {
   "cell_type": "code",
   "execution_count": 4,
   "id": "af380cc0",
   "metadata": {},
   "outputs": [
    {
     "name": "stdout",
     "output_type": "stream",
     "text": [
      "           Date        Open        High         Low       Close   Adj Close  \\\n",
      "0    2021-08-16  164.149994  165.000000  160.556503  164.949493  164.949493   \n",
      "1    2021-08-17  163.875000  164.024506  161.283997  162.098007  162.098007   \n",
      "2    2021-08-18  162.099503  162.705002  160.000000  160.061005  160.061005   \n",
      "3    2021-08-19  159.701004  161.649994  159.123001  159.387497  159.387497   \n",
      "4    2021-08-20  160.193497  160.390503  158.787994  159.997498  159.997498   \n",
      "..          ...         ...         ...         ...         ...         ...   \n",
      "246  2022-08-08  142.050003  144.229996  138.289993  139.410004  139.410004   \n",
      "247  2022-08-09  138.050003  138.949997  136.210007  137.830002  137.830002   \n",
      "248  2022-08-10  142.899994  144.600006  141.009995  142.690002  142.690002   \n",
      "249  2022-08-11  143.860001  144.490005  139.759995  140.639999  140.639999   \n",
      "250  2022-08-12  142.050003  143.570007  140.119995  143.550003  143.550003   \n",
      "\n",
      "       Volume  \n",
      "0    66394000  \n",
      "1    67758000  \n",
      "2    56086000  \n",
      "3    75658000  \n",
      "4    67168000  \n",
      "..        ...  \n",
      "246  52229000  \n",
      "247  40434700  \n",
      "248  54773800  \n",
      "249  44867300  \n",
      "250  47582800  \n",
      "\n",
      "[251 rows x 7 columns]\n"
     ]
    }
   ],
   "source": [
    "#Inspect it \n",
    "print(amzn_df)"
   ]
  },
  {
   "cell_type": "code",
   "execution_count": 6,
   "id": "48e95bc3",
   "metadata": {},
   "outputs": [
    {
     "name": "stdout",
     "output_type": "stream",
     "text": [
      "             Open        High         Low       Close   Adj Close  \\\n",
      "count  251.000000  251.000000  251.000000  251.000000  251.000000   \n",
      "mean   149.919287  152.085311  147.645309  149.822194  149.822194   \n",
      "std     23.408875   23.101396   23.611957   23.300722   23.300722   \n",
      "min    102.750000  104.580002  101.260002  102.309998  102.309998   \n",
      "25%    134.809998  137.544998  132.959999  134.555001  134.555001   \n",
      "50%    158.350006  160.390503  156.011002  158.115494  158.115494   \n",
      "75%    168.504753  170.792252  166.499252  169.047005  169.047005   \n",
      "max    185.634506  188.107498  183.785995  184.802994  184.802994   \n",
      "\n",
      "             Volume  \n",
      "count  2.510000e+02  \n",
      "mean   7.288818e+07  \n",
      "std    3.118778e+07  \n",
      "min    3.360600e+07  \n",
      "25%    5.387700e+07  \n",
      "50%    6.492660e+07  \n",
      "75%    8.294300e+07  \n",
      "max    2.726620e+08  \n"
     ]
    }
   ],
   "source": [
    "#print the summary \n",
    "print(amzn_df.describe())"
   ]
  },
  {
   "cell_type": "code",
   "execution_count": 8,
   "id": "8dd6c955",
   "metadata": {},
   "outputs": [],
   "source": [
    "#now prep the data \n",
    "amzn_df.set_index(pd.DatetimeIndex(amzn_df['Date']), inplace=True)"
   ]
  },
  {
   "cell_type": "code",
   "execution_count": 9,
   "id": "8ecb3be2",
   "metadata": {},
   "outputs": [],
   "source": [
    "#Keep the close adj\n",
    "amzn_df = amzn_df[['Adj Close']]"
   ]
  },
  {
   "cell_type": "code",
   "execution_count": 10,
   "id": "7299225f",
   "metadata": {},
   "outputs": [
    {
     "name": "stdout",
     "output_type": "stream",
     "text": [
      "             Adj Close\n",
      "Date                  \n",
      "2021-08-16  164.949493\n",
      "2021-08-17  162.098007\n",
      "2021-08-18  160.061005\n",
      "2021-08-19  159.387497\n",
      "2021-08-20  159.997498\n",
      "...                ...\n",
      "2022-08-08  139.410004\n",
      "2022-08-09  137.830002\n",
      "2022-08-10  142.690002\n",
      "2022-08-11  140.639999\n",
      "2022-08-12  143.550003\n",
      "\n",
      "[251 rows x 1 columns]\n"
     ]
    }
   ],
   "source": [
    "#lets see if it worked \n",
    "print(amzn_df)"
   ]
  },
  {
   "cell_type": "code",
   "execution_count": 11,
   "id": "86cd9c38",
   "metadata": {},
   "outputs": [
    {
     "name": "stdout",
     "output_type": "stream",
     "text": [
      "<class 'pandas.core.frame.DataFrame'>\n",
      "DatetimeIndex: 251 entries, 2021-08-16 to 2022-08-12\n",
      "Data columns (total 1 columns):\n",
      " #   Column     Non-Null Count  Dtype  \n",
      "---  ------     --------------  -----  \n",
      " 0   Adj Close  251 non-null    float64\n",
      "dtypes: float64(1)\n",
      "memory usage: 3.9 KB\n",
      "None\n"
     ]
    }
   ],
   "source": [
    "print(amzn_df.info())"
   ]
  },
  {
   "cell_type": "code",
   "execution_count": 29,
   "id": "dcd7e6ed",
   "metadata": {},
   "outputs": [
    {
     "data": {
      "text/plain": [
       "Date\n",
       "2021-08-16           NaN\n",
       "2021-08-17           NaN\n",
       "2021-08-18           NaN\n",
       "2021-08-19           NaN\n",
       "2021-08-20           NaN\n",
       "                 ...    \n",
       "2022-08-08    134.075338\n",
       "2022-08-09    134.758004\n",
       "2022-08-10    136.200186\n",
       "2022-08-11    137.007424\n",
       "2022-08-12    138.196984\n",
       "Name: EMA_10, Length: 251, dtype: float64"
      ]
     },
     "execution_count": 29,
     "metadata": {},
     "output_type": "execute_result"
    }
   ],
   "source": [
    "#Add technical indicators aka moving averages (ema or exponential moving average )\n",
    "\n",
    "amzn_df.ta.ema(close='Adj Close', length=10, append=True)\n",
    "# something is wrong\n"
   ]
  },
  {
   "cell_type": "code",
   "execution_count": 30,
   "id": "39ca3411",
   "metadata": {},
   "outputs": [
    {
     "name": "stdout",
     "output_type": "stream",
     "text": [
      "<class 'pandas.core.frame.DataFrame'>\n",
      "DatetimeIndex: 251 entries, 2021-08-16 to 2022-08-12\n",
      "Data columns (total 2 columns):\n",
      " #   Column     Non-Null Count  Dtype  \n",
      "---  ------     --------------  -----  \n",
      " 0   Adj Close  251 non-null    float64\n",
      " 1   EMA_10     242 non-null    float64\n",
      "dtypes: float64(2)\n",
      "memory usage: 5.9 KB\n",
      "None\n"
     ]
    }
   ],
   "source": [
    "print(amzn_df.info())"
   ]
  },
  {
   "cell_type": "code",
   "execution_count": 31,
   "id": "270e1c26",
   "metadata": {},
   "outputs": [
    {
     "name": "stdout",
     "output_type": "stream",
     "text": [
      "             Adj Close      EMA_10\n",
      "Date                              \n",
      "2021-08-16  164.949493         NaN\n",
      "2021-08-17  162.098007         NaN\n",
      "2021-08-18  160.061005         NaN\n",
      "2021-08-19  159.387497         NaN\n",
      "2021-08-20  159.997498         NaN\n",
      "2021-08-23  163.293503         NaN\n",
      "2021-08-24  165.289001         NaN\n",
      "2021-08-25  164.959000         NaN\n",
      "2021-08-26  165.800003         NaN\n",
      "2021-08-27  167.481506  163.331651\n"
     ]
    }
   ],
   "source": [
    "print(amzn_df.head(10))"
   ]
  },
  {
   "cell_type": "code",
   "execution_count": 32,
   "id": "cb9bf2dd",
   "metadata": {},
   "outputs": [],
   "source": [
    "#drop the NaN rows \n",
    "amzn_df = amzn_df.iloc[10:]"
   ]
  },
  {
   "cell_type": "code",
   "execution_count": 33,
   "id": "b2a28192",
   "metadata": {},
   "outputs": [
    {
     "name": "stdout",
     "output_type": "stream",
     "text": [
      "             Adj Close      EMA_10\n",
      "Date                              \n",
      "2021-08-30  171.078506  164.740170\n",
      "2021-08-31  173.539505  166.340049\n",
      "2021-09-01  173.949997  167.723676\n",
      "2021-09-02  173.156006  168.711373\n",
      "2021-09-03  173.902496  169.655213\n",
      "2021-09-07  175.464493  170.711446\n",
      "2021-09-08  176.274994  171.723000\n",
      "2021-09-09  174.207993  172.174817\n",
      "2021-09-10  173.457504  172.408033\n",
      "2021-09-13  172.858505  172.489937\n"
     ]
    }
   ],
   "source": [
    "print(amzn_df.head(10))"
   ]
  },
  {
   "cell_type": "code",
   "execution_count": 36,
   "id": "1619cc78",
   "metadata": {},
   "outputs": [
    {
     "data": {
      "image/png": "[encoded data removed]",
      "text/plain": [
       "<Figure size 432x288 with 1 Axes>"
      ]
     },
     "metadata": {
      "needs_background": "light"
     },
     "output_type": "display_data"
    }
   ],
   "source": [
    "amzn_df['Adj Close'].plot()\n",
    "plt.show()"
   ]
  },
  {
   "cell_type": "code",
   "execution_count": 37,
   "id": "a8150b49",
   "metadata": {},
   "outputs": [
    {
     "data": {
      "image/png": "[encoded data removed]",
      "text/plain": [
       "<Figure size 432x288 with 1 Axes>"
      ]
     },
     "metadata": {
      "needs_background": "light"
     },
     "output_type": "display_data"
    }
   ],
   "source": [
    "amzn_df['EMA_10'].plot()\n",
    "plt.show()"
   ]
  },
  {
   "cell_type": "code",
   "execution_count": 38,
   "id": "75e2cf49",
   "metadata": {},
   "outputs": [
    {
     "data": {
      "image/png": "[encoded data removed]",
      "text/plain": [
       "<Figure size 432x288 with 1 Axes>"
      ]
     },
     "metadata": {
      "needs_background": "light"
     },
     "output_type": "display_data"
    }
   ],
   "source": [
    "amzn_df[['EMA_10', 'Adj Close']].plot()\n",
    "plt.show()"
   ]
  },
  {
   "cell_type": "code",
   "execution_count": 39,
   "id": "9a2c19c3",
   "metadata": {},
   "outputs": [],
   "source": [
    "# lets test train split "
   ]
  },
  {
   "cell_type": "code",
   "execution_count": 44,
   "id": "08aa8d7d",
   "metadata": {},
   "outputs": [],
   "source": [
    "X_train, X_test, y_train, y_test = train_test_split(amzn_df[['Adj Close']], amzn_df[['EMA_10']], test_size=.2)\n"
   ]
  },
  {
   "cell_type": "code",
   "execution_count": 45,
   "id": "164beba3",
   "metadata": {},
   "outputs": [
    {
     "name": "stdout",
     "output_type": "stream",
     "text": [
      "        Adj Close\n",
      "count   49.000000\n",
      "mean   151.230307\n",
      "std     23.158997\n",
      "min    105.372002\n",
      "25%    134.160004\n",
      "50%    161.485992\n",
      "75%    170.451004\n",
      "max    183.828506\n"
     ]
    }
   ],
   "source": [
    "print(X_test.describe())"
   ]
  },
  {
   "cell_type": "code",
   "execution_count": 46,
   "id": "799a5703",
   "metadata": {},
   "outputs": [
    {
     "name": "stdout",
     "output_type": "stream",
     "text": [
      "        Adj Close\n",
      "count  192.000000\n",
      "mean   148.759214\n",
      "std     23.754435\n",
      "min    102.309998\n",
      "25%    125.330752\n",
      "50%    154.909752\n",
      "75%    169.118629\n",
      "max    184.802994\n"
     ]
    }
   ],
   "source": [
    "print(X_train.describe())"
   ]
  },
  {
   "cell_type": "code",
   "execution_count": 48,
   "id": "b1bf386d",
   "metadata": {},
   "outputs": [],
   "source": [
    "# Create Regression Model\n",
    "model = LinearRegression()\n",
    "\n",
    "# Train the model\n",
    "model.fit(X_train, y_train)\n",
    "\n",
    "# Use model to make predictions\n",
    "y_pred = model.predict(X_test)"
   ]
  },
  {
   "cell_type": "code",
   "execution_count": 50,
   "id": "18d3fc4d",
   "metadata": {},
   "outputs": [
    {
     "name": "stdout",
     "output_type": "stream",
     "text": [
      "Model Coefficients: [[0.93398189]]\n",
      "Mean Absolute Error: 4.223120294893919\n",
      "Coefficient of Determination: 0.9462515104425716\n"
     ]
    }
   ],
   "source": [
    "# new stuff \n",
    "# Printout relevant metrics\n",
    "print(\"Model Coefficients:\", model.coef_)\n",
    "print(\"Mean Absolute Error:\", mean_absolute_error(y_test, y_pred))\n",
    "print(\"Coefficient of Determination:\", r2_score(y_test, y_pred))"
   ]
  },
  {
   "cell_type": "code",
   "execution_count": null,
   "id": "b6a4a67c",
   "metadata": {},
   "outputs": [],
   "source": [
    "#lower MAE = better, want closer to one"
   ]
  },
  {
   "cell_type": "code",
   "execution_count": null,
   "id": "1367d639",
   "metadata": {},
   "outputs": [],
   "source": [
    "#Refernces: yahoo finance,(2022). Z.west, (2022)."
   ]
  },
  {
   "cell_type": "code",
   "execution_count": null,
   "id": "10cdb425",
   "metadata": {},
   "outputs": [],
   "source": []
  }
 ],
 "metadata": {
  "kernelspec": {
   "display_name": "mlenv",
   "language": "python",
   "name": "mlenv"
  },
  "language_info": {
   "codemirror_mode": {
    "name": "ipython",
    "version": 3
   },
   "file_extension": ".py",
   "mimetype": "text/x-python",
   "name": "python",
   "nbconvert_exporter": "python",
   "pygments_lexer": "ipython3",
   "version": "3.7.13"
  }
 },
 "nbformat": 4,
 "nbformat_minor": 5
}
