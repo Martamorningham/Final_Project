{
 "cells": [
  {
   "cell_type": "code",
   "execution_count": 31,
   "id": "8b5fa349",
   "metadata": {},
   "outputs": [],
   "source": [
    "import numpy as np\n",
    "import pandas as pd\n",
    "import matplotlib.pyplot as plt\n",
    "from keras.models import Sequential\n",
    "from keras.layers import Dense, LSTM\n",
    "import math\n",
    "from sklearn.preprocessing import MinMaxScaler"
   ]
  },
  {
   "cell_type": "code",
   "execution_count": 32,
   "id": "b27e06be",
   "metadata": {},
   "outputs": [],
   "source": [
    "#load the data \n",
    "xrt_df = pd.read_csv('XRT.csv')"
   ]
  },
  {
   "cell_type": "code",
   "execution_count": 33,
   "id": "fd08047b",
   "metadata": {},
   "outputs": [
    {
     "data": {
      "text/html": [
       "<div>\n",
       "<style scoped>\n",
       "    .dataframe tbody tr th:only-of-type {\n",
       "        vertical-align: middle;\n",
       "    }\n",
       "\n",
       "    .dataframe tbody tr th {\n",
       "        vertical-align: top;\n",
       "    }\n",
       "\n",
       "    .dataframe thead th {\n",
       "        text-align: right;\n",
       "    }\n",
       "</style>\n",
       "<table border=\"1\" class=\"dataframe\">\n",
       "  <thead>\n",
       "    <tr style=\"text-align: right;\">\n",
       "      <th></th>\n",
       "      <th>Date</th>\n",
       "      <th>Open</th>\n",
       "      <th>High</th>\n",
       "      <th>Low</th>\n",
       "      <th>Close</th>\n",
       "      <th>Adj Close</th>\n",
       "      <th>Volume</th>\n",
       "    </tr>\n",
       "  </thead>\n",
       "  <tbody>\n",
       "    <tr>\n",
       "      <th>0</th>\n",
       "      <td>2014-01-03</td>\n",
       "      <td>43.689999</td>\n",
       "      <td>43.955002</td>\n",
       "      <td>43.645000</td>\n",
       "      <td>43.799999</td>\n",
       "      <td>38.968216</td>\n",
       "      <td>4769600</td>\n",
       "    </tr>\n",
       "    <tr>\n",
       "      <th>1</th>\n",
       "      <td>2014-01-06</td>\n",
       "      <td>43.750000</td>\n",
       "      <td>43.924999</td>\n",
       "      <td>43.334999</td>\n",
       "      <td>43.380001</td>\n",
       "      <td>38.594555</td>\n",
       "      <td>5658200</td>\n",
       "    </tr>\n",
       "    <tr>\n",
       "      <th>2</th>\n",
       "      <td>2014-01-07</td>\n",
       "      <td>43.535000</td>\n",
       "      <td>43.705002</td>\n",
       "      <td>43.259998</td>\n",
       "      <td>43.450001</td>\n",
       "      <td>38.656826</td>\n",
       "      <td>7025200</td>\n",
       "    </tr>\n",
       "    <tr>\n",
       "      <th>3</th>\n",
       "      <td>2014-01-08</td>\n",
       "      <td>43.404999</td>\n",
       "      <td>43.450001</td>\n",
       "      <td>43.084999</td>\n",
       "      <td>43.244999</td>\n",
       "      <td>38.474434</td>\n",
       "      <td>5277200</td>\n",
       "    </tr>\n",
       "    <tr>\n",
       "      <th>4</th>\n",
       "      <td>2014-01-09</td>\n",
       "      <td>43.340000</td>\n",
       "      <td>43.340000</td>\n",
       "      <td>42.654999</td>\n",
       "      <td>42.904999</td>\n",
       "      <td>38.171951</td>\n",
       "      <td>7345000</td>\n",
       "    </tr>\n",
       "  </tbody>\n",
       "</table>\n",
       "</div>"
      ],
      "text/plain": [
       "         Date       Open       High        Low      Close  Adj Close   Volume\n",
       "0  2014-01-03  43.689999  43.955002  43.645000  43.799999  38.968216  4769600\n",
       "1  2014-01-06  43.750000  43.924999  43.334999  43.380001  38.594555  5658200\n",
       "2  2014-01-07  43.535000  43.705002  43.259998  43.450001  38.656826  7025200\n",
       "3  2014-01-08  43.404999  43.450001  43.084999  43.244999  38.474434  5277200\n",
       "4  2014-01-09  43.340000  43.340000  42.654999  42.904999  38.171951  7345000"
      ]
     },
     "execution_count": 33,
     "metadata": {},
     "output_type": "execute_result"
    }
   ],
   "source": [
    "xrt_df.head()"
   ]
  },
  {
   "cell_type": "code",
   "execution_count": 34,
   "id": "60e0610f",
   "metadata": {},
   "outputs": [
    {
     "name": "stdout",
     "output_type": "stream",
     "text": [
      "            Date       Open       High        Low      Close  Adj Close  \\\n",
      "0     2014-01-03  43.689999  43.955002  43.645000  43.799999  38.968216   \n",
      "1     2014-01-06  43.750000  43.924999  43.334999  43.380001  38.594555   \n",
      "2     2014-01-07  43.535000  43.705002  43.259998  43.450001  38.656826   \n",
      "3     2014-01-08  43.404999  43.450001  43.084999  43.244999  38.474434   \n",
      "4     2014-01-09  43.340000  43.340000  42.654999  42.904999  38.171951   \n",
      "...          ...        ...        ...        ...        ...        ...   \n",
      "2169  2022-08-16  71.849998  75.790001  71.529999  74.349998  74.349998   \n",
      "2170  2022-08-17  73.150002  73.489998  71.720001  72.230003  72.230003   \n",
      "2171  2022-08-18  71.989998  72.070000  70.949997  71.720001  71.720001   \n",
      "2172  2022-08-19  70.800003  71.139999  69.029999  69.419998  69.419998   \n",
      "2173  2022-08-22  68.180000  68.300003  67.059998  67.230003  67.230003   \n",
      "\n",
      "       Volume  \n",
      "0     4769600  \n",
      "1     5658200  \n",
      "2     7025200  \n",
      "3     5277200  \n",
      "4     7345000  \n",
      "...       ...  \n",
      "2169  7422200  \n",
      "2170  5286500  \n",
      "2171  3019400  \n",
      "2172  5839000  \n",
      "2173  7351600  \n",
      "\n",
      "[2174 rows x 7 columns]\n"
     ]
    }
   ],
   "source": [
    "#Inspect it \n",
    "print(xrt_df)"
   ]
  },
  {
   "cell_type": "code",
   "execution_count": 35,
   "id": "c4f2ded3",
   "metadata": {},
   "outputs": [
    {
     "name": "stdout",
     "output_type": "stream",
     "text": [
      "              Open         High          Low        Close    Adj Close  \\\n",
      "count  2174.000000  2174.000000  2174.000000  2174.000000  2174.000000   \n",
      "mean     52.057183    52.558774    51.513429    52.043335    49.224037   \n",
      "std      16.643219    16.887788    16.349743    16.613608    17.285598   \n",
      "min      27.549999    27.770000    26.290001    26.990000    26.168465   \n",
      "25%      42.601248    42.952500    42.271251    42.650002    39.146802   \n",
      "50%      45.135000    45.500000    44.790001    45.182501    41.999617   \n",
      "75%      50.655000    50.987501    50.343749    50.667499    48.016634   \n",
      "max     104.160004   104.309998   102.410004   104.160004   102.392715   \n",
      "\n",
      "             Volume  \n",
      "count  2.174000e+03  \n",
      "mean   4.859034e+06  \n",
      "std    2.598077e+06  \n",
      "min    5.547000e+05  \n",
      "25%    3.055200e+06  \n",
      "50%    4.336900e+06  \n",
      "75%    6.045500e+06  \n",
      "max    3.274590e+07  \n"
     ]
    }
   ],
   "source": [
    "#print the summary \n",
    "print(xrt_df.describe())"
   ]
  },
  {
   "cell_type": "code",
   "execution_count": 36,
   "id": "392b76f2",
   "metadata": {},
   "outputs": [],
   "source": [
    "#now prep the data for 2014-2019\n",
    "xrt_df.set_index(pd.DatetimeIndex(xrt_df['Date']), inplace=True)"
   ]
  },
  {
   "cell_type": "code",
   "execution_count": 37,
   "id": "ea4ba7fe",
   "metadata": {},
   "outputs": [],
   "source": [
    "#Keep the close for 2014-19\n",
    "xrt_df = xrt_df[['Close']]"
   ]
  },
  {
   "cell_type": "code",
   "execution_count": 38,
   "id": "b2e1df5c",
   "metadata": {},
   "outputs": [
    {
     "name": "stdout",
     "output_type": "stream",
     "text": [
      "                Close\n",
      "Date                 \n",
      "2014-01-03  43.799999\n",
      "2014-01-06  43.380001\n",
      "2014-01-07  43.450001\n",
      "2014-01-08  43.244999\n",
      "2014-01-09  42.904999\n",
      "...               ...\n",
      "2022-08-16  74.349998\n",
      "2022-08-17  72.230003\n",
      "2022-08-18  71.720001\n",
      "2022-08-19  69.419998\n",
      "2022-08-22  67.230003\n",
      "\n",
      "[2174 rows x 1 columns]\n"
     ]
    }
   ],
   "source": [
    "print(xrt_df)"
   ]
  },
  {
   "cell_type": "code",
   "execution_count": 39,
   "id": "543dd8ac",
   "metadata": {},
   "outputs": [
    {
     "name": "stdout",
     "output_type": "stream",
     "text": [
      "2022-08-22 00:00:00\n"
     ]
    }
   ],
   "source": [
    "print (xrt_df.index.max())"
   ]
  },
  {
   "cell_type": "code",
   "execution_count": 40,
   "id": "1f0bdc95",
   "metadata": {},
   "outputs": [],
   "source": [
    "\n",
    "data = xrt_df.filter(['Close'])\n",
    "dataset = data.values\n",
    "\n",
    "scaler = MinMaxScaler(feature_range=(0, 1))\n",
    "scaled_data = scaler.fit_transform(dataset)\n",
    "\n",
    "training_data_len =math.ceil(len(dataset) *.7)\n",
    "train_data =scaled_data[0:training_data_len , : ]\n",
    "\n",
    "\n",
    "X_train_data = []\n",
    "y_train_data = []\n",
    "\n",
    "for i in range(1500,len(train_data)):\n",
    "    X_train_data=list(X_train_data)\n",
    "    y_train_data=list(y_train_data)\n",
    "    X_train_data.append(train_data[i-1500:i,0])\n",
    "    y_train_data.append(train_data[i,0])\n",
    "    \n",
    "    X_train_data1, y_train_data1 = np.array(X_train_data), np.array(y_train_data)\n",
    "    \n",
    "    X_train_data2 = np.reshape(X_train_data1,(X_train_data1.shape[0],X_train_data1.shape[1],1))\n",
    "\n",
    "   \n",
    "    \n",
    "#1500 = number of days you can change it accordingly. \n",
    "\n",
    "# There will be a total of 60 values, 1st column will contain an index of 0-59\n",
    "# The second will have an index of 1-60 ++_\n",
    "# the y_train has the 60 st value on c1 and c2 will have 61++"
   ]
  },
  {
   "cell_type": "code",
   "execution_count": 41,
   "id": "43aa4acf",
   "metadata": {},
   "outputs": [],
   "source": [
    "#Lets build the LSTM MODEL \n",
    "\n",
    "model = Sequential()\n",
    "\n",
    "model.add(LSTM(units=50, return_sequences=True,input_shape=(X_train_data2.shape[1],1)))\n",
    "\n",
    "model.add(LSTM(units=50, return_sequences=False))\n",
    "\n",
    "model.add(Dense(units=25))\n",
    "\n",
    "model.add(Dense(units=1))\n",
    "\n",
    "\n",
    "#okay this example will have 2 LSTM layers w/50 neurons and 2 dense layers\n",
    "# plust one with 25 nuerons "
   ]
  },
  {
   "cell_type": "code",
   "execution_count": 42,
   "id": "d5f1458e",
   "metadata": {},
   "outputs": [
    {
     "name": "stdout",
     "output_type": "stream",
     "text": [
      "22/22 [==============================] - 12s 440ms/step - loss: 0.0063\n"
     ]
    },
    {
     "data": {
      "text/plain": [
       "<keras.callbacks.History at 0x7f7f0174ba50>"
      ]
     },
     "execution_count": 42,
     "metadata": {},
     "output_type": "execute_result"
    }
   ],
   "source": [
    "# Comple the model \n",
    "\n",
    "model.compile(optimizer='adam', loss='mean_squared_error')\n",
    "\n",
    "model.fit(X_train_data2, y_train_data1, batch_size=1, epochs=1)"
   ]
  },
  {
   "cell_type": "code",
   "execution_count": 43,
   "id": "58fc061c",
   "metadata": {},
   "outputs": [
    {
     "name": "stdout",
     "output_type": "stream",
     "text": [
      "21/21 [==============================] - 5s 215ms/step\n"
     ]
    }
   ],
   "source": [
    "test_data = scaled_data[training_data_len -1500: , : ]\n",
    "\n",
    "X_test = []\n",
    "\n",
    "y_test = dataset[training_data_len : , : ]\n",
    "\n",
    "for i in range(1500,len(test_data)):\n",
    "    \n",
    "    X_test.append(test_data[i-1500:i,0])\n",
    "\n",
    "X_test = np.array(X_test)\n",
    "\n",
    "X_test = np.reshape(X_test,(X_test.shape[0],X_test.shape[1],1))\n",
    "\n",
    "predictions = model.predict(X_test)\n",
    "\n",
    "predictions = scaler.inverse_transform(predictions)\n"
   ]
  },
  {
   "cell_type": "code",
   "execution_count": 44,
   "id": "5820609b",
   "metadata": {},
   "outputs": [],
   "source": [
    "# Error calculation where RMSE = root mean squared error \n",
    "\n",
    "rmse=np.sqrt(np.mean(((predictions-y_test)**2)))"
   ]
  },
  {
   "cell_type": "code",
   "execution_count": 45,
   "id": "87eca23d",
   "metadata": {},
   "outputs": [
    {
     "name": "stdout",
     "output_type": "stream",
     "text": [
      "15.046580567385252\n"
     ]
    }
   ],
   "source": [
    "print(rmse)"
   ]
  },
  {
   "cell_type": "code",
   "execution_count": 46,
   "id": "a2a0af6d",
   "metadata": {},
   "outputs": [
    {
     "data": {
      "text/plain": [
       "dtype('float64')"
      ]
     },
     "execution_count": 46,
     "metadata": {},
     "output_type": "execute_result"
    }
   ],
   "source": [
    "y_test.dtype"
   ]
  },
  {
   "cell_type": "code",
   "execution_count": 47,
   "id": "1c7aaad7",
   "metadata": {},
   "outputs": [
    {
     "data": {
      "text/plain": [
       "dtype('float32')"
      ]
     },
     "execution_count": 47,
     "metadata": {},
     "output_type": "execute_result"
    }
   ],
   "source": [
    "predictions.dtype"
   ]
  },
  {
   "cell_type": "code",
   "execution_count": 48,
   "id": "77253d30",
   "metadata": {},
   "outputs": [],
   "source": [
    "#OOOF okay the lower the value is to 0 the better\n",
    "# it indicates that the models p-value match the actual values from the data set \n",
    "# which in this case it does not. "
   ]
  },
  {
   "cell_type": "code",
   "execution_count": 50,
   "id": "a304a982",
   "metadata": {},
   "outputs": [
    {
     "name": "stderr",
     "output_type": "stream",
     "text": [
      "/Users/dashickscott/opt/anaconda3/envs/mlenv/lib/python3.7/site-packages/ipykernel_launcher.py:7: SettingWithCopyWarning: \n",
      "A value is trying to be set on a copy of a slice from a DataFrame.\n",
      "Try using .loc[row_indexer,col_indexer] = value instead\n",
      "\n",
      "See the caveats in the documentation: https://pandas.pydata.org/pandas-docs/stable/user_guide/indexing.html#returning-a-view-versus-a-copy\n",
      "  import sys\n"
     ]
    },
    {
     "data": {
      "image/png": "[encoded data removed]",
      "text/plain": [
       "<Figure size 432x288 with 1 Axes>"
      ]
     },
     "metadata": {
      "needs_background": "light"
     },
     "output_type": "display_data"
    }
   ],
   "source": [
    "#Predict and visualize \n",
    "\n",
    "train = xrt_df[:training_data_len]\n",
    "\n",
    "valid = xrt_df[training_data_len:]\n",
    "\n",
    "valid['Predictions'] = predictions\n",
    "\n",
    "plt.title('XRT LSTM')\n",
    "\n",
    "plt.xlabel('Date')\n",
    "\n",
    "plt.ylabel('Close')\n",
    "\n",
    "plt.plot(train['Close'])\n",
    "\n",
    "plt.plot(valid[['Close', 'Predictions']])\n",
    "\n",
    "plt.legend(['Train', 'Val', 'Predictions'], loc='lower right')\n",
    "\n",
    "plt.show()\n"
   ]
  },
  {
   "cell_type": "code",
   "execution_count": 51,
   "id": "71eb336a",
   "metadata": {},
   "outputs": [
    {
     "data": {
      "text/plain": [
       "<AxesSubplot:xlabel='Date'>"
      ]
     },
     "execution_count": 51,
     "metadata": {},
     "output_type": "execute_result"
    },
    {
     "data": {
      "image/png": "[encoded data removed]",
      "text/plain": [
       "<Figure size 432x288 with 1 Axes>"
      ]
     },
     "metadata": {
      "needs_background": "light"
     },
     "output_type": "display_data"
    }
   ],
   "source": [
    "xrt_df.plot()"
   ]
  },
  {
   "cell_type": "code",
   "execution_count": 52,
   "id": "abf2b9bc",
   "metadata": {},
   "outputs": [
    {
     "data": {
      "text/plain": [
       "Date\n",
       "2014-01-03    43.799999\n",
       "2014-01-06    43.380001\n",
       "2014-01-07    43.450001\n",
       "2014-01-08    43.244999\n",
       "2014-01-09    42.904999\n",
       "                ...    \n",
       "2020-01-14    45.610001\n",
       "2020-01-15    45.340000\n",
       "2020-01-16    45.930000\n",
       "2020-01-17    45.880001\n",
       "2020-01-21    45.639999\n",
       "Name: Close, Length: 1522, dtype: float64"
      ]
     },
     "execution_count": 52,
     "metadata": {},
     "output_type": "execute_result"
    }
   ],
   "source": [
    "train['Close']"
   ]
  },
  {
   "cell_type": "code",
   "execution_count": 53,
   "id": "db2bf616",
   "metadata": {},
   "outputs": [
    {
     "data": {
      "text/html": [
       "<div>\n",
       "<style scoped>\n",
       "    .dataframe tbody tr th:only-of-type {\n",
       "        vertical-align: middle;\n",
       "    }\n",
       "\n",
       "    .dataframe tbody tr th {\n",
       "        vertical-align: top;\n",
       "    }\n",
       "\n",
       "    .dataframe thead th {\n",
       "        text-align: right;\n",
       "    }\n",
       "</style>\n",
       "<table border=\"1\" class=\"dataframe\">\n",
       "  <thead>\n",
       "    <tr style=\"text-align: right;\">\n",
       "      <th></th>\n",
       "      <th>Close</th>\n",
       "      <th>Predictions</th>\n",
       "    </tr>\n",
       "    <tr>\n",
       "      <th>Date</th>\n",
       "      <th></th>\n",
       "      <th></th>\n",
       "    </tr>\n",
       "  </thead>\n",
       "  <tbody>\n",
       "    <tr>\n",
       "      <th>2020-01-22</th>\n",
       "      <td>45.470001</td>\n",
       "      <td>46.627213</td>\n",
       "    </tr>\n",
       "    <tr>\n",
       "      <th>2020-01-23</th>\n",
       "      <td>45.419998</td>\n",
       "      <td>46.633110</td>\n",
       "    </tr>\n",
       "    <tr>\n",
       "      <th>2020-01-24</th>\n",
       "      <td>44.900002</td>\n",
       "      <td>46.635014</td>\n",
       "    </tr>\n",
       "    <tr>\n",
       "      <th>2020-01-27</th>\n",
       "      <td>44.470001</td>\n",
       "      <td>46.623531</td>\n",
       "    </tr>\n",
       "    <tr>\n",
       "      <th>2020-01-28</th>\n",
       "      <td>44.720001</td>\n",
       "      <td>46.594402</td>\n",
       "    </tr>\n",
       "    <tr>\n",
       "      <th>...</th>\n",
       "      <td>...</td>\n",
       "      <td>...</td>\n",
       "    </tr>\n",
       "    <tr>\n",
       "      <th>2022-08-16</th>\n",
       "      <td>74.349998</td>\n",
       "      <td>57.972523</td>\n",
       "    </tr>\n",
       "    <tr>\n",
       "      <th>2022-08-17</th>\n",
       "      <td>72.230003</td>\n",
       "      <td>58.337128</td>\n",
       "    </tr>\n",
       "    <tr>\n",
       "      <th>2022-08-18</th>\n",
       "      <td>71.720001</td>\n",
       "      <td>58.682907</td>\n",
       "    </tr>\n",
       "    <tr>\n",
       "      <th>2022-08-19</th>\n",
       "      <td>69.419998</td>\n",
       "      <td>58.992912</td>\n",
       "    </tr>\n",
       "    <tr>\n",
       "      <th>2022-08-22</th>\n",
       "      <td>67.230003</td>\n",
       "      <td>59.222313</td>\n",
       "    </tr>\n",
       "  </tbody>\n",
       "</table>\n",
       "<p>652 rows × 2 columns</p>\n",
       "</div>"
      ],
      "text/plain": [
       "                Close  Predictions\n",
       "Date                              \n",
       "2020-01-22  45.470001    46.627213\n",
       "2020-01-23  45.419998    46.633110\n",
       "2020-01-24  44.900002    46.635014\n",
       "2020-01-27  44.470001    46.623531\n",
       "2020-01-28  44.720001    46.594402\n",
       "...               ...          ...\n",
       "2022-08-16  74.349998    57.972523\n",
       "2022-08-17  72.230003    58.337128\n",
       "2022-08-18  71.720001    58.682907\n",
       "2022-08-19  69.419998    58.992912\n",
       "2022-08-22  67.230003    59.222313\n",
       "\n",
       "[652 rows x 2 columns]"
      ]
     },
     "execution_count": 53,
     "metadata": {},
     "output_type": "execute_result"
    }
   ],
   "source": [
    "valid[['Close', 'Predictions']]"
   ]
  },
  {
   "cell_type": "code",
   "execution_count": 54,
   "id": "5110febe",
   "metadata": {},
   "outputs": [
    {
     "data": {
      "text/html": [
       "<div>\n",
       "<style scoped>\n",
       "    .dataframe tbody tr th:only-of-type {\n",
       "        vertical-align: middle;\n",
       "    }\n",
       "\n",
       "    .dataframe tbody tr th {\n",
       "        vertical-align: top;\n",
       "    }\n",
       "\n",
       "    .dataframe thead th {\n",
       "        text-align: right;\n",
       "    }\n",
       "</style>\n",
       "<table border=\"1\" class=\"dataframe\">\n",
       "  <thead>\n",
       "    <tr style=\"text-align: right;\">\n",
       "      <th></th>\n",
       "      <th>Close</th>\n",
       "      <th>Predictions</th>\n",
       "    </tr>\n",
       "    <tr>\n",
       "      <th>Date</th>\n",
       "      <th></th>\n",
       "      <th></th>\n",
       "    </tr>\n",
       "  </thead>\n",
       "  <tbody>\n",
       "    <tr>\n",
       "      <th>2014-01-03</th>\n",
       "      <td>43.799999</td>\n",
       "      <td>NaN</td>\n",
       "    </tr>\n",
       "    <tr>\n",
       "      <th>2014-01-06</th>\n",
       "      <td>43.380001</td>\n",
       "      <td>NaN</td>\n",
       "    </tr>\n",
       "    <tr>\n",
       "      <th>2014-01-07</th>\n",
       "      <td>43.450001</td>\n",
       "      <td>NaN</td>\n",
       "    </tr>\n",
       "    <tr>\n",
       "      <th>2014-01-08</th>\n",
       "      <td>43.244999</td>\n",
       "      <td>NaN</td>\n",
       "    </tr>\n",
       "    <tr>\n",
       "      <th>2014-01-09</th>\n",
       "      <td>42.904999</td>\n",
       "      <td>NaN</td>\n",
       "    </tr>\n",
       "    <tr>\n",
       "      <th>...</th>\n",
       "      <td>...</td>\n",
       "      <td>...</td>\n",
       "    </tr>\n",
       "    <tr>\n",
       "      <th>2022-08-16</th>\n",
       "      <td>74.349998</td>\n",
       "      <td>57.972523</td>\n",
       "    </tr>\n",
       "    <tr>\n",
       "      <th>2022-08-17</th>\n",
       "      <td>72.230003</td>\n",
       "      <td>58.337128</td>\n",
       "    </tr>\n",
       "    <tr>\n",
       "      <th>2022-08-18</th>\n",
       "      <td>71.720001</td>\n",
       "      <td>58.682907</td>\n",
       "    </tr>\n",
       "    <tr>\n",
       "      <th>2022-08-19</th>\n",
       "      <td>69.419998</td>\n",
       "      <td>58.992912</td>\n",
       "    </tr>\n",
       "    <tr>\n",
       "      <th>2022-08-22</th>\n",
       "      <td>67.230003</td>\n",
       "      <td>59.222313</td>\n",
       "    </tr>\n",
       "  </tbody>\n",
       "</table>\n",
       "<p>2174 rows × 2 columns</p>\n",
       "</div>"
      ],
      "text/plain": [
       "                Close  Predictions\n",
       "Date                              \n",
       "2014-01-03  43.799999          NaN\n",
       "2014-01-06  43.380001          NaN\n",
       "2014-01-07  43.450001          NaN\n",
       "2014-01-08  43.244999          NaN\n",
       "2014-01-09  42.904999          NaN\n",
       "...               ...          ...\n",
       "2022-08-16  74.349998    57.972523\n",
       "2022-08-17  72.230003    58.337128\n",
       "2022-08-18  71.720001    58.682907\n",
       "2022-08-19  69.419998    58.992912\n",
       "2022-08-22  67.230003    59.222313\n",
       "\n",
       "[2174 rows x 2 columns]"
      ]
     },
     "execution_count": 54,
     "metadata": {},
     "output_type": "execute_result"
    }
   ],
   "source": [
    "complete_df = pd.concat([train[['Close']], valid[['Close', 'Predictions']]])\n",
    "complete_df"
   ]
  },
  {
   "cell_type": "code",
   "execution_count": 55,
   "id": "283c154d",
   "metadata": {},
   "outputs": [],
   "source": [
    "#Stop"
   ]
  },
  {
   "cell_type": "code",
   "execution_count": 56,
   "id": "ca4aacea",
   "metadata": {},
   "outputs": [
    {
     "data": {
      "text/html": [
       "<div>\n",
       "<style scoped>\n",
       "    .dataframe tbody tr th:only-of-type {\n",
       "        vertical-align: middle;\n",
       "    }\n",
       "\n",
       "    .dataframe tbody tr th {\n",
       "        vertical-align: top;\n",
       "    }\n",
       "\n",
       "    .dataframe thead th {\n",
       "        text-align: right;\n",
       "    }\n",
       "</style>\n",
       "<table border=\"1\" class=\"dataframe\">\n",
       "  <thead>\n",
       "    <tr style=\"text-align: right;\">\n",
       "      <th></th>\n",
       "      <th>Close</th>\n",
       "      <th>Predictions</th>\n",
       "    </tr>\n",
       "    <tr>\n",
       "      <th>Date</th>\n",
       "      <th></th>\n",
       "      <th></th>\n",
       "    </tr>\n",
       "  </thead>\n",
       "  <tbody>\n",
       "    <tr>\n",
       "      <th>2014-01-03</th>\n",
       "      <td>43.799999</td>\n",
       "      <td>NaN</td>\n",
       "    </tr>\n",
       "    <tr>\n",
       "      <th>2014-01-06</th>\n",
       "      <td>43.380001</td>\n",
       "      <td>NaN</td>\n",
       "    </tr>\n",
       "    <tr>\n",
       "      <th>2014-01-07</th>\n",
       "      <td>43.450001</td>\n",
       "      <td>NaN</td>\n",
       "    </tr>\n",
       "    <tr>\n",
       "      <th>2014-01-08</th>\n",
       "      <td>43.244999</td>\n",
       "      <td>NaN</td>\n",
       "    </tr>\n",
       "    <tr>\n",
       "      <th>2014-01-09</th>\n",
       "      <td>42.904999</td>\n",
       "      <td>NaN</td>\n",
       "    </tr>\n",
       "  </tbody>\n",
       "</table>\n",
       "</div>"
      ],
      "text/plain": [
       "                Close  Predictions\n",
       "Date                              \n",
       "2014-01-03  43.799999          NaN\n",
       "2014-01-06  43.380001          NaN\n",
       "2014-01-07  43.450001          NaN\n",
       "2014-01-08  43.244999          NaN\n",
       "2014-01-09  42.904999          NaN"
      ]
     },
     "execution_count": 56,
     "metadata": {},
     "output_type": "execute_result"
    }
   ],
   "source": [
    "complete_df.head()"
   ]
  },
  {
   "cell_type": "code",
   "execution_count": 57,
   "id": "0dd658a9",
   "metadata": {},
   "outputs": [
    {
     "name": "stdout",
     "output_type": "stream",
     "text": [
      "                Close  Predictions\n",
      "Date                              \n",
      "2020-01-22  45.470001    46.627213\n",
      "2020-01-23  45.419998    46.633110\n",
      "2020-01-24  44.900002    46.635014\n",
      "2020-01-27  44.470001    46.623531\n",
      "2020-01-28  44.720001    46.594402\n",
      "...               ...          ...\n",
      "2022-08-16  74.349998    57.972523\n",
      "2022-08-17  72.230003    58.337128\n",
      "2022-08-18  71.720001    58.682907\n",
      "2022-08-19  69.419998    58.992912\n",
      "2022-08-22  67.230003    59.222313\n",
      "\n",
      "[652 rows x 2 columns]\n"
     ]
    }
   ],
   "source": [
    "complete_df2 = complete_df.dropna()\n",
    "\n",
    "print(complete_df2)"
   ]
  },
  {
   "cell_type": "code",
   "execution_count": 58,
   "id": "8f21eae4",
   "metadata": {},
   "outputs": [
    {
     "name": "stderr",
     "output_type": "stream",
     "text": [
      "/Users/dashickscott/opt/anaconda3/envs/mlenv/lib/python3.7/site-packages/ipykernel_launcher.py:1: SettingWithCopyWarning: \n",
      "A value is trying to be set on a copy of a slice from a DataFrame.\n",
      "Try using .loc[row_indexer,col_indexer] = value instead\n",
      "\n",
      "See the caveats in the documentation: https://pandas.pydata.org/pandas-docs/stable/user_guide/indexing.html#returning-a-view-versus-a-copy\n",
      "  \"\"\"Entry point for launching an IPython kernel.\n"
     ]
    }
   ],
   "source": [
    "complete_df2['Difference'] = complete_df2['Close'] - complete_df2['Predictions'] "
   ]
  },
  {
   "cell_type": "code",
   "execution_count": 59,
   "id": "24d01c44",
   "metadata": {},
   "outputs": [
    {
     "data": {
      "text/html": [
       "<div>\n",
       "<style scoped>\n",
       "    .dataframe tbody tr th:only-of-type {\n",
       "        vertical-align: middle;\n",
       "    }\n",
       "\n",
       "    .dataframe tbody tr th {\n",
       "        vertical-align: top;\n",
       "    }\n",
       "\n",
       "    .dataframe thead th {\n",
       "        text-align: right;\n",
       "    }\n",
       "</style>\n",
       "<table border=\"1\" class=\"dataframe\">\n",
       "  <thead>\n",
       "    <tr style=\"text-align: right;\">\n",
       "      <th></th>\n",
       "      <th>Close</th>\n",
       "      <th>Predictions</th>\n",
       "      <th>Difference</th>\n",
       "    </tr>\n",
       "    <tr>\n",
       "      <th>Date</th>\n",
       "      <th></th>\n",
       "      <th></th>\n",
       "      <th></th>\n",
       "    </tr>\n",
       "  </thead>\n",
       "  <tbody>\n",
       "    <tr>\n",
       "      <th>2020-01-22</th>\n",
       "      <td>45.470001</td>\n",
       "      <td>46.627213</td>\n",
       "      <td>-1.157212</td>\n",
       "    </tr>\n",
       "    <tr>\n",
       "      <th>2020-01-23</th>\n",
       "      <td>45.419998</td>\n",
       "      <td>46.633110</td>\n",
       "      <td>-1.213112</td>\n",
       "    </tr>\n",
       "    <tr>\n",
       "      <th>2020-01-24</th>\n",
       "      <td>44.900002</td>\n",
       "      <td>46.635014</td>\n",
       "      <td>-1.735012</td>\n",
       "    </tr>\n",
       "    <tr>\n",
       "      <th>2020-01-27</th>\n",
       "      <td>44.470001</td>\n",
       "      <td>46.623531</td>\n",
       "      <td>-2.153530</td>\n",
       "    </tr>\n",
       "    <tr>\n",
       "      <th>2020-01-28</th>\n",
       "      <td>44.720001</td>\n",
       "      <td>46.594402</td>\n",
       "      <td>-1.874401</td>\n",
       "    </tr>\n",
       "    <tr>\n",
       "      <th>...</th>\n",
       "      <td>...</td>\n",
       "      <td>...</td>\n",
       "      <td>...</td>\n",
       "    </tr>\n",
       "    <tr>\n",
       "      <th>2022-08-16</th>\n",
       "      <td>74.349998</td>\n",
       "      <td>57.972523</td>\n",
       "      <td>16.377475</td>\n",
       "    </tr>\n",
       "    <tr>\n",
       "      <th>2022-08-17</th>\n",
       "      <td>72.230003</td>\n",
       "      <td>58.337128</td>\n",
       "      <td>13.892875</td>\n",
       "    </tr>\n",
       "    <tr>\n",
       "      <th>2022-08-18</th>\n",
       "      <td>71.720001</td>\n",
       "      <td>58.682907</td>\n",
       "      <td>13.037094</td>\n",
       "    </tr>\n",
       "    <tr>\n",
       "      <th>2022-08-19</th>\n",
       "      <td>69.419998</td>\n",
       "      <td>58.992912</td>\n",
       "      <td>10.427086</td>\n",
       "    </tr>\n",
       "    <tr>\n",
       "      <th>2022-08-22</th>\n",
       "      <td>67.230003</td>\n",
       "      <td>59.222313</td>\n",
       "      <td>8.007690</td>\n",
       "    </tr>\n",
       "  </tbody>\n",
       "</table>\n",
       "<p>652 rows × 3 columns</p>\n",
       "</div>"
      ],
      "text/plain": [
       "                Close  Predictions  Difference\n",
       "Date                                          \n",
       "2020-01-22  45.470001    46.627213   -1.157212\n",
       "2020-01-23  45.419998    46.633110   -1.213112\n",
       "2020-01-24  44.900002    46.635014   -1.735012\n",
       "2020-01-27  44.470001    46.623531   -2.153530\n",
       "2020-01-28  44.720001    46.594402   -1.874401\n",
       "...               ...          ...         ...\n",
       "2022-08-16  74.349998    57.972523   16.377475\n",
       "2022-08-17  72.230003    58.337128   13.892875\n",
       "2022-08-18  71.720001    58.682907   13.037094\n",
       "2022-08-19  69.419998    58.992912   10.427086\n",
       "2022-08-22  67.230003    59.222313    8.007690\n",
       "\n",
       "[652 rows x 3 columns]"
      ]
     },
     "execution_count": 59,
     "metadata": {},
     "output_type": "execute_result"
    }
   ],
   "source": [
    "complete_df2.loc[~(complete_df2==0).all(axis=1)]"
   ]
  },
  {
   "cell_type": "code",
   "execution_count": 27,
   "id": "58a8b353",
   "metadata": {},
   "outputs": [],
   "source": [
    "# complete_df2.to_csv('AP_WMT.csv', index=False)"
   ]
  },
  {
   "cell_type": "code",
   "execution_count": 60,
   "id": "f1f79e18",
   "metadata": {},
   "outputs": [],
   "source": [
    "complete_df2.to_csv('AP_XRT.csv', index=False)"
   ]
  },
  {
   "cell_type": "code",
   "execution_count": null,
   "id": "dc5fa82c",
   "metadata": {},
   "outputs": [],
   "source": []
  }
 ],
 "metadata": {
  "kernelspec": {
   "display_name": "mlenv",
   "language": "python",
   "name": "mlenv"
  },
  "language_info": {
   "codemirror_mode": {
    "name": "ipython",
    "version": 3
   },
   "file_extension": ".py",
   "mimetype": "text/x-python",
   "name": "python",
   "nbconvert_exporter": "python",
   "pygments_lexer": "ipython3",
   "version": "3.7.13"
  }
 },
 "nbformat": 4,
 "nbformat_minor": 5
}
