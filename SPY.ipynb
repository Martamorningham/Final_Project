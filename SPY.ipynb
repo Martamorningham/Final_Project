{
 "cells": [
  {
   "cell_type": "code",
   "execution_count": null,
   "id": "1a48ccaa",
   "metadata": {},
   "outputs": [],
   "source": [
    "#SPY  ticker  S&P 500"
   ]
  },
  {
   "cell_type": "code",
   "execution_count": 2,
   "id": "72a6944a",
   "metadata": {},
   "outputs": [],
   "source": [
    "import numpy as np\n",
    "import pandas as pd\n",
    "import matplotlib.pyplot as plt\n",
    "from keras.models import Sequential\n",
    "from keras.layers import Dense, LSTM\n",
    "import math\n",
    "from sklearn.preprocessing import MinMaxScaler\n",
    "\n",
    "from yahoo_fin.stock_info import get_data"
   ]
  },
  {
   "cell_type": "code",
   "execution_count": null,
   "id": "6e2fa488",
   "metadata": {},
   "outputs": [],
   "source": [
    "#interval: {“1d”, “1wk”, “1mo”}. Refers to the interval to sample the data: “1d”= daily, “1wk”= weekly, “1mo”=monthly."
   ]
  },
  {
   "cell_type": "code",
   "execution_count": 3,
   "id": "f4dc68e5",
   "metadata": {},
   "outputs": [
    {
     "data": {
      "text/html": [
       "<div>\n",
       "<style scoped>\n",
       "    .dataframe tbody tr th:only-of-type {\n",
       "        vertical-align: middle;\n",
       "    }\n",
       "\n",
       "    .dataframe tbody tr th {\n",
       "        vertical-align: top;\n",
       "    }\n",
       "\n",
       "    .dataframe thead th {\n",
       "        text-align: right;\n",
       "    }\n",
       "</style>\n",
       "<table border=\"1\" class=\"dataframe\">\n",
       "  <thead>\n",
       "    <tr style=\"text-align: right;\">\n",
       "      <th></th>\n",
       "      <th>date</th>\n",
       "      <th>open</th>\n",
       "      <th>high</th>\n",
       "      <th>low</th>\n",
       "      <th>close</th>\n",
       "      <th>adjclose</th>\n",
       "      <th>volume</th>\n",
       "      <th>ticker</th>\n",
       "    </tr>\n",
       "  </thead>\n",
       "  <tbody>\n",
       "    <tr>\n",
       "      <th>0</th>\n",
       "      <td>2010-12-06</td>\n",
       "      <td>122.629997</td>\n",
       "      <td>123.040001</td>\n",
       "      <td>122.500000</td>\n",
       "      <td>122.760002</td>\n",
       "      <td>98.031464</td>\n",
       "      <td>103050500</td>\n",
       "      <td>SPY</td>\n",
       "    </tr>\n",
       "    <tr>\n",
       "      <th>1</th>\n",
       "      <td>2010-12-07</td>\n",
       "      <td>123.940002</td>\n",
       "      <td>124.010002</td>\n",
       "      <td>122.760002</td>\n",
       "      <td>122.830002</td>\n",
       "      <td>98.087341</td>\n",
       "      <td>206581000</td>\n",
       "      <td>SPY</td>\n",
       "    </tr>\n",
       "    <tr>\n",
       "      <th>2</th>\n",
       "      <td>2010-12-08</td>\n",
       "      <td>122.980003</td>\n",
       "      <td>123.379997</td>\n",
       "      <td>122.410004</td>\n",
       "      <td>123.279999</td>\n",
       "      <td>98.446701</td>\n",
       "      <td>138019200</td>\n",
       "      <td>SPY</td>\n",
       "    </tr>\n",
       "    <tr>\n",
       "      <th>3</th>\n",
       "      <td>2010-12-09</td>\n",
       "      <td>123.970001</td>\n",
       "      <td>124.019997</td>\n",
       "      <td>123.150002</td>\n",
       "      <td>123.760002</td>\n",
       "      <td>98.830002</td>\n",
       "      <td>123705100</td>\n",
       "      <td>SPY</td>\n",
       "    </tr>\n",
       "    <tr>\n",
       "      <th>4</th>\n",
       "      <td>2010-12-10</td>\n",
       "      <td>124.139999</td>\n",
       "      <td>124.599998</td>\n",
       "      <td>123.730003</td>\n",
       "      <td>124.480003</td>\n",
       "      <td>99.404984</td>\n",
       "      <td>117571700</td>\n",
       "      <td>SPY</td>\n",
       "    </tr>\n",
       "    <tr>\n",
       "      <th>...</th>\n",
       "      <td>...</td>\n",
       "      <td>...</td>\n",
       "      <td>...</td>\n",
       "      <td>...</td>\n",
       "      <td>...</td>\n",
       "      <td>...</td>\n",
       "      <td>...</td>\n",
       "      <td>...</td>\n",
       "    </tr>\n",
       "    <tr>\n",
       "      <th>2908</th>\n",
       "      <td>2022-06-27</td>\n",
       "      <td>391.049988</td>\n",
       "      <td>391.359985</td>\n",
       "      <td>387.440002</td>\n",
       "      <td>388.589996</td>\n",
       "      <td>388.589996</td>\n",
       "      <td>66009600</td>\n",
       "      <td>SPY</td>\n",
       "    </tr>\n",
       "    <tr>\n",
       "      <th>2909</th>\n",
       "      <td>2022-06-28</td>\n",
       "      <td>390.230011</td>\n",
       "      <td>393.160004</td>\n",
       "      <td>380.529999</td>\n",
       "      <td>380.649994</td>\n",
       "      <td>380.649994</td>\n",
       "      <td>86548900</td>\n",
       "      <td>SPY</td>\n",
       "    </tr>\n",
       "    <tr>\n",
       "      <th>2910</th>\n",
       "      <td>2022-06-29</td>\n",
       "      <td>381.230011</td>\n",
       "      <td>382.269989</td>\n",
       "      <td>378.420013</td>\n",
       "      <td>380.339996</td>\n",
       "      <td>380.339996</td>\n",
       "      <td>65676000</td>\n",
       "      <td>SPY</td>\n",
       "    </tr>\n",
       "    <tr>\n",
       "      <th>2911</th>\n",
       "      <td>2022-06-30</td>\n",
       "      <td>376.239990</td>\n",
       "      <td>380.660004</td>\n",
       "      <td>372.559998</td>\n",
       "      <td>377.250000</td>\n",
       "      <td>377.250000</td>\n",
       "      <td>112508300</td>\n",
       "      <td>SPY</td>\n",
       "    </tr>\n",
       "    <tr>\n",
       "      <th>2912</th>\n",
       "      <td>2022-07-01</td>\n",
       "      <td>376.559998</td>\n",
       "      <td>381.700012</td>\n",
       "      <td>373.799988</td>\n",
       "      <td>381.239990</td>\n",
       "      <td>381.239990</td>\n",
       "      <td>74839700</td>\n",
       "      <td>SPY</td>\n",
       "    </tr>\n",
       "  </tbody>\n",
       "</table>\n",
       "<p>2913 rows × 8 columns</p>\n",
       "</div>"
      ],
      "text/plain": [
       "           date        open        high         low       close    adjclose  \\\n",
       "0    2010-12-06  122.629997  123.040001  122.500000  122.760002   98.031464   \n",
       "1    2010-12-07  123.940002  124.010002  122.760002  122.830002   98.087341   \n",
       "2    2010-12-08  122.980003  123.379997  122.410004  123.279999   98.446701   \n",
       "3    2010-12-09  123.970001  124.019997  123.150002  123.760002   98.830002   \n",
       "4    2010-12-10  124.139999  124.599998  123.730003  124.480003   99.404984   \n",
       "...         ...         ...         ...         ...         ...         ...   \n",
       "2908 2022-06-27  391.049988  391.359985  387.440002  388.589996  388.589996   \n",
       "2909 2022-06-28  390.230011  393.160004  380.529999  380.649994  380.649994   \n",
       "2910 2022-06-29  381.230011  382.269989  378.420013  380.339996  380.339996   \n",
       "2911 2022-06-30  376.239990  380.660004  372.559998  377.250000  377.250000   \n",
       "2912 2022-07-01  376.559998  381.700012  373.799988  381.239990  381.239990   \n",
       "\n",
       "         volume ticker  \n",
       "0     103050500    SPY  \n",
       "1     206581000    SPY  \n",
       "2     138019200    SPY  \n",
       "3     123705100    SPY  \n",
       "4     117571700    SPY  \n",
       "...         ...    ...  \n",
       "2908   66009600    SPY  \n",
       "2909   86548900    SPY  \n",
       "2910   65676000    SPY  \n",
       "2911  112508300    SPY  \n",
       "2912   74839700    SPY  \n",
       "\n",
       "[2913 rows x 8 columns]"
      ]
     },
     "execution_count": 3,
     "metadata": {},
     "output_type": "execute_result"
    }
   ],
   "source": [
    "api_df= get_data(\"spy\", start_date=\"12/04/2010\", end_date=\"07/04/2022\", index_as_date = False, interval=\"1d\")\n",
    "api_df"
   ]
  },
  {
   "cell_type": "code",
   "execution_count": 4,
   "id": "a507c53a",
   "metadata": {},
   "outputs": [
    {
     "name": "stdout",
     "output_type": "stream",
     "text": [
      "              open         high          low        close     adjclose  \\\n",
      "count  2913.000000  2913.000000  2913.000000  2913.000000  2913.000000   \n",
      "mean    243.528163   244.816334   242.099979   243.550573   224.588176   \n",
      "std      92.772372    93.333788    92.101348    92.748134    99.523727   \n",
      "min     108.349998   112.580002   107.430000   109.930000    89.531166   \n",
      "25%     174.919998   175.929993   174.429993   175.169998   149.112488   \n",
      "50%     216.309998   216.880005   215.360001   216.339996   194.792480   \n",
      "75%     290.920013   291.690002   289.410004   290.690002   275.643311   \n",
      "max     479.220001   479.980011   476.059998   477.709991   474.182190   \n",
      "\n",
      "             volume  \n",
      "count  2.913000e+03  \n",
      "mean   1.119149e+08  \n",
      "std    6.515635e+07  \n",
      "min    2.027000e+07  \n",
      "25%    6.824400e+07  \n",
      "50%    9.555530e+07  \n",
      "75%    1.358350e+08  \n",
      "max    7.178287e+08  \n"
     ]
    }
   ],
   "source": [
    "#print the summary \n",
    "print(api_df.describe())"
   ]
  },
  {
   "cell_type": "code",
   "execution_count": 5,
   "id": "a48d4e6a",
   "metadata": {},
   "outputs": [],
   "source": [
    "#prep the data \n",
    "api_df.set_index(pd.DatetimeIndex(api_df['date']), inplace=True)"
   ]
  },
  {
   "cell_type": "code",
   "execution_count": 6,
   "id": "0f80dd1b",
   "metadata": {},
   "outputs": [
    {
     "data": {
      "text/html": [
       "<div>\n",
       "<style scoped>\n",
       "    .dataframe tbody tr th:only-of-type {\n",
       "        vertical-align: middle;\n",
       "    }\n",
       "\n",
       "    .dataframe tbody tr th {\n",
       "        vertical-align: top;\n",
       "    }\n",
       "\n",
       "    .dataframe thead th {\n",
       "        text-align: right;\n",
       "    }\n",
       "</style>\n",
       "<table border=\"1\" class=\"dataframe\">\n",
       "  <thead>\n",
       "    <tr style=\"text-align: right;\">\n",
       "      <th></th>\n",
       "      <th>close</th>\n",
       "    </tr>\n",
       "    <tr>\n",
       "      <th>date</th>\n",
       "      <th></th>\n",
       "    </tr>\n",
       "  </thead>\n",
       "  <tbody>\n",
       "    <tr>\n",
       "      <th>2010-12-06</th>\n",
       "      <td>122.760002</td>\n",
       "    </tr>\n",
       "    <tr>\n",
       "      <th>2010-12-07</th>\n",
       "      <td>122.830002</td>\n",
       "    </tr>\n",
       "    <tr>\n",
       "      <th>2010-12-08</th>\n",
       "      <td>123.279999</td>\n",
       "    </tr>\n",
       "    <tr>\n",
       "      <th>2010-12-09</th>\n",
       "      <td>123.760002</td>\n",
       "    </tr>\n",
       "    <tr>\n",
       "      <th>2010-12-10</th>\n",
       "      <td>124.480003</td>\n",
       "    </tr>\n",
       "    <tr>\n",
       "      <th>...</th>\n",
       "      <td>...</td>\n",
       "    </tr>\n",
       "    <tr>\n",
       "      <th>2022-06-27</th>\n",
       "      <td>388.589996</td>\n",
       "    </tr>\n",
       "    <tr>\n",
       "      <th>2022-06-28</th>\n",
       "      <td>380.649994</td>\n",
       "    </tr>\n",
       "    <tr>\n",
       "      <th>2022-06-29</th>\n",
       "      <td>380.339996</td>\n",
       "    </tr>\n",
       "    <tr>\n",
       "      <th>2022-06-30</th>\n",
       "      <td>377.250000</td>\n",
       "    </tr>\n",
       "    <tr>\n",
       "      <th>2022-07-01</th>\n",
       "      <td>381.239990</td>\n",
       "    </tr>\n",
       "  </tbody>\n",
       "</table>\n",
       "<p>2913 rows × 1 columns</p>\n",
       "</div>"
      ],
      "text/plain": [
       "                 close\n",
       "date                  \n",
       "2010-12-06  122.760002\n",
       "2010-12-07  122.830002\n",
       "2010-12-08  123.279999\n",
       "2010-12-09  123.760002\n",
       "2010-12-10  124.480003\n",
       "...                ...\n",
       "2022-06-27  388.589996\n",
       "2022-06-28  380.649994\n",
       "2022-06-29  380.339996\n",
       "2022-06-30  377.250000\n",
       "2022-07-01  381.239990\n",
       "\n",
       "[2913 rows x 1 columns]"
      ]
     },
     "execution_count": 6,
     "metadata": {},
     "output_type": "execute_result"
    }
   ],
   "source": [
    "#Keep the close for 2014-19\n",
    "api_df = api_df[['close']]\n",
    "api_df"
   ]
  },
  {
   "cell_type": "code",
   "execution_count": 7,
   "id": "3132a6d8",
   "metadata": {},
   "outputs": [
    {
     "name": "stdout",
     "output_type": "stream",
     "text": [
      "2022-07-01 00:00:00\n"
     ]
    }
   ],
   "source": [
    "print (api_df.index.max())"
   ]
  },
  {
   "cell_type": "code",
   "execution_count": 8,
   "id": "2e28e3cb",
   "metadata": {},
   "outputs": [],
   "source": [
    "data = api_df.filter(['close'])\n",
    "dataset = data.values\n",
    "\n",
    "scaler = MinMaxScaler(feature_range=(0, 1))\n",
    "scaled_data = scaler.fit_transform(dataset)\n",
    "\n",
    "training_data_len =math.ceil(len(dataset) *.7)\n",
    "train_data =scaled_data[0:training_data_len , : ]\n",
    "\n",
    "\n",
    "X_train_data = []\n",
    "y_train_data = []\n",
    "\n",
    "for i in range(1500,len(train_data)):\n",
    "    X_train_data=list(X_train_data)\n",
    "    y_train_data=list(y_train_data)\n",
    "    X_train_data.append(train_data[i-1500:i,0])\n",
    "    y_train_data.append(train_data[i,0])\n",
    "    \n",
    "    X_train_data1, y_train_data1 = np.array(X_train_data), np.array(y_train_data)\n",
    "    \n",
    "    X_train_data2 = np.reshape(X_train_data1,(X_train_data1.shape[0],X_train_data1.shape[1],1))\n",
    "\n",
    "   \n",
    "    \n",
    "#1500 = number of days you can change it accordingly. \n",
    "\n",
    "# There will be a total of 60 values, 1st column will contain an index of 0-59\n",
    "# The second will have an index of 1-60 ++_\n",
    "# the y_train has the 60 st value on c1 and c2 will have 61++"
   ]
  },
  {
   "cell_type": "code",
   "execution_count": 9,
   "id": "382af0b5",
   "metadata": {},
   "outputs": [],
   "source": [
    "#Build the LSTM MODEL \n",
    "\n",
    "model = Sequential()\n",
    "\n",
    "model.add(LSTM(units=50, return_sequences=True,input_shape=(X_train_data2.shape[1],1)))\n",
    "\n",
    "model.add(LSTM(units=50, return_sequences=False))\n",
    "\n",
    "model.add(Dense(units=25))\n",
    "\n",
    "model.add(Dense(units=1))"
   ]
  },
  {
   "cell_type": "code",
   "execution_count": 10,
   "id": "929127d9",
   "metadata": {},
   "outputs": [
    {
     "name": "stdout",
     "output_type": "stream",
     "text": [
      "540/540 [==============================] - 334s 594ms/step - loss: 0.0012\n"
     ]
    },
    {
     "data": {
      "text/plain": [
       "<keras.callbacks.History at 0x1cf22c19888>"
      ]
     },
     "execution_count": 10,
     "metadata": {},
     "output_type": "execute_result"
    }
   ],
   "source": [
    "model.compile(optimizer='adam', loss='mean_squared_error')\n",
    "\n",
    "model.fit(X_train_data2, y_train_data1, batch_size=1, epochs=1)"
   ]
  },
  {
   "cell_type": "code",
   "execution_count": 11,
   "id": "759377a8",
   "metadata": {},
   "outputs": [
    {
     "name": "stdout",
     "output_type": "stream",
     "text": [
      "28/28 [==============================] - 10s 319ms/step\n"
     ]
    }
   ],
   "source": [
    "test_data = scaled_data[training_data_len -1500: , : ]\n",
    "\n",
    "X_test = []\n",
    "\n",
    "y_test = dataset[training_data_len : , : ]\n",
    "\n",
    "for i in range(1500,len(test_data)):\n",
    "    \n",
    "    X_test.append(test_data[i-1500:i,0])\n",
    "\n",
    "X_test = np.array(X_test)\n",
    "\n",
    "X_test = np.reshape(X_test,(X_test.shape[0],X_test.shape[1],1))\n",
    "\n",
    "predictions = model.predict(X_test)\n",
    "\n",
    "predictions = scaler.inverse_transform(predictions)"
   ]
  },
  {
   "cell_type": "code",
   "execution_count": 12,
   "id": "0ad3198e",
   "metadata": {},
   "outputs": [],
   "source": [
    "# Error calculation where RMSE = root mean squared error \n",
    "\n",
    "rmse=np.sqrt(np.mean(((predictions-y_test)**2)))"
   ]
  },
  {
   "cell_type": "code",
   "execution_count": 13,
   "id": "d6e6f8ff",
   "metadata": {},
   "outputs": [
    {
     "name": "stdout",
     "output_type": "stream",
     "text": [
      "13.761562930155131\n"
     ]
    }
   ],
   "source": [
    "print(rmse)"
   ]
  },
  {
   "cell_type": "code",
   "execution_count": 16,
   "id": "282e963c",
   "metadata": {},
   "outputs": [
    {
     "name": "stderr",
     "output_type": "stream",
     "text": [
      "C:\\Users\\rctay\\anaconda3\\envs\\mlenv\\lib\\site-packages\\ipykernel_launcher.py:7: SettingWithCopyWarning: \n",
      "A value is trying to be set on a copy of a slice from a DataFrame.\n",
      "Try using .loc[row_indexer,col_indexer] = value instead\n",
      "\n",
      "See the caveats in the documentation: https://pandas.pydata.org/pandas-docs/stable/user_guide/indexing.html#returning-a-view-versus-a-copy\n",
      "  import sys\n"
     ]
    },
    {
     "data": {
      "image/png": "[encoded data removed]",
      "text/plain": [
       "<Figure size 432x288 with 1 Axes>"
      ]
     },
     "metadata": {
      "needs_background": "light"
     },
     "output_type": "display_data"
    }
   ],
   "source": [
    "#Predict and visualize \n",
    "\n",
    "train = api_df[:training_data_len]\n",
    "\n",
    "valid = api_df[training_data_len:]\n",
    "\n",
    "valid['Predictions'] = predictions\n",
    "\n",
    "plt.title('Model')\n",
    "\n",
    "plt.xlabel('Date')\n",
    "\n",
    "plt.ylabel('close')\n",
    "\n",
    "plt.plot(train['close'])\n",
    "\n",
    "plt.plot(valid[['close', 'Predictions']])\n",
    "\n",
    "plt.legend(['Train', 'Val', 'Predictions'], loc='lower right')\n",
    "\n",
    "plt.show()"
   ]
  },
  {
   "cell_type": "code",
   "execution_count": 17,
   "id": "9bee5c96",
   "metadata": {},
   "outputs": [
    {
     "data": {
      "text/plain": [
       "<AxesSubplot:xlabel='date'>"
      ]
     },
     "execution_count": 17,
     "metadata": {},
     "output_type": "execute_result"
    },
    {
     "data": {
      "image/png": "[encoded data removed]",
      "text/plain": [
       "<Figure size 432x288 with 1 Axes>"
      ]
     },
     "metadata": {
      "needs_background": "light"
     },
     "output_type": "display_data"
    }
   ],
   "source": [
    "api_df.plot()"
   ]
  },
  {
   "cell_type": "code",
   "execution_count": null,
   "id": "72e3c23b",
   "metadata": {},
   "outputs": [],
   "source": []
  }
 ],
 "metadata": {
  "kernelspec": {
   "display_name": "mlenv",
   "language": "python",
   "name": "mlenv"
  },
  "language_info": {
   "codemirror_mode": {
    "name": "ipython",
    "version": 3
   },
   "file_extension": ".py",
   "mimetype": "text/x-python",
   "name": "python",
   "nbconvert_exporter": "python",
   "pygments_lexer": "ipython3",
   "version": "3.7.13"
  }
 },
 "nbformat": 4,
 "nbformat_minor": 5
}
