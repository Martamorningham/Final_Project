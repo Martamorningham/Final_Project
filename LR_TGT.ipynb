{
 "cells": [
  {
   "cell_type": "code",
   "execution_count": 2,
   "id": "38be4bc1",
   "metadata": {},
   "outputs": [],
   "source": [
    "import pandas as pd \n",
    "import pandas as pd\n",
    "import numpy as np\n",
    "import matplotlib.pyplot as plt\n",
    "import pandas_ta #moving avg\n",
    "from sklearn.model_selection import train_test_split\n",
    "from sklearn.linear_model import LinearRegression\n",
    "from sklearn.metrics import mean_squared_error, r2_score, mean_absolute_error"
   ]
  },
  {
   "cell_type": "code",
   "execution_count": 7,
   "id": "a6cef13d",
   "metadata": {},
   "outputs": [
    {
     "ename": "FileNotFoundError",
     "evalue": "[Errno 2] No such file or directory: '..Resources/TGT_14_19.csv'",
     "output_type": "error",
     "traceback": [
      "\u001b[0;31m---------------------------------------------------------------------------\u001b[0m",
      "\u001b[0;31mFileNotFoundError\u001b[0m                         Traceback (most recent call last)",
      "\u001b[0;32m/var/folders/qh/sfq990ys7p998_z3t2wwb7940000gn/T/ipykernel_10888/1259957049.py\u001b[0m in \u001b[0;36m<module>\u001b[0;34m\u001b[0m\n\u001b[1;32m      1\u001b[0m \u001b[0;31m#load the data\u001b[0m\u001b[0;34m\u001b[0m\u001b[0;34m\u001b[0m\u001b[0;34m\u001b[0m\u001b[0m\n\u001b[0;32m----> 2\u001b[0;31m \u001b[0mtgt_df\u001b[0m \u001b[0;34m=\u001b[0m \u001b[0mpd\u001b[0m\u001b[0;34m.\u001b[0m\u001b[0mread_csv\u001b[0m\u001b[0;34m(\u001b[0m\u001b[0;34m'..Resources/TGT_14_19.csv'\u001b[0m\u001b[0;34m)\u001b[0m\u001b[0;34m\u001b[0m\u001b[0;34m\u001b[0m\u001b[0m\n\u001b[0m",
      "\u001b[0;32m~/opt/anaconda3/envs/mlenv/lib/python3.7/site-packages/pandas/util/_decorators.py\u001b[0m in \u001b[0;36mwrapper\u001b[0;34m(*args, **kwargs)\u001b[0m\n\u001b[1;32m    309\u001b[0m                     \u001b[0mstacklevel\u001b[0m\u001b[0;34m=\u001b[0m\u001b[0mstacklevel\u001b[0m\u001b[0;34m,\u001b[0m\u001b[0;34m\u001b[0m\u001b[0;34m\u001b[0m\u001b[0m\n\u001b[1;32m    310\u001b[0m                 )\n\u001b[0;32m--> 311\u001b[0;31m             \u001b[0;32mreturn\u001b[0m \u001b[0mfunc\u001b[0m\u001b[0;34m(\u001b[0m\u001b[0;34m*\u001b[0m\u001b[0margs\u001b[0m\u001b[0;34m,\u001b[0m \u001b[0;34m**\u001b[0m\u001b[0mkwargs\u001b[0m\u001b[0;34m)\u001b[0m\u001b[0;34m\u001b[0m\u001b[0;34m\u001b[0m\u001b[0m\n\u001b[0m\u001b[1;32m    312\u001b[0m \u001b[0;34m\u001b[0m\u001b[0m\n\u001b[1;32m    313\u001b[0m         \u001b[0;32mreturn\u001b[0m \u001b[0mwrapper\u001b[0m\u001b[0;34m\u001b[0m\u001b[0;34m\u001b[0m\u001b[0m\n",
      "\u001b[0;32m~/opt/anaconda3/envs/mlenv/lib/python3.7/site-packages/pandas/io/parsers/readers.py\u001b[0m in \u001b[0;36mread_csv\u001b[0;34m(filepath_or_buffer, sep, delimiter, header, names, index_col, usecols, squeeze, prefix, mangle_dupe_cols, dtype, engine, converters, true_values, false_values, skipinitialspace, skiprows, skipfooter, nrows, na_values, keep_default_na, na_filter, verbose, skip_blank_lines, parse_dates, infer_datetime_format, keep_date_col, date_parser, dayfirst, cache_dates, iterator, chunksize, compression, thousands, decimal, lineterminator, quotechar, quoting, doublequote, escapechar, comment, encoding, encoding_errors, dialect, error_bad_lines, warn_bad_lines, on_bad_lines, delim_whitespace, low_memory, memory_map, float_precision, storage_options)\u001b[0m\n\u001b[1;32m    584\u001b[0m     \u001b[0mkwds\u001b[0m\u001b[0;34m.\u001b[0m\u001b[0mupdate\u001b[0m\u001b[0;34m(\u001b[0m\u001b[0mkwds_defaults\u001b[0m\u001b[0;34m)\u001b[0m\u001b[0;34m\u001b[0m\u001b[0;34m\u001b[0m\u001b[0m\n\u001b[1;32m    585\u001b[0m \u001b[0;34m\u001b[0m\u001b[0m\n\u001b[0;32m--> 586\u001b[0;31m     \u001b[0;32mreturn\u001b[0m \u001b[0m_read\u001b[0m\u001b[0;34m(\u001b[0m\u001b[0mfilepath_or_buffer\u001b[0m\u001b[0;34m,\u001b[0m \u001b[0mkwds\u001b[0m\u001b[0;34m)\u001b[0m\u001b[0;34m\u001b[0m\u001b[0;34m\u001b[0m\u001b[0m\n\u001b[0m\u001b[1;32m    587\u001b[0m \u001b[0;34m\u001b[0m\u001b[0m\n\u001b[1;32m    588\u001b[0m \u001b[0;34m\u001b[0m\u001b[0m\n",
      "\u001b[0;32m~/opt/anaconda3/envs/mlenv/lib/python3.7/site-packages/pandas/io/parsers/readers.py\u001b[0m in \u001b[0;36m_read\u001b[0;34m(filepath_or_buffer, kwds)\u001b[0m\n\u001b[1;32m    480\u001b[0m \u001b[0;34m\u001b[0m\u001b[0m\n\u001b[1;32m    481\u001b[0m     \u001b[0;31m# Create the parser.\u001b[0m\u001b[0;34m\u001b[0m\u001b[0;34m\u001b[0m\u001b[0;34m\u001b[0m\u001b[0m\n\u001b[0;32m--> 482\u001b[0;31m     \u001b[0mparser\u001b[0m \u001b[0;34m=\u001b[0m \u001b[0mTextFileReader\u001b[0m\u001b[0;34m(\u001b[0m\u001b[0mfilepath_or_buffer\u001b[0m\u001b[0;34m,\u001b[0m \u001b[0;34m**\u001b[0m\u001b[0mkwds\u001b[0m\u001b[0;34m)\u001b[0m\u001b[0;34m\u001b[0m\u001b[0;34m\u001b[0m\u001b[0m\n\u001b[0m\u001b[1;32m    483\u001b[0m \u001b[0;34m\u001b[0m\u001b[0m\n\u001b[1;32m    484\u001b[0m     \u001b[0;32mif\u001b[0m \u001b[0mchunksize\u001b[0m \u001b[0;32mor\u001b[0m \u001b[0miterator\u001b[0m\u001b[0;34m:\u001b[0m\u001b[0;34m\u001b[0m\u001b[0;34m\u001b[0m\u001b[0m\n",
      "\u001b[0;32m~/opt/anaconda3/envs/mlenv/lib/python3.7/site-packages/pandas/io/parsers/readers.py\u001b[0m in \u001b[0;36m__init__\u001b[0;34m(self, f, engine, **kwds)\u001b[0m\n\u001b[1;32m    809\u001b[0m             \u001b[0mself\u001b[0m\u001b[0;34m.\u001b[0m\u001b[0moptions\u001b[0m\u001b[0;34m[\u001b[0m\u001b[0;34m\"has_index_names\"\u001b[0m\u001b[0;34m]\u001b[0m \u001b[0;34m=\u001b[0m \u001b[0mkwds\u001b[0m\u001b[0;34m[\u001b[0m\u001b[0;34m\"has_index_names\"\u001b[0m\u001b[0;34m]\u001b[0m\u001b[0;34m\u001b[0m\u001b[0;34m\u001b[0m\u001b[0m\n\u001b[1;32m    810\u001b[0m \u001b[0;34m\u001b[0m\u001b[0m\n\u001b[0;32m--> 811\u001b[0;31m         \u001b[0mself\u001b[0m\u001b[0;34m.\u001b[0m\u001b[0m_engine\u001b[0m \u001b[0;34m=\u001b[0m \u001b[0mself\u001b[0m\u001b[0;34m.\u001b[0m\u001b[0m_make_engine\u001b[0m\u001b[0;34m(\u001b[0m\u001b[0mself\u001b[0m\u001b[0;34m.\u001b[0m\u001b[0mengine\u001b[0m\u001b[0;34m)\u001b[0m\u001b[0;34m\u001b[0m\u001b[0;34m\u001b[0m\u001b[0m\n\u001b[0m\u001b[1;32m    812\u001b[0m \u001b[0;34m\u001b[0m\u001b[0m\n\u001b[1;32m    813\u001b[0m     \u001b[0;32mdef\u001b[0m \u001b[0mclose\u001b[0m\u001b[0;34m(\u001b[0m\u001b[0mself\u001b[0m\u001b[0;34m)\u001b[0m\u001b[0;34m:\u001b[0m\u001b[0;34m\u001b[0m\u001b[0;34m\u001b[0m\u001b[0m\n",
      "\u001b[0;32m~/opt/anaconda3/envs/mlenv/lib/python3.7/site-packages/pandas/io/parsers/readers.py\u001b[0m in \u001b[0;36m_make_engine\u001b[0;34m(self, engine)\u001b[0m\n\u001b[1;32m   1038\u001b[0m             )\n\u001b[1;32m   1039\u001b[0m         \u001b[0;31m# error: Too many arguments for \"ParserBase\"\u001b[0m\u001b[0;34m\u001b[0m\u001b[0;34m\u001b[0m\u001b[0;34m\u001b[0m\u001b[0m\n\u001b[0;32m-> 1040\u001b[0;31m         \u001b[0;32mreturn\u001b[0m \u001b[0mmapping\u001b[0m\u001b[0;34m[\u001b[0m\u001b[0mengine\u001b[0m\u001b[0;34m]\u001b[0m\u001b[0;34m(\u001b[0m\u001b[0mself\u001b[0m\u001b[0;34m.\u001b[0m\u001b[0mf\u001b[0m\u001b[0;34m,\u001b[0m \u001b[0;34m**\u001b[0m\u001b[0mself\u001b[0m\u001b[0;34m.\u001b[0m\u001b[0moptions\u001b[0m\u001b[0;34m)\u001b[0m  \u001b[0;31m# type: ignore[call-arg]\u001b[0m\u001b[0;34m\u001b[0m\u001b[0;34m\u001b[0m\u001b[0m\n\u001b[0m\u001b[1;32m   1041\u001b[0m \u001b[0;34m\u001b[0m\u001b[0m\n\u001b[1;32m   1042\u001b[0m     \u001b[0;32mdef\u001b[0m \u001b[0m_failover_to_python\u001b[0m\u001b[0;34m(\u001b[0m\u001b[0mself\u001b[0m\u001b[0;34m)\u001b[0m\u001b[0;34m:\u001b[0m\u001b[0;34m\u001b[0m\u001b[0;34m\u001b[0m\u001b[0m\n",
      "\u001b[0;32m~/opt/anaconda3/envs/mlenv/lib/python3.7/site-packages/pandas/io/parsers/c_parser_wrapper.py\u001b[0m in \u001b[0;36m__init__\u001b[0;34m(self, src, **kwds)\u001b[0m\n\u001b[1;32m     49\u001b[0m \u001b[0;34m\u001b[0m\u001b[0m\n\u001b[1;32m     50\u001b[0m         \u001b[0;31m# open handles\u001b[0m\u001b[0;34m\u001b[0m\u001b[0;34m\u001b[0m\u001b[0;34m\u001b[0m\u001b[0m\n\u001b[0;32m---> 51\u001b[0;31m         \u001b[0mself\u001b[0m\u001b[0;34m.\u001b[0m\u001b[0m_open_handles\u001b[0m\u001b[0;34m(\u001b[0m\u001b[0msrc\u001b[0m\u001b[0;34m,\u001b[0m \u001b[0mkwds\u001b[0m\u001b[0;34m)\u001b[0m\u001b[0;34m\u001b[0m\u001b[0;34m\u001b[0m\u001b[0m\n\u001b[0m\u001b[1;32m     52\u001b[0m         \u001b[0;32massert\u001b[0m \u001b[0mself\u001b[0m\u001b[0;34m.\u001b[0m\u001b[0mhandles\u001b[0m \u001b[0;32mis\u001b[0m \u001b[0;32mnot\u001b[0m \u001b[0;32mNone\u001b[0m\u001b[0;34m\u001b[0m\u001b[0;34m\u001b[0m\u001b[0m\n\u001b[1;32m     53\u001b[0m \u001b[0;34m\u001b[0m\u001b[0m\n",
      "\u001b[0;32m~/opt/anaconda3/envs/mlenv/lib/python3.7/site-packages/pandas/io/parsers/base_parser.py\u001b[0m in \u001b[0;36m_open_handles\u001b[0;34m(self, src, kwds)\u001b[0m\n\u001b[1;32m    227\u001b[0m             \u001b[0mmemory_map\u001b[0m\u001b[0;34m=\u001b[0m\u001b[0mkwds\u001b[0m\u001b[0;34m.\u001b[0m\u001b[0mget\u001b[0m\u001b[0;34m(\u001b[0m\u001b[0;34m\"memory_map\"\u001b[0m\u001b[0;34m,\u001b[0m \u001b[0;32mFalse\u001b[0m\u001b[0;34m)\u001b[0m\u001b[0;34m,\u001b[0m\u001b[0;34m\u001b[0m\u001b[0;34m\u001b[0m\u001b[0m\n\u001b[1;32m    228\u001b[0m             \u001b[0mstorage_options\u001b[0m\u001b[0;34m=\u001b[0m\u001b[0mkwds\u001b[0m\u001b[0;34m.\u001b[0m\u001b[0mget\u001b[0m\u001b[0;34m(\u001b[0m\u001b[0;34m\"storage_options\"\u001b[0m\u001b[0;34m,\u001b[0m \u001b[0;32mNone\u001b[0m\u001b[0;34m)\u001b[0m\u001b[0;34m,\u001b[0m\u001b[0;34m\u001b[0m\u001b[0;34m\u001b[0m\u001b[0m\n\u001b[0;32m--> 229\u001b[0;31m             \u001b[0merrors\u001b[0m\u001b[0;34m=\u001b[0m\u001b[0mkwds\u001b[0m\u001b[0;34m.\u001b[0m\u001b[0mget\u001b[0m\u001b[0;34m(\u001b[0m\u001b[0;34m\"encoding_errors\"\u001b[0m\u001b[0;34m,\u001b[0m \u001b[0;34m\"strict\"\u001b[0m\u001b[0;34m)\u001b[0m\u001b[0;34m,\u001b[0m\u001b[0;34m\u001b[0m\u001b[0;34m\u001b[0m\u001b[0m\n\u001b[0m\u001b[1;32m    230\u001b[0m         )\n\u001b[1;32m    231\u001b[0m \u001b[0;34m\u001b[0m\u001b[0m\n",
      "\u001b[0;32m~/opt/anaconda3/envs/mlenv/lib/python3.7/site-packages/pandas/io/common.py\u001b[0m in \u001b[0;36mget_handle\u001b[0;34m(path_or_buf, mode, encoding, compression, memory_map, is_text, errors, storage_options)\u001b[0m\n\u001b[1;32m    705\u001b[0m                 \u001b[0mencoding\u001b[0m\u001b[0;34m=\u001b[0m\u001b[0mioargs\u001b[0m\u001b[0;34m.\u001b[0m\u001b[0mencoding\u001b[0m\u001b[0;34m,\u001b[0m\u001b[0;34m\u001b[0m\u001b[0;34m\u001b[0m\u001b[0m\n\u001b[1;32m    706\u001b[0m                 \u001b[0merrors\u001b[0m\u001b[0;34m=\u001b[0m\u001b[0merrors\u001b[0m\u001b[0;34m,\u001b[0m\u001b[0;34m\u001b[0m\u001b[0;34m\u001b[0m\u001b[0m\n\u001b[0;32m--> 707\u001b[0;31m                 \u001b[0mnewline\u001b[0m\u001b[0;34m=\u001b[0m\u001b[0;34m\"\"\u001b[0m\u001b[0;34m,\u001b[0m\u001b[0;34m\u001b[0m\u001b[0;34m\u001b[0m\u001b[0m\n\u001b[0m\u001b[1;32m    708\u001b[0m             )\n\u001b[1;32m    709\u001b[0m         \u001b[0;32melse\u001b[0m\u001b[0;34m:\u001b[0m\u001b[0;34m\u001b[0m\u001b[0;34m\u001b[0m\u001b[0m\n",
      "\u001b[0;31mFileNotFoundError\u001b[0m: [Errno 2] No such file or directory: '..Resources/TGT_14_19.csv'"
     ]
    }
   ],
   "source": [
    "#load the data \n",
    "tgt_df = pd.read_csv('..Resources/TGT_14_19.csv')"
   ]
  },
  {
   "cell_type": "code",
   "execution_count": 4,
   "id": "5fcd05ec",
   "metadata": {},
   "outputs": [
    {
     "ename": "NameError",
     "evalue": "name 'tgt_df' is not defined",
     "output_type": "error",
     "traceback": [
      "\u001b[0;31m---------------------------------------------------------------------------\u001b[0m",
      "\u001b[0;31mNameError\u001b[0m                                 Traceback (most recent call last)",
      "\u001b[0;32m/var/folders/qh/sfq990ys7p998_z3t2wwb7940000gn/T/ipykernel_10888/1295609176.py\u001b[0m in \u001b[0;36m<module>\u001b[0;34m\u001b[0m\n\u001b[0;32m----> 1\u001b[0;31m \u001b[0mtgt_df\u001b[0m\u001b[0;34m.\u001b[0m\u001b[0mhead\u001b[0m\u001b[0;34m(\u001b[0m\u001b[0;34m)\u001b[0m\u001b[0;34m\u001b[0m\u001b[0;34m\u001b[0m\u001b[0m\n\u001b[0m",
      "\u001b[0;31mNameError\u001b[0m: name 'tgt_df' is not defined"
     ]
    }
   ],
   "source": [
    "tgt_df.head()"
   ]
  },
  {
   "cell_type": "code",
   "execution_count": 5,
   "id": "29644f20",
   "metadata": {},
   "outputs": [
    {
     "ename": "NameError",
     "evalue": "name 'tgt_df' is not defined",
     "output_type": "error",
     "traceback": [
      "\u001b[0;31m---------------------------------------------------------------------------\u001b[0m",
      "\u001b[0;31mNameError\u001b[0m                                 Traceback (most recent call last)",
      "\u001b[0;32m/var/folders/qh/sfq990ys7p998_z3t2wwb7940000gn/T/ipykernel_10888/2181162032.py\u001b[0m in \u001b[0;36m<module>\u001b[0;34m\u001b[0m\n\u001b[1;32m      1\u001b[0m \u001b[0;31m#Inspect it\u001b[0m\u001b[0;34m\u001b[0m\u001b[0;34m\u001b[0m\u001b[0;34m\u001b[0m\u001b[0m\n\u001b[0;32m----> 2\u001b[0;31m \u001b[0mprint\u001b[0m\u001b[0;34m(\u001b[0m\u001b[0mtgt_df\u001b[0m\u001b[0;34m)\u001b[0m\u001b[0;34m\u001b[0m\u001b[0;34m\u001b[0m\u001b[0m\n\u001b[0m",
      "\u001b[0;31mNameError\u001b[0m: name 'tgt_df' is not defined"
     ]
    }
   ],
   "source": [
    "#Inspect it \n",
    "print(tgt_df)"
   ]
  },
  {
   "cell_type": "code",
   "execution_count": 5,
   "id": "cda06dd8",
   "metadata": {},
   "outputs": [
    {
     "name": "stdout",
     "output_type": "stream",
     "text": [
      "              Open         High          Low        Close    Adj Close  \\\n",
      "count  1258.000000  1258.000000  1258.000000  1258.000000  1258.000000   \n",
      "mean     69.704913    70.347234    69.038871    69.695159    59.230672   \n",
      "std       9.593444     9.667393     9.518827     9.576548     9.042972   \n",
      "min      50.230000    50.779999    48.560001    50.180000    43.049992   \n",
      "25%      60.564999    61.075000    60.007500    60.562501    50.101396   \n",
      "50%      70.890000    71.639999    70.055001    70.885002    60.231355   \n",
      "75%      77.377499    78.187502    76.725002    77.379999    65.459221   \n",
      "max      89.400002    90.389999    88.919998    89.260002    81.744019   \n",
      "\n",
      "             Volume  \n",
      "count  1.258000e+03  \n",
      "mean   5.781392e+06  \n",
      "std    3.621091e+06  \n",
      "min    1.097700e+06  \n",
      "25%    3.842800e+06  \n",
      "50%    4.876400e+06  \n",
      "75%    6.671425e+06  \n",
      "max    4.949170e+07  \n"
     ]
    }
   ],
   "source": [
    "#print the summary \n",
    "print(tgt_df.describe())"
   ]
  },
  {
   "cell_type": "code",
   "execution_count": 6,
   "id": "2917722f",
   "metadata": {},
   "outputs": [],
   "source": [
    "# load data set 2\n",
    "tgt_df2 = pd.read_csv('TGT_2020_2022.csv')"
   ]
  },
  {
   "cell_type": "code",
   "execution_count": 7,
   "id": "22e4aa61",
   "metadata": {},
   "outputs": [
    {
     "data": {
      "text/html": [
       "<div>\n",
       "<style scoped>\n",
       "    .dataframe tbody tr th:only-of-type {\n",
       "        vertical-align: middle;\n",
       "    }\n",
       "\n",
       "    .dataframe tbody tr th {\n",
       "        vertical-align: top;\n",
       "    }\n",
       "\n",
       "    .dataframe thead th {\n",
       "        text-align: right;\n",
       "    }\n",
       "</style>\n",
       "<table border=\"1\" class=\"dataframe\">\n",
       "  <thead>\n",
       "    <tr style=\"text-align: right;\">\n",
       "      <th></th>\n",
       "      <th>Date</th>\n",
       "      <th>Open</th>\n",
       "      <th>High</th>\n",
       "      <th>Low</th>\n",
       "      <th>Close</th>\n",
       "      <th>Adj Close</th>\n",
       "      <th>Volume</th>\n",
       "    </tr>\n",
       "  </thead>\n",
       "  <tbody>\n",
       "    <tr>\n",
       "      <th>0</th>\n",
       "      <td>2020-01-17</td>\n",
       "      <td>116.489998</td>\n",
       "      <td>117.790001</td>\n",
       "      <td>116.169998</td>\n",
       "      <td>116.919998</td>\n",
       "      <td>111.402405</td>\n",
       "      <td>7303800</td>\n",
       "    </tr>\n",
       "    <tr>\n",
       "      <th>1</th>\n",
       "      <td>2020-01-21</td>\n",
       "      <td>116.660004</td>\n",
       "      <td>116.660004</td>\n",
       "      <td>113.820000</td>\n",
       "      <td>114.040001</td>\n",
       "      <td>108.658325</td>\n",
       "      <td>8188000</td>\n",
       "    </tr>\n",
       "    <tr>\n",
       "      <th>2</th>\n",
       "      <td>2020-01-22</td>\n",
       "      <td>114.139999</td>\n",
       "      <td>115.080002</td>\n",
       "      <td>113.769997</td>\n",
       "      <td>113.900002</td>\n",
       "      <td>108.524925</td>\n",
       "      <td>5070600</td>\n",
       "    </tr>\n",
       "    <tr>\n",
       "      <th>3</th>\n",
       "      <td>2020-01-23</td>\n",
       "      <td>113.529999</td>\n",
       "      <td>115.570000</td>\n",
       "      <td>113.099998</td>\n",
       "      <td>115.529999</td>\n",
       "      <td>110.077995</td>\n",
       "      <td>4641500</td>\n",
       "    </tr>\n",
       "    <tr>\n",
       "      <th>4</th>\n",
       "      <td>2020-01-24</td>\n",
       "      <td>116.000000</td>\n",
       "      <td>116.000000</td>\n",
       "      <td>113.639999</td>\n",
       "      <td>114.320000</td>\n",
       "      <td>108.925110</td>\n",
       "      <td>4338900</td>\n",
       "    </tr>\n",
       "  </tbody>\n",
       "</table>\n",
       "</div>"
      ],
      "text/plain": [
       "         Date        Open        High         Low       Close   Adj Close  \\\n",
       "0  2020-01-17  116.489998  117.790001  116.169998  116.919998  111.402405   \n",
       "1  2020-01-21  116.660004  116.660004  113.820000  114.040001  108.658325   \n",
       "2  2020-01-22  114.139999  115.080002  113.769997  113.900002  108.524925   \n",
       "3  2020-01-23  113.529999  115.570000  113.099998  115.529999  110.077995   \n",
       "4  2020-01-24  116.000000  116.000000  113.639999  114.320000  108.925110   \n",
       "\n",
       "    Volume  \n",
       "0  7303800  \n",
       "1  8188000  \n",
       "2  5070600  \n",
       "3  4641500  \n",
       "4  4338900  "
      ]
     },
     "execution_count": 7,
     "metadata": {},
     "output_type": "execute_result"
    }
   ],
   "source": [
    "tgt_df2.head()"
   ]
  },
  {
   "cell_type": "code",
   "execution_count": 8,
   "id": "4984617b",
   "metadata": {},
   "outputs": [
    {
     "name": "stdout",
     "output_type": "stream",
     "text": [
      "           Date        Open        High         Low       Close   Adj Close  \\\n",
      "0    2020-01-17  116.489998  117.790001  116.169998  116.919998  111.402405   \n",
      "1    2020-01-21  116.660004  116.660004  113.820000  114.040001  108.658325   \n",
      "2    2020-01-22  114.139999  115.080002  113.769997  113.900002  108.524925   \n",
      "3    2020-01-23  113.529999  115.570000  113.099998  115.529999  110.077995   \n",
      "4    2020-01-24  116.000000  116.000000  113.639999  114.320000  108.925110   \n",
      "..          ...         ...         ...         ...         ...         ...   \n",
      "648  2022-08-15  171.830002  174.160004  170.199997  173.389999  172.309998   \n",
      "649  2022-08-16  177.110001  183.889999  175.559998  180.190002  180.190002   \n",
      "650  2022-08-17  174.160004  177.990005  170.830002  175.339996  175.339996   \n",
      "651  2022-08-18  173.979996  175.139999  171.580002  173.050003  173.050003   \n",
      "652  2022-08-19  171.830002  171.919998  166.789993  167.039993  167.039993   \n",
      "\n",
      "       Volume  \n",
      "0     7303800  \n",
      "1     8188000  \n",
      "2     5070600  \n",
      "3     4641500  \n",
      "4     4338900  \n",
      "..        ...  \n",
      "648   3788600  \n",
      "649   9057600  \n",
      "650  13409000  \n",
      "651   4241300  \n",
      "652   5012900  \n",
      "\n",
      "[653 rows x 7 columns]\n"
     ]
    }
   ],
   "source": [
    "#Inspect the 2020-2022\n",
    "print(tgt_df2)"
   ]
  },
  {
   "cell_type": "code",
   "execution_count": 9,
   "id": "56119d3d",
   "metadata": {},
   "outputs": [
    {
     "name": "stdout",
     "output_type": "stream",
     "text": [
      "             Open        High         Low       Close   Adj Close  \\\n",
      "count  653.000000  653.000000  653.000000  653.000000  653.000000   \n",
      "mean   183.474472  185.639127  181.455268  183.534656  179.512564   \n",
      "std     49.512496   49.643795   49.239492   49.417289   49.441926   \n",
      "min     91.389999   94.129997   90.169998   91.040001   87.237373   \n",
      "25%    145.779999  147.960007  143.600006  146.029999  143.619827   \n",
      "50%    184.490005  187.580002  180.110001  183.580002  179.940475   \n",
      "75%    228.000000  229.570007  225.369995  227.559998  224.104523   \n",
      "max    264.549988  268.980011  262.739990  266.390015  262.506409   \n",
      "\n",
      "             Volume  \n",
      "count  6.530000e+02  \n",
      "mean   4.298958e+06  \n",
      "std    3.462487e+06  \n",
      "min    1.598800e+06  \n",
      "25%    2.767600e+06  \n",
      "50%    3.444700e+06  \n",
      "75%    4.677900e+06  \n",
      "max    5.093680e+07  \n"
     ]
    }
   ],
   "source": [
    "#print the summary \n",
    "print(tgt_df2.describe())"
   ]
  },
  {
   "cell_type": "code",
   "execution_count": 10,
   "id": "848b76bc",
   "metadata": {},
   "outputs": [],
   "source": [
    "#now prep the data for 2014-2019\n",
    "tgt_df.set_index(pd.DatetimeIndex(tgt_df['Date']), inplace=True)"
   ]
  },
  {
   "cell_type": "code",
   "execution_count": 11,
   "id": "6a6bc144",
   "metadata": {},
   "outputs": [],
   "source": [
    "#now prep the data for 2020-2022\n",
    "tgt_df2.set_index(pd.DatetimeIndex(tgt_df2['Date']), inplace=True)"
   ]
  },
  {
   "cell_type": "code",
   "execution_count": 12,
   "id": "7ba8e1c7",
   "metadata": {},
   "outputs": [],
   "source": [
    "#Keep the close for 2014-19\n",
    "tgt_df = tgt_df[['Close']]"
   ]
  },
  {
   "cell_type": "code",
   "execution_count": 13,
   "id": "5a4531b4",
   "metadata": {},
   "outputs": [
    {
     "name": "stdout",
     "output_type": "stream",
     "text": [
      "                Close\n",
      "Date                 \n",
      "2014-01-17  60.240002\n",
      "2014-01-21  59.200001\n",
      "2014-01-22  58.980000\n",
      "2014-01-23  58.650002\n",
      "2014-01-24  57.720001\n",
      "...               ...\n",
      "2019-01-10  68.290001\n",
      "2019-01-11  69.610001\n",
      "2019-01-14  68.839996\n",
      "2019-01-15  68.209999\n",
      "2019-01-16  67.849998\n",
      "\n",
      "[1258 rows x 1 columns]\n"
     ]
    }
   ],
   "source": [
    "print(tgt_df)"
   ]
  },
  {
   "cell_type": "code",
   "execution_count": 14,
   "id": "8423e900",
   "metadata": {},
   "outputs": [],
   "source": [
    "#Keep the close 2020-22\n",
    "tgt_df2 = tgt_df2[['Close']]"
   ]
  },
  {
   "cell_type": "code",
   "execution_count": 15,
   "id": "a27af2e4",
   "metadata": {},
   "outputs": [
    {
     "name": "stdout",
     "output_type": "stream",
     "text": [
      "                 Close\n",
      "Date                  \n",
      "2020-01-17  116.919998\n",
      "2020-01-21  114.040001\n",
      "2020-01-22  113.900002\n",
      "2020-01-23  115.529999\n",
      "2020-01-24  114.320000\n",
      "...                ...\n",
      "2022-08-15  173.389999\n",
      "2022-08-16  180.190002\n",
      "2022-08-17  175.339996\n",
      "2022-08-18  173.050003\n",
      "2022-08-19  167.039993\n",
      "\n",
      "[653 rows x 1 columns]\n"
     ]
    }
   ],
   "source": [
    "print(tgt_df2)"
   ]
  },
  {
   "cell_type": "code",
   "execution_count": 16,
   "id": "586a5070",
   "metadata": {},
   "outputs": [],
   "source": [
    "#Create a Variable to predict 2020-2022\n",
    "prediction_days = 599\n",
    "\n",
    "# Create an new column that targets the data and \n",
    "# predict values of x day away from the current price \n",
    "tgt_df['Actual Prediction'] = tgt_df[['Close']].shift(-prediction_days)\n"
   ]
  },
  {
   "cell_type": "code",
   "execution_count": 17,
   "id": "28ac3da1",
   "metadata": {},
   "outputs": [
    {
     "data": {
      "text/html": [
       "<div>\n",
       "<style scoped>\n",
       "    .dataframe tbody tr th:only-of-type {\n",
       "        vertical-align: middle;\n",
       "    }\n",
       "\n",
       "    .dataframe tbody tr th {\n",
       "        vertical-align: top;\n",
       "    }\n",
       "\n",
       "    .dataframe thead th {\n",
       "        text-align: right;\n",
       "    }\n",
       "</style>\n",
       "<table border=\"1\" class=\"dataframe\">\n",
       "  <thead>\n",
       "    <tr style=\"text-align: right;\">\n",
       "      <th></th>\n",
       "      <th>Close</th>\n",
       "      <th>Actual Prediction</th>\n",
       "    </tr>\n",
       "    <tr>\n",
       "      <th>Date</th>\n",
       "      <th></th>\n",
       "      <th></th>\n",
       "    </tr>\n",
       "  </thead>\n",
       "  <tbody>\n",
       "    <tr>\n",
       "      <th>2014-01-17</th>\n",
       "      <td>60.240002</td>\n",
       "      <td>68.809998</td>\n",
       "    </tr>\n",
       "    <tr>\n",
       "      <th>2014-01-21</th>\n",
       "      <td>59.200001</td>\n",
       "      <td>68.239998</td>\n",
       "    </tr>\n",
       "    <tr>\n",
       "      <th>2014-01-22</th>\n",
       "      <td>58.980000</td>\n",
       "      <td>68.620003</td>\n",
       "    </tr>\n",
       "    <tr>\n",
       "      <th>2014-01-23</th>\n",
       "      <td>58.650002</td>\n",
       "      <td>67.690002</td>\n",
       "    </tr>\n",
       "    <tr>\n",
       "      <th>2014-01-24</th>\n",
       "      <td>57.720001</td>\n",
       "      <td>67.879997</td>\n",
       "    </tr>\n",
       "    <tr>\n",
       "      <th>...</th>\n",
       "      <td>...</td>\n",
       "      <td>...</td>\n",
       "    </tr>\n",
       "    <tr>\n",
       "      <th>2019-01-10</th>\n",
       "      <td>68.290001</td>\n",
       "      <td>NaN</td>\n",
       "    </tr>\n",
       "    <tr>\n",
       "      <th>2019-01-11</th>\n",
       "      <td>69.610001</td>\n",
       "      <td>NaN</td>\n",
       "    </tr>\n",
       "    <tr>\n",
       "      <th>2019-01-14</th>\n",
       "      <td>68.839996</td>\n",
       "      <td>NaN</td>\n",
       "    </tr>\n",
       "    <tr>\n",
       "      <th>2019-01-15</th>\n",
       "      <td>68.209999</td>\n",
       "      <td>NaN</td>\n",
       "    </tr>\n",
       "    <tr>\n",
       "      <th>2019-01-16</th>\n",
       "      <td>67.849998</td>\n",
       "      <td>NaN</td>\n",
       "    </tr>\n",
       "  </tbody>\n",
       "</table>\n",
       "<p>1258 rows × 2 columns</p>\n",
       "</div>"
      ],
      "text/plain": [
       "                Close  Actual Prediction\n",
       "Date                                    \n",
       "2014-01-17  60.240002          68.809998\n",
       "2014-01-21  59.200001          68.239998\n",
       "2014-01-22  58.980000          68.620003\n",
       "2014-01-23  58.650002          67.690002\n",
       "2014-01-24  57.720001          67.879997\n",
       "...               ...                ...\n",
       "2019-01-10  68.290001                NaN\n",
       "2019-01-11  69.610001                NaN\n",
       "2019-01-14  68.839996                NaN\n",
       "2019-01-15  68.209999                NaN\n",
       "2019-01-16  67.849998                NaN\n",
       "\n",
       "[1258 rows x 2 columns]"
      ]
     },
     "execution_count": 17,
     "metadata": {},
     "output_type": "execute_result"
    }
   ],
   "source": [
    "#print the new column for 2014-19\n",
    "tgt_df"
   ]
  },
  {
   "cell_type": "code",
   "execution_count": 18,
   "id": "70bbddec",
   "metadata": {},
   "outputs": [],
   "source": [
    "# Create independent dataset X and create a numpy array\n",
    "X=X = np.array(tgt_df[['Close']])"
   ]
  },
  {
   "cell_type": "code",
   "execution_count": 19,
   "id": "b8e0ad3e",
   "metadata": {},
   "outputs": [],
   "source": [
    "#Git rid of any Nan/rows \n",
    "X=X[:-prediction_days]\n",
    "#print(X)"
   ]
  },
  {
   "cell_type": "code",
   "execution_count": 20,
   "id": "e401e719",
   "metadata": {},
   "outputs": [],
   "source": [
    "#Creat the dependetnt data for Y\n",
    "Y=tgt_df['Actual Prediction'].values\n"
   ]
  },
  {
   "cell_type": "code",
   "execution_count": 21,
   "id": "d79d8846",
   "metadata": {},
   "outputs": [],
   "source": [
    "Y=Y[:-prediction_days]\n",
    "# print(Y)"
   ]
  },
  {
   "cell_type": "code",
   "execution_count": 22,
   "id": "decc22cb",
   "metadata": {},
   "outputs": [],
   "source": [
    "# train and test ratio is 70% traing and 30% testing\n",
    "x_train, x_test, y_train, y_test = train_test_split(X, Y, test_size = 0.30)"
   ]
  },
  {
   "cell_type": "code",
   "execution_count": 23,
   "id": "20f98625",
   "metadata": {},
   "outputs": [
    {
     "data": {
      "text/plain": [
       "LinearRegression()"
      ]
     },
     "execution_count": 23,
     "metadata": {},
     "output_type": "execute_result"
    }
   ],
   "source": [
    "#Creat the model\n",
    "l_r = LinearRegression()\n",
    "#train the model\n",
    "l_r.fit(x_train, y_train)"
   ]
  },
  {
   "cell_type": "code",
   "execution_count": 24,
   "id": "a483c5ee",
   "metadata": {},
   "outputs": [
    {
     "name": "stdout",
     "output_type": "stream",
     "text": [
      "0.028535054928724324\n"
     ]
    }
   ],
   "source": [
    "#test the model using score\n",
    "linear_score=l_r.score(x_test,y_test)\n",
    "print(linear_score)"
   ]
  },
  {
   "cell_type": "code",
   "execution_count": 25,
   "id": "c5264ddb",
   "metadata": {},
   "outputs": [],
   "source": [
    "#well I think that im going to predict the last 500days.\n",
    "acutal_days=np.array(tgt_df[['Close']])[-prediction_days:]\n",
    "# acutal_days"
   ]
  },
  {
   "cell_type": "code",
   "execution_count": 26,
   "id": "7bc7d6b2",
   "metadata": {},
   "outputs": [],
   "source": [
    "#print the liner regression prediction  for the next 52 days\n",
    "\n",
    "linear_prediction=l_r.predict(acutal_days)\n",
    "\n",
    "# linear_prediction\n"
   ]
  },
  {
   "cell_type": "code",
   "execution_count": 28,
   "id": "84235874",
   "metadata": {},
   "outputs": [],
   "source": [
    "#okay this is were we put the 2020-2022 data in \n",
    "actual_20_22=np.array(tgt_df2[['Close']])\n",
    "# actual_20_22"
   ]
  },
  {
   "cell_type": "code",
   "execution_count": 29,
   "id": "119b0210",
   "metadata": {},
   "outputs": [
    {
     "data": {
      "text/plain": [
       "(599,)"
      ]
     },
     "execution_count": 29,
     "metadata": {},
     "output_type": "execute_result"
    }
   ],
   "source": [
    "linear_prediction.shape"
   ]
  },
  {
   "cell_type": "code",
   "execution_count": 30,
   "id": "29c6da25",
   "metadata": {},
   "outputs": [
    {
     "data": {
      "text/plain": [
       "(653, 1)"
      ]
     },
     "execution_count": 30,
     "metadata": {},
     "output_type": "execute_result"
    }
   ],
   "source": [
    "actual_20_22.shape "
   ]
  },
  {
   "cell_type": "code",
   "execution_count": 1,
   "id": "a151095e",
   "metadata": {},
   "outputs": [
    {
     "ename": "NameError",
     "evalue": "name 'linear_prediction' is not defined",
     "output_type": "error",
     "traceback": [
      "\u001b[0;31m---------------------------------------------------------------------------\u001b[0m",
      "\u001b[0;31mNameError\u001b[0m                                 Traceback (most recent call last)",
      "\u001b[0;32m/var/folders/qh/sfq990ys7p998_z3t2wwb7940000gn/T/ipykernel_10888/343174363.py\u001b[0m in \u001b[0;36m<module>\u001b[0;34m\u001b[0m\n\u001b[1;32m      4\u001b[0m \u001b[0;34m\u001b[0m\u001b[0m\n\u001b[1;32m      5\u001b[0m \u001b[0mplt\u001b[0m\u001b[0;34m.\u001b[0m\u001b[0mfigure\u001b[0m\u001b[0;34m(\u001b[0m\u001b[0mfigsize\u001b[0m\u001b[0;34m=\u001b[0m\u001b[0;34m(\u001b[0m\u001b[0;36m20\u001b[0m\u001b[0;34m,\u001b[0m \u001b[0;36m8\u001b[0m\u001b[0;34m)\u001b[0m\u001b[0;34m)\u001b[0m\u001b[0;34m\u001b[0m\u001b[0;34m\u001b[0m\u001b[0m\n\u001b[0;32m----> 6\u001b[0;31m \u001b[0mplt\u001b[0m\u001b[0;34m.\u001b[0m\u001b[0mplot\u001b[0m\u001b[0;34m(\u001b[0m\u001b[0mlinear_prediction\u001b[0m\u001b[0;34m)\u001b[0m \u001b[0;31m# lable='Prediction' , lw=2, alpha=.7)\u001b[0m\u001b[0;34m\u001b[0m\u001b[0;34m\u001b[0m\u001b[0m\n\u001b[0m\u001b[1;32m      7\u001b[0m \u001b[0mplt\u001b[0m\u001b[0;34m.\u001b[0m\u001b[0mplot\u001b[0m\u001b[0;34m(\u001b[0m\u001b[0mactual_20_22\u001b[0m\u001b[0;34m)\u001b[0m \u001b[0;31m#  , lable='Actual') # , lw=2, alpha=.7)\u001b[0m\u001b[0;34m\u001b[0m\u001b[0;34m\u001b[0m\u001b[0m\n\u001b[1;32m      8\u001b[0m \u001b[0mplt\u001b[0m\u001b[0;34m.\u001b[0m\u001b[0mtitle\u001b[0m\u001b[0;34m(\u001b[0m\u001b[0;34m'Target Linear Regression'\u001b[0m\u001b[0;34m)\u001b[0m\u001b[0;34m\u001b[0m\u001b[0;34m\u001b[0m\u001b[0m\n",
      "\u001b[0;31mNameError\u001b[0m: name 'linear_prediction' is not defined"
     ]
    },
    {
     "data": {
      "text/plain": [
       "<Figure size 1440x576 with 0 Axes>"
      ]
     },
     "metadata": {},
     "output_type": "display_data"
    }
   ],
   "source": [
    "# Visualize the data\n",
    "\n",
    "import matplotlib.pyplot as plt\n",
    "\n",
    "plt.figure(figsize=(20, 8))\n",
    "plt.plot(linear_prediction) # lable='Prediction' , lw=2, alpha=.7)\n",
    "plt.plot(actual_20_22) #  , lable='Actual') # , lw=2, alpha=.7)\n",
    "plt.title('Target Linear Regression')\n",
    "plt.xlabel('Time')\n",
    "plt.ylabel('TGT Close USD($)')\n",
    "plt.legend(['linear_prediction', 'actual_20_22'])\n",
    "plt.xticks(rotation=45)\n",
    "plt.show()"
   ]
  },
  {
   "cell_type": "code",
   "execution_count": null,
   "id": "1a5a5e74",
   "metadata": {},
   "outputs": [],
   "source": []
  }
 ],
 "metadata": {
  "kernelspec": {
   "display_name": "mlenv",
   "language": "python",
   "name": "mlenv"
  },
  "language_info": {
   "codemirror_mode": {
    "name": "ipython",
    "version": 3
   },
   "file_extension": ".py",
   "mimetype": "text/x-python",
   "name": "python",
   "nbconvert_exporter": "python",
   "pygments_lexer": "ipython3",
   "version": "3.7.13"
  }
 },
 "nbformat": 4,
 "nbformat_minor": 5
}
